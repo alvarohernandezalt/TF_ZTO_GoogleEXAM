{
  "nbformat": 4,
  "nbformat_minor": 0,
  "metadata": {
    "colab": {
      "provenance": []
    },
    "kernelspec": {
      "name": "python3",
      "display_name": "Python 3"
    },
    "language_info": {
      "name": "python"
    }
  },
  "cells": [
    {
      "cell_type": "markdown",
      "source": [
        "## ComputerVision and Convolutional Neural Networks in TensorFlow"
      ],
      "metadata": {
        "id": "h7ytoesIb6P3"
      }
    },
    {
      "cell_type": "markdown",
      "source": [
        "### This part is covering:\n",
        "\n",
        "* Getting a dataset to work with\n",
        "* Architecture of a *Convolutional Neural Network (CNN)* with Tensorflow\n",
        "* An end-to-end binary image classification problem\n",
        "* Steps in modelling with **CNN's**\n",
        " * Creating a CNN, compiling a model, fitting a model, evaluating a model\n",
        "* An end-to-end multi-class image classification problem\n",
        "* Making predictions on our own custom images\n"
      ],
      "metadata": {
        "id": "G75KIfIQcZyE"
      }
    },
    {
      "cell_type": "code",
      "source": [],
      "metadata": {
        "id": "xqx4hV-m47la"
      },
      "execution_count": null,
      "outputs": []
    }
  ]
}