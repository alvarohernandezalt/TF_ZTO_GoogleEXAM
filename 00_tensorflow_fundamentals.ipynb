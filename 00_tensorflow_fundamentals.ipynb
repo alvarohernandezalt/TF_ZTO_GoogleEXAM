{
  "cells": [
    {
      "cell_type": "markdown",
      "metadata": {
        "id": "f5QuWwCNZmq6"
      },
      "source": [
        "#### In this notebook we are going to cover some of the most fundamental concepts of tensors using Tensorflow\n",
        "More specifically, we're going to cover:\n",
        "* Introduction to tensors\n",
        "* Getting information from tensors\n",
        "* Manipulating tensors\n",
        "* Tensors and Numpy\n",
        "* Using @tf.function ( a way to speed up your regular Python functions)\n",
        "* Using GPUs with TensorFlow (or TPUs)\n",
        "* Exercise to try for myself."
      ]
    },
    {
      "cell_type": "markdown",
      "metadata": {
        "id": "YhaAzVUwZnBt"
      },
      "source": [
        "#### Introduction to Tensors"
      ]
    },
    {
      "cell_type": "code",
      "execution_count": 1,
      "metadata": {
        "colab": {
          "base_uri": "https://localhost:8080/"
        },
        "id": "5uzp07jAY8uM",
        "outputId": "045cc077-bc6e-4af5-acc3-3eb34b12504c"
      },
      "outputs": [
        {
          "name": "stdout",
          "output_type": "stream",
          "text": [
            "2.12.0\n"
          ]
        }
      ],
      "source": [
        "# Import Tensorflow\n",
        "import tensorflow as tf\n",
        "print(tf.__version__)"
      ]
    },
    {
      "cell_type": "code",
      "execution_count": 2,
      "metadata": {
        "colab": {
          "base_uri": "https://localhost:8080/"
        },
        "id": "I4assPaZd_0B",
        "outputId": "8e397c4b-8287-483f-fc56-702cf21ca0ce"
      },
      "outputs": [
        {
          "data": {
            "text/plain": [
              "<tf.Tensor: shape=(), dtype=int32, numpy=7>"
            ]
          },
          "execution_count": 2,
          "metadata": {},
          "output_type": "execute_result"
        }
      ],
      "source": [
        "# Creat tensors with tf.constant()\n",
        "scalar = tf.constant(7)\n",
        "scalar"
      ]
    },
    {
      "cell_type": "code",
      "execution_count": 3,
      "metadata": {
        "colab": {
          "base_uri": "https://localhost:8080/"
        },
        "id": "9XgxVdU0eRtr",
        "outputId": "c16feefc-dc34-44e7-c29a-8e3312ec8cef"
      },
      "outputs": [
        {
          "data": {
            "text/plain": [
              "0"
            ]
          },
          "execution_count": 3,
          "metadata": {},
          "output_type": "execute_result"
        }
      ],
      "source": [
        "# Check the number of dimensions of a tensor (ndim stands for number of dimension)\n",
        "scalar.ndim"
      ]
    },
    {
      "cell_type": "code",
      "execution_count": 4,
      "metadata": {
        "colab": {
          "base_uri": "https://localhost:8080/"
        },
        "id": "3vVm0JuQgFTD",
        "outputId": "f910ac1f-80b6-434b-89b3-8f0b0ea096e7"
      },
      "outputs": [
        {
          "data": {
            "text/plain": [
              "<tf.Tensor: shape=(2,), dtype=int32, numpy=array([10, 10], dtype=int32)>"
            ]
          },
          "execution_count": 4,
          "metadata": {},
          "output_type": "execute_result"
        }
      ],
      "source": [
        "# Create a vector\n",
        "vector = tf.constant([10,10])\n",
        "vector"
      ]
    },
    {
      "cell_type": "code",
      "execution_count": 5,
      "metadata": {
        "colab": {
          "base_uri": "https://localhost:8080/"
        },
        "id": "IrALYUT3gfCW",
        "outputId": "f36fc69c-a55f-4179-a5e4-f5f93c5e3fac"
      },
      "outputs": [
        {
          "data": {
            "text/plain": [
              "1"
            ]
          },
          "execution_count": 5,
          "metadata": {},
          "output_type": "execute_result"
        }
      ],
      "source": [
        "# check the dimension fo our vector\n",
        "vector.ndim"
      ]
    },
    {
      "cell_type": "code",
      "execution_count": 6,
      "metadata": {
        "colab": {
          "base_uri": "https://localhost:8080/"
        },
        "id": "uKgb0zNUguDn",
        "outputId": "481ce96c-df02-4a2b-bdc9-ae80ce942933"
      },
      "outputs": [
        {
          "data": {
            "text/plain": [
              "<tf.Tensor: shape=(2, 2), dtype=int32, numpy=\n",
              "array([[10,  7],\n",
              "       [ 7, 10]], dtype=int32)>"
            ]
          },
          "execution_count": 6,
          "metadata": {},
          "output_type": "execute_result"
        }
      ],
      "source": [
        "# Create a matrix\n",
        "matrix = tf.constant([[10, 7],[7,10]])\n",
        "matrix"
      ]
    },
    {
      "cell_type": "code",
      "execution_count": 7,
      "metadata": {
        "colab": {
          "base_uri": "https://localhost:8080/"
        },
        "id": "5m5dLK_5g60-",
        "outputId": "52d2f153-8712-4609-a5df-5874a858d9d3"
      },
      "outputs": [
        {
          "data": {
            "text/plain": [
              "2"
            ]
          },
          "execution_count": 7,
          "metadata": {},
          "output_type": "execute_result"
        }
      ],
      "source": [
        "matrix.ndim"
      ]
    },
    {
      "cell_type": "code",
      "execution_count": 8,
      "metadata": {
        "colab": {
          "base_uri": "https://localhost:8080/"
        },
        "id": "1Vi4BjHthNzW",
        "outputId": "5bdffc69-b7c1-4537-aef6-fa174932c9ce"
      },
      "outputs": [
        {
          "data": {
            "text/plain": [
              "<tf.Tensor: shape=(3, 2), dtype=float16, numpy=\n",
              "array([[10.,  7.],\n",
              "       [ 3.,  2.],\n",
              "       [ 8.,  9.]], dtype=float16)>"
            ]
          },
          "execution_count": 8,
          "metadata": {},
          "output_type": "execute_result"
        }
      ],
      "source": [
        "# Create another matrix\n",
        "another_matrix = tf.constant([[10.,7.],\n",
        "                              [3.,2.],\n",
        "                              [8.,9.]], dtype=tf.float16)\n",
        "another_matrix"
      ]
    },
    {
      "cell_type": "code",
      "execution_count": 9,
      "metadata": {
        "colab": {
          "base_uri": "https://localhost:8080/"
        },
        "id": "F7ojV0Uyh8Kf",
        "outputId": "726daf2c-287e-4f6d-d906-2a40f0328456"
      },
      "outputs": [
        {
          "data": {
            "text/plain": [
              "2"
            ]
          },
          "execution_count": 9,
          "metadata": {},
          "output_type": "execute_result"
        }
      ],
      "source": [
        "another_matrix.ndim"
      ]
    },
    {
      "cell_type": "code",
      "execution_count": 10,
      "metadata": {
        "colab": {
          "base_uri": "https://localhost:8080/"
        },
        "id": "oy8soFtmjnAN",
        "outputId": "35131f5b-5b76-49d7-e9ba-68c73eeb186d"
      },
      "outputs": [
        {
          "data": {
            "text/plain": [
              "<tf.Tensor: shape=(3, 2, 3), dtype=int32, numpy=\n",
              "array([[[ 1,  2,  3],\n",
              "        [ 4,  5,  6]],\n",
              "\n",
              "       [[ 7,  8,  9],\n",
              "        [10, 11, 12]],\n",
              "\n",
              "       [[13, 14, 15],\n",
              "        [16, 17, 18]]], dtype=int32)>"
            ]
          },
          "execution_count": 10,
          "metadata": {},
          "output_type": "execute_result"
        }
      ],
      "source": [
        "# Let's create a tensor\n",
        "tensor = tf.constant([[[1,2,3],\n",
        "                       [4,5,6]],\n",
        "                      [[7,8,9],\n",
        "                       [10,11,12]],\n",
        "                      [[13,14,15],\n",
        "                       [16,17,18]]])\n",
        "tensor"
      ]
    },
    {
      "cell_type": "code",
      "execution_count": 11,
      "metadata": {
        "colab": {
          "base_uri": "https://localhost:8080/"
        },
        "id": "oV8bbwuPkjo0",
        "outputId": "ed48f75d-2e13-4e75-b3d8-dff4bbaf790f"
      },
      "outputs": [
        {
          "data": {
            "text/plain": [
              "3"
            ]
          },
          "execution_count": 11,
          "metadata": {},
          "output_type": "execute_result"
        }
      ],
      "source": [
        "tensor.ndim"
      ]
    },
    {
      "cell_type": "markdown",
      "metadata": {
        "id": "rwwIfflVkmkK"
      },
      "source": [
        "What we've created so far:\n",
        "\n",
        "* Scalar: a single number\n",
        "* Vector: a number with direction (e.g. wind speed and direction)\n",
        "* Matrix: a 2-dimensional array of numbers\n",
        "* Tensor: an n-dimensional array of numbers (when n can be any number)"
      ]
    },
    {
      "cell_type": "markdown",
      "metadata": {
        "id": "4nA87kv9l-jX"
      },
      "source": [
        "#### Creating tensors with 'tf.variable'"
      ]
    },
    {
      "cell_type": "code",
      "execution_count": 12,
      "metadata": {
        "colab": {
          "base_uri": "https://localhost:8080/"
        },
        "id": "S3bRKN9CmQsa",
        "outputId": "e698cb3e-2ba0-4dea-d53c-f7290733f895"
      },
      "outputs": [
        {
          "data": {
            "text/plain": [
              "(<tf.Variable 'Variable:0' shape=(2,) dtype=int32, numpy=array([10,  7], dtype=int32)>,\n",
              " <tf.Tensor: shape=(2,), dtype=int32, numpy=array([10,  7], dtype=int32)>)"
            ]
          },
          "execution_count": 12,
          "metadata": {},
          "output_type": "execute_result"
        }
      ],
      "source": [
        "# Create the same tensor with tf.Variable() as above\n",
        "changeable_tensor = tf.Variable([10,7])\n",
        "unchangeable_tensor = tf.constant([10,7])\n",
        "changeable_tensor, unchangeable_tensor"
      ]
    },
    {
      "cell_type": "code",
      "execution_count": 13,
      "metadata": {
        "colab": {
          "base_uri": "https://localhost:8080/"
        },
        "id": "qcTEpFSAnwCB",
        "outputId": "d8738438-b5a9-46cc-9e91-f2e64e13ee26"
      },
      "outputs": [
        {
          "data": {
            "text/plain": [
              "<tf.Variable 'Variable:0' shape=(2,) dtype=int32, numpy=array([7, 7], dtype=int32)>"
            ]
          },
          "execution_count": 13,
          "metadata": {},
          "output_type": "execute_result"
        }
      ],
      "source": [
        "# change values in the changeable_tensor\n",
        "changeable_tensor[0].assign(7)\n",
        "changeable_tensor"
      ]
    },
    {
      "cell_type": "markdown",
      "metadata": {
        "id": "vwzQo7EVoMV4"
      },
      "source": [
        "#### v18 Creating Random Tensors\n",
        "\n",
        "Random tensors are tensor of some arbitrary size that contain random numbers"
      ]
    },
    {
      "cell_type": "code",
      "execution_count": 14,
      "metadata": {
        "colab": {
          "base_uri": "https://localhost:8080/"
        },
        "id": "fU2vzrhKBSdB",
        "outputId": "9da5c710-89be-4be4-f7ac-4cb15b4d65dd"
      },
      "outputs": [
        {
          "data": {
            "text/plain": [
              "(<tf.Tensor: shape=(3, 2), dtype=float32, numpy=\n",
              " array([[-0.7565803 , -0.06854702],\n",
              "        [ 0.07595026, -1.2573844 ],\n",
              "        [-0.23193763, -1.8107855 ]], dtype=float32)>,\n",
              " <tf.Tensor: shape=(3, 2), dtype=float32, numpy=\n",
              " array([[-0.7565803 , -0.06854702],\n",
              "        [ 0.07595026, -1.2573844 ],\n",
              "        [-0.23193763, -1.8107855 ]], dtype=float32)>,\n",
              " <tf.Tensor: shape=(3, 2), dtype=bool, numpy=\n",
              " array([[ True,  True],\n",
              "        [ True,  True],\n",
              "        [ True,  True]])>)"
            ]
          },
          "execution_count": 14,
          "metadata": {},
          "output_type": "execute_result"
        }
      ],
      "source": [
        "# Create two random (but the same) tensors\n",
        "random_1 = tf.random.Generator.from_seed(42) # set seed for reproductibility\n",
        "random_1 = random_1.normal(shape=(3,2))\n",
        "random_2 = tf.random.Generator.from_seed(42)\n",
        "random_2 = random_2.normal(shape=(3,2))\n",
        "\n",
        "random_1, random_2, random_1 == random_2"
      ]
    },
    {
      "cell_type": "markdown",
      "metadata": {
        "id": "h5WuwUiSDgVP"
      },
      "source": [
        "### Shuffle the order"
      ]
    },
    {
      "cell_type": "code",
      "execution_count": 15,
      "metadata": {
        "colab": {
          "base_uri": "https://localhost:8080/"
        },
        "id": "8GQdvQ-BMFqM",
        "outputId": "14e028bf-a2b1-4a5f-ec2a-6647f7d305ad"
      },
      "outputs": [
        {
          "data": {
            "text/plain": [
              "<tf.Tensor: shape=(3, 2), dtype=int32, numpy=\n",
              "array([[ 2,  5],\n",
              "       [10,  7],\n",
              "       [ 3,  4]], dtype=int32)>"
            ]
          },
          "execution_count": 15,
          "metadata": {},
          "output_type": "execute_result"
        }
      ],
      "source": [
        "# Shuffle a tensor (valuable for you want to shuffle your data for make more precise the model)\n",
        "not_shuffled = tf.constant([[10,7],\n",
        "                            [3,4],\n",
        "                            [2,5]])\n",
        "# Shuffle our tensor\n",
        "tf.random.shuffle(not_shuffled)"
      ]
    },
    {
      "cell_type": "code",
      "execution_count": 16,
      "metadata": {
        "colab": {
          "base_uri": "https://localhost:8080/"
        },
        "id": "Sp0snORwWozS",
        "outputId": "c8ac697f-6e32-48fd-eeed-fff8cfe655b2"
      },
      "outputs": [
        {
          "data": {
            "text/plain": [
              "<tf.Tensor: shape=(3, 2), dtype=int32, numpy=\n",
              "array([[10,  7],\n",
              "       [ 3,  4],\n",
              "       [ 2,  5]], dtype=int32)>"
            ]
          },
          "execution_count": 16,
          "metadata": {},
          "output_type": "execute_result"
        }
      ],
      "source": [
        "# Shuffle our tensor\n",
        "tf.random.set_seed(42) # global level random seed\n",
        "tf.random.shuffle(not_shuffled, seed=42) # operation level random seed"
      ]
    },
    {
      "cell_type": "code",
      "execution_count": 17,
      "metadata": {
        "colab": {
          "base_uri": "https://localhost:8080/"
        },
        "id": "lDswFo_GYlCS",
        "outputId": "1d18a01c-cb6c-4061-88a5-d22924f035fa"
      },
      "outputs": [
        {
          "data": {
            "text/plain": [
              "<tf.Tensor: shape=(3, 2), dtype=int32, numpy=\n",
              "array([[ 2,  5],\n",
              "       [10,  7],\n",
              "       [ 3,  4]], dtype=int32)>"
            ]
          },
          "execution_count": 17,
          "metadata": {},
          "output_type": "execute_result"
        }
      ],
      "source": [
        "tf.random.set_seed(42)\n",
        "tf.random.shuffle(not_shuffled, seed=23)"
      ]
    },
    {
      "cell_type": "markdown",
      "metadata": {
        "id": "bya6VX3C4wYG"
      },
      "source": [
        "Shuffle is very important so the model we are training gets the proper and complete info. So we can avoid that only one kind of info is passed through the model.\n",
        "\n",
        "Global Level & Operational Level SEED give us aleways the same result."
      ]
    },
    {
      "cell_type": "markdown",
      "metadata": {
        "id": "RnaZGwJu6Mwr"
      },
      "source": [
        "#### Other ways to make tensors"
      ]
    },
    {
      "cell_type": "code",
      "execution_count": 18,
      "metadata": {
        "colab": {
          "base_uri": "https://localhost:8080/"
        },
        "id": "HZPrQ1M5YplQ",
        "outputId": "ca5157a9-b122-439e-9954-4cd9a4716ce9"
      },
      "outputs": [
        {
          "data": {
            "text/plain": [
              "<tf.Tensor: shape=(10, 7), dtype=float32, numpy=\n",
              "array([[1., 1., 1., 1., 1., 1., 1.],\n",
              "       [1., 1., 1., 1., 1., 1., 1.],\n",
              "       [1., 1., 1., 1., 1., 1., 1.],\n",
              "       [1., 1., 1., 1., 1., 1., 1.],\n",
              "       [1., 1., 1., 1., 1., 1., 1.],\n",
              "       [1., 1., 1., 1., 1., 1., 1.],\n",
              "       [1., 1., 1., 1., 1., 1., 1.],\n",
              "       [1., 1., 1., 1., 1., 1., 1.],\n",
              "       [1., 1., 1., 1., 1., 1., 1.],\n",
              "       [1., 1., 1., 1., 1., 1., 1.]], dtype=float32)>"
            ]
          },
          "execution_count": 18,
          "metadata": {},
          "output_type": "execute_result"
        }
      ],
      "source": [
        "#Creata a tensor all ones\n",
        "tf.ones([10,7])"
      ]
    },
    {
      "cell_type": "code",
      "execution_count": 19,
      "metadata": {
        "colab": {
          "base_uri": "https://localhost:8080/"
        },
        "id": "OrxZ742S6eiW",
        "outputId": "0ba434b5-d8c3-4351-8a41-dd2c7e95ac14"
      },
      "outputs": [
        {
          "data": {
            "text/plain": [
              "<tf.Tensor: shape=(3, 7), dtype=float32, numpy=\n",
              "array([[0., 0., 0., 0., 0., 0., 0.],\n",
              "       [0., 0., 0., 0., 0., 0., 0.],\n",
              "       [0., 0., 0., 0., 0., 0., 0.]], dtype=float32)>"
            ]
          },
          "execution_count": 19,
          "metadata": {},
          "output_type": "execute_result"
        }
      ],
      "source": [
        "# Create a tensor of all zeros\n",
        "tf.zeros([3,7])"
      ]
    },
    {
      "cell_type": "markdown",
      "metadata": {
        "id": "mY2HZw9l68_V"
      },
      "source": [
        "#### Turn numpy arrays into tensors\n",
        "\n",
        "The main difference is that tensor can be run in GPU much faster"
      ]
    },
    {
      "cell_type": "code",
      "execution_count": 20,
      "metadata": {
        "colab": {
          "base_uri": "https://localhost:8080/"
        },
        "id": "N6QvXeXp6vKm",
        "outputId": "c4f2693a-f777-4177-d175-03f15537bae6"
      },
      "outputs": [
        {
          "data": {
            "text/plain": [
              "array([ 1,  2,  3,  4,  5,  6,  7,  8,  9, 10, 11, 12, 13, 14, 15, 16, 17,\n",
              "       18, 19, 20, 21, 22, 23, 24], dtype=int32)"
            ]
          },
          "execution_count": 20,
          "metadata": {},
          "output_type": "execute_result"
        }
      ],
      "source": [
        "# You can also convert Numpy Arrarys into Tensors\n",
        "import numpy as np\n",
        "numpy_A = np.arange(1, 25, dtype=np.int32) # create a Numpy array between 1 and 25\n",
        "numpy_A\n",
        "\n",
        "# x = tf.constant(some_matrix) # capital for tensors\n",
        "# y = tf.constant(vector) # non-capital for tensors"
      ]
    },
    {
      "cell_type": "code",
      "execution_count": 21,
      "metadata": {
        "colab": {
          "base_uri": "https://localhost:8080/"
        },
        "id": "AEuh-WHs706b",
        "outputId": "1ba88d5a-ee33-4b58-ee3a-c01384f41b14"
      },
      "outputs": [
        {
          "data": {
            "text/plain": [
              "<tf.Tensor: shape=(24,), dtype=int32, numpy=\n",
              "array([ 1,  2,  3,  4,  5,  6,  7,  8,  9, 10, 11, 12, 13, 14, 15, 16, 17,\n",
              "       18, 19, 20, 21, 22, 23, 24], dtype=int32)>"
            ]
          },
          "execution_count": 21,
          "metadata": {},
          "output_type": "execute_result"
        }
      ],
      "source": [
        "A = tf.constant(numpy_A)\n",
        "A"
      ]
    },
    {
      "cell_type": "code",
      "execution_count": 22,
      "metadata": {
        "colab": {
          "base_uri": "https://localhost:8080/"
        },
        "id": "hWIzb3LT7_1h",
        "outputId": "69605b99-cb74-45e0-e089-4d39bca1b37b"
      },
      "outputs": [
        {
          "data": {
            "text/plain": [
              "(<tf.Tensor: shape=(2, 3, 4), dtype=int32, numpy=\n",
              " array([[[ 1,  2,  3,  4],\n",
              "         [ 5,  6,  7,  8],\n",
              "         [ 9, 10, 11, 12]],\n",
              " \n",
              "        [[13, 14, 15, 16],\n",
              "         [17, 18, 19, 20],\n",
              "         [21, 22, 23, 24]]], dtype=int32)>,\n",
              " <tf.Tensor: shape=(24,), dtype=int32, numpy=\n",
              " array([ 1,  2,  3,  4,  5,  6,  7,  8,  9, 10, 11, 12, 13, 14, 15, 16, 17,\n",
              "        18, 19, 20, 21, 22, 23, 24], dtype=int32)>)"
            ]
          },
          "execution_count": 22,
          "metadata": {},
          "output_type": "execute_result"
        }
      ],
      "source": [
        "A = tf.constant(numpy_A, shape=(2,3,4))\n",
        "B = tf.constant(numpy_A)\n",
        "A, B"
      ]
    },
    {
      "cell_type": "markdown",
      "metadata": {
        "id": "WLhX_Xj58q7B"
      },
      "source": [
        "When reshaping, the shape number of the vector should be the product of the values of the dimensions"
      ]
    },
    {
      "cell_type": "code",
      "execution_count": 23,
      "metadata": {
        "colab": {
          "base_uri": "https://localhost:8080/"
        },
        "id": "YCJ-FWm-95N1",
        "outputId": "caf3ddb9-51c4-4422-f3d7-047d0d9c7711"
      },
      "outputs": [
        {
          "data": {
            "text/plain": [
              "3"
            ]
          },
          "execution_count": 23,
          "metadata": {},
          "output_type": "execute_result"
        }
      ],
      "source": [
        "A.ndim"
      ]
    },
    {
      "cell_type": "markdown",
      "metadata": {
        "id": "qvjwHjqS8PIT"
      },
      "source": [
        "#### Getting info from the tensors (attributes)\n",
        "\n",
        "* Shape\n",
        "* Size\n",
        "* Axis or Dimension\n",
        "* Rank"
      ]
    },
    {
      "cell_type": "code",
      "execution_count": 24,
      "metadata": {
        "colab": {
          "base_uri": "https://localhost:8080/"
        },
        "id": "dCtEBSCL9czg",
        "outputId": "a208855b-ebb3-4851-92c9-16f676cc993f"
      },
      "outputs": [
        {
          "data": {
            "text/plain": [
              "<tf.Tensor: shape=(2, 3, 4, 5), dtype=float32, numpy=\n",
              "array([[[[0., 0., 0., 0., 0.],\n",
              "         [0., 0., 0., 0., 0.],\n",
              "         [0., 0., 0., 0., 0.],\n",
              "         [0., 0., 0., 0., 0.]],\n",
              "\n",
              "        [[0., 0., 0., 0., 0.],\n",
              "         [0., 0., 0., 0., 0.],\n",
              "         [0., 0., 0., 0., 0.],\n",
              "         [0., 0., 0., 0., 0.]],\n",
              "\n",
              "        [[0., 0., 0., 0., 0.],\n",
              "         [0., 0., 0., 0., 0.],\n",
              "         [0., 0., 0., 0., 0.],\n",
              "         [0., 0., 0., 0., 0.]]],\n",
              "\n",
              "\n",
              "       [[[0., 0., 0., 0., 0.],\n",
              "         [0., 0., 0., 0., 0.],\n",
              "         [0., 0., 0., 0., 0.],\n",
              "         [0., 0., 0., 0., 0.]],\n",
              "\n",
              "        [[0., 0., 0., 0., 0.],\n",
              "         [0., 0., 0., 0., 0.],\n",
              "         [0., 0., 0., 0., 0.],\n",
              "         [0., 0., 0., 0., 0.]],\n",
              "\n",
              "        [[0., 0., 0., 0., 0.],\n",
              "         [0., 0., 0., 0., 0.],\n",
              "         [0., 0., 0., 0., 0.],\n",
              "         [0., 0., 0., 0., 0.]]]], dtype=float32)>"
            ]
          },
          "execution_count": 24,
          "metadata": {},
          "output_type": "execute_result"
        }
      ],
      "source": [
        "# Create a rank 4 tensor (4 dimensions)\n",
        "\n",
        "tf4_ranked = tf.zeros(shape=[2,3,4,5])\n",
        "tf4_ranked"
      ]
    },
    {
      "cell_type": "code",
      "execution_count": 25,
      "metadata": {
        "colab": {
          "base_uri": "https://localhost:8080/"
        },
        "id": "O-2Z_eT8_p_D",
        "outputId": "7a51d995-e3e7-4615-d4b4-d704bedf94d0"
      },
      "outputs": [
        {
          "data": {
            "text/plain": [
              "<tf.Tensor: shape=(4, 5), dtype=float32, numpy=\n",
              "array([[0., 0., 0., 0., 0.],\n",
              "       [0., 0., 0., 0., 0.],\n",
              "       [0., 0., 0., 0., 0.],\n",
              "       [0., 0., 0., 0., 0.]], dtype=float32)>"
            ]
          },
          "execution_count": 25,
          "metadata": {},
          "output_type": "execute_result"
        }
      ],
      "source": [
        "tf4_ranked[0,0]"
      ]
    },
    {
      "cell_type": "code",
      "execution_count": 26,
      "metadata": {
        "colab": {
          "base_uri": "https://localhost:8080/"
        },
        "id": "t0yapG_1-3nR",
        "outputId": "663cad99-32a6-4adb-f947-31a2e120dcbd"
      },
      "outputs": [
        {
          "data": {
            "text/plain": [
              "<tf.Tensor: shape=(), dtype=int32, numpy=4>"
            ]
          },
          "execution_count": 26,
          "metadata": {},
          "output_type": "execute_result"
        }
      ],
      "source": [
        "tf.rank(tf4_ranked)"
      ]
    },
    {
      "cell_type": "code",
      "execution_count": 27,
      "metadata": {
        "colab": {
          "base_uri": "https://localhost:8080/"
        },
        "id": "OcKeGrF1_HcM",
        "outputId": "76302dee-0400-4a4c-89c7-3a9db30e0444"
      },
      "outputs": [
        {
          "data": {
            "text/plain": [
              "(TensorShape([2, 3, 4, 5]), 4, <tf.Tensor: shape=(), dtype=int32, numpy=120>)"
            ]
          },
          "execution_count": 27,
          "metadata": {},
          "output_type": "execute_result"
        }
      ],
      "source": [
        "tf4_ranked.shape, tf4_ranked.ndim,  tf.size(tf4_ranked)"
      ]
    },
    {
      "cell_type": "code",
      "execution_count": 28,
      "metadata": {
        "colab": {
          "base_uri": "https://localhost:8080/"
        },
        "id": "Hh_4c9ygASzH",
        "outputId": "07c96e89-1276-4ff4-c7eb-920ca32bc5b0"
      },
      "outputs": [
        {
          "data": {
            "text/plain": [
              "120"
            ]
          },
          "execution_count": 28,
          "metadata": {},
          "output_type": "execute_result"
        }
      ],
      "source": [
        "2*3*4*5"
      ]
    },
    {
      "cell_type": "code",
      "execution_count": 29,
      "metadata": {
        "colab": {
          "base_uri": "https://localhost:8080/"
        },
        "id": "LCaEKs4cAoME",
        "outputId": "fc7c08a4-3b62-47f3-859b-645d459fcc7e"
      },
      "outputs": [
        {
          "name": "stdout",
          "output_type": "stream",
          "text": [
            "Datatype of every element:  <dtype: 'float32'>\n",
            "Number of dimensions (rank):  4\n",
            "Shape of tensor:  (2, 3, 4, 5)\n",
            "Elements along the 0 axis:  2\n",
            "Elements along the last axis:  5\n",
            "Total number of elements in our tensor:  120\n",
            "Total number of elements in our tensor:  tf.Tensor(120, shape=(), dtype=int32)\n"
          ]
        }
      ],
      "source": [
        "# Get various attributes of our tensor\n",
        "print(\"Datatype of every element: \", tf4_ranked.dtype)\n",
        "print(\"Number of dimensions (rank): \", tf4_ranked.ndim)\n",
        "print(\"Shape of tensor: \", tf4_ranked.shape)\n",
        "print(\"Elements along the 0 axis: \", tf4_ranked.shape[0])\n",
        "print(\"Elements along the last axis: \", tf4_ranked.shape[-1])\n",
        "print(\"Total number of elements in our tensor: \", tf.size(tf4_ranked).numpy())\n",
        "print(\"Total number of elements in our tensor: \", tf.size(tf4_ranked))"
      ]
    },
    {
      "cell_type": "markdown",
      "metadata": {
        "id": "O5OVRYerBf6h"
      },
      "source": [
        "#### Indexing and Expanding\n",
        "\n",
        "Tensor can indexed just like Python lists"
      ]
    },
    {
      "cell_type": "code",
      "execution_count": 30,
      "metadata": {
        "colab": {
          "base_uri": "https://localhost:8080/"
        },
        "id": "5j4PYE5tDGFg",
        "outputId": "a5ae2bf2-a9bf-4f63-9485-8b542c771d8d"
      },
      "outputs": [
        {
          "data": {
            "text/plain": [
              "<tf.Tensor: shape=(2, 2, 2, 2), dtype=float32, numpy=\n",
              "array([[[[0., 0.],\n",
              "         [0., 0.]],\n",
              "\n",
              "        [[0., 0.],\n",
              "         [0., 0.]]],\n",
              "\n",
              "\n",
              "       [[[0., 0.],\n",
              "         [0., 0.]],\n",
              "\n",
              "        [[0., 0.],\n",
              "         [0., 0.]]]], dtype=float32)>"
            ]
          },
          "execution_count": 30,
          "metadata": {},
          "output_type": "execute_result"
        }
      ],
      "source": [
        "# Get the first 2 elements of each dimension\n",
        "\n",
        "tf4_ranked[:2,:2,:2,:2]"
      ]
    },
    {
      "cell_type": "code",
      "execution_count": 31,
      "metadata": {
        "colab": {
          "base_uri": "https://localhost:8080/"
        },
        "id": "-jaLIPQVDhFo",
        "outputId": "41bf7c04-be2e-45f1-9d8d-f020eaaea7bb"
      },
      "outputs": [
        {
          "data": {
            "text/plain": [
              "<tf.Tensor: shape=(1, 1, 1, 5), dtype=float32, numpy=array([[[[0., 0., 0., 0., 0.]]]], dtype=float32)>"
            ]
          },
          "execution_count": 31,
          "metadata": {},
          "output_type": "execute_result"
        }
      ],
      "source": [
        "# Get the first element of each index exccept of the last one\n",
        "tf4_ranked[:1,:1,:1,:]"
      ]
    },
    {
      "cell_type": "code",
      "execution_count": 32,
      "metadata": {
        "colab": {
          "base_uri": "https://localhost:8080/"
        },
        "id": "AVJjoiD8EL3S",
        "outputId": "e40dd996-3f2d-41f1-9831-5ce8a231a183"
      },
      "outputs": [
        {
          "data": {
            "text/plain": [
              "<tf.Tensor: shape=(1, 1, 4, 1), dtype=float32, numpy=\n",
              "array([[[[0.],\n",
              "         [0.],\n",
              "         [0.],\n",
              "         [0.]]]], dtype=float32)>"
            ]
          },
          "execution_count": 32,
          "metadata": {},
          "output_type": "execute_result"
        }
      ],
      "source": [
        "tf4_ranked[:1,:1,:,:1]"
      ]
    },
    {
      "cell_type": "code",
      "execution_count": 33,
      "metadata": {
        "colab": {
          "base_uri": "https://localhost:8080/"
        },
        "id": "VQ_B8XgqEQ2S",
        "outputId": "7261d112-f1d2-42c3-e91d-1f8018971a3b"
      },
      "outputs": [
        {
          "data": {
            "text/plain": [
              "(TensorShape([2, 2]), 2)"
            ]
          },
          "execution_count": 33,
          "metadata": {},
          "output_type": "execute_result"
        }
      ],
      "source": [
        "# Create a 2 dim tensor\n",
        "tf2_ranked = tf.constant([[3,7],\n",
        "                         [5,11]])\n",
        "tf2_ranked.shape, tf2_ranked.ndim"
      ]
    },
    {
      "cell_type": "code",
      "execution_count": 34,
      "metadata": {
        "colab": {
          "base_uri": "https://localhost:8080/"
        },
        "id": "SncHMjANE0lB",
        "outputId": "2909a51d-d0c7-40d0-a96f-1c379132b299"
      },
      "outputs": [
        {
          "data": {
            "text/plain": [
              "<tf.Tensor: shape=(2,), dtype=int32, numpy=array([ 7, 11], dtype=int32)>"
            ]
          },
          "execution_count": 34,
          "metadata": {},
          "output_type": "execute_result"
        }
      ],
      "source": [
        "# Get the last item of each row\n",
        "tf2_ranked[:,-1]"
      ]
    },
    {
      "cell_type": "code",
      "execution_count": 35,
      "metadata": {
        "colab": {
          "base_uri": "https://localhost:8080/"
        },
        "id": "ofW3EsfkFi4i",
        "outputId": "12d1c28a-167a-4be2-9f49-40a6c9030b21"
      },
      "outputs": [
        {
          "data": {
            "text/plain": [
              "<tf.Tensor: shape=(2, 2, 1), dtype=int32, numpy=\n",
              "array([[[ 3],\n",
              "        [ 7]],\n",
              "\n",
              "       [[ 5],\n",
              "        [11]]], dtype=int32)>"
            ]
          },
          "execution_count": 35,
          "metadata": {},
          "output_type": "execute_result"
        }
      ],
      "source": [
        "# Add dimensions\n",
        "tf3_ranked = tf2_ranked[..., tf.newaxis]\n",
        "tf3_ranked"
      ]
    },
    {
      "cell_type": "code",
      "execution_count": 36,
      "metadata": {
        "colab": {
          "base_uri": "https://localhost:8080/"
        },
        "id": "C09JslLyGKxQ",
        "outputId": "49f964f1-c60e-46f1-b390-526c1123365e"
      },
      "outputs": [
        {
          "data": {
            "text/plain": [
              "(TensorShape([2, 2, 1]), 3, 4)"
            ]
          },
          "execution_count": 36,
          "metadata": {},
          "output_type": "execute_result"
        }
      ],
      "source": [
        "tf3_ranked.shape, tf3_ranked.ndim, tf.size(tf3_ranked).numpy()"
      ]
    },
    {
      "cell_type": "code",
      "execution_count": 37,
      "metadata": {
        "colab": {
          "base_uri": "https://localhost:8080/"
        },
        "id": "V076l930GYhf",
        "outputId": "0a5a991a-4aaa-420e-be67-46449d00e5d1"
      },
      "outputs": [
        {
          "data": {
            "text/plain": [
              "4"
            ]
          },
          "execution_count": 37,
          "metadata": {},
          "output_type": "execute_result"
        }
      ],
      "source": [
        "tf.size(tf2_ranked).numpy()"
      ]
    },
    {
      "cell_type": "markdown",
      "metadata": {
        "id": "BkWcZxFMGrFX"
      },
      "source": [
        "We added a new axis (one more dimension) but the size don't change??"
      ]
    },
    {
      "cell_type": "code",
      "execution_count": 38,
      "metadata": {
        "colab": {
          "base_uri": "https://localhost:8080/"
        },
        "id": "vlydwh33G-3X",
        "outputId": "547f1f63-11f4-4701-c838-e2620eaf9855"
      },
      "outputs": [
        {
          "data": {
            "text/plain": [
              "<tf.Tensor: shape=(2, 1, 2), dtype=int32, numpy=\n",
              "array([[[ 3,  7]],\n",
              "\n",
              "       [[ 5, 11]]], dtype=int32)>"
            ]
          },
          "execution_count": 38,
          "metadata": {},
          "output_type": "execute_result"
        }
      ],
      "source": [
        "# Alternative to tf.newaxis\n",
        "\n",
        "tf.expand_dims(tf2_ranked, axis=1)"
      ]
    },
    {
      "cell_type": "code",
      "execution_count": 39,
      "metadata": {
        "colab": {
          "base_uri": "https://localhost:8080/"
        },
        "id": "f6R8qMpAHkJP",
        "outputId": "f939af9d-b946-41ad-b4cd-4d8953580741"
      },
      "outputs": [
        {
          "data": {
            "text/plain": [
              "<tf.Tensor: shape=(2, 2, 1), dtype=int32, numpy=\n",
              "array([[[ 3],\n",
              "        [ 7]],\n",
              "\n",
              "       [[ 5],\n",
              "        [11]]], dtype=int32)>"
            ]
          },
          "execution_count": 39,
          "metadata": {},
          "output_type": "execute_result"
        }
      ],
      "source": [
        "tf.expand_dims(tf2_ranked, axis=-1) # \"-1\" means expand the final axis"
      ]
    },
    {
      "cell_type": "markdown",
      "metadata": {
        "id": "JkqTJOIRHoQo"
      },
      "source": [
        "#### Manipulating Tensors (Tensors Operations)"
      ]
    },
    {
      "cell_type": "markdown",
      "metadata": {
        "id": "HVVgjCV3IgzE"
      },
      "source": [
        "**BASIC OPERATIONS**"
      ]
    },
    {
      "cell_type": "code",
      "execution_count": 40,
      "metadata": {
        "colab": {
          "base_uri": "https://localhost:8080/"
        },
        "id": "v-c79uJ996Kj",
        "outputId": "7146a575-b41a-4f6a-8e14-4c9e512f3554"
      },
      "outputs": [
        {
          "data": {
            "text/plain": [
              "<tf.Tensor: shape=(2, 2), dtype=int32, numpy=\n",
              "array([[20, 17],\n",
              "       [13, 14]], dtype=int32)>"
            ]
          },
          "execution_count": 40,
          "metadata": {},
          "output_type": "execute_result"
        }
      ],
      "source": [
        "# You can add values to a tensor using the addition operator\n",
        "\n",
        "tensor = tf.constant ([[10,7],[3,4]])\n",
        "tensor + 10"
      ]
    },
    {
      "cell_type": "code",
      "execution_count": 41,
      "metadata": {
        "colab": {
          "base_uri": "https://localhost:8080/"
        },
        "id": "MvM2_vzJ-TIj",
        "outputId": "40a73ec3-1b96-4687-ba33-84548d3cd8e0"
      },
      "outputs": [
        {
          "data": {
            "text/plain": [
              "<tf.Tensor: shape=(2, 2), dtype=int32, numpy=\n",
              "array([[1000,  700],\n",
              "       [ 300,  400]], dtype=int32)>"
            ]
          },
          "execution_count": 41,
          "metadata": {},
          "output_type": "execute_result"
        }
      ],
      "source": [
        "# In the same way we can use basic opertaion llike +, -, *, /\n",
        "# But when tensor are bigger built-in libraries tf.math works in a GPu mode much more faster\n",
        "\n",
        "tf.multiply(tensor, 100)"
      ]
    },
    {
      "cell_type": "code",
      "execution_count": 42,
      "metadata": {
        "colab": {
          "base_uri": "https://localhost:8080/"
        },
        "id": "3wRMgtjg_rYt",
        "outputId": "4031cb19-2250-43c4-d0e6-f313294a7ecf"
      },
      "outputs": [
        {
          "data": {
            "text/plain": [
              "<tf.Tensor: shape=(2, 2), dtype=int32, numpy=\n",
              "array([[10,  7],\n",
              "       [ 3,  4]], dtype=int32)>"
            ]
          },
          "execution_count": 42,
          "metadata": {},
          "output_type": "execute_result"
        }
      ],
      "source": [
        "# In this operation usually we need (or want) that the values of tensor remains unchanged\n",
        "tensor"
      ]
    },
    {
      "cell_type": "markdown",
      "metadata": {
        "id": "RanhhhPb_4aO"
      },
      "source": [
        "**MATRIX MULTIPLICATION**\n",
        "\n",
        "In machine learning, matrix multiplication is one of the most common tensor operations\n"
      ]
    },
    {
      "cell_type": "code",
      "execution_count": 43,
      "metadata": {
        "colab": {
          "base_uri": "https://localhost:8080/"
        },
        "id": "ZUFlF7k7AcCt",
        "outputId": "859634bf-4a49-4255-aa9d-c20c625f4c1c"
      },
      "outputs": [
        {
          "data": {
            "text/plain": [
              "(<tf.Tensor: shape=(3, 2), dtype=float32, numpy=\n",
              " array([[ 0.3274685, -0.8426258],\n",
              "        [ 0.3194337, -1.4075519],\n",
              "        [-2.3880599, -1.0392479]], dtype=float32)>,\n",
              " <tf.Tensor: shape=(2, 3), dtype=float32, numpy=\n",
              " array([[ 0.08422458, -0.86090374,  0.37812304],\n",
              "        [-0.00519627, -0.49453196,  0.6178192 ]], dtype=float32)>,\n",
              " <tf.Tensor: shape=(3, 3), dtype=float32, numpy=\n",
              " array([[ 0.03195941,  0.13478652, -0.39676696],\n",
              "        [ 0.0342182 ,  0.42107773, -0.74882734],\n",
              "        [-0.19573313,  2.569831  , -1.5450478 ]], dtype=float32)>)"
            ]
          },
          "execution_count": 43,
          "metadata": {},
          "output_type": "execute_result"
        }
      ],
      "source": [
        "tensor1 = tf.random.normal(shape=[3,2])\n",
        "tensor2 = tf.random.normal(shape=[2,3])\n",
        "\n",
        "tensor1, tensor2, tf.matmul(tensor1,tensor2)"
      ]
    },
    {
      "cell_type": "markdown",
      "metadata": {
        "id": "P6PPu4Y9B6b2"
      },
      "source": [
        "👉 **Resource:** Info and example of matrix multiplication https://www.mathisfun.com/algebra/matrix-multiplying.html"
      ]
    },
    {
      "cell_type": "code",
      "execution_count": 44,
      "metadata": {
        "colab": {
          "base_uri": "https://localhost:8080/"
        },
        "id": "1giPAcBjWRj4",
        "outputId": "6cef08cc-d4df-4a77-c2a2-d851e8438231"
      },
      "outputs": [
        {
          "data": {
            "text/plain": [
              "(<tf.Tensor: shape=(3, 2), dtype=float32, numpy=\n",
              " array([[ 0.3274685, -0.8426258],\n",
              "        [ 0.3194337, -1.4075519],\n",
              "        [-2.3880599, -1.0392479]], dtype=float32)>,\n",
              " <tf.Tensor: shape=(2, 3), dtype=float32, numpy=\n",
              " array([[ 0.3274685,  0.3194337, -2.3880599],\n",
              "        [-0.8426258, -1.4075519, -1.0392479]], dtype=float32)>)"
            ]
          },
          "execution_count": 44,
          "metadata": {},
          "output_type": "execute_result"
        }
      ],
      "source": [
        "# Transpose is an important tool in order to reshape\n",
        "tensor1, tf.transpose(tensor1)"
      ]
    },
    {
      "cell_type": "code",
      "execution_count": 45,
      "metadata": {
        "colab": {
          "base_uri": "https://localhost:8080/"
        },
        "id": "G_bbGiGBZTUq",
        "outputId": "0cd95c82-29da-420f-a737-9493e4791721"
      },
      "outputs": [
        {
          "data": {
            "text/plain": [
              "<tf.Tensor: shape=(2, 2), dtype=float32, numpy=\n",
              "array([[-1.1504012 , -1.635061  ],\n",
              "       [ 0.7478334 ,  0.05839062]], dtype=float32)>"
            ]
          },
          "execution_count": 45,
          "metadata": {},
          "output_type": "execute_result"
        }
      ],
      "source": [
        "tf.matmul(tf.transpose(tensor1),tf.transpose(tensor2))"
      ]
    },
    {
      "cell_type": "markdown",
      "metadata": {
        "id": "q7FmD8n0ZnfK"
      },
      "source": [
        "**The dot product**\n",
        "\n",
        "Matrix multiplication is also referred as dot product\n",
        "\n",
        "You can perform matrix multiplication using:\n",
        "* `tf.matmul()`\n",
        "* `tf.tensordot()`\n",
        "* `@`"
      ]
    },
    {
      "cell_type": "code",
      "execution_count": 46,
      "metadata": {
        "colab": {
          "base_uri": "https://localhost:8080/"
        },
        "id": "6I5mearCau5a",
        "outputId": "bfd0df71-f281-466c-d236-467fbe3881cc"
      },
      "outputs": [
        {
          "data": {
            "text/plain": [
              "<tf.Tensor: shape=(2, 2), dtype=float32, numpy=\n",
              "array([[-1.1504012 , -1.635061  ],\n",
              "       [ 0.7478334 ,  0.05839062]], dtype=float32)>"
            ]
          },
          "execution_count": 46,
          "metadata": {},
          "output_type": "execute_result"
        }
      ],
      "source": [
        "#  If the matrix indexes are to good for the matrix multiply just reshape or transpose\n",
        "# (It depends on comparing the two tensors)\n",
        "\n",
        "#In this case the two tensor are correct. So we try the transposer dot multiply\n",
        "tf.tensordot(tf.transpose(tensor1),tf.transpose(tensor2), axes=1)"
      ]
    },
    {
      "cell_type": "code",
      "execution_count": 47,
      "metadata": {
        "colab": {
          "base_uri": "https://localhost:8080/"
        },
        "id": "kIfuXl5kbk_6",
        "outputId": "4c2372e2-a32b-414e-88fe-3ac4394fee54"
      },
      "outputs": [
        {
          "data": {
            "text/plain": [
              "<tf.Tensor: shape=(2, 2), dtype=float32, numpy=\n",
              "array([[ 1.329338  , -1.758968  ],\n",
              "       [-0.08925635,  0.09066647]], dtype=float32)>"
            ]
          },
          "execution_count": 47,
          "metadata": {},
          "output_type": "execute_result"
        }
      ],
      "source": [
        "tf.matmul(tf.transpose(tensor1),tf.reshape(tensor2, shape=(3,2)))"
      ]
    },
    {
      "cell_type": "markdown",
      "metadata": {
        "id": "UaxznUJlcP5B"
      },
      "source": [
        "#### Change the data types of a tensor"
      ]
    },
    {
      "cell_type": "code",
      "execution_count": 48,
      "metadata": {
        "colab": {
          "base_uri": "https://localhost:8080/"
        },
        "id": "s3a4e6woyKp3",
        "outputId": "a87fab9a-352e-449d-fb94-a33bdebb2ec6"
      },
      "outputs": [
        {
          "data": {
            "text/plain": [
              "tf.float32"
            ]
          },
          "execution_count": 48,
          "metadata": {},
          "output_type": "execute_result"
        }
      ],
      "source": [
        "# Create a new tensor with default datatype (float32)\n",
        "B = tf.constant([1.7,7.4])\n",
        "B.dtype"
      ]
    },
    {
      "cell_type": "code",
      "execution_count": 49,
      "metadata": {
        "colab": {
          "base_uri": "https://localhost:8080/"
        },
        "id": "DnsOnqFuyaKQ",
        "outputId": "a170e874-419b-479e-eb45-669a29a08603"
      },
      "outputs": [
        {
          "data": {
            "text/plain": [
              "tf.int32"
            ]
          },
          "execution_count": 49,
          "metadata": {},
          "output_type": "execute_result"
        }
      ],
      "source": [
        "C = tf.constant([7, 10])\n",
        "C.dtype"
      ]
    },
    {
      "cell_type": "code",
      "execution_count": 50,
      "metadata": {
        "colab": {
          "base_uri": "https://localhost:8080/"
        },
        "id": "QOxutW-iyjWP",
        "outputId": "bdb8b88d-e594-4ae5-a20b-17d135268621"
      },
      "outputs": [
        {
          "data": {
            "text/plain": [
              "tf.float16"
            ]
          },
          "execution_count": 50,
          "metadata": {},
          "output_type": "execute_result"
        }
      ],
      "source": [
        "# Change from float32 to float16 (reduce precision)\n",
        "C = tf.cast(B, dtype=tf.float16)\n",
        "C.dtype"
      ]
    },
    {
      "cell_type": "code",
      "execution_count": 51,
      "metadata": {
        "colab": {
          "base_uri": "https://localhost:8080/"
        },
        "id": "0eVERE6FzYyI",
        "outputId": "116d48fe-e5a2-4630-b679-dc7441d481e6"
      },
      "outputs": [
        {
          "data": {
            "text/plain": [
              "<tf.Tensor: shape=(2,), dtype=float32, numpy=array([1.7001953, 7.3984375], dtype=float32)>"
            ]
          },
          "execution_count": 51,
          "metadata": {},
          "output_type": "execute_result"
        }
      ],
      "source": [
        " # Change from int32 to float32\n",
        " E = tf.cast(C, dtype=tf.float32)\n",
        " E"
      ]
    },
    {
      "cell_type": "code",
      "execution_count": 52,
      "metadata": {
        "colab": {
          "base_uri": "https://localhost:8080/"
        },
        "id": "QeCXsgExzyLf",
        "outputId": "268acaa9-c21d-4a54-85e7-fb33d4086ac1"
      },
      "outputs": [
        {
          "data": {
            "text/plain": [
              "<tf.Tensor: shape=(2,), dtype=float16, numpy=array([1.7, 7.4], dtype=float16)>"
            ]
          },
          "execution_count": 52,
          "metadata": {},
          "output_type": "execute_result"
        }
      ],
      "source": [
        "E_float16 = tf.cast(E, dtype=tf.float16)\n",
        "E_float16"
      ]
    },
    {
      "cell_type": "markdown",
      "metadata": {
        "id": "G2JG295c0Xaw"
      },
      "source": [
        "#### Aggregating tensors\n",
        "\n",
        "Aggregating tensors = condensing them from multiple values down to a smaller amount of values"
      ]
    },
    {
      "cell_type": "code",
      "execution_count": 53,
      "metadata": {
        "colab": {
          "base_uri": "https://localhost:8080/"
        },
        "id": "fZrstIzQ0LbG",
        "outputId": "d684a44b-b6f1-4cca-cd98-1d5da54d0916"
      },
      "outputs": [
        {
          "data": {
            "text/plain": [
              "<tf.Tensor: shape=(2,), dtype=int32, numpy=array([ -7, -10], dtype=int32)>"
            ]
          },
          "execution_count": 53,
          "metadata": {},
          "output_type": "execute_result"
        }
      ],
      "source": [
        "# Getting the absolute values\n",
        "D = tf.constant([-7,-10])\n",
        "D"
      ]
    },
    {
      "cell_type": "code",
      "execution_count": 54,
      "metadata": {
        "colab": {
          "base_uri": "https://localhost:8080/"
        },
        "id": "o1TVlscB1bmN",
        "outputId": "42c10529-7a1b-4bf8-876f-615ea3d43e88"
      },
      "outputs": [
        {
          "data": {
            "text/plain": [
              "<tf.Tensor: shape=(2,), dtype=int32, numpy=array([ 7, 10], dtype=int32)>"
            ]
          },
          "execution_count": 54,
          "metadata": {},
          "output_type": "execute_result"
        }
      ],
      "source": [
        "tf.abs(D)"
      ]
    },
    {
      "cell_type": "markdown",
      "metadata": {
        "id": "eeT35OMc2ZHC"
      },
      "source": [
        "The way through the following forms of aggregation:\n",
        "\n",
        "- Get the minimun\n",
        "- Get the maximun\n",
        "- Get the mean of a tensor\n",
        "- Get the sum of a tensor"
      ]
    },
    {
      "cell_type": "code",
      "execution_count": 55,
      "metadata": {
        "colab": {
          "base_uri": "https://localhost:8080/"
        },
        "id": "L3pPxRnO35S_",
        "outputId": "0816fcc4-4549-41de-ecfc-31cdd0bb50cb"
      },
      "outputs": [
        {
          "data": {
            "text/plain": [
              "<tf.Tensor: shape=(2, 3, 2), dtype=float32, numpy=\n",
              "array([[[-0.55909735, -0.5347214 ],\n",
              "        [ 2.3730333 , -1.5725931 ],\n",
              "        [ 0.8055056 , -0.83387697]],\n",
              "\n",
              "       [[ 0.30611223,  2.2660494 ],\n",
              "        [ 0.2856414 , -1.5536156 ],\n",
              "        [ 0.37975532,  0.76646256]]], dtype=float32)>"
            ]
          },
          "execution_count": 55,
          "metadata": {},
          "output_type": "execute_result"
        }
      ],
      "source": [
        "# Create a (2,3,2) shape random normal tensor\n",
        "ef_Tensor = tf.random.normal(shape=[2,3,2])\n",
        "ef_Tensor"
      ]
    },
    {
      "cell_type": "code",
      "execution_count": 56,
      "metadata": {
        "colab": {
          "base_uri": "https://localhost:8080/"
        },
        "id": "oHfm-Rcx1f51",
        "outputId": "df3fc55b-bbed-4705-be21-e24814a793f2"
      },
      "outputs": [
        {
          "name": "stdout",
          "output_type": "stream",
          "text": [
            "Maximun:  tf.Tensor(2.3730333, shape=(), dtype=float32)\n",
            "Minimun:  tf.Tensor(-1.5725931, shape=(), dtype=float32)\n"
          ]
        }
      ],
      "source": [
        "MAX_E = tf.math.reduce_max(ef_Tensor)\n",
        "MIN_E = tf.math.reduce_min(ef_Tensor)\n",
        "print('Maximun: ',MAX_E)\n",
        "print('Minimun: ',MIN_E)"
      ]
    },
    {
      "cell_type": "code",
      "execution_count": 57,
      "metadata": {
        "colab": {
          "base_uri": "https://localhost:8080/"
        },
        "id": "qibLRCHa2-az",
        "outputId": "20fa6164-f993-4c23-da83-a3c9396b3374"
      },
      "outputs": [
        {
          "data": {
            "text/plain": [
              "<tf.Tensor: shape=(), dtype=float32, numpy=0.17738795>"
            ]
          },
          "execution_count": 57,
          "metadata": {},
          "output_type": "execute_result"
        }
      ],
      "source": [
        "# We don't need to use math just tf.reduce_mean, tf.reduce_max, etc.\n",
        "MEAN_E = tf.reduce_mean(ef_Tensor)\n",
        "MEAN_E"
      ]
    },
    {
      "cell_type": "code",
      "execution_count": 58,
      "metadata": {
        "colab": {
          "base_uri": "https://localhost:8080/"
        },
        "id": "Lej3Dxc946BS",
        "outputId": "5ccc9dba-a833-41da-b9dc-2c9f7e3feb15"
      },
      "outputs": [
        {
          "data": {
            "text/plain": [
              "<tf.Tensor: shape=(50,), dtype=int64, numpy=\n",
              "array([82, 98, 55, 40, 34, 11, 20, 92, 84, 37, 73, 23, 31,  5, 11, 61, 55,\n",
              "       51, 66, 34, 14, 61, 73, 68, 42, 34, 75, 79, 74, 72, 42, 88, 96, 18,\n",
              "       73, 27, 90, 90, 61, 51, 90, 22, 91, 22, 87, 26, 66,  0, 67, 75])>"
            ]
          },
          "execution_count": 58,
          "metadata": {},
          "output_type": "execute_result"
        }
      ],
      "source": [
        "F = tf.constant(np.random.randint(0, 100, size=50))\n",
        "F"
      ]
    },
    {
      "cell_type": "code",
      "execution_count": 59,
      "metadata": {
        "colab": {
          "base_uri": "https://localhost:8080/"
        },
        "id": "mDo7d5lE56Zr",
        "outputId": "a0ac341a-db0d-4031-fa28-d976d635ae3a"
      },
      "outputs": [
        {
          "data": {
            "text/plain": [
              "(<tf.Tensor: shape=(), dtype=int32, numpy=50>, TensorShape([50]), 1)"
            ]
          },
          "execution_count": 59,
          "metadata": {},
          "output_type": "execute_result"
        }
      ],
      "source": [
        "tf.size(F), F.shape, F.ndim"
      ]
    },
    {
      "cell_type": "code",
      "execution_count": 60,
      "metadata": {
        "colab": {
          "base_uri": "https://localhost:8080/"
        },
        "id": "yjW9MA8F6CcK",
        "outputId": "a5749b4e-2eb7-4f90-9059-64e77e39871c"
      },
      "outputs": [
        {
          "data": {
            "text/plain": [
              "<tf.Tensor: shape=(), dtype=int64, numpy=0>"
            ]
          },
          "execution_count": 60,
          "metadata": {},
          "output_type": "execute_result"
        }
      ],
      "source": [
        "tf.reduce_min(F)"
      ]
    },
    {
      "cell_type": "code",
      "execution_count": 61,
      "metadata": {
        "colab": {
          "base_uri": "https://localhost:8080/"
        },
        "id": "EgQ0ak5u6Yro",
        "outputId": "68e067da-e481-4f7e-b42d-8ab23086369d"
      },
      "outputs": [
        {
          "data": {
            "text/plain": [
              "<tf.Tensor: shape=(), dtype=int64, numpy=98>"
            ]
          },
          "execution_count": 61,
          "metadata": {},
          "output_type": "execute_result"
        }
      ],
      "source": [
        "tf.reduce_max(F)"
      ]
    },
    {
      "cell_type": "code",
      "execution_count": 62,
      "metadata": {
        "colab": {
          "base_uri": "https://localhost:8080/"
        },
        "id": "RDRTEP_06alx",
        "outputId": "d8190fea-4f42-4965-b8ff-8859a5959d80"
      },
      "outputs": [
        {
          "data": {
            "text/plain": [
              "<tf.Tensor: shape=(), dtype=int64, numpy=54>"
            ]
          },
          "execution_count": 62,
          "metadata": {},
          "output_type": "execute_result"
        }
      ],
      "source": [
        "tf.reduce_mean(F)"
      ]
    },
    {
      "cell_type": "code",
      "execution_count": 63,
      "metadata": {
        "colab": {
          "base_uri": "https://localhost:8080/"
        },
        "id": "iHvjaLHg6dCq",
        "outputId": "b4cfee78-11b7-43c5-c216-256ce696744a"
      },
      "outputs": [
        {
          "data": {
            "text/plain": [
              "<tf.Tensor: shape=(), dtype=int64, numpy=2737>"
            ]
          },
          "execution_count": 63,
          "metadata": {},
          "output_type": "execute_result"
        }
      ],
      "source": [
        "tf.reduce_sum(F)"
      ]
    },
    {
      "cell_type": "markdown",
      "metadata": {
        "id": "JvVoOIqS6osl"
      },
      "source": [
        "⚒️ **Exercise**: Find the standard deviation and the variance using tensorflow methods"
      ]
    },
    {
      "cell_type": "code",
      "execution_count": 64,
      "metadata": {
        "colab": {
          "base_uri": "https://localhost:8080/"
        },
        "id": "y0p6YP8b6nUw",
        "outputId": "c798fb68-0325-4b27-f452-9e7b7505870b"
      },
      "outputs": [
        {
          "data": {
            "text/plain": [
              "<tf.Tensor: shape=(), dtype=float32, numpy=770.5524>"
            ]
          },
          "execution_count": 64,
          "metadata": {},
          "output_type": "execute_result"
        }
      ],
      "source": [
        "tf.math.reduce_variance(tf.cast(F, dtype=tf.float32))"
      ]
    },
    {
      "cell_type": "code",
      "execution_count": 65,
      "metadata": {
        "colab": {
          "base_uri": "https://localhost:8080/"
        },
        "id": "pvXpiReu7Gw0",
        "outputId": "2f4c334f-64b2-4ee6-8dab-62a883d43d3e"
      },
      "outputs": [
        {
          "data": {
            "text/plain": [
              "<tf.Tensor: shape=(), dtype=float32, numpy=27.758825>"
            ]
          },
          "execution_count": 65,
          "metadata": {},
          "output_type": "execute_result"
        }
      ],
      "source": [
        "tf.math.reduce_std(tf.cast(F, dtype=tf.float32))"
      ]
    },
    {
      "cell_type": "code",
      "execution_count": 66,
      "metadata": {
        "id": "ijmI6QJS7xhw"
      },
      "outputs": [],
      "source": [
        "import tensorflow_probability as tfp"
      ]
    },
    {
      "cell_type": "code",
      "execution_count": 67,
      "metadata": {
        "colab": {
          "base_uri": "https://localhost:8080/"
        },
        "id": "osU1Wrsk8TA_",
        "outputId": "fb045741-b234-4496-a2f8-718444a04abe"
      },
      "outputs": [
        {
          "data": {
            "text/plain": [
              "<tf.Tensor: shape=(), dtype=int64, numpy=771>"
            ]
          },
          "execution_count": 67,
          "metadata": {},
          "output_type": "execute_result"
        }
      ],
      "source": [
        "tfp.stats.variance(F)"
      ]
    },
    {
      "cell_type": "markdown",
      "metadata": {
        "id": "-dJ8HuWu9nKC"
      },
      "source": [
        "#### Find the positional maximun and minimun of a tensor"
      ]
    },
    {
      "cell_type": "code",
      "execution_count": 68,
      "metadata": {
        "colab": {
          "base_uri": "https://localhost:8080/"
        },
        "id": "idZZV0et8c7P",
        "outputId": "de871693-651e-4ef9-9635-54122bdcfd01"
      },
      "outputs": [
        {
          "data": {
            "text/plain": [
              "<tf.Tensor: shape=(), dtype=int64, numpy=1>"
            ]
          },
          "execution_count": 68,
          "metadata": {},
          "output_type": "execute_result"
        }
      ],
      "source": [
        "tf.argmax(F)"
      ]
    },
    {
      "cell_type": "code",
      "execution_count": 69,
      "metadata": {
        "colab": {
          "base_uri": "https://localhost:8080/"
        },
        "id": "lLhMvOPQ7Y4D",
        "outputId": "a1fc4501-6b45-4625-db8e-47f29e99f8b5"
      },
      "outputs": [
        {
          "data": {
            "text/plain": [
              "<tf.Tensor: shape=(), dtype=int64, numpy=47>"
            ]
          },
          "execution_count": 69,
          "metadata": {},
          "output_type": "execute_result"
        }
      ],
      "source": [
        "tf.argmin(F)"
      ]
    },
    {
      "cell_type": "code",
      "execution_count": 70,
      "metadata": {
        "colab": {
          "base_uri": "https://localhost:8080/"
        },
        "id": "J2QCDQHA7hF6",
        "outputId": "89c98ab7-538a-4b88-adf0-a4b726315562"
      },
      "outputs": [
        {
          "data": {
            "text/plain": [
              "<tf.Tensor: shape=(50,), dtype=float32, numpy=\n",
              "array([0.6645621 , 0.44100678, 0.3528825 , 0.46448255, 0.03366041,\n",
              "       0.68467236, 0.74011743, 0.8724445 , 0.22632635, 0.22319686,\n",
              "       0.3103881 , 0.7223358 , 0.13318717, 0.5480639 , 0.5746088 ,\n",
              "       0.8996835 , 0.00946367, 0.5212307 , 0.6345445 , 0.1993283 ,\n",
              "       0.72942245, 0.54583454, 0.10756552, 0.6767061 , 0.6602763 ,\n",
              "       0.33695042, 0.60141766, 0.21062577, 0.8527372 , 0.44062173,\n",
              "       0.9485276 , 0.23752594, 0.81179297, 0.5263394 , 0.494308  ,\n",
              "       0.21612847, 0.8457197 , 0.8718841 , 0.3083862 , 0.6868038 ,\n",
              "       0.23764038, 0.7817228 , 0.9671384 , 0.06870162, 0.79873943,\n",
              "       0.66028714, 0.5871513 , 0.16461694, 0.7381023 , 0.32054043],\n",
              "      dtype=float32)>"
            ]
          },
          "execution_count": 70,
          "metadata": {},
          "output_type": "execute_result"
        }
      ],
      "source": [
        "# Create a new tensor\n",
        "tf.random.set_seed(42)\n",
        "G = tf.random.uniform(shape=[50])\n",
        "G"
      ]
    },
    {
      "cell_type": "code",
      "execution_count": 71,
      "metadata": {
        "colab": {
          "base_uri": "https://localhost:8080/"
        },
        "id": "xOBUEcJaA15_",
        "outputId": "6535f094-6391-44e6-9e28-81c6fc92ad1c"
      },
      "outputs": [
        {
          "data": {
            "text/plain": [
              "<tf.Tensor: shape=(), dtype=int64, numpy=42>"
            ]
          },
          "execution_count": 71,
          "metadata": {},
          "output_type": "execute_result"
        }
      ],
      "source": [
        "tf.argmax(G)"
      ]
    },
    {
      "cell_type": "code",
      "execution_count": 72,
      "metadata": {
        "colab": {
          "base_uri": "https://localhost:8080/"
        },
        "id": "5ucMgqcnBXV1",
        "outputId": "a9af5d73-9cd4-4ef9-b3e5-ea0072ef1aa8"
      },
      "outputs": [
        {
          "data": {
            "text/plain": [
              "<tf.Tensor: shape=(), dtype=float32, numpy=0.9671384>"
            ]
          },
          "execution_count": 72,
          "metadata": {},
          "output_type": "execute_result"
        }
      ],
      "source": [
        "# Get the value, not the position\n",
        "G[tf.argmax(G)]"
      ]
    },
    {
      "cell_type": "code",
      "execution_count": 73,
      "metadata": {
        "colab": {
          "base_uri": "https://localhost:8080/"
        },
        "id": "TeAmrRPgBxqF",
        "outputId": "05e54573-23d5-4282-fc76-67128f216e8a"
      },
      "outputs": [
        {
          "data": {
            "text/plain": [
              "<tf.Tensor: shape=(), dtype=bool, numpy=True>"
            ]
          },
          "execution_count": 73,
          "metadata": {},
          "output_type": "execute_result"
        }
      ],
      "source": [
        "tf.reduce_max(G) == G[tf.argmax(G)]"
      ]
    },
    {
      "cell_type": "code",
      "execution_count": 74,
      "metadata": {
        "colab": {
          "base_uri": "https://localhost:8080/"
        },
        "id": "JxOO7X2JHT-Z",
        "outputId": "02903209-a00d-46ae-db85-17b05785a91a"
      },
      "outputs": [
        {
          "data": {
            "text/plain": [
              "<tf.Tensor: shape=(), dtype=int64, numpy=16>"
            ]
          },
          "execution_count": 74,
          "metadata": {},
          "output_type": "execute_result"
        }
      ],
      "source": [
        "tf.argmin(G)"
      ]
    },
    {
      "cell_type": "code",
      "execution_count": 75,
      "metadata": {
        "colab": {
          "base_uri": "https://localhost:8080/"
        },
        "id": "jlkVCR2SHae6",
        "outputId": "04263ff6-f4cb-4290-b288-71654112cbbc"
      },
      "outputs": [
        {
          "data": {
            "text/plain": [
              "<tf.Tensor: shape=(), dtype=bool, numpy=True>"
            ]
          },
          "execution_count": 75,
          "metadata": {},
          "output_type": "execute_result"
        }
      ],
      "source": [
        "tf.reduce_min(G) == G[tf.argmin(G)]"
      ]
    },
    {
      "cell_type": "markdown",
      "metadata": {
        "id": "4Ostm1BgHsu1"
      },
      "source": [
        "#### Squeezing a Tensor\n",
        "\n",
        "Remove all the single dimension"
      ]
    },
    {
      "cell_type": "code",
      "execution_count": 76,
      "metadata": {
        "colab": {
          "base_uri": "https://localhost:8080/"
        },
        "id": "gJhzv1DTHqgQ",
        "outputId": "43d9cfaa-257e-4771-a11a-77158ca81f91"
      },
      "outputs": [
        {
          "data": {
            "text/plain": [
              "<tf.Tensor: shape=(1, 1, 1, 50), dtype=float32, numpy=\n",
              "array([[[[0.6645621 , 0.44100678, 0.3528825 , 0.46448255, 0.03366041,\n",
              "          0.68467236, 0.74011743, 0.8724445 , 0.22632635, 0.22319686,\n",
              "          0.3103881 , 0.7223358 , 0.13318717, 0.5480639 , 0.5746088 ,\n",
              "          0.8996835 , 0.00946367, 0.5212307 , 0.6345445 , 0.1993283 ,\n",
              "          0.72942245, 0.54583454, 0.10756552, 0.6767061 , 0.6602763 ,\n",
              "          0.33695042, 0.60141766, 0.21062577, 0.8527372 , 0.44062173,\n",
              "          0.9485276 , 0.23752594, 0.81179297, 0.5263394 , 0.494308  ,\n",
              "          0.21612847, 0.8457197 , 0.8718841 , 0.3083862 , 0.6868038 ,\n",
              "          0.23764038, 0.7817228 , 0.9671384 , 0.06870162, 0.79873943,\n",
              "          0.66028714, 0.5871513 , 0.16461694, 0.7381023 , 0.32054043]]]],\n",
              "      dtype=float32)>"
            ]
          },
          "execution_count": 76,
          "metadata": {},
          "output_type": "execute_result"
        }
      ],
      "source": [
        "tf.random.set_seed(42)\n",
        "H = tf.constant(tf.random.uniform(shape=[50]), shape=[1,1,1,50])\n",
        "H"
      ]
    },
    {
      "cell_type": "code",
      "execution_count": 77,
      "metadata": {
        "colab": {
          "base_uri": "https://localhost:8080/"
        },
        "id": "2_ADmrukIH3w",
        "outputId": "768baf3e-1d1a-4707-b132-d83bb35e3e43"
      },
      "outputs": [
        {
          "data": {
            "text/plain": [
              "TensorShape([50])"
            ]
          },
          "execution_count": 77,
          "metadata": {},
          "output_type": "execute_result"
        }
      ],
      "source": [
        "G.shape"
      ]
    },
    {
      "cell_type": "code",
      "execution_count": 78,
      "metadata": {
        "colab": {
          "base_uri": "https://localhost:8080/"
        },
        "id": "Z1O1QFH8IMPY",
        "outputId": "b9f5555d-15a7-4e04-d547-a370373b61be"
      },
      "outputs": [
        {
          "data": {
            "text/plain": [
              "(<tf.Tensor: shape=(50,), dtype=float32, numpy=\n",
              " array([0.6645621 , 0.44100678, 0.3528825 , 0.46448255, 0.03366041,\n",
              "        0.68467236, 0.74011743, 0.8724445 , 0.22632635, 0.22319686,\n",
              "        0.3103881 , 0.7223358 , 0.13318717, 0.5480639 , 0.5746088 ,\n",
              "        0.8996835 , 0.00946367, 0.5212307 , 0.6345445 , 0.1993283 ,\n",
              "        0.72942245, 0.54583454, 0.10756552, 0.6767061 , 0.6602763 ,\n",
              "        0.33695042, 0.60141766, 0.21062577, 0.8527372 , 0.44062173,\n",
              "        0.9485276 , 0.23752594, 0.81179297, 0.5263394 , 0.494308  ,\n",
              "        0.21612847, 0.8457197 , 0.8718841 , 0.3083862 , 0.6868038 ,\n",
              "        0.23764038, 0.7817228 , 0.9671384 , 0.06870162, 0.79873943,\n",
              "        0.66028714, 0.5871513 , 0.16461694, 0.7381023 , 0.32054043],\n",
              "       dtype=float32)>,\n",
              " TensorShape([50]))"
            ]
          },
          "execution_count": 78,
          "metadata": {},
          "output_type": "execute_result"
        }
      ],
      "source": [
        "H_squeezed = tf.squeeze(H)\n",
        "H_squeezed, H_squeezed.shape"
      ]
    },
    {
      "cell_type": "markdown",
      "metadata": {
        "id": "qHjJnccGO2Eb"
      },
      "source": [
        "#### One Hot Encoding"
      ]
    },
    {
      "cell_type": "code",
      "execution_count": 79,
      "metadata": {
        "colab": {
          "base_uri": "https://localhost:8080/"
        },
        "id": "xiNAJE9iIbvB",
        "outputId": "d06cbb82-9e16-446a-c5ac-13faa5f10aae"
      },
      "outputs": [
        {
          "data": {
            "text/plain": [
              "<tf.Tensor: shape=(4, 4), dtype=float32, numpy=\n",
              "array([[1., 0., 0., 0.],\n",
              "       [0., 1., 0., 0.],\n",
              "       [0., 0., 1., 0.],\n",
              "       [0., 0., 0., 1.]], dtype=float32)>"
            ]
          },
          "execution_count": 79,
          "metadata": {},
          "output_type": "execute_result"
        }
      ],
      "source": [
        "# Create a list of indices\n",
        "some_list = [0, 1, 2, 3] # Could be red, green, blue, purple\n",
        "tf.one_hot(some_list, depth=4) # We need to add depth"
      ]
    },
    {
      "cell_type": "code",
      "execution_count": 80,
      "metadata": {
        "colab": {
          "base_uri": "https://localhost:8080/"
        },
        "id": "FgyGSLesPkXq",
        "outputId": "017e7114-5822-418c-d04a-2054342cc215"
      },
      "outputs": [
        {
          "data": {
            "text/plain": [
              "<tf.Tensor: shape=(4, 4), dtype=string, numpy=\n",
              "array([[b'Bingo', b'NO', b'NO', b'NO'],\n",
              "       [b'NO', b'Bingo', b'NO', b'NO'],\n",
              "       [b'NO', b'NO', b'Bingo', b'NO'],\n",
              "       [b'NO', b'NO', b'NO', b'Bingo']], dtype=object)>"
            ]
          },
          "execution_count": 80,
          "metadata": {},
          "output_type": "execute_result"
        }
      ],
      "source": [
        "# Specify custom values for hot encoding\n",
        "tf.one_hot(some_list, depth=4, on_value='Bingo', off_value='NO')"
      ]
    },
    {
      "cell_type": "markdown",
      "metadata": {
        "id": "KVFFhiuhBr_M"
      },
      "source": [
        "#### Squaring, log, square root"
      ]
    },
    {
      "cell_type": "code",
      "execution_count": 82,
      "metadata": {
        "colab": {
          "base_uri": "https://localhost:8080/"
        },
        "id": "IZAcCij9QAYp",
        "outputId": "cf31839a-9a5c-4f0b-b7e3-4502d22c8dcc"
      },
      "outputs": [
        {
          "data": {
            "text/plain": [
              "<tf.Tensor: shape=(9,), dtype=int32, numpy=array([1, 2, 3, 4, 5, 6, 7, 8, 9], dtype=int32)>"
            ]
          },
          "execution_count": 82,
          "metadata": {},
          "output_type": "execute_result"
        }
      ],
      "source": [
        "I = tf.range(1,10)\n",
        "I"
      ]
    },
    {
      "cell_type": "code",
      "execution_count": 90,
      "metadata": {
        "colab": {
          "base_uri": "https://localhost:8080/"
        },
        "id": "KePkgVczBzIq",
        "outputId": "a6628de9-a628-4237-b77a-7d6648112390"
      },
      "outputs": [
        {
          "data": {
            "text/plain": [
              "<tf.Tensor: shape=(9,), dtype=int32, numpy=array([ 1,  4,  9, 16, 25, 36, 49, 64, 81], dtype=int32)>"
            ]
          },
          "execution_count": 90,
          "metadata": {},
          "output_type": "execute_result"
        }
      ],
      "source": [
        "tf.square(I)"
      ]
    },
    {
      "cell_type": "code",
      "execution_count": 91,
      "metadata": {
        "colab": {
          "base_uri": "https://localhost:8080/"
        },
        "id": "R18DrVT3CGv6",
        "outputId": "8c6952a6-1900-4f03-8ab5-df5b4d363e53"
      },
      "outputs": [
        {
          "data": {
            "text/plain": [
              "<tf.Tensor: shape=(9,), dtype=float32, numpy=\n",
              "array([1.       , 1.4142135, 1.7320508, 2.       , 2.236068 , 2.4494898,\n",
              "       2.6457512, 2.828427 , 3.       ], dtype=float32)>"
            ]
          },
          "execution_count": 91,
          "metadata": {},
          "output_type": "execute_result"
        }
      ],
      "source": [
        "# Requires non_Int type\n",
        "tf.sqrt(tf.cast(I, dtype=tf.float32))"
      ]
    },
    {
      "cell_type": "code",
      "execution_count": 93,
      "metadata": {
        "colab": {
          "base_uri": "https://localhost:8080/"
        },
        "id": "q8q2kKsuCO0j",
        "outputId": "2ef60461-6938-4371-f04d-b3519cdba963"
      },
      "outputs": [
        {
          "data": {
            "text/plain": [
              "<tf.Tensor: shape=(9,), dtype=float32, numpy=\n",
              "array([0.       , 0.6931472, 1.0986123, 1.3862944, 1.609438 , 1.7917595,\n",
              "       1.9459102, 2.0794415, 2.1972246], dtype=float32)>"
            ]
          },
          "execution_count": 93,
          "metadata": {},
          "output_type": "execute_result"
        }
      ],
      "source": [
        "# Find the log\n",
        "tf.math.log(tf.cast(I, dtype=tf.float32))"
      ]
    },
    {
      "cell_type": "markdown",
      "metadata": {
        "id": "h5MPu0CQFXoS"
      },
      "source": [
        "👁️👁️ Watch Euclidean norm video\n",
        "https://www.youtube.com/watch?v=I5sPXco-PDo <br>\n",
        "Jesús soto - UCAM"
      ]
    },
    {
      "cell_type": "code",
      "execution_count": 101,
      "metadata": {
        "colab": {
          "base_uri": "https://localhost:8080/"
        },
        "id": "wLImcEa5GGSB",
        "outputId": "e17c4955-146b-480d-d09f-493d295b3d67"
      },
      "outputs": [
        {
          "data": {
            "text/plain": [
              "16.881943"
            ]
          },
          "execution_count": 101,
          "metadata": {},
          "output_type": "execute_result"
        }
      ],
      "source": [
        "# Square root of the sum of all the square values\n",
        "I_Euclidean = tf.sqrt(tf.cast(tf.reduce_sum(tf.square(I)), dtype=tf.float32))\n",
        "I_Euclidean.numpy()"
      ]
    },
    {
      "cell_type": "code",
      "execution_count": 102,
      "metadata": {
        "colab": {
          "base_uri": "https://localhost:8080/"
        },
        "id": "GzfjHcm1C35o",
        "outputId": "eaac569b-e333-4ab4-aadf-a5b2da03f773"
      },
      "outputs": [
        {
          "data": {
            "text/plain": [
              "<tf.Tensor: shape=(), dtype=float32, numpy=16.881943>"
            ]
          },
          "execution_count": 102,
          "metadata": {},
          "output_type": "execute_result"
        }
      ],
      "source": [
        "# Euclidean norm\n",
        "tf.math.reduce_euclidean_norm(tf.cast(I, dtype=tf.float32))"
      ]
    },
    {
      "cell_type": "code",
      "execution_count": 96,
      "metadata": {
        "colab": {
          "base_uri": "https://localhost:8080/"
        },
        "id": "bo3HFqVJDZOy",
        "outputId": "3a2a7446-96c8-4dc6-86ef-0097a097f8e5"
      },
      "outputs": [
        {
          "data": {
            "text/plain": [
              "<tf.Tensor: shape=(), dtype=int32, numpy=2>"
            ]
          },
          "execution_count": 96,
          "metadata": {},
          "output_type": "execute_result"
        }
      ],
      "source": [
        "I_ones = tf.constant([1,1,1,1])\n",
        "tf.math.reduce_euclidean_norm(I_ones)"
      ]
    },
    {
      "cell_type": "markdown",
      "metadata": {
        "id": "uB8fyqs0St26"
      },
      "source": [
        "👁️👁️ **Sigmoid**"
      ]
    },
    {
      "cell_type": "code",
      "execution_count": 105,
      "metadata": {
        "colab": {
          "base_uri": "https://localhost:8080/"
        },
        "id": "JE1ez0V1FHw_",
        "outputId": "0824aa23-d6b2-43a1-ecdc-cd6675c4f1a6"
      },
      "outputs": [
        {
          "data": {
            "text/plain": [
              "<tf.Tensor: shape=(9,), dtype=float32, numpy=\n",
              "array([0.7310586 , 0.8807971 , 0.95257413, 0.98201376, 0.9933072 ,\n",
              "       0.99752736, 0.99908894, 0.99966466, 0.9998766 ], dtype=float32)>"
            ]
          },
          "execution_count": 105,
          "metadata": {},
          "output_type": "execute_result"
        }
      ],
      "source": [
        "tf.math.sigmoid(tf.cast(I,dtype=tf.float32))"
      ]
    },
    {
      "cell_type": "code",
      "execution_count": 106,
      "metadata": {
        "colab": {
          "base_uri": "https://localhost:8080/"
        },
        "id": "Otn90qv3S-Nc",
        "outputId": "e012eb0c-9a0d-43c5-c62e-803d38246da6"
      },
      "outputs": [
        {
          "data": {
            "text/plain": [
              "<tf.Tensor: shape=(), dtype=float32, numpy=0.9999999>"
            ]
          },
          "execution_count": 106,
          "metadata": {},
          "output_type": "execute_result"
        }
      ],
      "source": [
        "tf.math.sigmoid(I_Euclidean)"
      ]
    },
    {
      "cell_type": "markdown",
      "metadata": {
        "id": "XwC-sXp1Uh4r"
      },
      "source": [
        "#### Tensors and Numpy\n",
        "\n",
        "Tensorflow interacts beutifully with Numpy Arrays\n",
        "\n",
        "🔑**NOTE**: One of the main differences between a TensorFlow tensor and a NumPy array is that a TensorFlow tensor can be run on a GPU or a TPU (for faster numerical processing)"
      ]
    },
    {
      "cell_type": "code",
      "execution_count": 107,
      "metadata": {
        "colab": {
          "base_uri": "https://localhost:8080/"
        },
        "id": "F7h8DuOgTpb0",
        "outputId": "3469fc9c-f20b-4915-8cf5-e1e055278623"
      },
      "outputs": [
        {
          "data": {
            "text/plain": [
              "<tf.Tensor: shape=(3,), dtype=float64, numpy=array([ 3.,  7., 10.])>"
            ]
          },
          "execution_count": 107,
          "metadata": {},
          "output_type": "execute_result"
        }
      ],
      "source": [
        "# Create a tensor directly from Numpy array\n",
        "J = tf.constant(np.array([3., 7., 10.]))\n",
        "J"
      ]
    },
    {
      "cell_type": "code",
      "execution_count": 109,
      "metadata": {
        "colab": {
          "base_uri": "https://localhost:8080/"
        },
        "id": "BnkQ8xZ7U6RB",
        "outputId": "679b488f-6f58-41cf-be4c-86d2b3c97db2"
      },
      "outputs": [
        {
          "data": {
            "text/plain": [
              "(array([ 3.,  7., 10.]), numpy.ndarray)"
            ]
          },
          "execution_count": 109,
          "metadata": {},
          "output_type": "execute_result"
        }
      ],
      "source": [
        "np.array(J), type(np.array(J))"
      ]
    },
    {
      "cell_type": "code",
      "execution_count": 111,
      "metadata": {
        "colab": {
          "base_uri": "https://localhost:8080/"
        },
        "id": "u08cI5JkVAm6",
        "outputId": "f9a083ce-0ad9-4215-aa4d-48078cc8e099"
      },
      "outputs": [
        {
          "data": {
            "text/plain": [
              "array([ 3.,  7., 10.])"
            ]
          },
          "execution_count": 111,
          "metadata": {},
          "output_type": "execute_result"
        }
      ],
      "source": [
        "J.numpy()"
      ]
    },
    {
      "cell_type": "code",
      "execution_count": 112,
      "metadata": {
        "colab": {
          "base_uri": "https://localhost:8080/"
        },
        "id": "Oozly71mVHkr",
        "outputId": "fd4d89a9-747e-4cb1-ddd2-b44bbc255205"
      },
      "outputs": [
        {
          "data": {
            "text/plain": [
              "7.0"
            ]
          },
          "execution_count": 112,
          "metadata": {},
          "output_type": "execute_result"
        }
      ],
      "source": [
        "J.numpy()[1]"
      ]
    },
    {
      "cell_type": "code",
      "execution_count": 113,
      "metadata": {
        "colab": {
          "base_uri": "https://localhost:8080/"
        },
        "id": "O15HmYdvVP0C",
        "outputId": "8d91b815-eb6b-4af4-e634-04c558623f68"
      },
      "outputs": [
        {
          "data": {
            "text/plain": [
              "(tf.float64, tf.float32)"
            ]
          },
          "execution_count": 113,
          "metadata": {},
          "output_type": "execute_result"
        }
      ],
      "source": [
        "# The default types of each are slightly different\n",
        "numpy_J = tf.constant(np.array([3.,7.,10.]))\n",
        "tensor_J = tf.constant([3.,7.,10.])\n",
        "\n",
        "# Check the datatypes of each\n",
        "\n",
        "numpy_J.dtype, tensor_J.dtype"
      ]
    },
    {
      "cell_type": "markdown",
      "metadata": {
        "id": "rmiXCprOXMB7"
      },
      "source": [
        "#### Finding acces tu GPUs\n"
      ]
    },
    {
      "cell_type": "code",
      "execution_count": 1,
      "metadata": {
        "colab": {
          "base_uri": "https://localhost:8080/"
        },
        "id": "Tr_8A9idV54S",
        "outputId": "4f252e8d-0e34-48d9-cc2b-d0aa2beeef67"
      },
      "outputs": [
        {
          "data": {
            "text/plain": [
              "[PhysicalDevice(name='/physical_device:GPU:0', device_type='GPU')]"
            ]
          },
          "execution_count": 1,
          "metadata": {},
          "output_type": "execute_result"
        }
      ],
      "source": [
        "import tensorflow as tf\n",
        "\n",
        "tf.config.list_physical_devices('GPU')"
      ]
    },
    {
      "cell_type": "code",
      "execution_count": 2,
      "metadata": {
        "colab": {
          "base_uri": "https://localhost:8080/"
        },
        "id": "0NhGzzKMZzvc",
        "outputId": "2f8ac935-f209-4d65-c88b-088334bbd961"
      },
      "outputs": [
        {
          "name": "stdout",
          "output_type": "stream",
          "text": [
            "Collecting nvidia-pyindex\n",
            "  Downloading nvidia-pyindex-1.0.9.tar.gz (10 kB)\n",
            "  Preparing metadata (setup.py) ... \u001b[?25l\u001b[?25hdone\n",
            "Building wheels for collected packages: nvidia-pyindex\n",
            "  Building wheel for nvidia-pyindex (setup.py) ... \u001b[?25l\u001b[?25hdone\n",
            "  Created wheel for nvidia-pyindex: filename=nvidia_pyindex-1.0.9-py3-none-any.whl size=8416 sha256=e497ea6afb925a2e01fcf580063a0f3f5d2bc29fede69b6045cccfd6ee5e3a19\n",
            "  Stored in directory: /root/.cache/pip/wheels/2c/af/d0/7a12f82cab69f65d51107f48bcd6179e29b9a69a90546332b3\n",
            "Successfully built nvidia-pyindex\n",
            "Installing collected packages: nvidia-pyindex\n",
            "Successfully installed nvidia-pyindex-1.0.9\n"
          ]
        }
      ],
      "source": [
        "!pip install --upgrade nvidia-pyindex"
      ]
    },
    {
      "cell_type": "code",
      "execution_count": 3,
      "metadata": {
        "colab": {
          "base_uri": "https://localhost:8080/"
        },
        "id": "tFa-yyzNX14q",
        "outputId": "be350e9f-bbe3-47ef-f7ac-d8c897ec2f71"
      },
      "outputs": [
        {
          "name": "stdout",
          "output_type": "stream",
          "text": [
            "Tue Aug  8 09:08:20 2023       \n",
            "+-----------------------------------------------------------------------------+\n",
            "| NVIDIA-SMI 525.105.17   Driver Version: 525.105.17   CUDA Version: 12.0     |\n",
            "|-------------------------------+----------------------+----------------------+\n",
            "| GPU  Name        Persistence-M| Bus-Id        Disp.A | Volatile Uncorr. ECC |\n",
            "| Fan  Temp  Perf  Pwr:Usage/Cap|         Memory-Usage | GPU-Util  Compute M. |\n",
            "|                               |                      |               MIG M. |\n",
            "|===============================+======================+======================|\n",
            "|   0  Tesla T4            Off  | 00000000:00:04.0 Off |                    0 |\n",
            "| N/A   34C    P8     9W /  70W |      3MiB / 15360MiB |      0%      Default |\n",
            "|                               |                      |                  N/A |\n",
            "+-------------------------------+----------------------+----------------------+\n",
            "                                                                               \n",
            "+-----------------------------------------------------------------------------+\n",
            "| Processes:                                                                  |\n",
            "|  GPU   GI   CI        PID   Type   Process name                  GPU Memory |\n",
            "|        ID   ID                                                   Usage      |\n",
            "|=============================================================================|\n",
            "|  No running processes found                                                 |\n",
            "+-----------------------------------------------------------------------------+\n"
          ]
        }
      ],
      "source": [
        "!nvidia-smi"
      ]
    },
    {
      "cell_type": "markdown",
      "metadata": {
        "id": "o0DOCWF2aEVx"
      },
      "source": [
        "🔑**NOTE**: If you have acces to a CUDA-enabled GPU, TensorFlow will always try to use it, if it is available."
      ]
    }
  ],
  "metadata": {
    "accelerator": "GPU",
    "colab": {
      "gpuType": "T4",
      "provenance": []
    },
    "kernelspec": {
      "display_name": "Python 3",
      "name": "python3"
    },
    "language_info": {
      "name": "python",
      "version": "3.10.6"
    }
  },
  "nbformat": 4,
  "nbformat_minor": 0
}
