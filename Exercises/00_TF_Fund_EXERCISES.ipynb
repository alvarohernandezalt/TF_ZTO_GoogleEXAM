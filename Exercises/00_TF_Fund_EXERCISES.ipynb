{
  "nbformat": 4,
  "nbformat_minor": 0,
  "metadata": {
    "colab": {
      "provenance": []
    },
    "kernelspec": {
      "name": "python3",
      "display_name": "Python 3"
    },
    "language_info": {
      "name": "python"
    }
  },
  "cells": [
    {
      "cell_type": "markdown",
      "source": [
        "### 👉 **Exercises**\n",
        "\n",
        "TensorFlow Fundamentals"
      ],
      "metadata": {
        "id": "l9G6jzMg6FNz"
      }
    },
    {
      "cell_type": "markdown",
      "source": [
        "1. Create a vector, a scalar, matrix and tensor with values of your choosing using `tf.constant()`. 🟦"
      ],
      "metadata": {
        "id": "z6-S6Tik8H_f"
      }
    },
    {
      "cell_type": "code",
      "source": [
        "import tensorflow as tf\n",
        "import numpy as np"
      ],
      "metadata": {
        "id": "V7YRZRYD6s2u"
      },
      "execution_count": 1,
      "outputs": []
    },
    {
      "cell_type": "code",
      "execution_count": 3,
      "metadata": {
        "colab": {
          "base_uri": "https://localhost:8080/"
        },
        "id": "JzFNQ2t157dh",
        "outputId": "9b9336e9-f571-4ef3-a2f6-d1814fae47e8"
      },
      "outputs": [
        {
          "output_type": "stream",
          "name": "stdout",
          "text": [
            "scalar:  tf.Tensor([7], shape=(1,), dtype=int32)\n",
            "vector:  tf.Tensor([2 3], shape=(2,), dtype=int32)\n",
            "matrix:  tf.Tensor(\n",
            "[[1 2 3]\n",
            " [4 5 6]], shape=(2, 3), dtype=int32)\n",
            "tensor:  tf.Tensor(\n",
            "[[[ 1.  2.  3.]\n",
            "  [ 4.  5.  6.]]\n",
            "\n",
            " [[ 7.  8.  9.]\n",
            "  [10. 11. 12.]]], shape=(2, 2, 3), dtype=float32)\n"
          ]
        }
      ],
      "source": [
        "# Create a vector\n",
        "vector = tf.constant([2,3])\n",
        "# Create a scalar\n",
        "scalar = tf.constant([7])\n",
        "# Create a matrix\n",
        "matrix = tf.constant([[1,2,3],\n",
        "                      [4,5,6]])\n",
        "# Create a Tensor (all of the above are also tensors)\n",
        "tensor = tf.constant([[[ 1., 2., 3.,],\n",
        "                       [ 4., 5., 6.]],\n",
        "                      [[ 7., 8., 9.],\n",
        "                       [10.,11.,12.]]])\n",
        "print('scalar: ',scalar)\n",
        "print('vector: ',vector)\n",
        "print('matrix: ',matrix)\n",
        "print('tensor: ',tensor)"
      ]
    },
    {
      "cell_type": "markdown",
      "source": [
        "2. Find the shape, rank and size of the tensors you created in 1."
      ],
      "metadata": {
        "id": "o1uer_4c8aDq"
      }
    },
    {
      "cell_type": "code",
      "source": [
        "scalar.shape, tf.rank(scalar),tf.size(scalar)"
      ],
      "metadata": {
        "colab": {
          "base_uri": "https://localhost:8080/"
        },
        "id": "FEuBjF517qIk",
        "outputId": "1f9a367b-ea3d-464f-fab8-ae0cc61608f7"
      },
      "execution_count": 4,
      "outputs": [
        {
          "output_type": "execute_result",
          "data": {
            "text/plain": [
              "(TensorShape([1]),\n",
              " <tf.Tensor: shape=(), dtype=int32, numpy=1>,\n",
              " <tf.Tensor: shape=(), dtype=int32, numpy=1>)"
            ]
          },
          "metadata": {},
          "execution_count": 4
        }
      ]
    },
    {
      "cell_type": "code",
      "source": [
        "vector.shape, tf.rank(vector),tf.size(vector)"
      ],
      "metadata": {
        "colab": {
          "base_uri": "https://localhost:8080/"
        },
        "id": "_IoSWhKx804b",
        "outputId": "24bd1d79-b273-47ed-aef9-5e9157b6594b"
      },
      "execution_count": 5,
      "outputs": [
        {
          "output_type": "execute_result",
          "data": {
            "text/plain": [
              "(TensorShape([2]),\n",
              " <tf.Tensor: shape=(), dtype=int32, numpy=1>,\n",
              " <tf.Tensor: shape=(), dtype=int32, numpy=2>)"
            ]
          },
          "metadata": {},
          "execution_count": 5
        }
      ]
    },
    {
      "cell_type": "code",
      "source": [
        "matrix.shape, tf.rank(matrix),tf.size(matrix)"
      ],
      "metadata": {
        "colab": {
          "base_uri": "https://localhost:8080/"
        },
        "id": "sDHctKRP89bz",
        "outputId": "f0ad7bec-9a5c-41e7-f6ff-fa398c66b2bd"
      },
      "execution_count": 6,
      "outputs": [
        {
          "output_type": "execute_result",
          "data": {
            "text/plain": [
              "(TensorShape([2, 3]),\n",
              " <tf.Tensor: shape=(), dtype=int32, numpy=2>,\n",
              " <tf.Tensor: shape=(), dtype=int32, numpy=6>)"
            ]
          },
          "metadata": {},
          "execution_count": 6
        }
      ]
    },
    {
      "cell_type": "code",
      "source": [
        "# Using .numpy() method to get only the value as you can compare with line upwards\n",
        "tensor.shape, tf.rank(tensor).numpy(), tf.size(tensor).numpy()"
      ],
      "metadata": {
        "colab": {
          "base_uri": "https://localhost:8080/"
        },
        "id": "xYPlx_hP9ENz",
        "outputId": "574def4d-8f8a-4305-c9e7-1fc47960cc14"
      },
      "execution_count": 14,
      "outputs": [
        {
          "output_type": "execute_result",
          "data": {
            "text/plain": [
              "(TensorShape([2, 2, 3]), 3, 12)"
            ]
          },
          "metadata": {},
          "execution_count": 14
        }
      ]
    },
    {
      "cell_type": "code",
      "source": [],
      "metadata": {
        "id": "db0nZ_zU9L6a"
      },
      "execution_count": null,
      "outputs": []
    }
  ]
}