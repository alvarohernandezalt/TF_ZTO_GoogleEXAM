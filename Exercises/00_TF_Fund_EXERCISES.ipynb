{
  "nbformat": 4,
  "nbformat_minor": 0,
  "metadata": {
    "colab": {
      "provenance": []
    },
    "kernelspec": {
      "name": "python3",
      "display_name": "Python 3"
    },
    "language_info": {
      "name": "python"
    }
  },
  "cells": [
    {
      "cell_type": "markdown",
      "source": [
        "### 👉 **Exercises**\n",
        "\n",
        "TensorFlow Fundamentals"
      ],
      "metadata": {
        "id": "l9G6jzMg6FNz"
      }
    },
    {
      "cell_type": "markdown",
      "source": [
        "1. Create a vector, a scalar, matrix and tensor with values of your choosing using `tf.constant()`. 🟦"
      ],
      "metadata": {
        "id": "z6-S6Tik8H_f"
      }
    },
    {
      "cell_type": "code",
      "source": [
        "import tensorflow as tf\n",
        "import numpy as np"
      ],
      "metadata": {
        "id": "V7YRZRYD6s2u"
      },
      "execution_count": 1,
      "outputs": []
    },
    {
      "cell_type": "code",
      "execution_count": 3,
      "metadata": {
        "colab": {
          "base_uri": "https://localhost:8080/"
        },
        "id": "JzFNQ2t157dh",
        "outputId": "9b9336e9-f571-4ef3-a2f6-d1814fae47e8"
      },
      "outputs": [
        {
          "output_type": "stream",
          "name": "stdout",
          "text": [
            "scalar:  tf.Tensor([7], shape=(1,), dtype=int32)\n",
            "vector:  tf.Tensor([2 3], shape=(2,), dtype=int32)\n",
            "matrix:  tf.Tensor(\n",
            "[[1 2 3]\n",
            " [4 5 6]], shape=(2, 3), dtype=int32)\n",
            "tensor:  tf.Tensor(\n",
            "[[[ 1.  2.  3.]\n",
            "  [ 4.  5.  6.]]\n",
            "\n",
            " [[ 7.  8.  9.]\n",
            "  [10. 11. 12.]]], shape=(2, 2, 3), dtype=float32)\n"
          ]
        }
      ],
      "source": [
        "# Create a vector\n",
        "vector = tf.constant([2,3])\n",
        "# Create a scalar\n",
        "scalar = tf.constant([7])\n",
        "# Create a matrix\n",
        "matrix = tf.constant([[1,2,3],\n",
        "                      [4,5,6]])\n",
        "# Create a Tensor (all of the above are also tensors)\n",
        "tensor = tf.constant([[[ 1., 2., 3.,],\n",
        "                       [ 4., 5., 6.]],\n",
        "                      [[ 7., 8., 9.],\n",
        "                       [10.,11.,12.]]])\n",
        "print('scalar: ',scalar)\n",
        "print('vector: ',vector)\n",
        "print('matrix: ',matrix)\n",
        "print('tensor: ',tensor)"
      ]
    },
    {
      "cell_type": "markdown",
      "source": [
        "2. Find the shape, rank and size of the tensors you created in 1."
      ],
      "metadata": {
        "id": "o1uer_4c8aDq"
      }
    },
    {
      "cell_type": "code",
      "source": [
        "scalar.shape, tf.rank(scalar),tf.size(scalar)"
      ],
      "metadata": {
        "colab": {
          "base_uri": "https://localhost:8080/"
        },
        "id": "FEuBjF517qIk",
        "outputId": "1f9a367b-ea3d-464f-fab8-ae0cc61608f7"
      },
      "execution_count": 4,
      "outputs": [
        {
          "output_type": "execute_result",
          "data": {
            "text/plain": [
              "(TensorShape([1]),\n",
              " <tf.Tensor: shape=(), dtype=int32, numpy=1>,\n",
              " <tf.Tensor: shape=(), dtype=int32, numpy=1>)"
            ]
          },
          "metadata": {},
          "execution_count": 4
        }
      ]
    },
    {
      "cell_type": "code",
      "source": [
        "vector.shape, tf.rank(vector),tf.size(vector)"
      ],
      "metadata": {
        "colab": {
          "base_uri": "https://localhost:8080/"
        },
        "id": "_IoSWhKx804b",
        "outputId": "24bd1d79-b273-47ed-aef9-5e9157b6594b"
      },
      "execution_count": 5,
      "outputs": [
        {
          "output_type": "execute_result",
          "data": {
            "text/plain": [
              "(TensorShape([2]),\n",
              " <tf.Tensor: shape=(), dtype=int32, numpy=1>,\n",
              " <tf.Tensor: shape=(), dtype=int32, numpy=2>)"
            ]
          },
          "metadata": {},
          "execution_count": 5
        }
      ]
    },
    {
      "cell_type": "code",
      "source": [
        "matrix.shape, tf.rank(matrix),tf.size(matrix)"
      ],
      "metadata": {
        "colab": {
          "base_uri": "https://localhost:8080/"
        },
        "id": "sDHctKRP89bz",
        "outputId": "f0ad7bec-9a5c-41e7-f6ff-fa398c66b2bd"
      },
      "execution_count": 6,
      "outputs": [
        {
          "output_type": "execute_result",
          "data": {
            "text/plain": [
              "(TensorShape([2, 3]),\n",
              " <tf.Tensor: shape=(), dtype=int32, numpy=2>,\n",
              " <tf.Tensor: shape=(), dtype=int32, numpy=6>)"
            ]
          },
          "metadata": {},
          "execution_count": 6
        }
      ]
    },
    {
      "cell_type": "code",
      "source": [
        "# Using .numpy() method to get only the value as you can compare with line upwards\n",
        "tensor.shape, tf.rank(tensor).numpy(), tf.size(tensor).numpy()"
      ],
      "metadata": {
        "colab": {
          "base_uri": "https://localhost:8080/"
        },
        "id": "xYPlx_hP9ENz",
        "outputId": "574def4d-8f8a-4305-c9e7-1fc47960cc14"
      },
      "execution_count": 14,
      "outputs": [
        {
          "output_type": "execute_result",
          "data": {
            "text/plain": [
              "(TensorShape([2, 2, 3]), 3, 12)"
            ]
          },
          "metadata": {},
          "execution_count": 14
        }
      ]
    },
    {
      "cell_type": "markdown",
      "source": [
        "3. Create two tensors containing random values between 0 and 1 with shape [5, 300]."
      ],
      "metadata": {
        "id": "nCF7CKVQ-QEf"
      }
    },
    {
      "cell_type": "code",
      "source": [
        "random_tf1 = tf.random.uniform([5, 300], minval=0, maxval=1)\n",
        "random_tf2 = tf.random.uniform([5, 300], minval=0, maxval=1)\n",
        "\n",
        "print('First: ',random_tf1)\n",
        "print('Second: ',random_tf2)"
      ],
      "metadata": {
        "colab": {
          "base_uri": "https://localhost:8080/"
        },
        "id": "db0nZ_zU9L6a",
        "outputId": "3e07bf98-4ee5-465c-ab3c-7d9cdd1466cc"
      },
      "execution_count": 15,
      "outputs": [
        {
          "output_type": "stream",
          "name": "stdout",
          "text": [
            "First:  tf.Tensor(\n",
            "[[0.23594439 0.68206596 0.24659824 ... 0.7704028  0.47435224 0.3998351 ]\n",
            " [0.07791758 0.2539575  0.6690314  ... 0.36304688 0.44514036 0.34281933]\n",
            " [0.71617746 0.8323386  0.845857   ... 0.13135588 0.2931192  0.29930353]\n",
            " [0.75091004 0.11035311 0.48716605 ... 0.97100174 0.80669713 0.55957127]\n",
            " [0.89192915 0.47279298 0.36343277 ... 0.8886714  0.10069048 0.85792744]], shape=(5, 300), dtype=float32)\n",
            "Second:  tf.Tensor(\n",
            "[[0.76902044 0.98869014 0.0261085  ... 0.78599787 0.4298377  0.41492212]\n",
            " [0.41811705 0.15848279 0.6470711  ... 0.48870683 0.76578915 0.6975424 ]\n",
            " [0.5043664  0.80562484 0.7851857  ... 0.45496762 0.639223   0.52654684]\n",
            " [0.3901205  0.14298749 0.8614553  ... 0.9008043  0.5614488  0.02631128]\n",
            " [0.0896275  0.9506     0.75523007 ... 0.05860412 0.97493887 0.81157947]], shape=(5, 300), dtype=float32)\n"
          ]
        }
      ]
    },
    {
      "cell_type": "markdown",
      "source": [
        "4. Multiply the two tensors you created in 3 using matrix multiplication."
      ],
      "metadata": {
        "id": "Bram3-mxAEp7"
      }
    },
    {
      "cell_type": "code",
      "source": [
        "tf.multiply(random_tf1,random_tf2)"
      ],
      "metadata": {
        "colab": {
          "base_uri": "https://localhost:8080/"
        },
        "id": "iMcTN2tZ_jsI",
        "outputId": "dc1f0ea0-0727-432e-8e12-d73499df728f"
      },
      "execution_count": 17,
      "outputs": [
        {
          "output_type": "execute_result",
          "data": {
            "text/plain": [
              "<tf.Tensor: shape=(5, 300), dtype=float32, numpy=\n",
              "array([[0.18144606, 0.6743519 , 0.00643831, ..., 0.605535  , 0.20389448,\n",
              "        0.16590042],\n",
              "       [0.03257867, 0.04024789, 0.4329109 , ..., 0.17742349, 0.34088367,\n",
              "        0.23913103],\n",
              "       [0.36121586, 0.6705526 , 0.6641548 , ..., 0.05976267, 0.18736853,\n",
              "        0.15759733],\n",
              "       [0.2929454 , 0.01577912, 0.41967177, ..., 0.87468255, 0.45291916,\n",
              "        0.01472304],\n",
              "       [0.07994138, 0.44943702, 0.27447537, ..., 0.05207981, 0.09816707,\n",
              "        0.6962763 ]], dtype=float32)>"
            ]
          },
          "metadata": {},
          "execution_count": 17
        }
      ]
    },
    {
      "cell_type": "code",
      "source": [],
      "metadata": {
        "id": "HpowVAOt_07o"
      },
      "execution_count": null,
      "outputs": []
    }
  ]
}