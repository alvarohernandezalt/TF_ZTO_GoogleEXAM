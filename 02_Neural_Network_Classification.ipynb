{
  "nbformat": 4,
  "nbformat_minor": 0,
  "metadata": {
    "colab": {
      "provenance": []
    },
    "kernelspec": {
      "name": "python3",
      "display_name": "Python 3"
    },
    "language_info": {
      "name": "python"
    }
  },
  "cells": [
    {
      "cell_type": "markdown",
      "source": [
        "## Neural Network Classification in TensorFlow\n",
        "\n",
        "* Architecture of a neural network **classification** model\n",
        "* Input shapes and output shapes of a **classification** model (features and labels)\n",
        "* Creating custom data to view and fit\n",
        "* Steps in modeling\n",
        " * Creating a model, compiling a model, fiiting a model, evaluating a model\n",
        "* Different **classification** evaluation methods\n",
        "* Saving and loading models"
      ],
      "metadata": {
        "id": "GI0uu-o0tTAB"
      }
    },
    {
      "cell_type": "markdown",
      "source": [
        "👁️ Andre Karpathy - [A recipe for training Nueral Networks](https://karpathy.github.io/2019/04/25/recipe/)"
      ],
      "metadata": {
        "id": "u5lSg_p91XYv"
      }
    },
    {
      "cell_type": "code",
      "source": [],
      "metadata": {
        "id": "JVA4Ssn4jKzZ"
      },
      "execution_count": null,
      "outputs": []
    }
  ]
}