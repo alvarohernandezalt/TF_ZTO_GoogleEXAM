{
  "nbformat": 4,
  "nbformat_minor": 0,
  "metadata": {
    "colab": {
      "provenance": []
    },
    "kernelspec": {
      "name": "python3",
      "display_name": "Python 3"
    },
    "language_info": {
      "name": "python"
    }
  },
  "cells": [
    {
      "cell_type": "markdown",
      "source": [
        "## **Neural Network Regression in TensorFlow**\n",
        "\n",
        "👁️👁️ Looking to solve Regression Problems\n",
        "\n",
        " - Architecture of a neural network regression model\n",
        " - Input shapes and output shapes of a regression model (**features** and labels)\n",
        " - Creating custom data to view and fit\n",
        " - Steps in modelling\n",
        "  - Creating a model, compiling a model, fitting a model, evaluating a model.\n",
        " - Different evaluation methods\n",
        " - Saving and loading models"
      ],
      "metadata": {
        "id": "f5wjJGSx6-YW"
      }
    },
    {
      "cell_type": "code",
      "execution_count": 1,
      "metadata": {
        "colab": {
          "base_uri": "https://localhost:8080/"
        },
        "id": "CNH8xU5Y6G44",
        "outputId": "3c5c17de-c8df-4afa-8002-59f1b3afec7a"
      },
      "outputs": [
        {
          "output_type": "stream",
          "name": "stdout",
          "text": [
            "2.12.0\n"
          ]
        }
      ],
      "source": [
        "# Import Tensorflow\n",
        "import tensorflow as tf\n",
        "print(tf.__version__)"
      ]
    },
    {
      "cell_type": "markdown",
      "source": [
        "### Creating data to view and fit"
      ],
      "metadata": {
        "id": "e0iBPtjeCCqv"
      }
    },
    {
      "cell_type": "code",
      "source": [
        "import numpy as np\n",
        "import matplotlib.pyplot as plt\n",
        "\n",
        "# Create features\n",
        "X = np.array([-7.0, -4.0, -1.0, 2.0, 5.0, 8.0, 11.0, 14.0])\n",
        "\n",
        "# Create labels\n",
        "y = np.array([3.0, 6.0, 9.0, 12.0, 15.0, 18.0, 21.0, 24.0])\n",
        "\n",
        "# Visualize it\n",
        "plt.scatter(X, y)\n"
      ],
      "metadata": {
        "colab": {
          "base_uri": "https://localhost:8080/",
          "height": 452
        },
        "id": "XZ5Rvn-1Ecxe",
        "outputId": "2e0ee5c2-cae5-419c-f7c6-af633fac1b21"
      },
      "execution_count": 2,
      "outputs": [
        {
          "output_type": "execute_result",
          "data": {
            "text/plain": [
              "<matplotlib.collections.PathCollection at 0x7b1d979c24a0>"
            ]
          },
          "metadata": {},
          "execution_count": 2
        },
        {
          "output_type": "display_data",
          "data": {
            "text/plain": [
              "<Figure size 640x480 with 1 Axes>"
            ],
            "image/png": "[encoded data removed]"
          },
          "metadata": {}
        }
      ]
    },
    {
      "cell_type": "code",
      "source": [
        "# This is how we get y values from this values (the linear regression of this very simple model)\n",
        "X + 10"
      ],
      "metadata": {
        "colab": {
          "base_uri": "https://localhost:8080/"
        },
        "id": "67oKXtvcFM7V",
        "outputId": "619f46aa-caef-432f-9a49-cfa216b96740"
      },
      "execution_count": 3,
      "outputs": [
        {
          "output_type": "execute_result",
          "data": {
            "text/plain": [
              "array([ 3.,  6.,  9., 12., 15., 18., 21., 24.])"
            ]
          },
          "metadata": {},
          "execution_count": 3
        }
      ]
    },
    {
      "cell_type": "code",
      "source": [
        "y == X + 10\n"
      ],
      "metadata": {
        "colab": {
          "base_uri": "https://localhost:8080/"
        },
        "id": "H2bcTt9MFlC0",
        "outputId": "b6bbcdb3-c43f-4eb7-9a9c-f06a6060488d"
      },
      "execution_count": 4,
      "outputs": [
        {
          "output_type": "execute_result",
          "data": {
            "text/plain": [
              "array([ True,  True,  True,  True,  True,  True,  True,  True])"
            ]
          },
          "metadata": {},
          "execution_count": 4
        }
      ]
    },
    {
      "cell_type": "markdown",
      "source": [
        "#### Input and Output Shapes"
      ],
      "metadata": {
        "id": "yPxHTWJdFnrM"
      }
    },
    {
      "cell_type": "code",
      "source": [
        "# Create a demo tenosr for our housing price prediction problem\n",
        "house_info = tf.constant(['bedroom','bathroom','garage'])\n",
        "house_price = tf.constant([939700])\n",
        "house_info, house_price"
      ],
      "metadata": {
        "colab": {
          "base_uri": "https://localhost:8080/"
        },
        "id": "AlQOdSPNGRiP",
        "outputId": "67c7cb0a-6d03-4c73-c596-73350aedbf12"
      },
      "execution_count": 5,
      "outputs": [
        {
          "output_type": "execute_result",
          "data": {
            "text/plain": [
              "(<tf.Tensor: shape=(3,), dtype=string, numpy=array([b'bedroom', b'bathroom', b'garage'], dtype=object)>,\n",
              " <tf.Tensor: shape=(1,), dtype=int32, numpy=array([939700], dtype=int32)>)"
            ]
          },
          "metadata": {},
          "execution_count": 5
        }
      ]
    },
    {
      "cell_type": "code",
      "source": [
        "X[0], y[0]"
      ],
      "metadata": {
        "colab": {
          "base_uri": "https://localhost:8080/"
        },
        "id": "rpdDsnPZIsmn",
        "outputId": "7ade7b3c-87ca-4332-a2e9-b4a8f936874e"
      },
      "execution_count": 6,
      "outputs": [
        {
          "output_type": "execute_result",
          "data": {
            "text/plain": [
              "(-7.0, 3.0)"
            ]
          },
          "metadata": {},
          "execution_count": 6
        }
      ]
    },
    {
      "cell_type": "code",
      "source": [
        "input_shape = X[0].shape\n",
        "output_shape = y[0].shape\n",
        "input_shape, output_shape"
      ],
      "metadata": {
        "colab": {
          "base_uri": "https://localhost:8080/"
        },
        "id": "iZy0Zyt3G3Pj",
        "outputId": "df67a354-dd7c-4361-91a1-437e289a5fc5"
      },
      "execution_count": 7,
      "outputs": [
        {
          "output_type": "execute_result",
          "data": {
            "text/plain": [
              "((), ())"
            ]
          },
          "metadata": {},
          "execution_count": 7
        }
      ]
    },
    {
      "cell_type": "code",
      "source": [
        "# Turn our NumPy arrays into tensors\n",
        "X = tf.cast(tf.constant(X), dtype=tf.float32)\n",
        "y = tf.cast(tf.constant(y), dtype=tf.float32)\n",
        "\n",
        "X, y"
      ],
      "metadata": {
        "colab": {
          "base_uri": "https://localhost:8080/"
        },
        "id": "PpH980DyHIxj",
        "outputId": "235afb5c-45ab-4f8e-d19e-f818be9b3228"
      },
      "execution_count": 8,
      "outputs": [
        {
          "output_type": "execute_result",
          "data": {
            "text/plain": [
              "(<tf.Tensor: shape=(8,), dtype=float32, numpy=array([-7., -4., -1.,  2.,  5.,  8., 11., 14.], dtype=float32)>,\n",
              " <tf.Tensor: shape=(8,), dtype=float32, numpy=array([ 3.,  6.,  9., 12., 15., 18., 21., 24.], dtype=float32)>)"
            ]
          },
          "metadata": {},
          "execution_count": 8
        }
      ]
    },
    {
      "cell_type": "code",
      "source": [
        "input_shape = X[0].shape\n",
        "output_shape = y[0].shape\n",
        "input_shape, output_shape"
      ],
      "metadata": {
        "colab": {
          "base_uri": "https://localhost:8080/"
        },
        "id": "7bVYtQdFLiMH",
        "outputId": "162a2f07-e313-43b4-a9e2-45a60174c9e3"
      },
      "execution_count": 9,
      "outputs": [
        {
          "output_type": "execute_result",
          "data": {
            "text/plain": [
              "(TensorShape([]), TensorShape([]))"
            ]
          },
          "metadata": {},
          "execution_count": 9
        }
      ]
    },
    {
      "cell_type": "code",
      "source": [
        "plt.scatter(X, y)\n"
      ],
      "metadata": {
        "colab": {
          "base_uri": "https://localhost:8080/",
          "height": 452
        },
        "id": "49bMIexxLno-",
        "outputId": "6fe7afb0-2857-44c5-9faf-afec737c7e6f"
      },
      "execution_count": 10,
      "outputs": [
        {
          "output_type": "execute_result",
          "data": {
            "text/plain": [
              "<matplotlib.collections.PathCollection at 0x7b1d95909690>"
            ]
          },
          "metadata": {},
          "execution_count": 10
        },
        {
          "output_type": "display_data",
          "data": {
            "text/plain": [
              "<Figure size 640x480 with 1 Axes>"
            ],
            "image/png": "[encoded data removed]"
          },
          "metadata": {}
        }
      ]
    },
    {
      "cell_type": "markdown",
      "source": [
        "### Steps in modelling with TensorFlow\n",
        "\n",
        "1. **Creating a model** - define the input and output layers, as well as the hidden layers of a deep learning model.\n",
        "2. **Compiling a model** - define the loss function (in other words, the function which tells our model how worng it is), the optimizer (tells our model how to improve the patterns its learning), and the evaluation metrics (what we can use to interpret the performance of our model).\n",
        "3. **Fitting a model** - letting the model try to find patterns between X & y (features & labels). Epochs - How many times the model will go through all of the training examples\n",
        "4. **Evaluate the model** on the test data (how reliable are our models predictions?)\n"
      ],
      "metadata": {
        "id": "wMt8oXAML0kn"
      }
    },
    {
      "cell_type": "code",
      "source": [
        "# Set random seed\n",
        "tf.random.set_seed(42)\n",
        "\n",
        "# 1. Create amodel using the sequential API\n",
        "model = tf.keras.Sequential([\n",
        "    tf.keras.layers.Dense(1)\n",
        "]) # into a list method\n",
        "\n",
        "# add method\n",
        "# model = tf.keras.Sequential()\n",
        "# model.add(tf.keras.layers.Dense(1))\n",
        "\n",
        "# 2. Compile the model\n",
        "model.compile(loss=tf.keras.losses.mae, #mae is short for mean absolute error\n",
        "              optimizer=tf.keras.optimizers.SGD(), #SGD is short for Stochastic Gradient Descent\n",
        "              metrics=['mae'])\n",
        "\n",
        "# Fit the model\n",
        "model.fit(tf.expand_dims(X, axis=-1), y, epochs=5)"
      ],
      "metadata": {
        "colab": {
          "base_uri": "https://localhost:8080/"
        },
        "id": "PlQ3HrGyL9ve",
        "outputId": "3d74dcd0-a076-4b78-c052-3e23e069df6f"
      },
      "execution_count": 11,
      "outputs": [
        {
          "output_type": "stream",
          "name": "stdout",
          "text": [
            "Epoch 1/5\n",
            "1/1 [==============================] - 1s 1s/step - loss: 16.2735 - mae: 16.2735\n",
            "Epoch 2/5\n",
            "1/1 [==============================] - 0s 26ms/step - loss: 15.9923 - mae: 15.9923\n",
            "Epoch 3/5\n",
            "1/1 [==============================] - 0s 19ms/step - loss: 15.7110 - mae: 15.7110\n",
            "Epoch 4/5\n",
            "1/1 [==============================] - 0s 22ms/step - loss: 15.4298 - mae: 15.4298\n",
            "Epoch 5/5\n",
            "1/1 [==============================] - 0s 19ms/step - loss: 15.1485 - mae: 15.1485\n"
          ]
        },
        {
          "output_type": "execute_result",
          "data": {
            "text/plain": [
              "<keras.callbacks.History at 0x7b1d9269e7a0>"
            ]
          },
          "metadata": {},
          "execution_count": 11
        }
      ]
    },
    {
      "cell_type": "code",
      "source": [
        "# Check out X and y\n",
        "X, y"
      ],
      "metadata": {
        "colab": {
          "base_uri": "https://localhost:8080/"
        },
        "id": "YYSR2YinqtYI",
        "outputId": "b045ace6-4975-4d13-e900-a9844204e8e8"
      },
      "execution_count": 12,
      "outputs": [
        {
          "output_type": "execute_result",
          "data": {
            "text/plain": [
              "(<tf.Tensor: shape=(8,), dtype=float32, numpy=array([-7., -4., -1.,  2.,  5.,  8., 11., 14.], dtype=float32)>,\n",
              " <tf.Tensor: shape=(8,), dtype=float32, numpy=array([ 3.,  6.,  9., 12., 15., 18., 21., 24.], dtype=float32)>)"
            ]
          },
          "metadata": {},
          "execution_count": 12
        }
      ]
    },
    {
      "cell_type": "code",
      "source": [
        "# Try and make a prediction using our model\n",
        "model.predict([17.0])"
      ],
      "metadata": {
        "colab": {
          "base_uri": "https://localhost:8080/"
        },
        "id": "Hh4K2jbqucOa",
        "outputId": "f9656b24-edb0-4b89-b433-69cc9a8d0705"
      },
      "execution_count": 13,
      "outputs": [
        {
          "output_type": "stream",
          "name": "stdout",
          "text": [
            "1/1 [==============================] - 0s 207ms/step\n"
          ]
        },
        {
          "output_type": "execute_result",
          "data": {
            "text/plain": [
              "array([[-6.9094434]], dtype=float32)"
            ]
          },
          "metadata": {},
          "execution_count": 13
        }
      ]
    },
    {
      "cell_type": "markdown",
      "source": [
        "### Improving our model\n",
        "\n",
        "We can improve our model, by altering the steps we took to create a model.\n",
        "\n",
        "1. **Creating a model** - here we might add more layers, increase the number of hidden units (all called neurons) within each of the hidden layers, change the activation function of each layer.\n",
        "2. **Compiling a model** - here we might change the optimization fucntion or perhaps the **learning rate** of the optimization function.\n",
        "3. **Fitting a model** - here we might fit the model for more **epochs** (leave it training for longer) or on more data (give the model more examples to learn from)."
      ],
      "metadata": {
        "id": "uhwABg2_ulcC"
      }
    },
    {
      "cell_type": "code",
      "source": [
        "# Rebuilding our model\n",
        "\n",
        "# 1. Creating the model\n",
        "model = tf.keras.Sequential([\n",
        "    tf.keras.layers.Dense(1)\n",
        "])\n",
        "\n",
        "# 2. Compiling the model\n",
        "model.compile(loss=tf.keras.losses.mae,\n",
        "              optimizer=tf.keras.optimizers.SGD(),\n",
        "              metrics=['mae'])\n",
        "\n",
        "# 3. Fit the model (this time we'll train for longer)\n",
        "model.fit(tf.expand_dims(X, axis=-1), y, epochs=100)"
      ],
      "metadata": {
        "colab": {
          "base_uri": "https://localhost:8080/"
        },
        "id": "AKveIxuqUtMq",
        "outputId": "70113844-cebe-48d2-e4f8-56a05f36e381"
      },
      "execution_count": 14,
      "outputs": [
        {
          "output_type": "stream",
          "name": "stdout",
          "text": [
            "Epoch 1/100\n",
            "1/1 [==============================] - 1s 840ms/step - loss: 13.7326 - mae: 13.7326\n",
            "Epoch 2/100\n",
            "1/1 [==============================] - 0s 24ms/step - loss: 13.6001 - mae: 13.6001\n",
            "Epoch 3/100\n",
            "1/1 [==============================] - 0s 23ms/step - loss: 13.4676 - mae: 13.4676\n",
            "Epoch 4/100\n",
            "1/1 [==============================] - 0s 21ms/step - loss: 13.3351 - mae: 13.3351\n",
            "Epoch 5/100\n",
            "1/1 [==============================] - 0s 16ms/step - loss: 13.2026 - mae: 13.2026\n",
            "Epoch 6/100\n",
            "1/1 [==============================] - 0s 20ms/step - loss: 13.0701 - mae: 13.0701\n",
            "Epoch 7/100\n",
            "1/1 [==============================] - 0s 22ms/step - loss: 12.9376 - mae: 12.9376\n",
            "Epoch 8/100\n",
            "1/1 [==============================] - 0s 23ms/step - loss: 12.8051 - mae: 12.8051\n",
            "Epoch 9/100\n",
            "1/1 [==============================] - 0s 21ms/step - loss: 12.6726 - mae: 12.6726\n",
            "Epoch 10/100\n",
            "1/1 [==============================] - 0s 19ms/step - loss: 12.5401 - mae: 12.5401\n",
            "Epoch 11/100\n",
            "1/1 [==============================] - 0s 16ms/step - loss: 12.4076 - mae: 12.4076\n",
            "Epoch 12/100\n",
            "1/1 [==============================] - 0s 36ms/step - loss: 12.2751 - mae: 12.2751\n",
            "Epoch 13/100\n",
            "1/1 [==============================] - 0s 30ms/step - loss: 12.1426 - mae: 12.1426\n",
            "Epoch 14/100\n",
            "1/1 [==============================] - 0s 26ms/step - loss: 12.0101 - mae: 12.0101\n",
            "Epoch 15/100\n",
            "1/1 [==============================] - 0s 16ms/step - loss: 11.8776 - mae: 11.8776\n",
            "Epoch 16/100\n",
            "1/1 [==============================] - 0s 44ms/step - loss: 11.7451 - mae: 11.7451\n",
            "Epoch 17/100\n",
            "1/1 [==============================] - 0s 21ms/step - loss: 11.6126 - mae: 11.6126\n",
            "Epoch 18/100\n",
            "1/1 [==============================] - 0s 21ms/step - loss: 11.4801 - mae: 11.4801\n",
            "Epoch 19/100\n",
            "1/1 [==============================] - 0s 41ms/step - loss: 11.3476 - mae: 11.3476\n",
            "Epoch 20/100\n",
            "1/1 [==============================] - 0s 24ms/step - loss: 11.2151 - mae: 11.2151\n",
            "Epoch 21/100\n",
            "1/1 [==============================] - 0s 19ms/step - loss: 11.0826 - mae: 11.0826\n",
            "Epoch 22/100\n",
            "1/1 [==============================] - 0s 33ms/step - loss: 10.9501 - mae: 10.9501\n",
            "Epoch 23/100\n",
            "1/1 [==============================] - 0s 33ms/step - loss: 10.8176 - mae: 10.8176\n",
            "Epoch 24/100\n",
            "1/1 [==============================] - 0s 36ms/step - loss: 10.6851 - mae: 10.6851\n",
            "Epoch 25/100\n",
            "1/1 [==============================] - 0s 15ms/step - loss: 10.5526 - mae: 10.5526\n",
            "Epoch 26/100\n",
            "1/1 [==============================] - 0s 32ms/step - loss: 10.4201 - mae: 10.4201\n",
            "Epoch 27/100\n",
            "1/1 [==============================] - 0s 20ms/step - loss: 10.2876 - mae: 10.2876\n",
            "Epoch 28/100\n",
            "1/1 [==============================] - 0s 32ms/step - loss: 10.1551 - mae: 10.1551\n",
            "Epoch 29/100\n",
            "1/1 [==============================] - 0s 26ms/step - loss: 10.0226 - mae: 10.0226\n",
            "Epoch 30/100\n",
            "1/1 [==============================] - 0s 25ms/step - loss: 9.8901 - mae: 9.8901\n",
            "Epoch 31/100\n",
            "1/1 [==============================] - 0s 29ms/step - loss: 9.7576 - mae: 9.7576\n",
            "Epoch 32/100\n",
            "1/1 [==============================] - 0s 23ms/step - loss: 9.6251 - mae: 9.6251\n",
            "Epoch 33/100\n",
            "1/1 [==============================] - 0s 22ms/step - loss: 9.4926 - mae: 9.4926\n",
            "Epoch 34/100\n",
            "1/1 [==============================] - 0s 17ms/step - loss: 9.3601 - mae: 9.3601\n",
            "Epoch 35/100\n",
            "1/1 [==============================] - 0s 23ms/step - loss: 9.2276 - mae: 9.2276\n",
            "Epoch 36/100\n",
            "1/1 [==============================] - 0s 17ms/step - loss: 9.0951 - mae: 9.0951\n",
            "Epoch 37/100\n",
            "1/1 [==============================] - 0s 21ms/step - loss: 8.9626 - mae: 8.9626\n",
            "Epoch 38/100\n",
            "1/1 [==============================] - 0s 22ms/step - loss: 8.8301 - mae: 8.8301\n",
            "Epoch 39/100\n",
            "1/1 [==============================] - 0s 16ms/step - loss: 8.6976 - mae: 8.6976\n",
            "Epoch 40/100\n",
            "1/1 [==============================] - 0s 21ms/step - loss: 8.5651 - mae: 8.5651\n",
            "Epoch 41/100\n",
            "1/1 [==============================] - 0s 28ms/step - loss: 8.4326 - mae: 8.4326\n",
            "Epoch 42/100\n",
            "1/1 [==============================] - 0s 24ms/step - loss: 8.3001 - mae: 8.3001\n",
            "Epoch 43/100\n",
            "1/1 [==============================] - 0s 29ms/step - loss: 8.1676 - mae: 8.1676\n",
            "Epoch 44/100\n",
            "1/1 [==============================] - 0s 32ms/step - loss: 8.0351 - mae: 8.0351\n",
            "Epoch 45/100\n",
            "1/1 [==============================] - 0s 33ms/step - loss: 7.9026 - mae: 7.9026\n",
            "Epoch 46/100\n",
            "1/1 [==============================] - 0s 19ms/step - loss: 7.7701 - mae: 7.7701\n",
            "Epoch 47/100\n",
            "1/1 [==============================] - 0s 25ms/step - loss: 7.6376 - mae: 7.6376\n",
            "Epoch 48/100\n",
            "1/1 [==============================] - 0s 17ms/step - loss: 7.5051 - mae: 7.5051\n",
            "Epoch 49/100\n",
            "1/1 [==============================] - 0s 25ms/step - loss: 7.3726 - mae: 7.3726\n",
            "Epoch 50/100\n",
            "1/1 [==============================] - 0s 13ms/step - loss: 7.2401 - mae: 7.2401\n",
            "Epoch 51/100\n",
            "1/1 [==============================] - 0s 35ms/step - loss: 7.1250 - mae: 7.1250\n",
            "Epoch 52/100\n",
            "1/1 [==============================] - 0s 13ms/step - loss: 7.1194 - mae: 7.1194\n",
            "Epoch 53/100\n",
            "1/1 [==============================] - 0s 30ms/step - loss: 7.1138 - mae: 7.1138\n",
            "Epoch 54/100\n",
            "1/1 [==============================] - 0s 24ms/step - loss: 7.1081 - mae: 7.1081\n",
            "Epoch 55/100\n",
            "1/1 [==============================] - 0s 22ms/step - loss: 7.1025 - mae: 7.1025\n",
            "Epoch 56/100\n",
            "1/1 [==============================] - 0s 13ms/step - loss: 7.0969 - mae: 7.0969\n",
            "Epoch 57/100\n",
            "1/1 [==============================] - 0s 20ms/step - loss: 7.0912 - mae: 7.0912\n",
            "Epoch 58/100\n",
            "1/1 [==============================] - 0s 33ms/step - loss: 7.0856 - mae: 7.0856\n",
            "Epoch 59/100\n",
            "1/1 [==============================] - 0s 23ms/step - loss: 7.0800 - mae: 7.0800\n",
            "Epoch 60/100\n",
            "1/1 [==============================] - 0s 53ms/step - loss: 7.0744 - mae: 7.0744\n",
            "Epoch 61/100\n",
            "1/1 [==============================] - 0s 23ms/step - loss: 7.0688 - mae: 7.0688\n",
            "Epoch 62/100\n",
            "1/1 [==============================] - 0s 32ms/step - loss: 7.0631 - mae: 7.0631\n",
            "Epoch 63/100\n",
            "1/1 [==============================] - 0s 18ms/step - loss: 7.0575 - mae: 7.0575\n",
            "Epoch 64/100\n",
            "1/1 [==============================] - 0s 26ms/step - loss: 7.0519 - mae: 7.0519\n",
            "Epoch 65/100\n",
            "1/1 [==============================] - 0s 21ms/step - loss: 7.0463 - mae: 7.0463\n",
            "Epoch 66/100\n",
            "1/1 [==============================] - 0s 20ms/step - loss: 7.0406 - mae: 7.0406\n",
            "Epoch 67/100\n",
            "1/1 [==============================] - 0s 21ms/step - loss: 7.0350 - mae: 7.0350\n",
            "Epoch 68/100\n",
            "1/1 [==============================] - 0s 18ms/step - loss: 7.0294 - mae: 7.0294\n",
            "Epoch 69/100\n",
            "1/1 [==============================] - 0s 27ms/step - loss: 7.0238 - mae: 7.0238\n",
            "Epoch 70/100\n",
            "1/1 [==============================] - 0s 26ms/step - loss: 7.0181 - mae: 7.0181\n",
            "Epoch 71/100\n",
            "1/1 [==============================] - 0s 18ms/step - loss: 7.0125 - mae: 7.0125\n",
            "Epoch 72/100\n",
            "1/1 [==============================] - 0s 26ms/step - loss: 7.0069 - mae: 7.0069\n",
            "Epoch 73/100\n",
            "1/1 [==============================] - 0s 14ms/step - loss: 7.0013 - mae: 7.0013\n",
            "Epoch 74/100\n",
            "1/1 [==============================] - 0s 15ms/step - loss: 6.9956 - mae: 6.9956\n",
            "Epoch 75/100\n",
            "1/1 [==============================] - 0s 20ms/step - loss: 6.9900 - mae: 6.9900\n",
            "Epoch 76/100\n",
            "1/1 [==============================] - 0s 13ms/step - loss: 6.9844 - mae: 6.9844\n",
            "Epoch 77/100\n",
            "1/1 [==============================] - 0s 21ms/step - loss: 6.9787 - mae: 6.9787\n",
            "Epoch 78/100\n",
            "1/1 [==============================] - 0s 25ms/step - loss: 6.9731 - mae: 6.9731\n",
            "Epoch 79/100\n",
            "1/1 [==============================] - 0s 20ms/step - loss: 6.9675 - mae: 6.9675\n",
            "Epoch 80/100\n",
            "1/1 [==============================] - 0s 48ms/step - loss: 6.9619 - mae: 6.9619\n",
            "Epoch 81/100\n",
            "1/1 [==============================] - 0s 34ms/step - loss: 6.9563 - mae: 6.9563\n",
            "Epoch 82/100\n",
            "1/1 [==============================] - 0s 18ms/step - loss: 6.9506 - mae: 6.9506\n",
            "Epoch 83/100\n",
            "1/1 [==============================] - 0s 17ms/step - loss: 6.9450 - mae: 6.9450\n",
            "Epoch 84/100\n",
            "1/1 [==============================] - 0s 20ms/step - loss: 6.9394 - mae: 6.9394\n",
            "Epoch 85/100\n",
            "1/1 [==============================] - 0s 22ms/step - loss: 6.9338 - mae: 6.9338\n",
            "Epoch 86/100\n",
            "1/1 [==============================] - 0s 20ms/step - loss: 6.9281 - mae: 6.9281\n",
            "Epoch 87/100\n",
            "1/1 [==============================] - 0s 33ms/step - loss: 6.9225 - mae: 6.9225\n",
            "Epoch 88/100\n",
            "1/1 [==============================] - 0s 32ms/step - loss: 6.9169 - mae: 6.9169\n",
            "Epoch 89/100\n",
            "1/1 [==============================] - 0s 20ms/step - loss: 6.9113 - mae: 6.9113\n",
            "Epoch 90/100\n",
            "1/1 [==============================] - 0s 36ms/step - loss: 6.9056 - mae: 6.9056\n",
            "Epoch 91/100\n",
            "1/1 [==============================] - 0s 12ms/step - loss: 6.9000 - mae: 6.9000\n",
            "Epoch 92/100\n",
            "1/1 [==============================] - 0s 34ms/step - loss: 6.8944 - mae: 6.8944\n",
            "Epoch 93/100\n",
            "1/1 [==============================] - 0s 30ms/step - loss: 6.8888 - mae: 6.8888\n",
            "Epoch 94/100\n",
            "1/1 [==============================] - 0s 29ms/step - loss: 6.8831 - mae: 6.8831\n",
            "Epoch 95/100\n",
            "1/1 [==============================] - 0s 49ms/step - loss: 6.8775 - mae: 6.8775\n",
            "Epoch 96/100\n",
            "1/1 [==============================] - 0s 29ms/step - loss: 6.8719 - mae: 6.8719\n",
            "Epoch 97/100\n",
            "1/1 [==============================] - 0s 24ms/step - loss: 6.8663 - mae: 6.8663\n",
            "Epoch 98/100\n",
            "1/1 [==============================] - 0s 28ms/step - loss: 6.8606 - mae: 6.8606\n",
            "Epoch 99/100\n",
            "1/1 [==============================] - 0s 21ms/step - loss: 6.8550 - mae: 6.8550\n",
            "Epoch 100/100\n",
            "1/1 [==============================] - 0s 19ms/step - loss: 6.8494 - mae: 6.8494\n"
          ]
        },
        {
          "output_type": "execute_result",
          "data": {
            "text/plain": [
              "<keras.callbacks.History at 0x7b1d90485900>"
            ]
          },
          "metadata": {},
          "execution_count": 14
        }
      ]
    },
    {
      "cell_type": "code",
      "source": [
        "# Remind the data\n",
        "X, y"
      ],
      "metadata": {
        "colab": {
          "base_uri": "https://localhost:8080/"
        },
        "id": "ScmQsLJQXrFI",
        "outputId": "b30b13c3-9145-4bb2-8285-5611dca65e1e"
      },
      "execution_count": 15,
      "outputs": [
        {
          "output_type": "execute_result",
          "data": {
            "text/plain": [
              "(<tf.Tensor: shape=(8,), dtype=float32, numpy=array([-7., -4., -1.,  2.,  5.,  8., 11., 14.], dtype=float32)>,\n",
              " <tf.Tensor: shape=(8,), dtype=float32, numpy=array([ 3.,  6.,  9., 12., 15., 18., 21., 24.], dtype=float32)>)"
            ]
          },
          "metadata": {},
          "execution_count": 15
        }
      ]
    },
    {
      "cell_type": "code",
      "source": [
        "# Let's see if the model prediction has improved\n",
        "model.predict([17.])"
      ],
      "metadata": {
        "colab": {
          "base_uri": "https://localhost:8080/"
        },
        "id": "ZvbtrPKkYbkP",
        "outputId": "97d78379-f3e6-4919-eb70-dff45f148582"
      },
      "execution_count": 16,
      "outputs": [
        {
          "output_type": "stream",
          "name": "stdout",
          "text": [
            "1/1 [==============================] - 0s 275ms/step\n"
          ]
        },
        {
          "output_type": "execute_result",
          "data": {
            "text/plain": [
              "array([[29.495058]], dtype=float32)"
            ]
          },
          "metadata": {},
          "execution_count": 16
        }
      ]
    },
    {
      "cell_type": "code",
      "source": [
        "# Rebuilding (third time) our model\n",
        "# Adding a hidden layer\n",
        "\n",
        "# 1. Creating the model\n",
        "model = tf.keras.Sequential([\n",
        "    tf.keras.layers.Dense(100, activation='relu'),\n",
        "    tf.keras.layers.Dense(100, activation='relu'),\n",
        "    tf.keras.layers.Dense(100, activation='relu'),\n",
        "    tf.keras.layers.Dense(1)\n",
        "])\n",
        "\n",
        "# 2. Compiling the model\n",
        "model.compile(loss=tf.keras.losses.mae,\n",
        "              optimizer=tf.keras.optimizers.SGD(),\n",
        "              metrics=['mae'])\n",
        "\n",
        "# 3. Fit the model (this time we'll train for longer)\n",
        "model.fit(tf.expand_dims(X, axis=-1), y, epochs=100)"
      ],
      "metadata": {
        "colab": {
          "base_uri": "https://localhost:8080/"
        },
        "id": "Vb5bklpEYqTO",
        "outputId": "0b255e95-ecd0-431e-9bba-1a4f4992698a"
      },
      "execution_count": 17,
      "outputs": [
        {
          "output_type": "stream",
          "name": "stdout",
          "text": [
            "Epoch 1/100\n",
            "1/1 [==============================] - 2s 2s/step - loss: 12.9368 - mae: 12.9368\n",
            "Epoch 2/100\n",
            "1/1 [==============================] - 0s 22ms/step - loss: 12.4670 - mae: 12.4670\n",
            "Epoch 3/100\n",
            "1/1 [==============================] - 0s 22ms/step - loss: 11.9817 - mae: 11.9817\n",
            "Epoch 4/100\n",
            "1/1 [==============================] - 0s 45ms/step - loss: 11.4358 - mae: 11.4358\n",
            "Epoch 5/100\n",
            "1/1 [==============================] - 0s 42ms/step - loss: 10.8233 - mae: 10.8233\n",
            "Epoch 6/100\n",
            "1/1 [==============================] - 0s 53ms/step - loss: 10.1115 - mae: 10.1115\n",
            "Epoch 7/100\n",
            "1/1 [==============================] - 0s 41ms/step - loss: 9.2441 - mae: 9.2441\n",
            "Epoch 8/100\n",
            "1/1 [==============================] - 0s 25ms/step - loss: 8.1673 - mae: 8.1673\n",
            "Epoch 9/100\n",
            "1/1 [==============================] - 0s 27ms/step - loss: 6.9469 - mae: 6.9469\n",
            "Epoch 10/100\n",
            "1/1 [==============================] - 0s 25ms/step - loss: 5.2780 - mae: 5.2780\n",
            "Epoch 11/100\n",
            "1/1 [==============================] - 0s 26ms/step - loss: 3.9750 - mae: 3.9750\n",
            "Epoch 12/100\n",
            "1/1 [==============================] - 0s 45ms/step - loss: 4.0226 - mae: 4.0226\n",
            "Epoch 13/100\n",
            "1/1 [==============================] - 0s 27ms/step - loss: 3.9861 - mae: 3.9861\n",
            "Epoch 14/100\n",
            "1/1 [==============================] - 0s 22ms/step - loss: 3.9725 - mae: 3.9725\n",
            "Epoch 15/100\n",
            "1/1 [==============================] - 0s 45ms/step - loss: 3.9986 - mae: 3.9986\n",
            "Epoch 16/100\n",
            "1/1 [==============================] - 0s 26ms/step - loss: 3.9212 - mae: 3.9212\n",
            "Epoch 17/100\n",
            "1/1 [==============================] - 0s 42ms/step - loss: 4.0125 - mae: 4.0125\n",
            "Epoch 18/100\n",
            "1/1 [==============================] - 0s 28ms/step - loss: 3.8680 - mae: 3.8680\n",
            "Epoch 19/100\n",
            "1/1 [==============================] - 0s 29ms/step - loss: 4.0278 - mae: 4.0278\n",
            "Epoch 20/100\n",
            "1/1 [==============================] - 0s 28ms/step - loss: 3.8243 - mae: 3.8243\n",
            "Epoch 21/100\n",
            "1/1 [==============================] - 0s 44ms/step - loss: 4.0208 - mae: 4.0208\n",
            "Epoch 22/100\n",
            "1/1 [==============================] - 0s 41ms/step - loss: 3.8392 - mae: 3.8392\n",
            "Epoch 23/100\n",
            "1/1 [==============================] - 0s 33ms/step - loss: 3.9676 - mae: 3.9676\n",
            "Epoch 24/100\n",
            "1/1 [==============================] - 0s 44ms/step - loss: 3.8555 - mae: 3.8555\n",
            "Epoch 25/100\n",
            "1/1 [==============================] - 0s 28ms/step - loss: 3.9217 - mae: 3.9217\n",
            "Epoch 26/100\n",
            "1/1 [==============================] - 0s 20ms/step - loss: 3.9065 - mae: 3.9065\n",
            "Epoch 27/100\n",
            "1/1 [==============================] - 0s 21ms/step - loss: 3.8437 - mae: 3.8437\n",
            "Epoch 28/100\n",
            "1/1 [==============================] - 0s 25ms/step - loss: 3.9244 - mae: 3.9244\n",
            "Epoch 29/100\n",
            "1/1 [==============================] - 0s 31ms/step - loss: 3.7850 - mae: 3.7850\n",
            "Epoch 30/100\n",
            "1/1 [==============================] - 0s 42ms/step - loss: 3.9440 - mae: 3.9440\n",
            "Epoch 31/100\n",
            "1/1 [==============================] - 0s 29ms/step - loss: 3.7459 - mae: 3.7459\n",
            "Epoch 32/100\n",
            "1/1 [==============================] - 0s 26ms/step - loss: 3.9306 - mae: 3.9306\n",
            "Epoch 33/100\n",
            "1/1 [==============================] - 0s 59ms/step - loss: 3.7648 - mae: 3.7648\n",
            "Epoch 34/100\n",
            "1/1 [==============================] - 0s 42ms/step - loss: 3.8808 - mae: 3.8808\n",
            "Epoch 35/100\n",
            "1/1 [==============================] - 0s 52ms/step - loss: 3.8172 - mae: 3.8172\n",
            "Epoch 36/100\n",
            "1/1 [==============================] - 0s 35ms/step - loss: 3.7976 - mae: 3.7976\n",
            "Epoch 37/100\n",
            "1/1 [==============================] - 0s 62ms/step - loss: 3.8381 - mae: 3.8381\n",
            "Epoch 38/100\n",
            "1/1 [==============================] - 0s 36ms/step - loss: 3.7339 - mae: 3.7339\n",
            "Epoch 39/100\n",
            "1/1 [==============================] - 0s 47ms/step - loss: 3.8606 - mae: 3.8606\n",
            "Epoch 40/100\n",
            "1/1 [==============================] - 0s 40ms/step - loss: 3.6686 - mae: 3.6686\n",
            "Epoch 41/100\n",
            "1/1 [==============================] - 0s 22ms/step - loss: 3.8716 - mae: 3.8716\n",
            "Epoch 42/100\n",
            "1/1 [==============================] - 0s 20ms/step - loss: 3.6908 - mae: 3.6908\n",
            "Epoch 43/100\n",
            "1/1 [==============================] - 0s 39ms/step - loss: 3.8083 - mae: 3.8083\n",
            "Epoch 44/100\n",
            "1/1 [==============================] - 0s 18ms/step - loss: 3.7139 - mae: 3.7139\n",
            "Epoch 45/100\n",
            "1/1 [==============================] - 0s 18ms/step - loss: 3.7584 - mae: 3.7584\n",
            "Epoch 46/100\n",
            "1/1 [==============================] - 0s 34ms/step - loss: 3.7707 - mae: 3.7707\n",
            "Epoch 47/100\n",
            "1/1 [==============================] - 0s 55ms/step - loss: 3.6619 - mae: 3.6619\n",
            "Epoch 48/100\n",
            "1/1 [==============================] - 0s 45ms/step - loss: 3.7958 - mae: 3.7958\n",
            "Epoch 49/100\n",
            "1/1 [==============================] - 0s 22ms/step - loss: 3.6071 - mae: 3.6071\n",
            "Epoch 50/100\n",
            "1/1 [==============================] - 0s 28ms/step - loss: 3.7938 - mae: 3.7938\n",
            "Epoch 51/100\n",
            "1/1 [==============================] - 0s 35ms/step - loss: 3.6316 - mae: 3.6316\n",
            "Epoch 52/100\n",
            "1/1 [==============================] - 0s 26ms/step - loss: 3.7253 - mae: 3.7253\n",
            "Epoch 53/100\n",
            "1/1 [==============================] - 0s 35ms/step - loss: 3.6583 - mae: 3.6583\n",
            "Epoch 54/100\n",
            "1/1 [==============================] - 0s 26ms/step - loss: 3.6604 - mae: 3.6604\n",
            "Epoch 55/100\n",
            "1/1 [==============================] - 0s 24ms/step - loss: 3.7174 - mae: 3.7174\n",
            "Epoch 56/100\n",
            "1/1 [==============================] - 0s 40ms/step - loss: 3.5701 - mae: 3.5701\n",
            "Epoch 57/100\n",
            "1/1 [==============================] - 0s 34ms/step - loss: 3.7431 - mae: 3.7431\n",
            "Epoch 58/100\n",
            "1/1 [==============================] - 0s 29ms/step - loss: 3.5553 - mae: 3.5553\n",
            "Epoch 59/100\n",
            "1/1 [==============================] - 0s 26ms/step - loss: 3.6977 - mae: 3.6977\n",
            "Epoch 60/100\n",
            "1/1 [==============================] - 0s 32ms/step - loss: 3.5828 - mae: 3.5828\n",
            "Epoch 61/100\n",
            "1/1 [==============================] - 0s 32ms/step - loss: 3.6222 - mae: 3.6222\n",
            "Epoch 62/100\n",
            "1/1 [==============================] - 0s 25ms/step - loss: 3.6125 - mae: 3.6125\n",
            "Epoch 63/100\n",
            "1/1 [==============================] - 0s 28ms/step - loss: 3.5442 - mae: 3.5442\n",
            "Epoch 64/100\n",
            "1/1 [==============================] - 0s 29ms/step - loss: 3.6444 - mae: 3.6444\n",
            "Epoch 65/100\n",
            "1/1 [==============================] - 0s 23ms/step - loss: 3.4716 - mae: 3.4716\n",
            "Epoch 66/100\n",
            "1/1 [==============================] - 0s 29ms/step - loss: 3.7099 - mae: 3.7099\n",
            "Epoch 67/100\n",
            "1/1 [==============================] - 0s 26ms/step - loss: 3.5210 - mae: 3.5210\n",
            "Epoch 68/100\n",
            "1/1 [==============================] - 0s 17ms/step - loss: 3.5759 - mae: 3.5759\n",
            "Epoch 69/100\n",
            "1/1 [==============================] - 0s 20ms/step - loss: 3.5517 - mae: 3.5517\n",
            "Epoch 70/100\n",
            "1/1 [==============================] - 0s 23ms/step - loss: 3.4932 - mae: 3.4932\n",
            "Epoch 71/100\n",
            "1/1 [==============================] - 0s 30ms/step - loss: 3.5842 - mae: 3.5842\n",
            "Epoch 72/100\n",
            "1/1 [==============================] - 0s 27ms/step - loss: 3.4075 - mae: 3.4075\n",
            "Epoch 73/100\n",
            "1/1 [==============================] - 0s 32ms/step - loss: 3.6196 - mae: 3.6196\n",
            "Epoch 74/100\n",
            "1/1 [==============================] - 0s 29ms/step - loss: 3.4370 - mae: 3.4370\n",
            "Epoch 75/100\n",
            "1/1 [==============================] - 0s 27ms/step - loss: 3.5411 - mae: 3.5411\n",
            "Epoch 76/100\n",
            "1/1 [==============================] - 0s 18ms/step - loss: 3.5022 - mae: 3.5022\n",
            "Epoch 77/100\n",
            "1/1 [==============================] - 0s 22ms/step - loss: 3.4262 - mae: 3.4262\n",
            "Epoch 78/100\n",
            "1/1 [==============================] - 0s 20ms/step - loss: 3.5363 - mae: 3.5363\n",
            "Epoch 79/100\n",
            "1/1 [==============================] - 0s 12ms/step - loss: 3.3603 - mae: 3.3603\n",
            "Epoch 80/100\n",
            "1/1 [==============================] - 0s 18ms/step - loss: 3.5348 - mae: 3.5348\n",
            "Epoch 81/100\n",
            "1/1 [==============================] - 0s 14ms/step - loss: 3.3931 - mae: 3.3931\n",
            "Epoch 82/100\n",
            "1/1 [==============================] - 0s 20ms/step - loss: 3.4453 - mae: 3.4453\n",
            "Epoch 83/100\n",
            "1/1 [==============================] - 0s 27ms/step - loss: 3.4278 - mae: 3.4278\n",
            "Epoch 84/100\n",
            "1/1 [==============================] - 0s 24ms/step - loss: 3.3520 - mae: 3.3520\n",
            "Epoch 85/100\n",
            "1/1 [==============================] - 0s 27ms/step - loss: 3.4638 - mae: 3.4638\n",
            "Epoch 86/100\n",
            "1/1 [==============================] - 0s 27ms/step - loss: 3.3064 - mae: 3.3064\n",
            "Epoch 87/100\n",
            "1/1 [==============================] - 0s 21ms/step - loss: 3.4431 - mae: 3.4431\n",
            "Epoch 88/100\n",
            "1/1 [==============================] - 0s 25ms/step - loss: 3.3581 - mae: 3.3581\n",
            "Epoch 89/100\n",
            "1/1 [==============================] - 0s 17ms/step - loss: 3.3479 - mae: 3.3479\n",
            "Epoch 90/100\n",
            "1/1 [==============================] - 0s 17ms/step - loss: 3.3938 - mae: 3.3938\n",
            "Epoch 91/100\n",
            "1/1 [==============================] - 0s 16ms/step - loss: 3.2477 - mae: 3.2477\n",
            "Epoch 92/100\n",
            "1/1 [==============================] - 0s 16ms/step - loss: 3.4317 - mae: 3.4317\n",
            "Epoch 93/100\n",
            "1/1 [==============================] - 0s 23ms/step - loss: 3.2575 - mae: 3.2575\n",
            "Epoch 94/100\n",
            "1/1 [==============================] - 0s 13ms/step - loss: 3.3487 - mae: 3.3487\n",
            "Epoch 95/100\n",
            "1/1 [==============================] - 0s 30ms/step - loss: 3.3273 - mae: 3.3273\n",
            "Epoch 96/100\n",
            "1/1 [==============================] - 0s 21ms/step - loss: 3.2345 - mae: 3.2345\n",
            "Epoch 97/100\n",
            "1/1 [==============================] - 0s 26ms/step - loss: 3.3645 - mae: 3.3645\n",
            "Epoch 98/100\n",
            "1/1 [==============================] - 0s 22ms/step - loss: 3.1933 - mae: 3.1933\n",
            "Epoch 99/100\n",
            "1/1 [==============================] - 0s 52ms/step - loss: 3.3265 - mae: 3.3265\n",
            "Epoch 100/100\n",
            "1/1 [==============================] - 0s 69ms/step - loss: 3.2296 - mae: 3.2296\n"
          ]
        },
        {
          "output_type": "execute_result",
          "data": {
            "text/plain": [
              "<keras.callbacks.History at 0x7b1d9033f760>"
            ]
          },
          "metadata": {},
          "execution_count": 17
        }
      ]
    },
    {
      "cell_type": "code",
      "source": [
        "model.predict([17.])"
      ],
      "metadata": {
        "colab": {
          "base_uri": "https://localhost:8080/"
        },
        "id": "XrBO9geZZkDd",
        "outputId": "c101e8af-0081-4c8a-c93f-82f0947b440c"
      },
      "execution_count": 18,
      "outputs": [
        {
          "output_type": "stream",
          "name": "stdout",
          "text": [
            "1/1 [==============================] - 0s 415ms/step\n"
          ]
        },
        {
          "output_type": "execute_result",
          "data": {
            "text/plain": [
              "array([[30.217113]], dtype=float32)"
            ]
          },
          "metadata": {},
          "execution_count": 18
        }
      ]
    },
    {
      "cell_type": "code",
      "source": [
        "# Rebuilding our model\n",
        "\n",
        "# 1. Creating the model\n",
        "model = tf.keras.Sequential([\n",
        "    tf.keras.layers.Dense(50, activation=None),\n",
        "    tf.keras.layers.Dense(1)\n",
        "])\n",
        "\n",
        "# 2. Compiling the model\n",
        "model.compile(loss='mae',\n",
        "              optimizer=tf.keras.optimizers.Adam(learning_rate=0.01),\n",
        "              metrics=['mae'])\n",
        "\n",
        "# 3. Fit the model (this time we'll train for longer)\n",
        "model.fit(tf.expand_dims(X, axis=-1), y, epochs=100)"
      ],
      "metadata": {
        "colab": {
          "base_uri": "https://localhost:8080/"
        },
        "id": "1UKofvlaZq4t",
        "outputId": "819cbe2c-4bb2-43f9-997e-89c4851893a9"
      },
      "execution_count": 19,
      "outputs": [
        {
          "output_type": "stream",
          "name": "stdout",
          "text": [
            "Epoch 1/100\n",
            "1/1 [==============================] - 2s 2s/step - loss: 11.7901 - mae: 11.7901\n",
            "Epoch 2/100\n",
            "1/1 [==============================] - 0s 19ms/step - loss: 11.0598 - mae: 11.0598\n",
            "Epoch 3/100\n",
            "1/1 [==============================] - 0s 34ms/step - loss: 10.3152 - mae: 10.3152\n",
            "Epoch 4/100\n",
            "1/1 [==============================] - 0s 24ms/step - loss: 9.5558 - mae: 9.5558\n",
            "Epoch 5/100\n",
            "1/1 [==============================] - 0s 14ms/step - loss: 8.7798 - mae: 8.7798\n",
            "Epoch 6/100\n",
            "1/1 [==============================] - 0s 13ms/step - loss: 7.9849 - mae: 7.9849\n",
            "Epoch 7/100\n",
            "1/1 [==============================] - 0s 22ms/step - loss: 7.1680 - mae: 7.1680\n",
            "Epoch 8/100\n",
            "1/1 [==============================] - 0s 27ms/step - loss: 6.8693 - mae: 6.8693\n",
            "Epoch 9/100\n",
            "1/1 [==============================] - 0s 20ms/step - loss: 7.2402 - mae: 7.2402\n",
            "Epoch 10/100\n",
            "1/1 [==============================] - 0s 16ms/step - loss: 7.5268 - mae: 7.5268\n",
            "Epoch 11/100\n",
            "1/1 [==============================] - 0s 17ms/step - loss: 7.7201 - mae: 7.7201\n",
            "Epoch 12/100\n",
            "1/1 [==============================] - 0s 17ms/step - loss: 7.6602 - mae: 7.6602\n",
            "Epoch 13/100\n",
            "1/1 [==============================] - 0s 16ms/step - loss: 7.4186 - mae: 7.4186\n",
            "Epoch 14/100\n",
            "1/1 [==============================] - 0s 24ms/step - loss: 7.1009 - mae: 7.1009\n",
            "Epoch 15/100\n",
            "1/1 [==============================] - 0s 26ms/step - loss: 6.8306 - mae: 6.8306\n",
            "Epoch 16/100\n",
            "1/1 [==============================] - 0s 18ms/step - loss: 6.5404 - mae: 6.5404\n",
            "Epoch 17/100\n",
            "1/1 [==============================] - 0s 17ms/step - loss: 6.2350 - mae: 6.2350\n",
            "Epoch 18/100\n",
            "1/1 [==============================] - 0s 15ms/step - loss: 6.1671 - mae: 6.1671\n",
            "Epoch 19/100\n",
            "1/1 [==============================] - 0s 13ms/step - loss: 6.1671 - mae: 6.1671\n",
            "Epoch 20/100\n",
            "1/1 [==============================] - 0s 13ms/step - loss: 6.2771 - mae: 6.2771\n",
            "Epoch 21/100\n",
            "1/1 [==============================] - 0s 17ms/step - loss: 6.2741 - mae: 6.2741\n",
            "Epoch 22/100\n",
            "1/1 [==============================] - 0s 17ms/step - loss: 6.1731 - mae: 6.1731\n",
            "Epoch 23/100\n",
            "1/1 [==============================] - 0s 27ms/step - loss: 5.9853 - mae: 5.9853\n",
            "Epoch 24/100\n",
            "1/1 [==============================] - 0s 20ms/step - loss: 5.7186 - mae: 5.7186\n",
            "Epoch 25/100\n",
            "1/1 [==============================] - 0s 24ms/step - loss: 5.5770 - mae: 5.5770\n",
            "Epoch 26/100\n",
            "1/1 [==============================] - 0s 24ms/step - loss: 5.4617 - mae: 5.4617\n",
            "Epoch 27/100\n",
            "1/1 [==============================] - 0s 19ms/step - loss: 5.4542 - mae: 5.4542\n",
            "Epoch 28/100\n",
            "1/1 [==============================] - 0s 18ms/step - loss: 5.4575 - mae: 5.4575\n",
            "Epoch 29/100\n",
            "1/1 [==============================] - 0s 17ms/step - loss: 5.4126 - mae: 5.4126\n",
            "Epoch 30/100\n",
            "1/1 [==============================] - 0s 21ms/step - loss: 5.3233 - mae: 5.3233\n",
            "Epoch 31/100\n",
            "1/1 [==============================] - 0s 24ms/step - loss: 5.1936 - mae: 5.1936\n",
            "Epoch 32/100\n",
            "1/1 [==============================] - 0s 28ms/step - loss: 5.0270 - mae: 5.0270\n",
            "Epoch 33/100\n",
            "1/1 [==============================] - 0s 26ms/step - loss: 4.8271 - mae: 4.8271\n",
            "Epoch 34/100\n",
            "1/1 [==============================] - 0s 25ms/step - loss: 4.6323 - mae: 4.6323\n",
            "Epoch 35/100\n",
            "1/1 [==============================] - 0s 27ms/step - loss: 4.5333 - mae: 4.5333\n",
            "Epoch 36/100\n",
            "1/1 [==============================] - 0s 16ms/step - loss: 4.4266 - mae: 4.4266\n",
            "Epoch 37/100\n",
            "1/1 [==============================] - 0s 17ms/step - loss: 4.3410 - mae: 4.3410\n",
            "Epoch 38/100\n",
            "1/1 [==============================] - 0s 15ms/step - loss: 4.2123 - mae: 4.2123\n",
            "Epoch 39/100\n",
            "1/1 [==============================] - 0s 14ms/step - loss: 4.0302 - mae: 4.0302\n",
            "Epoch 40/100\n",
            "1/1 [==============================] - 0s 14ms/step - loss: 3.8739 - mae: 3.8739\n",
            "Epoch 41/100\n",
            "1/1 [==============================] - 0s 14ms/step - loss: 3.7106 - mae: 3.7106\n",
            "Epoch 42/100\n",
            "1/1 [==============================] - 0s 14ms/step - loss: 3.5804 - mae: 3.5804\n",
            "Epoch 43/100\n",
            "1/1 [==============================] - 0s 28ms/step - loss: 3.4520 - mae: 3.4520\n",
            "Epoch 44/100\n",
            "1/1 [==============================] - 0s 18ms/step - loss: 3.2716 - mae: 3.2716\n",
            "Epoch 45/100\n",
            "1/1 [==============================] - 0s 27ms/step - loss: 3.0498 - mae: 3.0498\n",
            "Epoch 46/100\n",
            "1/1 [==============================] - 0s 34ms/step - loss: 2.8788 - mae: 2.8788\n",
            "Epoch 47/100\n",
            "1/1 [==============================] - 0s 30ms/step - loss: 2.6974 - mae: 2.6974\n",
            "Epoch 48/100\n",
            "1/1 [==============================] - 0s 31ms/step - loss: 2.5053 - mae: 2.5053\n",
            "Epoch 49/100\n",
            "1/1 [==============================] - 0s 23ms/step - loss: 2.3024 - mae: 2.3024\n",
            "Epoch 50/100\n",
            "1/1 [==============================] - 0s 36ms/step - loss: 2.0886 - mae: 2.0886\n",
            "Epoch 51/100\n",
            "1/1 [==============================] - 0s 12ms/step - loss: 1.8638 - mae: 1.8638\n",
            "Epoch 52/100\n",
            "1/1 [==============================] - 0s 13ms/step - loss: 1.6277 - mae: 1.6277\n",
            "Epoch 53/100\n",
            "1/1 [==============================] - 0s 29ms/step - loss: 1.3802 - mae: 1.3802\n",
            "Epoch 54/100\n",
            "1/1 [==============================] - 0s 25ms/step - loss: 1.1210 - mae: 1.1210\n",
            "Epoch 55/100\n",
            "1/1 [==============================] - 0s 28ms/step - loss: 0.9022 - mae: 0.9022\n",
            "Epoch 56/100\n",
            "1/1 [==============================] - 0s 22ms/step - loss: 0.6047 - mae: 0.6047\n",
            "Epoch 57/100\n",
            "1/1 [==============================] - 0s 22ms/step - loss: 0.3945 - mae: 0.3945\n",
            "Epoch 58/100\n",
            "1/1 [==============================] - 0s 21ms/step - loss: 0.0958 - mae: 0.0958\n",
            "Epoch 59/100\n",
            "1/1 [==============================] - 0s 30ms/step - loss: 0.5217 - mae: 0.5217\n",
            "Epoch 60/100\n",
            "1/1 [==============================] - 0s 26ms/step - loss: 0.8315 - mae: 0.8315\n",
            "Epoch 61/100\n",
            "1/1 [==============================] - 0s 32ms/step - loss: 0.8853 - mae: 0.8853\n",
            "Epoch 62/100\n",
            "1/1 [==============================] - 0s 39ms/step - loss: 0.7139 - mae: 0.7139\n",
            "Epoch 63/100\n",
            "1/1 [==============================] - 0s 31ms/step - loss: 0.9958 - mae: 0.9958\n",
            "Epoch 64/100\n",
            "1/1 [==============================] - 0s 29ms/step - loss: 1.2051 - mae: 1.2051\n",
            "Epoch 65/100\n",
            "1/1 [==============================] - 0s 26ms/step - loss: 1.0493 - mae: 1.0493\n",
            "Epoch 66/100\n",
            "1/1 [==============================] - 0s 25ms/step - loss: 0.7212 - mae: 0.7212\n",
            "Epoch 67/100\n",
            "1/1 [==============================] - 0s 20ms/step - loss: 0.7513 - mae: 0.7513\n",
            "Epoch 68/100\n",
            "1/1 [==============================] - 0s 21ms/step - loss: 0.7826 - mae: 0.7826\n",
            "Epoch 69/100\n",
            "1/1 [==============================] - 0s 45ms/step - loss: 0.6195 - mae: 0.6195\n",
            "Epoch 70/100\n",
            "1/1 [==============================] - 0s 24ms/step - loss: 0.2909 - mae: 0.2909\n",
            "Epoch 71/100\n",
            "1/1 [==============================] - 0s 18ms/step - loss: 0.3809 - mae: 0.3809\n",
            "Epoch 72/100\n",
            "1/1 [==============================] - 0s 15ms/step - loss: 0.4365 - mae: 0.4365\n",
            "Epoch 73/100\n",
            "1/1 [==============================] - 0s 39ms/step - loss: 0.3343 - mae: 0.3343\n",
            "Epoch 74/100\n",
            "1/1 [==============================] - 0s 23ms/step - loss: 0.4503 - mae: 0.4503\n",
            "Epoch 75/100\n",
            "1/1 [==============================] - 0s 15ms/step - loss: 0.6305 - mae: 0.6305\n",
            "Epoch 76/100\n",
            "1/1 [==============================] - 0s 30ms/step - loss: 0.5446 - mae: 0.5446\n",
            "Epoch 77/100\n",
            "1/1 [==============================] - 0s 24ms/step - loss: 0.4310 - mae: 0.4310\n",
            "Epoch 78/100\n",
            "1/1 [==============================] - 0s 15ms/step - loss: 0.4749 - mae: 0.4749\n",
            "Epoch 79/100\n",
            "1/1 [==============================] - 0s 20ms/step - loss: 0.3597 - mae: 0.3597\n",
            "Epoch 80/100\n",
            "1/1 [==============================] - 0s 23ms/step - loss: 0.4080 - mae: 0.4080\n",
            "Epoch 81/100\n",
            "1/1 [==============================] - 0s 21ms/step - loss: 0.3448 - mae: 0.3448\n",
            "Epoch 82/100\n",
            "1/1 [==============================] - 0s 26ms/step - loss: 0.1251 - mae: 0.1251\n",
            "Epoch 83/100\n",
            "1/1 [==============================] - 0s 13ms/step - loss: 0.1045 - mae: 0.1045\n",
            "Epoch 84/100\n",
            "1/1 [==============================] - 0s 23ms/step - loss: 0.1941 - mae: 0.1941\n",
            "Epoch 85/100\n",
            "1/1 [==============================] - 0s 28ms/step - loss: 0.2633 - mae: 0.2633\n",
            "Epoch 86/100\n",
            "1/1 [==============================] - 0s 14ms/step - loss: 0.1700 - mae: 0.1700\n",
            "Epoch 87/100\n",
            "1/1 [==============================] - 0s 29ms/step - loss: 0.2549 - mae: 0.2549\n",
            "Epoch 88/100\n",
            "1/1 [==============================] - 0s 25ms/step - loss: 0.1469 - mae: 0.1469\n",
            "Epoch 89/100\n",
            "1/1 [==============================] - 0s 27ms/step - loss: 0.2368 - mae: 0.2368\n",
            "Epoch 90/100\n",
            "1/1 [==============================] - 0s 26ms/step - loss: 0.2400 - mae: 0.2400\n",
            "Epoch 91/100\n",
            "1/1 [==============================] - 0s 24ms/step - loss: 0.0769 - mae: 0.0769\n",
            "Epoch 92/100\n",
            "1/1 [==============================] - 0s 21ms/step - loss: 0.1423 - mae: 0.1423\n",
            "Epoch 93/100\n",
            "1/1 [==============================] - 0s 14ms/step - loss: 0.0657 - mae: 0.0657\n",
            "Epoch 94/100\n",
            "1/1 [==============================] - 0s 31ms/step - loss: 0.0411 - mae: 0.0411\n",
            "Epoch 95/100\n",
            "1/1 [==============================] - 0s 24ms/step - loss: 0.1694 - mae: 0.1694\n",
            "Epoch 96/100\n",
            "1/1 [==============================] - 0s 22ms/step - loss: 0.0805 - mae: 0.0805\n",
            "Epoch 97/100\n",
            "1/1 [==============================] - 0s 20ms/step - loss: 0.2667 - mae: 0.2667\n",
            "Epoch 98/100\n",
            "1/1 [==============================] - 0s 22ms/step - loss: 0.2845 - mae: 0.2845\n",
            "Epoch 99/100\n",
            "1/1 [==============================] - 0s 14ms/step - loss: 0.0820 - mae: 0.0820\n",
            "Epoch 100/100\n",
            "1/1 [==============================] - 0s 18ms/step - loss: 0.4055 - mae: 0.4055\n"
          ]
        },
        {
          "output_type": "execute_result",
          "data": {
            "text/plain": [
              "<keras.callbacks.History at 0x7b1d90420b80>"
            ]
          },
          "metadata": {},
          "execution_count": 19
        }
      ]
    },
    {
      "cell_type": "code",
      "source": [
        "model.predict([25.])"
      ],
      "metadata": {
        "colab": {
          "base_uri": "https://localhost:8080/"
        },
        "id": "ymwdU8OhcNhr",
        "outputId": "616f2fb3-24a4-439c-a3c0-4d3b162ecac2"
      },
      "execution_count": 20,
      "outputs": [
        {
          "output_type": "stream",
          "name": "stdout",
          "text": [
            "1/1 [==============================] - 0s 143ms/step\n"
          ]
        },
        {
          "output_type": "execute_result",
          "data": {
            "text/plain": [
              "array([[33.125675]], dtype=float32)"
            ]
          },
          "metadata": {},
          "execution_count": 20
        }
      ]
    },
    {
      "cell_type": "markdown",
      "source": [
        "#### RECAP: Common ways to improve a deep model\n",
        "- Adding layers\n",
        "- Increase the number of hideen units\n",
        "- Change the activation functions\n",
        "- Change the optimization function\n",
        "- Change the learning rate (👁️ The most useful hyperparameter to improve our neural network)\n",
        "- Sampling more data (bigger datasets)\n",
        "- Fitting training for longer (epochs)"
      ],
      "metadata": {
        "id": "xFgDf9-feGtW"
      }
    },
    {
      "cell_type": "markdown",
      "source": [
        "### Evaluating a model\n",
        "\n",
        "In practice a typical workflow you'll go through when building neural networks is:\n",
        "\n",
        "```\n",
        "Build model -> fit it -> evaluate it -> tweak model -> fit it -> evaluate it -> tweak model -> fit it -> evaluate it...\n",
        "```"
      ],
      "metadata": {
        "id": "X1HRwypid5_q"
      }
    },
    {
      "cell_type": "markdown",
      "source": [
        "When it comes to evaluation... there are 3 words you should memorize:\n",
        "\n",
        "> \"Visualize, visualize, visualize\"\n",
        "\n",
        "It's a good idea to visualize:\n",
        "* The data - what data are we working with? What does it looks like?\n",
        "* The model itself - what does our model look like?\n",
        "* The training of a model - how does a model perform while it learns?\n",
        "* The predictions of the model - how do the predictions of a model line up against the ground thruth (the original labels)?\n"
      ],
      "metadata": {
        "id": "JRfP-VnlfOmx"
      }
    },
    {
      "cell_type": "code",
      "source": [
        "# Make a bigger data set\n",
        "X = tf.range(-100,100,4)\n",
        "X"
      ],
      "metadata": {
        "colab": {
          "base_uri": "https://localhost:8080/"
        },
        "id": "_paPcFwsbGaJ",
        "outputId": "53d66c1d-710c-43d3-a487-a943ee7dee86"
      },
      "execution_count": 21,
      "outputs": [
        {
          "output_type": "execute_result",
          "data": {
            "text/plain": [
              "<tf.Tensor: shape=(50,), dtype=int32, numpy=\n",
              "array([-100,  -96,  -92,  -88,  -84,  -80,  -76,  -72,  -68,  -64,  -60,\n",
              "        -56,  -52,  -48,  -44,  -40,  -36,  -32,  -28,  -24,  -20,  -16,\n",
              "        -12,   -8,   -4,    0,    4,    8,   12,   16,   20,   24,   28,\n",
              "         32,   36,   40,   44,   48,   52,   56,   60,   64,   68,   72,\n",
              "         76,   80,   84,   88,   92,   96], dtype=int32)>"
            ]
          },
          "metadata": {},
          "execution_count": 21
        }
      ]
    },
    {
      "cell_type": "code",
      "source": [
        "# Make labels for the data set\n",
        "y = X + 10\n",
        "y"
      ],
      "metadata": {
        "colab": {
          "base_uri": "https://localhost:8080/"
        },
        "id": "rKvC6AIsbbUa",
        "outputId": "cb7fd7a1-aa03-46ca-ce10-d2a779c39fc1"
      },
      "execution_count": 22,
      "outputs": [
        {
          "output_type": "execute_result",
          "data": {
            "text/plain": [
              "<tf.Tensor: shape=(50,), dtype=int32, numpy=\n",
              "array([-90, -86, -82, -78, -74, -70, -66, -62, -58, -54, -50, -46, -42,\n",
              "       -38, -34, -30, -26, -22, -18, -14, -10,  -6,  -2,   2,   6,  10,\n",
              "        14,  18,  22,  26,  30,  34,  38,  42,  46,  50,  54,  58,  62,\n",
              "        66,  70,  74,  78,  82,  86,  90,  94,  98, 102, 106], dtype=int32)>"
            ]
          },
          "metadata": {},
          "execution_count": 22
        }
      ]
    },
    {
      "cell_type": "code",
      "source": [
        "# Visualize the data\n",
        "plt.scatter(X,y)"
      ],
      "metadata": {
        "colab": {
          "base_uri": "https://localhost:8080/",
          "height": 447
        },
        "id": "UKmr3uAqbo7h",
        "outputId": "38893785-1e72-4c0e-c8dd-f629aa65e6a9"
      },
      "execution_count": 23,
      "outputs": [
        {
          "output_type": "execute_result",
          "data": {
            "text/plain": [
              "<matplotlib.collections.PathCollection at 0x7b1d92ff2a70>"
            ]
          },
          "metadata": {},
          "execution_count": 23
        },
        {
          "output_type": "display_data",
          "data": {
            "text/plain": [
              "<Figure size 640x480 with 1 Axes>"
            ],
            "image/png": "[encoded data removed]"
          },
          "metadata": {}
        }
      ]
    },
    {
      "cell_type": "markdown",
      "source": [
        "#### The three sets...\n",
        "\n",
        "* Training set - the models learns from this data, which is typlically 70-80% of the data available.\n",
        "* Validation set - the model gets tuned on this data, which is typpically 10-15% of the data.\n",
        "* Test set - the model gets evaluated on this data to test what is has learned, this set is typlically 10-15% of the total of the data.\n",
        "\n",
        "Generalization - The ability for a machine learning model to perform well on data it hasn't seen before."
      ],
      "metadata": {
        "id": "xDKRPzAAb0Gf"
      }
    },
    {
      "cell_type": "code",
      "source": [
        "# Check the length of the samples we have\n",
        "len(X)"
      ],
      "metadata": {
        "colab": {
          "base_uri": "https://localhost:8080/"
        },
        "id": "Ddgi-kZcc_6a",
        "outputId": "44d588bc-b793-408f-abb8-f97c6a1cd1f0"
      },
      "execution_count": 24,
      "outputs": [
        {
          "output_type": "execute_result",
          "data": {
            "text/plain": [
              "50"
            ]
          },
          "metadata": {},
          "execution_count": 24
        }
      ]
    },
    {
      "cell_type": "code",
      "source": [
        "# Split into training and test (this data is too small for validation)\n",
        "X_train = X[:40] # The first 40 are trainig samples (80% of the data)\n",
        "y_train = y[:40]\n",
        "\n",
        "X_test = X[40:] # the last 10 are testing samples (20% of the data)\n",
        "y_test = y[40:]\n",
        "\n",
        "len(X_train), len(X_test)"
      ],
      "metadata": {
        "colab": {
          "base_uri": "https://localhost:8080/"
        },
        "id": "Uf2meznbdrcw",
        "outputId": "9db8be7f-c873-47cc-fdee-97319b69c639"
      },
      "execution_count": 25,
      "outputs": [
        {
          "output_type": "execute_result",
          "data": {
            "text/plain": [
              "(40, 10)"
            ]
          },
          "metadata": {},
          "execution_count": 25
        }
      ]
    },
    {
      "cell_type": "markdown",
      "source": [
        "#### Visualizing the data\n",
        "\n",
        "Now we've got our data in training and test sets... let's visualize it again"
      ],
      "metadata": {
        "id": "9ZZQO_voeo_H"
      }
    },
    {
      "cell_type": "code",
      "source": [
        "plt.figure(figsize=(10,7))\n",
        "# Plot training data in blue\n",
        "plt.scatter(X_train, y_train, c='#126b75', label='Training Data')\n",
        "# Plot test data in green\n",
        "plt.scatter(X_test, y_test, c='#EE7A01', label='Test data')\n",
        "# Show a legend\n",
        "plt.legend()"
      ],
      "metadata": {
        "colab": {
          "base_uri": "https://localhost:8080/",
          "height": 616
        },
        "id": "v943lMOHgGeu",
        "outputId": "50e20b19-faba-4d65-d58f-c92b3411534e"
      },
      "execution_count": 26,
      "outputs": [
        {
          "output_type": "execute_result",
          "data": {
            "text/plain": [
              "<matplotlib.legend.Legend at 0x7b1d9306cb50>"
            ]
          },
          "metadata": {},
          "execution_count": 26
        },
        {
          "output_type": "display_data",
          "data": {
            "text/plain": [
              "<Figure size 1000x700 with 1 Axes>"
            ],
            "image/png": "[encoded data removed]"
          },
          "metadata": {}
        }
      ]
    },
    {
      "cell_type": "code",
      "source": [
        "# Let´s have a look up at how to build a neural network for our data\n",
        "\n",
        "# 1. Create model\n",
        "model = tf.keras.Sequential([\n",
        "    tf.keras.layers.Dense(1)\n",
        "])\n",
        "\n",
        "# 2. Compile the model\n",
        "model.compile(loss=tf.keras.losses.mae,\n",
        "              optimizer=tf.keras.optimizers.SGD(),\n",
        "              metrics=['mae'])\n",
        "\n",
        "# # 3. Fit the model\n",
        "# model.fit(tf.expand_dims(X_train, axis=-1), y_train, epochs=100)"
      ],
      "metadata": {
        "id": "ihv4eEb2goRe"
      },
      "execution_count": 27,
      "outputs": []
    },
    {
      "cell_type": "markdown",
      "source": [
        "#### Visualizing the model"
      ],
      "metadata": {
        "id": "TMi_DqMfi_3d"
      }
    },
    {
      "cell_type": "code",
      "source": [
        "# Let's create a model which builds automatically by defining the imput_shape argument in the first layer\n",
        "tf.random.set_seed(42)\n",
        "\n",
        "# 1. Create a model\n",
        "model = tf.keras.Sequential([\n",
        "    tf.keras.layers.Dense(10, input_shape=[1], name='input_layer'),\n",
        "    tf.keras.layers.Dense(1, name='output_layer')\n",
        "], name=\"model_1\")\n",
        "\n",
        "# Compile the model\n",
        "model.compile(loss=tf.keras.losses.mae,\n",
        "              optimizer=tf.keras.optimizers.SGD(),\n",
        "              metrics=['mae'])"
      ],
      "metadata": {
        "id": "KXKcUeNmjJDL"
      },
      "execution_count": 28,
      "outputs": []
    },
    {
      "cell_type": "code",
      "source": [
        "model.summary()"
      ],
      "metadata": {
        "colab": {
          "base_uri": "https://localhost:8080/"
        },
        "id": "x4lb5SwGlG97",
        "outputId": "6b949533-9f9c-4bb3-f8b8-49a6c2e0d418"
      },
      "execution_count": 29,
      "outputs": [
        {
          "output_type": "stream",
          "name": "stdout",
          "text": [
            "Model: \"model_1\"\n",
            "_________________________________________________________________\n",
            " Layer (type)                Output Shape              Param #   \n",
            "=================================================================\n",
            " input_layer (Dense)         (None, 10)                20        \n",
            "                                                                 \n",
            " output_layer (Dense)        (None, 1)                 11        \n",
            "                                                                 \n",
            "=================================================================\n",
            "Total params: 31\n",
            "Trainable params: 31\n",
            "Non-trainable params: 0\n",
            "_________________________________________________________________\n"
          ]
        }
      ]
    },
    {
      "cell_type": "markdown",
      "source": [
        "* Total params - total number of parameters in the model.\n",
        "* Trainable params - these are the patterns the model can update as it trains\n",
        "* Non-trainable - these parameters aren't updated during training (this is typical when you brought parameters from other models during **transfer learning**)\n",
        "\n",
        "👁️ **Resource:** Fore a more in-depth overview check:\n",
        "\n",
        "https://www.youtube.com/watch?v=QDX-1M5Nj7s&list=PLtBw6njQRU-rwp5__7C0oIVt26ZgjG9NI&index=2\n",
        "\n",
        "MIT - Introduction to Deep Learning\n",
        "http://introtodeeplearning.com/\n",
        "\n",
        "⚒️ **Exercise** Try playing around with the number of hidden units in the dense layer, see how that effects the number of parameters (total and trainable) by calling `model.summary()`."
      ],
      "metadata": {
        "id": "aHQ0TB17lJCi"
      }
    },
    {
      "cell_type": "code",
      "source": [
        "# Let`s fit our model to the training data\n",
        "model.fit(tf.expand_dims(X_train, axis=-1), y_train, epochs=100, verbose=0)"
      ],
      "metadata": {
        "colab": {
          "base_uri": "https://localhost:8080/"
        },
        "id": "SDiABT3QmweC",
        "outputId": "56659da2-dae9-4e5f-b195-1e70c0daeaaf"
      },
      "execution_count": 30,
      "outputs": [
        {
          "output_type": "execute_result",
          "data": {
            "text/plain": [
              "<keras.callbacks.History at 0x7b1d92effbb0>"
            ]
          },
          "metadata": {},
          "execution_count": 30
        }
      ]
    },
    {
      "cell_type": "code",
      "source": [
        "from tensorflow.keras.utils import plot_model\n",
        "\n",
        "plot_model(model=model, show_shapes=True)"
      ],
      "metadata": {
        "colab": {
          "base_uri": "https://localhost:8080/",
          "height": 312
        },
        "id": "vMbPQISNDEfD",
        "outputId": "ebe8d13a-fcbf-408d-ddb1-186bf37204aa"
      },
      "execution_count": 31,
      "outputs": [
        {
          "output_type": "execute_result",
          "data": {
            "image/png": "[encoded data removed]",
            "text/plain": [
              "<IPython.core.display.Image object>"
            ]
          },
          "metadata": {},
          "execution_count": 31
        }
      ]
    },
    {
      "cell_type": "markdown",
      "source": [
        "#### Visualizing our model's predictions\n",
        "\n",
        "To visualize predictions, it's a good idea to plot them against the ground truth labels.\n",
        "\n",
        "Often you'll see this in the form of `y_test` or `y_true` versus `y_pred` (ground truth versus your model`s predictions)."
      ],
      "metadata": {
        "id": "33ca6ZI9ETvK"
      }
    },
    {
      "cell_type": "code",
      "source": [
        "# Make some predictions\n",
        "y_pred = model.predict(X_test)\n",
        "y_pred"
      ],
      "metadata": {
        "colab": {
          "base_uri": "https://localhost:8080/"
        },
        "id": "dmdfFGV7Jfo1",
        "outputId": "f1ba78db-3619-4da2-df07-1d3bcd00718a"
      },
      "execution_count": 32,
      "outputs": [
        {
          "output_type": "stream",
          "name": "stderr",
          "text": [
            "WARNING:tensorflow:5 out of the last 5 calls to <function Model.make_predict_function.<locals>.predict_function at 0x7b1d92ddbe20> triggered tf.function retracing. Tracing is expensive and the excessive number of tracings could be due to (1) creating @tf.function repeatedly in a loop, (2) passing tensors with different shapes, (3) passing Python objects instead of tensors. For (1), please define your @tf.function outside of the loop. For (2), @tf.function has reduce_retracing=True option that can avoid unnecessary retracing. For (3), please refer to https://www.tensorflow.org/guide/function#controlling_retracing and https://www.tensorflow.org/api_docs/python/tf/function for  more details.\n"
          ]
        },
        {
          "output_type": "stream",
          "name": "stdout",
          "text": [
            "1/1 [==============================] - 0s 62ms/step\n"
          ]
        },
        {
          "output_type": "execute_result",
          "data": {
            "text/plain": [
              "array([[ 90.930504],\n",
              "       [ 96.86934 ],\n",
              "       [102.808174],\n",
              "       [108.74701 ],\n",
              "       [114.68583 ],\n",
              "       [120.62467 ],\n",
              "       [126.5635  ],\n",
              "       [132.50233 ],\n",
              "       [138.44118 ],\n",
              "       [144.38    ]], dtype=float32)"
            ]
          },
          "metadata": {},
          "execution_count": 32
        }
      ]
    },
    {
      "cell_type": "code",
      "source": [
        "# Remember X_test values\n",
        "y_test"
      ],
      "metadata": {
        "colab": {
          "base_uri": "https://localhost:8080/"
        },
        "id": "Cx71eoQ2KmKc",
        "outputId": "218b7dd4-727f-4b21-a985-6c117fb93ee0"
      },
      "execution_count": 33,
      "outputs": [
        {
          "output_type": "execute_result",
          "data": {
            "text/plain": [
              "<tf.Tensor: shape=(10,), dtype=int32, numpy=array([ 70,  74,  78,  82,  86,  90,  94,  98, 102, 106], dtype=int32)>"
            ]
          },
          "metadata": {},
          "execution_count": 33
        }
      ]
    },
    {
      "cell_type": "markdown",
      "source": [
        "👁️ **Note:** If you feel like you`re going to reuse some kind of functionality in the future is a good idea to turn it into a function"
      ],
      "metadata": {
        "id": "lLNt2o7KNCia"
      }
    },
    {
      "cell_type": "code",
      "source": [
        "# Let's create a plotting function\n",
        "def plot_predictions(train_data=X_train,\n",
        "                     train_labels=y_train,\n",
        "                     test_data=X_test,\n",
        "                     test_labels=y_test,\n",
        "                     predictions=y_pred):\n",
        "  \"\"\"\n",
        "  Plots training data, test data and compares predictions to ground truth labels.\n",
        "  \"\"\"\n",
        "  plt.figure(figsize=(10,7))\n",
        "  # Plot training data in one color\n",
        "  plt.scatter(train_data, train_labels, c='#126b75', label='Training Data')\n",
        "  # Plot test data in another color\n",
        "  plt.scatter(test_data, test_labels, c='#EE7A01', label='Test data')\n",
        "  # Plot model's predictions in the other color\n",
        "  plt.scatter(test_data, predictions, c='#94192a', label='Predictions')\n",
        "  # Show a legend\n",
        "  plt.legend();\n",
        "\n",
        "\n"
      ],
      "metadata": {
        "id": "Yy_rM9RaPwwh"
      },
      "execution_count": 34,
      "outputs": []
    },
    {
      "cell_type": "code",
      "source": [
        "plot_predictions(train_data=X_train,\n",
        "                 train_labels=y_train,\n",
        "                 test_data=X_test,\n",
        "                test_labels=y_test,\n",
        "                predictions=y_pred)"
      ],
      "metadata": {
        "colab": {
          "base_uri": "https://localhost:8080/",
          "height": 595
        },
        "id": "GGMw2UTbRd1I",
        "outputId": "2b5b4548-f66f-4ced-e564-05ff4d2239f1"
      },
      "execution_count": 35,
      "outputs": [
        {
          "output_type": "display_data",
          "data": {
            "text/plain": [
              "<Figure size 1000x700 with 1 Axes>"
            ],
            "image/png": "[encoded data removed]"
          },
          "metadata": {}
        }
      ]
    },
    {
      "cell_type": "markdown",
      "source": [
        "#### Evaluating our model's predictions with regression evaluation metrics\n",
        "\n",
        "Depending on the problem you are working on, there will be different evalutaion metrics to evaluate your model's performance.\n",
        "\n",
        "Working in a Regression, two of the main metrics are:\n",
        "* MAE - mean absolute error, \"on average, how worng is each of my model's predictions\".\n",
        "* MSE - mean square error, \"square the average errors\""
      ],
      "metadata": {
        "id": "3eAE8WlgRjS_"
      }
    },
    {
      "cell_type": "code",
      "source": [
        "# Evaluate the model on the test\n",
        "model.evaluate(X_test, y_test)"
      ],
      "metadata": {
        "id": "4h8p2YdGSi4P",
        "colab": {
          "base_uri": "https://localhost:8080/"
        },
        "outputId": "5f5a1216-dfb3-498f-a157-92e6c1041ee8"
      },
      "execution_count": 36,
      "outputs": [
        {
          "output_type": "stream",
          "name": "stdout",
          "text": [
            "1/1 [==============================] - 0s 394ms/step - loss: 29.6553 - mae: 29.6553\n"
          ]
        },
        {
          "output_type": "execute_result",
          "data": {
            "text/plain": [
              "[29.655261993408203, 29.655261993408203]"
            ]
          },
          "metadata": {},
          "execution_count": 36
        }
      ]
    },
    {
      "cell_type": "code",
      "source": [
        "tf.constant(tf.squeeze(y_pred))\n"
      ],
      "metadata": {
        "colab": {
          "base_uri": "https://localhost:8080/"
        },
        "id": "H7D95I1IIz-6",
        "outputId": "84def147-0c21-4d78-c338-61980c216726"
      },
      "execution_count": 44,
      "outputs": [
        {
          "output_type": "execute_result",
          "data": {
            "text/plain": [
              "<tf.Tensor: shape=(10,), dtype=float32, numpy=\n",
              "array([ 90.930504,  96.86934 , 102.808174, 108.74701 , 114.68583 ,\n",
              "       120.62467 , 126.5635  , 132.50233 , 138.44118 , 144.38    ],\n",
              "      dtype=float32)>"
            ]
          },
          "metadata": {},
          "execution_count": 44
        }
      ]
    },
    {
      "cell_type": "code",
      "source": [
        "y_test"
      ],
      "metadata": {
        "colab": {
          "base_uri": "https://localhost:8080/"
        },
        "id": "TmH6Y1RwK4tC",
        "outputId": "7efd6708-8f6d-4208-ee9b-52cb0a6c1c3d"
      },
      "execution_count": 42,
      "outputs": [
        {
          "output_type": "execute_result",
          "data": {
            "text/plain": [
              "<tf.Tensor: shape=(10,), dtype=int32, numpy=array([ 70,  74,  78,  82,  86,  90,  94,  98, 102, 106], dtype=int32)>"
            ]
          },
          "metadata": {},
          "execution_count": 42
        }
      ]
    },
    {
      "cell_type": "code",
      "source": [
        "# Calculate the mean absolute error\n",
        "mae = tf.metrics.mean_absolute_error(y_true=y_test,\n",
        "                                     y_pred=tf.constant(tf.squeeze(y_pred)))\n",
        "mae\n"
      ],
      "metadata": {
        "colab": {
          "base_uri": "https://localhost:8080/"
        },
        "id": "XeaIjggmI9XK",
        "outputId": "e914da34-b709-4e18-fd51-16d54a648ccf"
      },
      "execution_count": 45,
      "outputs": [
        {
          "output_type": "execute_result",
          "data": {
            "text/plain": [
              "<tf.Tensor: shape=(), dtype=float32, numpy=29.655254>"
            ]
          },
          "metadata": {},
          "execution_count": 45
        }
      ]
    },
    {
      "cell_type": "markdown",
      "source": [
        "👁️ If we are trying to compare Tensors we need to make shapes and dtypes equal to each other:\n",
        "\n",
        "That's why we use:\n",
        "`y_pred=tf.constant(tf.squeeze(y_pred))`"
      ],
      "metadata": {
        "id": "zTnv_UjeJbgp"
      }
    },
    {
      "cell_type": "code",
      "source": [
        "# Calculate the mean square error\n",
        "mse = tf.metrics.mean_squared_error(y_true=y_test,\n",
        "                                   y_pred=tf.constant(tf.squeeze(y_pred)))\n",
        "mse"
      ],
      "metadata": {
        "colab": {
          "base_uri": "https://localhost:8080/"
        },
        "id": "zgZf8bWWK23q",
        "outputId": "ac302511-68aa-4f69-9530-f886b3597540"
      },
      "execution_count": 47,
      "outputs": [
        {
          "output_type": "execute_result",
          "data": {
            "text/plain": [
              "<tf.Tensor: shape=(), dtype=float32, numpy=910.4465>"
            ]
          },
          "metadata": {},
          "execution_count": 47
        }
      ]
    },
    {
      "cell_type": "code",
      "source": [
        "# Make functions to reuse MAE and MSE\n",
        "def mae(y_true, y_pred):\n",
        "  return tf.metrics.mean_absolute_error(y_true=y_true,\n",
        "                                        y_pred=y_pred)\n",
        "\n",
        "def mse(y_true, y_pred):\n",
        "  return tf.metrics.mean_squared_error(y_true=y_true,\n",
        "                                       y_pred=y_pred)"
      ],
      "metadata": {
        "id": "3r519uq-MZjn"
      },
      "execution_count": 48,
      "outputs": []
    },
    {
      "cell_type": "code",
      "source": [
        "mse(y_test, tf.squeeze(y_pred))"
      ],
      "metadata": {
        "colab": {
          "base_uri": "https://localhost:8080/"
        },
        "id": "5hLBry7wNpSH",
        "outputId": "8415968a-5c32-48f3-d7e7-33d96243a750"
      },
      "execution_count": 52,
      "outputs": [
        {
          "output_type": "execute_result",
          "data": {
            "text/plain": [
              "<tf.Tensor: shape=(), dtype=float32, numpy=910.4465>"
            ]
          },
          "metadata": {},
          "execution_count": 52
        }
      ]
    },
    {
      "cell_type": "markdown",
      "source": [
        "### Setting up TensorFlow modelling experiments"
      ],
      "metadata": {
        "id": "nwLUPBwcNuE1"
      }
    },
    {
      "cell_type": "code",
      "source": [],
      "metadata": {
        "id": "sDyM609QOQH-"
      },
      "execution_count": null,
      "outputs": []
    }
  ]
}