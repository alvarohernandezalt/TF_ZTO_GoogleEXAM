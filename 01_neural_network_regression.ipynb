{
  "nbformat": 4,
  "nbformat_minor": 0,
  "metadata": {
    "colab": {
      "provenance": []
    },
    "kernelspec": {
      "name": "python3",
      "display_name": "Python 3"
    },
    "language_info": {
      "name": "python"
    }
  },
  "cells": [
    {
      "cell_type": "markdown",
      "source": [
        "## **Neural Network Regression in TensorFlow**\n",
        "\n",
        "👁️👁️ Looking to solve Regression Problems\n",
        "\n",
        " - Architecture of a neural network regression model\n",
        " - Input shapes and output shapes of a regression model (**features** and labels)\n",
        " - Creating custom data to view and fit\n",
        " - Steps in modelling\n",
        "  - Creating a model, compiling a model, fitting a model, evaluating a model.\n",
        " - Different evaluation methods\n",
        " - Saving and loading models"
      ],
      "metadata": {
        "id": "f5wjJGSx6-YW"
      }
    },
    {
      "cell_type": "code",
      "execution_count": 1,
      "metadata": {
        "colab": {
          "base_uri": "https://localhost:8080/"
        },
        "id": "CNH8xU5Y6G44",
        "outputId": "a41e84ed-78ac-4420-d0b2-fda0316941bb"
      },
      "outputs": [
        {
          "output_type": "stream",
          "name": "stdout",
          "text": [
            "2.12.0\n"
          ]
        }
      ],
      "source": [
        "# Import Tensorflow\n",
        "import tensorflow as tf\n",
        "print(tf.__version__)"
      ]
    },
    {
      "cell_type": "markdown",
      "source": [
        "### Creating data to view and fit"
      ],
      "metadata": {
        "id": "e0iBPtjeCCqv"
      }
    },
    {
      "cell_type": "code",
      "source": [
        "import numpy as np\n",
        "import matplotlib.pyplot as plt\n",
        "\n",
        "# Create features\n",
        "X = np.array([-7.0, -4.0, -1.0, 2.0, 5.0, 8.0, 11.0, 14.0])\n",
        "\n",
        "# Create labels\n",
        "y = np.array([3.0, 6.0, 9.0, 12.0, 15.0, 18.0, 21.0, 24.0])\n",
        "\n",
        "# Visualize it\n",
        "plt.scatter(X, y)\n"
      ],
      "metadata": {
        "colab": {
          "base_uri": "https://localhost:8080/",
          "height": 452
        },
        "id": "XZ5Rvn-1Ecxe",
        "outputId": "53b1aacf-11d7-4944-c378-5b9c8e16fe61"
      },
      "execution_count": 2,
      "outputs": [
        {
          "output_type": "execute_result",
          "data": {
            "text/plain": [
              "<matplotlib.collections.PathCollection at 0x781a5dc7beb0>"
            ]
          },
          "metadata": {},
          "execution_count": 2
        },
        {
          "output_type": "display_data",
          "data": {
            "text/plain": [
              "<Figure size 640x480 with 1 Axes>"
            ],
            "image/png": "[encoded data removed]"
          },
          "metadata": {}
        }
      ]
    },
    {
      "cell_type": "code",
      "source": [
        "# This is how we get y values from this values (the linear regression of this very simple model)\n",
        "X + 10"
      ],
      "metadata": {
        "colab": {
          "base_uri": "https://localhost:8080/"
        },
        "id": "67oKXtvcFM7V",
        "outputId": "cdcac9af-c1ad-4ec1-bfb0-4433309203ac"
      },
      "execution_count": 3,
      "outputs": [
        {
          "output_type": "execute_result",
          "data": {
            "text/plain": [
              "array([ 3.,  6.,  9., 12., 15., 18., 21., 24.])"
            ]
          },
          "metadata": {},
          "execution_count": 3
        }
      ]
    },
    {
      "cell_type": "code",
      "source": [
        "y == X + 10\n"
      ],
      "metadata": {
        "colab": {
          "base_uri": "https://localhost:8080/"
        },
        "id": "H2bcTt9MFlC0",
        "outputId": "90be48b5-3a36-4942-858f-840906f0708c"
      },
      "execution_count": 4,
      "outputs": [
        {
          "output_type": "execute_result",
          "data": {
            "text/plain": [
              "array([ True,  True,  True,  True,  True,  True,  True,  True])"
            ]
          },
          "metadata": {},
          "execution_count": 4
        }
      ]
    },
    {
      "cell_type": "markdown",
      "source": [
        "#### Input and Output Shapes"
      ],
      "metadata": {
        "id": "yPxHTWJdFnrM"
      }
    },
    {
      "cell_type": "code",
      "source": [
        "# Create a demo tenosr for our housing price prediction problem\n",
        "house_info = tf.constant(['bedroom','bathroom','garage'])\n",
        "house_price = tf.constant([939700])\n",
        "house_info, house_price"
      ],
      "metadata": {
        "colab": {
          "base_uri": "https://localhost:8080/"
        },
        "id": "AlQOdSPNGRiP",
        "outputId": "34a5b1a5-c789-44b5-e0bb-03a3cd92745a"
      },
      "execution_count": 5,
      "outputs": [
        {
          "output_type": "execute_result",
          "data": {
            "text/plain": [
              "(<tf.Tensor: shape=(3,), dtype=string, numpy=array([b'bedroom', b'bathroom', b'garage'], dtype=object)>,\n",
              " <tf.Tensor: shape=(1,), dtype=int32, numpy=array([939700], dtype=int32)>)"
            ]
          },
          "metadata": {},
          "execution_count": 5
        }
      ]
    },
    {
      "cell_type": "code",
      "source": [
        "X[0], y[0]"
      ],
      "metadata": {
        "colab": {
          "base_uri": "https://localhost:8080/"
        },
        "id": "rpdDsnPZIsmn",
        "outputId": "6c69444f-ca68-4f41-b7e2-ff9e1753fafa"
      },
      "execution_count": 6,
      "outputs": [
        {
          "output_type": "execute_result",
          "data": {
            "text/plain": [
              "(-7.0, 3.0)"
            ]
          },
          "metadata": {},
          "execution_count": 6
        }
      ]
    },
    {
      "cell_type": "code",
      "source": [
        "input_shape = X[0].shape\n",
        "output_shape = y[0].shape\n",
        "input_shape, output_shape"
      ],
      "metadata": {
        "colab": {
          "base_uri": "https://localhost:8080/"
        },
        "id": "iZy0Zyt3G3Pj",
        "outputId": "7fe8f59d-6eae-463c-9a5a-ae560f32d457"
      },
      "execution_count": 7,
      "outputs": [
        {
          "output_type": "execute_result",
          "data": {
            "text/plain": [
              "((), ())"
            ]
          },
          "metadata": {},
          "execution_count": 7
        }
      ]
    },
    {
      "cell_type": "code",
      "source": [
        "# Turn our NumPy arrays into tensors\n",
        "X = tf.cast(tf.constant(X), dtype=tf.float32)\n",
        "y = tf.cast(tf.constant(y), dtype=tf.float32)\n",
        "\n",
        "X, y"
      ],
      "metadata": {
        "colab": {
          "base_uri": "https://localhost:8080/"
        },
        "id": "PpH980DyHIxj",
        "outputId": "def0cd7a-31cd-4ef3-f1da-e9478b7ff3b2"
      },
      "execution_count": 8,
      "outputs": [
        {
          "output_type": "execute_result",
          "data": {
            "text/plain": [
              "(<tf.Tensor: shape=(8,), dtype=float32, numpy=array([-7., -4., -1.,  2.,  5.,  8., 11., 14.], dtype=float32)>,\n",
              " <tf.Tensor: shape=(8,), dtype=float32, numpy=array([ 3.,  6.,  9., 12., 15., 18., 21., 24.], dtype=float32)>)"
            ]
          },
          "metadata": {},
          "execution_count": 8
        }
      ]
    },
    {
      "cell_type": "code",
      "source": [
        "input_shape = X[0].shape\n",
        "output_shape = y[0].shape\n",
        "input_shape, output_shape"
      ],
      "metadata": {
        "colab": {
          "base_uri": "https://localhost:8080/"
        },
        "id": "7bVYtQdFLiMH",
        "outputId": "a43022c0-5be1-40ae-ed98-dc5f3300b02f"
      },
      "execution_count": 9,
      "outputs": [
        {
          "output_type": "execute_result",
          "data": {
            "text/plain": [
              "(TensorShape([]), TensorShape([]))"
            ]
          },
          "metadata": {},
          "execution_count": 9
        }
      ]
    },
    {
      "cell_type": "code",
      "source": [
        "plt.scatter(X, y)\n"
      ],
      "metadata": {
        "colab": {
          "base_uri": "https://localhost:8080/",
          "height": 452
        },
        "id": "49bMIexxLno-",
        "outputId": "cc86eef9-df4b-4914-c9a4-c9e5ab19c182"
      },
      "execution_count": 10,
      "outputs": [
        {
          "output_type": "execute_result",
          "data": {
            "text/plain": [
              "<matplotlib.collections.PathCollection at 0x781aead3cac0>"
            ]
          },
          "metadata": {},
          "execution_count": 10
        },
        {
          "output_type": "display_data",
          "data": {
            "text/plain": [
              "<Figure size 640x480 with 1 Axes>"
            ],
            "image/png": "[encoded data removed]"
          },
          "metadata": {}
        }
      ]
    },
    {
      "cell_type": "markdown",
      "source": [
        "### Steps in modelling with TensorFlow\n",
        "\n",
        "1. **Creating a model** - define the input and output layers, as well as the hidden layers of a deep learning model.\n",
        "2. **Compiling a model** - define the loss function (in other words, the function which tells our model how worng it is), the optimizer (tells our model how to improve the patterns its learning), and the evaluation metrics (what we can use to interpret the performance of our model).\n",
        "3. **Fitting a model** - letting the model try to find patterns between X & y (features & labels). Epochs - How many times the model will go through all of the training examples\n",
        "4. **Evaluate the model** on the test data (how reliable are our models predictions?)\n"
      ],
      "metadata": {
        "id": "wMt8oXAML0kn"
      }
    },
    {
      "cell_type": "code",
      "source": [
        "# Set random seed\n",
        "tf.random.set_seed(42)\n",
        "\n",
        "# 1. Create amodel using the sequential API\n",
        "model = tf.keras.Sequential([\n",
        "    tf.keras.layers.Dense(1)\n",
        "]) # into a list method\n",
        "\n",
        "# add method\n",
        "# model = tf.keras.Sequential()\n",
        "# model.add(tf.keras.layers.Dense(1))\n",
        "\n",
        "# 2. Compile the model\n",
        "model.compile(loss=tf.keras.losses.mae, #mae is short for mean absolute error\n",
        "              optimizer=tf.keras.optimizers.SGD(), #SGD is short for Stochastic Gradient Descent\n",
        "              metrics=['mae'])\n",
        "\n",
        "# Fit the model\n",
        "model.fit(tf.expand_dims(X, axis=-1), y, epochs=5)"
      ],
      "metadata": {
        "colab": {
          "base_uri": "https://localhost:8080/"
        },
        "id": "PlQ3HrGyL9ve",
        "outputId": "d2947958-1e5c-4ce6-cbfb-7bc45bde9e15"
      },
      "execution_count": 11,
      "outputs": [
        {
          "output_type": "stream",
          "name": "stdout",
          "text": [
            "Epoch 1/5\n",
            "1/1 [==============================] - 1s 701ms/step - loss: 7.8406 - mae: 7.8406\n",
            "Epoch 2/5\n",
            "1/1 [==============================] - 0s 22ms/step - loss: 7.7081 - mae: 7.7081\n",
            "Epoch 3/5\n",
            "1/1 [==============================] - 0s 28ms/step - loss: 7.5756 - mae: 7.5756\n",
            "Epoch 4/5\n",
            "1/1 [==============================] - 0s 38ms/step - loss: 7.4775 - mae: 7.4775\n",
            "Epoch 5/5\n",
            "1/1 [==============================] - 0s 20ms/step - loss: 7.4719 - mae: 7.4719\n"
          ]
        },
        {
          "output_type": "execute_result",
          "data": {
            "text/plain": [
              "<keras.callbacks.History at 0x781a5890fe80>"
            ]
          },
          "metadata": {},
          "execution_count": 11
        }
      ]
    },
    {
      "cell_type": "code",
      "source": [
        "# Check out X and y\n",
        "X, y"
      ],
      "metadata": {
        "colab": {
          "base_uri": "https://localhost:8080/"
        },
        "id": "YYSR2YinqtYI",
        "outputId": "f42f5e99-a752-41f1-ceac-087702d444df"
      },
      "execution_count": 12,
      "outputs": [
        {
          "output_type": "execute_result",
          "data": {
            "text/plain": [
              "(<tf.Tensor: shape=(8,), dtype=float32, numpy=array([-7., -4., -1.,  2.,  5.,  8., 11., 14.], dtype=float32)>,\n",
              " <tf.Tensor: shape=(8,), dtype=float32, numpy=array([ 3.,  6.,  9., 12., 15., 18., 21., 24.], dtype=float32)>)"
            ]
          },
          "metadata": {},
          "execution_count": 12
        }
      ]
    },
    {
      "cell_type": "code",
      "source": [
        "# Try and make a prediction using our model\n",
        "model.predict([17.0])"
      ],
      "metadata": {
        "colab": {
          "base_uri": "https://localhost:8080/"
        },
        "id": "Hh4K2jbqucOa",
        "outputId": "aa9ad6c1-fa08-4c00-dd76-2f1683d72f21"
      },
      "execution_count": 13,
      "outputs": [
        {
          "output_type": "stream",
          "name": "stdout",
          "text": [
            "1/1 [==============================] - 0s 199ms/step\n"
          ]
        },
        {
          "output_type": "execute_result",
          "data": {
            "text/plain": [
              "array([[29.318645]], dtype=float32)"
            ]
          },
          "metadata": {},
          "execution_count": 13
        }
      ]
    },
    {
      "cell_type": "markdown",
      "source": [
        "### Improving our model\n",
        "\n",
        "We can improve our model, by altering the steps we took to create a model.\n",
        "\n",
        "1. **Creating a model** - here we might add more layers, increase the number of hidden units (all called neurons) within each of the hidden layers, change the activation function of each layer.\n",
        "2. **Compiling a model** - here we might change the optimization fucntion or perhaps the **learning rate** of the optimization function.\n",
        "3. **Fitting a model** - here we might fit the model for more **epochs** (leave it training for longer) or on more data (give the model more examples to learn from)."
      ],
      "metadata": {
        "id": "uhwABg2_ulcC"
      }
    },
    {
      "cell_type": "code",
      "source": [
        "# Rebuilding our model\n",
        "\n",
        "# 1. Creating the model\n",
        "model = tf.keras.Sequential([\n",
        "    tf.keras.layers.Dense(1)\n",
        "])\n",
        "\n",
        "# 2. Compiling the model\n",
        "model.compile(loss=tf.keras.losses.mae,\n",
        "              optimizer=tf.keras.optimizers.SGD(),\n",
        "              metrics=['mae'])\n",
        "\n",
        "# 3. Fit the model (this time we'll train for longer)\n",
        "model.fit(tf.expand_dims(X, axis=-1), y, epochs=100)"
      ],
      "metadata": {
        "colab": {
          "base_uri": "https://localhost:8080/"
        },
        "id": "AKveIxuqUtMq",
        "outputId": "58e52390-7f59-427c-b2e9-dc905129a799"
      },
      "execution_count": 14,
      "outputs": [
        {
          "output_type": "stream",
          "name": "stdout",
          "text": [
            "Epoch 1/100\n",
            "1/1 [==============================] - 1s 607ms/step - loss: 17.4134 - mae: 17.4134\n",
            "Epoch 2/100\n",
            "1/1 [==============================] - 0s 16ms/step - loss: 17.1322 - mae: 17.1322\n",
            "Epoch 3/100\n",
            "1/1 [==============================] - 0s 17ms/step - loss: 16.8509 - mae: 16.8509\n",
            "Epoch 4/100\n",
            "1/1 [==============================] - 0s 44ms/step - loss: 16.5697 - mae: 16.5697\n",
            "Epoch 5/100\n",
            "1/1 [==============================] - 0s 16ms/step - loss: 16.2884 - mae: 16.2884\n",
            "Epoch 6/100\n",
            "1/1 [==============================] - 0s 21ms/step - loss: 16.0072 - mae: 16.0072\n",
            "Epoch 7/100\n",
            "1/1 [==============================] - 0s 17ms/step - loss: 15.7259 - mae: 15.7259\n",
            "Epoch 8/100\n",
            "1/1 [==============================] - 0s 19ms/step - loss: 15.4447 - mae: 15.4447\n",
            "Epoch 9/100\n",
            "1/1 [==============================] - 0s 16ms/step - loss: 15.1634 - mae: 15.1634\n",
            "Epoch 10/100\n",
            "1/1 [==============================] - 0s 14ms/step - loss: 14.8877 - mae: 14.8877\n",
            "Epoch 11/100\n",
            "1/1 [==============================] - 0s 23ms/step - loss: 14.7552 - mae: 14.7552\n",
            "Epoch 12/100\n",
            "1/1 [==============================] - 0s 22ms/step - loss: 14.6227 - mae: 14.6227\n",
            "Epoch 13/100\n",
            "1/1 [==============================] - 0s 27ms/step - loss: 14.4902 - mae: 14.4902\n",
            "Epoch 14/100\n",
            "1/1 [==============================] - 0s 20ms/step - loss: 14.3577 - mae: 14.3577\n",
            "Epoch 15/100\n",
            "1/1 [==============================] - 0s 20ms/step - loss: 14.2252 - mae: 14.2252\n",
            "Epoch 16/100\n",
            "1/1 [==============================] - 0s 24ms/step - loss: 14.0927 - mae: 14.0927\n",
            "Epoch 17/100\n",
            "1/1 [==============================] - 0s 23ms/step - loss: 13.9602 - mae: 13.9602\n",
            "Epoch 18/100\n",
            "1/1 [==============================] - 0s 25ms/step - loss: 13.8277 - mae: 13.8277\n",
            "Epoch 19/100\n",
            "1/1 [==============================] - 0s 18ms/step - loss: 13.6952 - mae: 13.6952\n",
            "Epoch 20/100\n",
            "1/1 [==============================] - 0s 17ms/step - loss: 13.5627 - mae: 13.5627\n",
            "Epoch 21/100\n",
            "1/1 [==============================] - 0s 21ms/step - loss: 13.4302 - mae: 13.4302\n",
            "Epoch 22/100\n",
            "1/1 [==============================] - 0s 11ms/step - loss: 13.2977 - mae: 13.2977\n",
            "Epoch 23/100\n",
            "1/1 [==============================] - 0s 13ms/step - loss: 13.1652 - mae: 13.1652\n",
            "Epoch 24/100\n",
            "1/1 [==============================] - 0s 11ms/step - loss: 13.0327 - mae: 13.0327\n",
            "Epoch 25/100\n",
            "1/1 [==============================] - 0s 11ms/step - loss: 12.9002 - mae: 12.9002\n",
            "Epoch 26/100\n",
            "1/1 [==============================] - 0s 16ms/step - loss: 12.7677 - mae: 12.7677\n",
            "Epoch 27/100\n",
            "1/1 [==============================] - 0s 12ms/step - loss: 12.6352 - mae: 12.6352\n",
            "Epoch 28/100\n",
            "1/1 [==============================] - 0s 24ms/step - loss: 12.5027 - mae: 12.5027\n",
            "Epoch 29/100\n",
            "1/1 [==============================] - 0s 23ms/step - loss: 12.3702 - mae: 12.3702\n",
            "Epoch 30/100\n",
            "1/1 [==============================] - 0s 17ms/step - loss: 12.2377 - mae: 12.2377\n",
            "Epoch 31/100\n",
            "1/1 [==============================] - 0s 15ms/step - loss: 12.1052 - mae: 12.1052\n",
            "Epoch 32/100\n",
            "1/1 [==============================] - 0s 47ms/step - loss: 11.9727 - mae: 11.9727\n",
            "Epoch 33/100\n",
            "1/1 [==============================] - 0s 25ms/step - loss: 11.8402 - mae: 11.8402\n",
            "Epoch 34/100\n",
            "1/1 [==============================] - 0s 13ms/step - loss: 11.7077 - mae: 11.7077\n",
            "Epoch 35/100\n",
            "1/1 [==============================] - 0s 16ms/step - loss: 11.5752 - mae: 11.5752\n",
            "Epoch 36/100\n",
            "1/1 [==============================] - 0s 17ms/step - loss: 11.4427 - mae: 11.4427\n",
            "Epoch 37/100\n",
            "1/1 [==============================] - 0s 18ms/step - loss: 11.3102 - mae: 11.3102\n",
            "Epoch 38/100\n",
            "1/1 [==============================] - 0s 22ms/step - loss: 11.1777 - mae: 11.1777\n",
            "Epoch 39/100\n",
            "1/1 [==============================] - 0s 16ms/step - loss: 11.0452 - mae: 11.0452\n",
            "Epoch 40/100\n",
            "1/1 [==============================] - 0s 19ms/step - loss: 10.9127 - mae: 10.9127\n",
            "Epoch 41/100\n",
            "1/1 [==============================] - 0s 19ms/step - loss: 10.7802 - mae: 10.7802\n",
            "Epoch 42/100\n",
            "1/1 [==============================] - 0s 36ms/step - loss: 10.6477 - mae: 10.6477\n",
            "Epoch 43/100\n",
            "1/1 [==============================] - 0s 14ms/step - loss: 10.5152 - mae: 10.5152\n",
            "Epoch 44/100\n",
            "1/1 [==============================] - 0s 18ms/step - loss: 10.3827 - mae: 10.3827\n",
            "Epoch 45/100\n",
            "1/1 [==============================] - 0s 17ms/step - loss: 10.2502 - mae: 10.2502\n",
            "Epoch 46/100\n",
            "1/1 [==============================] - 0s 22ms/step - loss: 10.1177 - mae: 10.1177\n",
            "Epoch 47/100\n",
            "1/1 [==============================] - 0s 14ms/step - loss: 9.9852 - mae: 9.9852\n",
            "Epoch 48/100\n",
            "1/1 [==============================] - 0s 15ms/step - loss: 9.8527 - mae: 9.8527\n",
            "Epoch 49/100\n",
            "1/1 [==============================] - 0s 14ms/step - loss: 9.7202 - mae: 9.7202\n",
            "Epoch 50/100\n",
            "1/1 [==============================] - 0s 13ms/step - loss: 9.5877 - mae: 9.5877\n",
            "Epoch 51/100\n",
            "1/1 [==============================] - 0s 35ms/step - loss: 9.4552 - mae: 9.4552\n",
            "Epoch 52/100\n",
            "1/1 [==============================] - 0s 39ms/step - loss: 9.3227 - mae: 9.3227\n",
            "Epoch 53/100\n",
            "1/1 [==============================] - 0s 23ms/step - loss: 9.1902 - mae: 9.1902\n",
            "Epoch 54/100\n",
            "1/1 [==============================] - 0s 29ms/step - loss: 9.0577 - mae: 9.0577\n",
            "Epoch 55/100\n",
            "1/1 [==============================] - 0s 21ms/step - loss: 8.9252 - mae: 8.9252\n",
            "Epoch 56/100\n",
            "1/1 [==============================] - 0s 22ms/step - loss: 8.7927 - mae: 8.7927\n",
            "Epoch 57/100\n",
            "1/1 [==============================] - 0s 30ms/step - loss: 8.6602 - mae: 8.6602\n",
            "Epoch 58/100\n",
            "1/1 [==============================] - 0s 21ms/step - loss: 8.5277 - mae: 8.5277\n",
            "Epoch 59/100\n",
            "1/1 [==============================] - 0s 24ms/step - loss: 8.3952 - mae: 8.3952\n",
            "Epoch 60/100\n",
            "1/1 [==============================] - 0s 24ms/step - loss: 8.2627 - mae: 8.2627\n",
            "Epoch 61/100\n",
            "1/1 [==============================] - 0s 27ms/step - loss: 8.1302 - mae: 8.1302\n",
            "Epoch 62/100\n",
            "1/1 [==============================] - 0s 20ms/step - loss: 7.9977 - mae: 7.9977\n",
            "Epoch 63/100\n",
            "1/1 [==============================] - 0s 13ms/step - loss: 7.8652 - mae: 7.8652\n",
            "Epoch 64/100\n",
            "1/1 [==============================] - 0s 25ms/step - loss: 7.7327 - mae: 7.7327\n",
            "Epoch 65/100\n",
            "1/1 [==============================] - 0s 12ms/step - loss: 7.6002 - mae: 7.6002\n",
            "Epoch 66/100\n",
            "1/1 [==============================] - 0s 10ms/step - loss: 7.4677 - mae: 7.4677\n",
            "Epoch 67/100\n",
            "1/1 [==============================] - 0s 12ms/step - loss: 7.3352 - mae: 7.3352\n",
            "Epoch 68/100\n",
            "1/1 [==============================] - 0s 10ms/step - loss: 7.2027 - mae: 7.2027\n",
            "Epoch 69/100\n",
            "1/1 [==============================] - 0s 11ms/step - loss: 7.0702 - mae: 7.0702\n",
            "Epoch 70/100\n",
            "1/1 [==============================] - 0s 10ms/step - loss: 6.9994 - mae: 6.9994\n",
            "Epoch 71/100\n",
            "1/1 [==============================] - 0s 12ms/step - loss: 6.9938 - mae: 6.9938\n",
            "Epoch 72/100\n",
            "1/1 [==============================] - 0s 20ms/step - loss: 6.9881 - mae: 6.9881\n",
            "Epoch 73/100\n",
            "1/1 [==============================] - 0s 14ms/step - loss: 6.9825 - mae: 6.9825\n",
            "Epoch 74/100\n",
            "1/1 [==============================] - 0s 20ms/step - loss: 6.9769 - mae: 6.9769\n",
            "Epoch 75/100\n",
            "1/1 [==============================] - 0s 19ms/step - loss: 6.9713 - mae: 6.9713\n",
            "Epoch 76/100\n",
            "1/1 [==============================] - 0s 21ms/step - loss: 6.9656 - mae: 6.9656\n",
            "Epoch 77/100\n",
            "1/1 [==============================] - 0s 22ms/step - loss: 6.9600 - mae: 6.9600\n",
            "Epoch 78/100\n",
            "1/1 [==============================] - 0s 23ms/step - loss: 6.9544 - mae: 6.9544\n",
            "Epoch 79/100\n",
            "1/1 [==============================] - 0s 20ms/step - loss: 6.9488 - mae: 6.9488\n",
            "Epoch 80/100\n",
            "1/1 [==============================] - 0s 25ms/step - loss: 6.9431 - mae: 6.9431\n",
            "Epoch 81/100\n",
            "1/1 [==============================] - 0s 14ms/step - loss: 6.9375 - mae: 6.9375\n",
            "Epoch 82/100\n",
            "1/1 [==============================] - 0s 20ms/step - loss: 6.9319 - mae: 6.9319\n",
            "Epoch 83/100\n",
            "1/1 [==============================] - 0s 22ms/step - loss: 6.9263 - mae: 6.9263\n",
            "Epoch 84/100\n",
            "1/1 [==============================] - 0s 26ms/step - loss: 6.9206 - mae: 6.9206\n",
            "Epoch 85/100\n",
            "1/1 [==============================] - 0s 37ms/step - loss: 6.9150 - mae: 6.9150\n",
            "Epoch 86/100\n",
            "1/1 [==============================] - 0s 18ms/step - loss: 6.9094 - mae: 6.9094\n",
            "Epoch 87/100\n",
            "1/1 [==============================] - 0s 19ms/step - loss: 6.9038 - mae: 6.9038\n",
            "Epoch 88/100\n",
            "1/1 [==============================] - 0s 24ms/step - loss: 6.8981 - mae: 6.8981\n",
            "Epoch 89/100\n",
            "1/1 [==============================] - 0s 22ms/step - loss: 6.8925 - mae: 6.8925\n",
            "Epoch 90/100\n",
            "1/1 [==============================] - 0s 16ms/step - loss: 6.8869 - mae: 6.8869\n",
            "Epoch 91/100\n",
            "1/1 [==============================] - 0s 18ms/step - loss: 6.8813 - mae: 6.8813\n",
            "Epoch 92/100\n",
            "1/1 [==============================] - 0s 29ms/step - loss: 6.8756 - mae: 6.8756\n",
            "Epoch 93/100\n",
            "1/1 [==============================] - 0s 21ms/step - loss: 6.8700 - mae: 6.8700\n",
            "Epoch 94/100\n",
            "1/1 [==============================] - 0s 19ms/step - loss: 6.8644 - mae: 6.8644\n",
            "Epoch 95/100\n",
            "1/1 [==============================] - 0s 20ms/step - loss: 6.8588 - mae: 6.8588\n",
            "Epoch 96/100\n",
            "1/1 [==============================] - 0s 22ms/step - loss: 6.8531 - mae: 6.8531\n",
            "Epoch 97/100\n",
            "1/1 [==============================] - 0s 28ms/step - loss: 6.8475 - mae: 6.8475\n",
            "Epoch 98/100\n",
            "1/1 [==============================] - 0s 15ms/step - loss: 6.8419 - mae: 6.8419\n",
            "Epoch 99/100\n",
            "1/1 [==============================] - 0s 10ms/step - loss: 6.8363 - mae: 6.8363\n",
            "Epoch 100/100\n",
            "1/1 [==============================] - 0s 16ms/step - loss: 6.8306 - mae: 6.8306\n"
          ]
        },
        {
          "output_type": "execute_result",
          "data": {
            "text/plain": [
              "<keras.callbacks.History at 0x781a58771ff0>"
            ]
          },
          "metadata": {},
          "execution_count": 14
        }
      ]
    },
    {
      "cell_type": "code",
      "source": [
        "# Remind the data\n",
        "X, y"
      ],
      "metadata": {
        "colab": {
          "base_uri": "https://localhost:8080/"
        },
        "id": "ScmQsLJQXrFI",
        "outputId": "a0e0cca7-78d5-4dfa-d584-5ceac9ef67bc"
      },
      "execution_count": 15,
      "outputs": [
        {
          "output_type": "execute_result",
          "data": {
            "text/plain": [
              "(<tf.Tensor: shape=(8,), dtype=float32, numpy=array([-7., -4., -1.,  2.,  5.,  8., 11., 14.], dtype=float32)>,\n",
              " <tf.Tensor: shape=(8,), dtype=float32, numpy=array([ 3.,  6.,  9., 12., 15., 18., 21., 24.], dtype=float32)>)"
            ]
          },
          "metadata": {},
          "execution_count": 15
        }
      ]
    },
    {
      "cell_type": "code",
      "source": [
        "# Let's see if the model prediction has improved\n",
        "model.predict([17.])"
      ],
      "metadata": {
        "colab": {
          "base_uri": "https://localhost:8080/"
        },
        "id": "ZvbtrPKkYbkP",
        "outputId": "6d2283a3-1bc7-47d5-c157-663bee7c13c0"
      },
      "execution_count": 16,
      "outputs": [
        {
          "output_type": "stream",
          "name": "stdout",
          "text": [
            "1/1 [==============================] - 0s 305ms/step\n"
          ]
        },
        {
          "output_type": "execute_result",
          "data": {
            "text/plain": [
              "array([[29.531898]], dtype=float32)"
            ]
          },
          "metadata": {},
          "execution_count": 16
        }
      ]
    },
    {
      "cell_type": "code",
      "source": [
        "# Rebuilding (third time) our model\n",
        "# Adding a hidden layer\n",
        "\n",
        "# 1. Creating the model\n",
        "model = tf.keras.Sequential([\n",
        "    tf.keras.layers.Dense(100, activation='relu'),\n",
        "    tf.keras.layers.Dense(100, activation='relu'),\n",
        "    tf.keras.layers.Dense(100, activation='relu'),\n",
        "    tf.keras.layers.Dense(1)\n",
        "])\n",
        "\n",
        "# 2. Compiling the model\n",
        "model.compile(loss=tf.keras.losses.mae,\n",
        "              optimizer=tf.keras.optimizers.SGD(),\n",
        "              metrics=['mae'])\n",
        "\n",
        "# 3. Fit the model (this time we'll train for longer)\n",
        "model.fit(tf.expand_dims(X, axis=-1), y, epochs=100)"
      ],
      "metadata": {
        "colab": {
          "base_uri": "https://localhost:8080/"
        },
        "id": "Vb5bklpEYqTO",
        "outputId": "e24b9759-be2c-428f-f0d3-ec596b12e94c"
      },
      "execution_count": 17,
      "outputs": [
        {
          "output_type": "stream",
          "name": "stdout",
          "text": [
            "Epoch 1/100\n",
            "1/1 [==============================] - 3s 3s/step - loss: 13.5003 - mae: 13.5003\n",
            "Epoch 2/100\n",
            "1/1 [==============================] - 0s 50ms/step - loss: 13.1816 - mae: 13.1816\n",
            "Epoch 3/100\n",
            "1/1 [==============================] - 0s 31ms/step - loss: 12.8912 - mae: 12.8912\n",
            "Epoch 4/100\n",
            "1/1 [==============================] - 0s 37ms/step - loss: 12.5856 - mae: 12.5856\n",
            "Epoch 5/100\n",
            "1/1 [==============================] - 0s 58ms/step - loss: 12.2567 - mae: 12.2567\n",
            "Epoch 6/100\n",
            "1/1 [==============================] - 0s 38ms/step - loss: 11.8990 - mae: 11.8990\n",
            "Epoch 7/100\n",
            "1/1 [==============================] - 0s 64ms/step - loss: 11.4799 - mae: 11.4799\n",
            "Epoch 8/100\n",
            "1/1 [==============================] - 0s 47ms/step - loss: 10.9984 - mae: 10.9984\n",
            "Epoch 9/100\n",
            "1/1 [==============================] - 0s 42ms/step - loss: 10.4048 - mae: 10.4048\n",
            "Epoch 10/100\n",
            "1/1 [==============================] - 0s 34ms/step - loss: 9.6785 - mae: 9.6785\n",
            "Epoch 11/100\n",
            "1/1 [==============================] - 0s 15ms/step - loss: 8.7334 - mae: 8.7334\n",
            "Epoch 12/100\n",
            "1/1 [==============================] - 0s 21ms/step - loss: 7.4985 - mae: 7.4985\n",
            "Epoch 13/100\n",
            "1/1 [==============================] - 0s 17ms/step - loss: 5.8689 - mae: 5.8689\n",
            "Epoch 14/100\n",
            "1/1 [==============================] - 0s 22ms/step - loss: 4.0418 - mae: 4.0418\n",
            "Epoch 15/100\n",
            "1/1 [==============================] - 0s 20ms/step - loss: 3.9320 - mae: 3.9320\n",
            "Epoch 16/100\n",
            "1/1 [==============================] - 0s 15ms/step - loss: 4.0002 - mae: 4.0002\n",
            "Epoch 17/100\n",
            "1/1 [==============================] - 0s 17ms/step - loss: 3.9426 - mae: 3.9426\n",
            "Epoch 18/100\n",
            "1/1 [==============================] - 0s 18ms/step - loss: 3.9529 - mae: 3.9529\n",
            "Epoch 19/100\n",
            "1/1 [==============================] - 0s 20ms/step - loss: 3.9576 - mae: 3.9576\n",
            "Epoch 20/100\n",
            "1/1 [==============================] - 0s 16ms/step - loss: 3.9041 - mae: 3.9041\n",
            "Epoch 21/100\n",
            "1/1 [==============================] - 0s 13ms/step - loss: 3.9738 - mae: 3.9738\n",
            "Epoch 22/100\n",
            "1/1 [==============================] - 0s 28ms/step - loss: 3.8536 - mae: 3.8536\n",
            "Epoch 23/100\n",
            "1/1 [==============================] - 0s 18ms/step - loss: 3.9912 - mae: 3.9912\n",
            "Epoch 24/100\n",
            "1/1 [==============================] - 0s 40ms/step - loss: 3.8015 - mae: 3.8015\n",
            "Epoch 25/100\n",
            "1/1 [==============================] - 0s 14ms/step - loss: 4.0099 - mae: 4.0099\n",
            "Epoch 26/100\n",
            "1/1 [==============================] - 0s 18ms/step - loss: 3.8051 - mae: 3.8051\n",
            "Epoch 27/100\n",
            "1/1 [==============================] - 0s 29ms/step - loss: 3.9592 - mae: 3.9592\n",
            "Epoch 28/100\n",
            "1/1 [==============================] - 0s 17ms/step - loss: 3.8233 - mae: 3.8233\n",
            "Epoch 29/100\n",
            "1/1 [==============================] - 0s 17ms/step - loss: 3.9122 - mae: 3.9122\n",
            "Epoch 30/100\n",
            "1/1 [==============================] - 0s 32ms/step - loss: 3.8723 - mae: 3.8723\n",
            "Epoch 31/100\n",
            "1/1 [==============================] - 0s 35ms/step - loss: 3.8351 - mae: 3.8351\n",
            "Epoch 32/100\n",
            "1/1 [==============================] - 0s 21ms/step - loss: 3.8921 - mae: 3.8921\n",
            "Epoch 33/100\n",
            "1/1 [==============================] - 0s 22ms/step - loss: 3.7797 - mae: 3.7797\n",
            "Epoch 34/100\n",
            "1/1 [==============================] - 0s 27ms/step - loss: 3.9131 - mae: 3.9131\n",
            "Epoch 35/100\n",
            "1/1 [==============================] - 0s 38ms/step - loss: 3.7232 - mae: 3.7232\n",
            "Epoch 36/100\n",
            "1/1 [==============================] - 0s 21ms/step - loss: 3.9353 - mae: 3.9353\n",
            "Epoch 37/100\n",
            "1/1 [==============================] - 0s 28ms/step - loss: 3.7337 - mae: 3.7337\n",
            "Epoch 38/100\n",
            "1/1 [==============================] - 0s 31ms/step - loss: 3.8793 - mae: 3.8793\n",
            "Epoch 39/100\n",
            "1/1 [==============================] - 0s 17ms/step - loss: 3.7554 - mae: 3.7554\n",
            "Epoch 40/100\n",
            "1/1 [==============================] - 0s 27ms/step - loss: 3.8250 - mae: 3.8250\n",
            "Epoch 41/100\n",
            "1/1 [==============================] - 0s 33ms/step - loss: 3.8072 - mae: 3.8072\n",
            "Epoch 42/100\n",
            "1/1 [==============================] - 0s 26ms/step - loss: 3.7418 - mae: 3.7418\n",
            "Epoch 43/100\n",
            "1/1 [==============================] - 0s 18ms/step - loss: 3.8307 - mae: 3.8307\n",
            "Epoch 44/100\n",
            "1/1 [==============================] - 0s 25ms/step - loss: 3.6793 - mae: 3.6793\n",
            "Epoch 45/100\n",
            "1/1 [==============================] - 0s 40ms/step - loss: 3.8558 - mae: 3.8558\n",
            "Epoch 46/100\n",
            "1/1 [==============================] - 0s 41ms/step - loss: 3.6597 - mae: 3.6597\n",
            "Epoch 47/100\n",
            "1/1 [==============================] - 0s 25ms/step - loss: 3.8250 - mae: 3.8250\n",
            "Epoch 48/100\n",
            "1/1 [==============================] - 0s 24ms/step - loss: 3.6840 - mae: 3.6840\n",
            "Epoch 49/100\n",
            "1/1 [==============================] - 0s 23ms/step - loss: 3.7619 - mae: 3.7619\n",
            "Epoch 50/100\n",
            "1/1 [==============================] - 0s 26ms/step - loss: 3.7101 - mae: 3.7101\n",
            "Epoch 51/100\n",
            "1/1 [==============================] - 0s 25ms/step - loss: 3.6967 - mae: 3.6967\n",
            "Epoch 52/100\n",
            "1/1 [==============================] - 0s 24ms/step - loss: 3.7372 - mae: 3.7372\n",
            "Epoch 53/100\n",
            "1/1 [==============================] - 0s 16ms/step - loss: 3.6329 - mae: 3.6329\n",
            "Epoch 54/100\n",
            "1/1 [==============================] - 0s 20ms/step - loss: 3.7942 - mae: 3.7942\n",
            "Epoch 55/100\n",
            "1/1 [==============================] - 0s 17ms/step - loss: 3.6010 - mae: 3.6010\n",
            "Epoch 56/100\n",
            "1/1 [==============================] - 0s 17ms/step - loss: 3.7515 - mae: 3.7515\n",
            "Epoch 57/100\n",
            "1/1 [==============================] - 0s 20ms/step - loss: 3.6276 - mae: 3.6276\n",
            "Epoch 58/100\n",
            "1/1 [==============================] - 0s 17ms/step - loss: 3.6839 - mae: 3.6839\n",
            "Epoch 59/100\n",
            "1/1 [==============================] - 0s 18ms/step - loss: 3.6559 - mae: 3.6559\n",
            "Epoch 60/100\n",
            "1/1 [==============================] - 0s 17ms/step - loss: 3.6139 - mae: 3.6139\n",
            "Epoch 61/100\n",
            "1/1 [==============================] - 0s 17ms/step - loss: 3.6848 - mae: 3.6848\n",
            "Epoch 62/100\n",
            "1/1 [==============================] - 0s 27ms/step - loss: 3.5397 - mae: 3.5397\n",
            "Epoch 63/100\n",
            "1/1 [==============================] - 0s 34ms/step - loss: 3.7152 - mae: 3.7152\n",
            "Epoch 64/100\n",
            "1/1 [==============================] - 0s 26ms/step - loss: 3.5278 - mae: 3.5278\n",
            "Epoch 65/100\n",
            "1/1 [==============================] - 0s 33ms/step - loss: 3.6855 - mae: 3.6855\n",
            "Epoch 66/100\n",
            "1/1 [==============================] - 0s 26ms/step - loss: 3.5844 - mae: 3.5844\n",
            "Epoch 67/100\n",
            "1/1 [==============================] - 0s 26ms/step - loss: 3.5790 - mae: 3.5790\n",
            "Epoch 68/100\n",
            "1/1 [==============================] - 0s 21ms/step - loss: 3.6161 - mae: 3.6161\n",
            "Epoch 69/100\n",
            "1/1 [==============================] - 0s 21ms/step - loss: 3.5014 - mae: 3.5014\n",
            "Epoch 70/100\n",
            "1/1 [==============================] - 0s 22ms/step - loss: 3.6491 - mae: 3.6491\n",
            "Epoch 71/100\n",
            "1/1 [==============================] - 0s 19ms/step - loss: 3.4656 - mae: 3.4656\n",
            "Epoch 72/100\n",
            "1/1 [==============================] - 0s 17ms/step - loss: 3.6273 - mae: 3.6273\n",
            "Epoch 73/100\n",
            "1/1 [==============================] - 0s 18ms/step - loss: 3.4973 - mae: 3.4973\n",
            "Epoch 74/100\n",
            "1/1 [==============================] - 0s 21ms/step - loss: 3.5494 - mae: 3.5494\n",
            "Epoch 75/100\n",
            "1/1 [==============================] - 0s 28ms/step - loss: 3.5304 - mae: 3.5304\n",
            "Epoch 76/100\n",
            "1/1 [==============================] - 0s 24ms/step - loss: 3.4673 - mae: 3.4673\n",
            "Epoch 77/100\n",
            "1/1 [==============================] - 0s 12ms/step - loss: 3.5659 - mae: 3.5659\n",
            "Epoch 78/100\n",
            "1/1 [==============================] - 0s 30ms/step - loss: 3.3875 - mae: 3.3875\n",
            "Epoch 79/100\n",
            "1/1 [==============================] - 0s 19ms/step - loss: 3.5905 - mae: 3.5905\n",
            "Epoch 80/100\n",
            "1/1 [==============================] - 0s 21ms/step - loss: 3.4468 - mae: 3.4468\n",
            "Epoch 81/100\n",
            "1/1 [==============================] - 0s 33ms/step - loss: 3.4812 - mae: 3.4812\n",
            "Epoch 82/100\n",
            "1/1 [==============================] - 0s 36ms/step - loss: 3.4806 - mae: 3.4806\n",
            "Epoch 83/100\n",
            "1/1 [==============================] - 0s 24ms/step - loss: 3.3950 - mae: 3.3950\n",
            "Epoch 84/100\n",
            "1/1 [==============================] - 0s 24ms/step - loss: 3.5164 - mae: 3.5164\n",
            "Epoch 85/100\n",
            "1/1 [==============================] - 0s 19ms/step - loss: 3.3389 - mae: 3.3389\n",
            "Epoch 86/100\n",
            "1/1 [==============================] - 0s 18ms/step - loss: 3.5080 - mae: 3.5080\n",
            "Epoch 87/100\n",
            "1/1 [==============================] - 0s 17ms/step - loss: 3.3730 - mae: 3.3730\n",
            "Epoch 88/100\n",
            "1/1 [==============================] - 0s 34ms/step - loss: 3.4204 - mae: 3.4204\n",
            "Epoch 89/100\n",
            "1/1 [==============================] - 0s 36ms/step - loss: 3.4100 - mae: 3.4100\n",
            "Epoch 90/100\n",
            "1/1 [==============================] - 0s 39ms/step - loss: 3.3292 - mae: 3.3292\n",
            "Epoch 91/100\n",
            "1/1 [==============================] - 0s 27ms/step - loss: 3.4493 - mae: 3.4493\n",
            "Epoch 92/100\n",
            "1/1 [==============================] - 0s 51ms/step - loss: 3.2757 - mae: 3.2757\n",
            "Epoch 93/100\n",
            "1/1 [==============================] - 0s 34ms/step - loss: 3.4421 - mae: 3.4421\n",
            "Epoch 94/100\n",
            "1/1 [==============================] - 0s 51ms/step - loss: 3.3414 - mae: 3.3414\n",
            "Epoch 95/100\n",
            "1/1 [==============================] - 0s 13ms/step - loss: 3.3255 - mae: 3.3255\n",
            "Epoch 96/100\n",
            "1/1 [==============================] - 0s 13ms/step - loss: 3.3785 - mae: 3.3785\n",
            "Epoch 97/100\n",
            "1/1 [==============================] - 0s 17ms/step - loss: 3.2291 - mae: 3.2291\n",
            "Epoch 98/100\n",
            "1/1 [==============================] - 0s 26ms/step - loss: 3.4175 - mae: 3.4175\n",
            "Epoch 99/100\n",
            "1/1 [==============================] - 0s 34ms/step - loss: 3.2425 - mae: 3.2425\n",
            "Epoch 100/100\n",
            "1/1 [==============================] - 0s 19ms/step - loss: 3.3330 - mae: 3.3330\n"
          ]
        },
        {
          "output_type": "execute_result",
          "data": {
            "text/plain": [
              "<keras.callbacks.History at 0x781a5926b2b0>"
            ]
          },
          "metadata": {},
          "execution_count": 17
        }
      ]
    },
    {
      "cell_type": "code",
      "source": [
        "model.predict([17.])"
      ],
      "metadata": {
        "colab": {
          "base_uri": "https://localhost:8080/"
        },
        "id": "XrBO9geZZkDd",
        "outputId": "14d1c924-44f1-4d72-9b0c-ee7715dc38ca"
      },
      "execution_count": 18,
      "outputs": [
        {
          "output_type": "stream",
          "name": "stdout",
          "text": [
            "1/1 [==============================] - 0s 199ms/step\n"
          ]
        },
        {
          "output_type": "execute_result",
          "data": {
            "text/plain": [
              "array([[32.774853]], dtype=float32)"
            ]
          },
          "metadata": {},
          "execution_count": 18
        }
      ]
    },
    {
      "cell_type": "code",
      "source": [
        "# Rebuilding our model\n",
        "\n",
        "# 1. Creating the model\n",
        "model = tf.keras.Sequential([\n",
        "    tf.keras.layers.Dense(50, activation=None),\n",
        "    tf.keras.layers.Dense(1)\n",
        "])\n",
        "\n",
        "# 2. Compiling the model\n",
        "model.compile(loss='mae',\n",
        "              optimizer=tf.keras.optimizers.Adam(learning_rate=0.01),\n",
        "              metrics=['mae'])\n",
        "\n",
        "# 3. Fit the model (this time we'll train for longer)\n",
        "model.fit(tf.expand_dims(X, axis=-1), y, epochs=100)"
      ],
      "metadata": {
        "colab": {
          "base_uri": "https://localhost:8080/"
        },
        "id": "1UKofvlaZq4t",
        "outputId": "916a8570-74f8-4b4f-e28e-c25bdfe0f3ea"
      },
      "execution_count": 19,
      "outputs": [
        {
          "output_type": "stream",
          "name": "stdout",
          "text": [
            "Epoch 1/100\n",
            "1/1 [==============================] - 2s 2s/step - loss: 15.0315 - mae: 15.0315\n",
            "Epoch 2/100\n",
            "1/1 [==============================] - 0s 17ms/step - loss: 14.3634 - mae: 14.3634\n",
            "Epoch 3/100\n",
            "1/1 [==============================] - 0s 22ms/step - loss: 13.7283 - mae: 13.7283\n",
            "Epoch 4/100\n",
            "1/1 [==============================] - 0s 17ms/step - loss: 13.0988 - mae: 13.0988\n",
            "Epoch 5/100\n",
            "1/1 [==============================] - 0s 29ms/step - loss: 12.4697 - mae: 12.4697\n",
            "Epoch 6/100\n",
            "1/1 [==============================] - 0s 29ms/step - loss: 11.8379 - mae: 11.8379\n",
            "Epoch 7/100\n",
            "1/1 [==============================] - 0s 31ms/step - loss: 11.2010 - mae: 11.2010\n",
            "Epoch 8/100\n",
            "1/1 [==============================] - 0s 18ms/step - loss: 10.5568 - mae: 10.5568\n",
            "Epoch 9/100\n",
            "1/1 [==============================] - 0s 15ms/step - loss: 9.9030 - mae: 9.9030\n",
            "Epoch 10/100\n",
            "1/1 [==============================] - 0s 15ms/step - loss: 9.2375 - mae: 9.2375\n",
            "Epoch 11/100\n",
            "1/1 [==============================] - 0s 17ms/step - loss: 8.5576 - mae: 8.5576\n",
            "Epoch 12/100\n",
            "1/1 [==============================] - 0s 21ms/step - loss: 7.8606 - mae: 7.8606\n",
            "Epoch 13/100\n",
            "1/1 [==============================] - 0s 15ms/step - loss: 7.1437 - mae: 7.1437\n",
            "Epoch 14/100\n",
            "1/1 [==============================] - 0s 16ms/step - loss: 6.5231 - mae: 6.5231\n",
            "Epoch 15/100\n",
            "1/1 [==============================] - 0s 15ms/step - loss: 6.5397 - mae: 6.5397\n",
            "Epoch 16/100\n",
            "1/1 [==============================] - 0s 15ms/step - loss: 6.8212 - mae: 6.8212\n",
            "Epoch 17/100\n",
            "1/1 [==============================] - 0s 15ms/step - loss: 7.0052 - mae: 7.0052\n",
            "Epoch 18/100\n",
            "1/1 [==============================] - 0s 13ms/step - loss: 7.2179 - mae: 7.2179\n",
            "Epoch 19/100\n",
            "1/1 [==============================] - 0s 15ms/step - loss: 7.2411 - mae: 7.2411\n",
            "Epoch 20/100\n",
            "1/1 [==============================] - 0s 17ms/step - loss: 7.1014 - mae: 7.1014\n",
            "Epoch 21/100\n",
            "1/1 [==============================] - 0s 14ms/step - loss: 6.8365 - mae: 6.8365\n",
            "Epoch 22/100\n",
            "1/1 [==============================] - 0s 14ms/step - loss: 6.5647 - mae: 6.5647\n",
            "Epoch 23/100\n",
            "1/1 [==============================] - 0s 17ms/step - loss: 6.3181 - mae: 6.3181\n",
            "Epoch 24/100\n",
            "1/1 [==============================] - 0s 14ms/step - loss: 6.0589 - mae: 6.0589\n",
            "Epoch 25/100\n",
            "1/1 [==============================] - 0s 23ms/step - loss: 5.8204 - mae: 5.8204\n",
            "Epoch 26/100\n",
            "1/1 [==============================] - 0s 19ms/step - loss: 5.7760 - mae: 5.7760\n",
            "Epoch 27/100\n",
            "1/1 [==============================] - 0s 20ms/step - loss: 5.7268 - mae: 5.7268\n",
            "Epoch 28/100\n",
            "1/1 [==============================] - 0s 31ms/step - loss: 5.8451 - mae: 5.8451\n",
            "Epoch 29/100\n",
            "1/1 [==============================] - 0s 19ms/step - loss: 5.8722 - mae: 5.8722\n",
            "Epoch 30/100\n",
            "1/1 [==============================] - 0s 15ms/step - loss: 5.8063 - mae: 5.8063\n",
            "Epoch 31/100\n",
            "1/1 [==============================] - 0s 15ms/step - loss: 5.6577 - mae: 5.6577\n",
            "Epoch 32/100\n",
            "1/1 [==============================] - 0s 16ms/step - loss: 5.4339 - mae: 5.4339\n",
            "Epoch 33/100\n",
            "1/1 [==============================] - 0s 15ms/step - loss: 5.2283 - mae: 5.2283\n",
            "Epoch 34/100\n",
            "1/1 [==============================] - 0s 14ms/step - loss: 5.1143 - mae: 5.1143\n",
            "Epoch 35/100\n",
            "1/1 [==============================] - 0s 15ms/step - loss: 4.9966 - mae: 4.9966\n",
            "Epoch 36/100\n",
            "1/1 [==============================] - 0s 17ms/step - loss: 5.0062 - mae: 5.0062\n",
            "Epoch 37/100\n",
            "1/1 [==============================] - 0s 30ms/step - loss: 4.9833 - mae: 4.9833\n",
            "Epoch 38/100\n",
            "1/1 [==============================] - 0s 19ms/step - loss: 4.9195 - mae: 4.9195\n",
            "Epoch 39/100\n",
            "1/1 [==============================] - 0s 14ms/step - loss: 4.8176 - mae: 4.8176\n",
            "Epoch 40/100\n",
            "1/1 [==============================] - 0s 12ms/step - loss: 4.6805 - mae: 4.6805\n",
            "Epoch 41/100\n",
            "1/1 [==============================] - 0s 33ms/step - loss: 4.5108 - mae: 4.5108\n",
            "Epoch 42/100\n",
            "1/1 [==============================] - 0s 12ms/step - loss: 4.3111 - mae: 4.3111\n",
            "Epoch 43/100\n",
            "1/1 [==============================] - 0s 15ms/step - loss: 4.1343 - mae: 4.1343\n",
            "Epoch 44/100\n",
            "1/1 [==============================] - 0s 13ms/step - loss: 4.0278 - mae: 4.0278\n",
            "Epoch 45/100\n",
            "1/1 [==============================] - 0s 20ms/step - loss: 3.9120 - mae: 3.9120\n",
            "Epoch 46/100\n",
            "1/1 [==============================] - 0s 33ms/step - loss: 3.8551 - mae: 3.8551\n",
            "Epoch 47/100\n",
            "1/1 [==============================] - 0s 18ms/step - loss: 3.7130 - mae: 3.7130\n",
            "Epoch 48/100\n",
            "1/1 [==============================] - 0s 21ms/step - loss: 3.4780 - mae: 3.4780\n",
            "Epoch 49/100\n",
            "1/1 [==============================] - 0s 16ms/step - loss: 3.3061 - mae: 3.3061\n",
            "Epoch 50/100\n",
            "1/1 [==============================] - 0s 34ms/step - loss: 3.1258 - mae: 3.1258\n",
            "Epoch 51/100\n",
            "1/1 [==============================] - 0s 15ms/step - loss: 2.9792 - mae: 2.9792\n",
            "Epoch 52/100\n",
            "1/1 [==============================] - 0s 21ms/step - loss: 2.8331 - mae: 2.8331\n",
            "Epoch 53/100\n",
            "1/1 [==============================] - 0s 23ms/step - loss: 2.6357 - mae: 2.6357\n",
            "Epoch 54/100\n",
            "1/1 [==============================] - 0s 24ms/step - loss: 2.3890 - mae: 2.3890\n",
            "Epoch 55/100\n",
            "1/1 [==============================] - 0s 23ms/step - loss: 2.2014 - mae: 2.2014\n",
            "Epoch 56/100\n",
            "1/1 [==============================] - 0s 40ms/step - loss: 2.0770 - mae: 2.0770\n",
            "Epoch 57/100\n",
            "1/1 [==============================] - 0s 21ms/step - loss: 1.8598 - mae: 1.8598\n",
            "Epoch 58/100\n",
            "1/1 [==============================] - 0s 19ms/step - loss: 1.5406 - mae: 1.5406\n",
            "Epoch 59/100\n",
            "1/1 [==============================] - 0s 28ms/step - loss: 1.3247 - mae: 1.3247\n",
            "Epoch 60/100\n",
            "1/1 [==============================] - 0s 14ms/step - loss: 1.1158 - mae: 1.1158\n",
            "Epoch 61/100\n",
            "1/1 [==============================] - 0s 24ms/step - loss: 0.8409 - mae: 0.8409\n",
            "Epoch 62/100\n",
            "1/1 [==============================] - 0s 20ms/step - loss: 0.5215 - mae: 0.5215\n",
            "Epoch 63/100\n",
            "1/1 [==============================] - 0s 20ms/step - loss: 0.3384 - mae: 0.3384\n",
            "Epoch 64/100\n",
            "1/1 [==============================] - 0s 18ms/step - loss: 0.0969 - mae: 0.0969\n",
            "Epoch 65/100\n",
            "1/1 [==============================] - 0s 22ms/step - loss: 0.5380 - mae: 0.5380\n",
            "Epoch 66/100\n",
            "1/1 [==============================] - 0s 28ms/step - loss: 0.8129 - mae: 0.8129\n",
            "Epoch 67/100\n",
            "1/1 [==============================] - 0s 35ms/step - loss: 0.8544 - mae: 0.8544\n",
            "Epoch 68/100\n",
            "1/1 [==============================] - 0s 40ms/step - loss: 0.6900 - mae: 0.6900\n",
            "Epoch 69/100\n",
            "1/1 [==============================] - 0s 26ms/step - loss: 0.9271 - mae: 0.9271\n",
            "Epoch 70/100\n",
            "1/1 [==============================] - 0s 14ms/step - loss: 1.1017 - mae: 1.1017\n",
            "Epoch 71/100\n",
            "1/1 [==============================] - 0s 13ms/step - loss: 0.9544 - mae: 0.9544\n",
            "Epoch 72/100\n",
            "1/1 [==============================] - 0s 25ms/step - loss: 0.6428 - mae: 0.6428\n",
            "Epoch 73/100\n",
            "1/1 [==============================] - 0s 23ms/step - loss: 0.6999 - mae: 0.6999\n",
            "Epoch 74/100\n",
            "1/1 [==============================] - 0s 21ms/step - loss: 0.7689 - mae: 0.7689\n",
            "Epoch 75/100\n",
            "1/1 [==============================] - 0s 19ms/step - loss: 0.6816 - mae: 0.6816\n",
            "Epoch 76/100\n",
            "1/1 [==============================] - 0s 17ms/step - loss: 0.3859 - mae: 0.3859\n",
            "Epoch 77/100\n",
            "1/1 [==============================] - 0s 19ms/step - loss: 0.1260 - mae: 0.1260\n",
            "Epoch 78/100\n",
            "1/1 [==============================] - 0s 17ms/step - loss: 0.3134 - mae: 0.3134\n",
            "Epoch 79/100\n",
            "1/1 [==============================] - 0s 18ms/step - loss: 0.3457 - mae: 0.3457\n",
            "Epoch 80/100\n",
            "1/1 [==============================] - 0s 21ms/step - loss: 0.2634 - mae: 0.2634\n",
            "Epoch 81/100\n",
            "1/1 [==============================] - 0s 23ms/step - loss: 0.3280 - mae: 0.3280\n",
            "Epoch 82/100\n",
            "1/1 [==============================] - 0s 13ms/step - loss: 0.2551 - mae: 0.2551\n",
            "Epoch 83/100\n",
            "1/1 [==============================] - 0s 19ms/step - loss: 0.2686 - mae: 0.2686\n",
            "Epoch 84/100\n",
            "1/1 [==============================] - 0s 20ms/step - loss: 0.1860 - mae: 0.1860\n",
            "Epoch 85/100\n",
            "1/1 [==============================] - 0s 31ms/step - loss: 0.1049 - mae: 0.1049\n",
            "Epoch 86/100\n",
            "1/1 [==============================] - 0s 16ms/step - loss: 0.0755 - mae: 0.0755\n",
            "Epoch 87/100\n",
            "1/1 [==============================] - 0s 24ms/step - loss: 0.1312 - mae: 0.1312\n",
            "Epoch 88/100\n",
            "1/1 [==============================] - 0s 66ms/step - loss: 0.1575 - mae: 0.1575\n",
            "Epoch 89/100\n",
            "1/1 [==============================] - 0s 29ms/step - loss: 0.1674 - mae: 0.1674\n",
            "Epoch 90/100\n",
            "1/1 [==============================] - 0s 20ms/step - loss: 0.1244 - mae: 0.1244\n",
            "Epoch 91/100\n",
            "1/1 [==============================] - 0s 36ms/step - loss: 0.0525 - mae: 0.0525\n",
            "Epoch 92/100\n",
            "1/1 [==============================] - 0s 32ms/step - loss: 0.0960 - mae: 0.0960\n",
            "Epoch 93/100\n",
            "1/1 [==============================] - 0s 21ms/step - loss: 0.1082 - mae: 0.1082\n",
            "Epoch 94/100\n",
            "1/1 [==============================] - 0s 24ms/step - loss: 0.1165 - mae: 0.1165\n",
            "Epoch 95/100\n",
            "1/1 [==============================] - 0s 24ms/step - loss: 0.1633 - mae: 0.1633\n",
            "Epoch 96/100\n",
            "1/1 [==============================] - 0s 27ms/step - loss: 0.0697 - mae: 0.0697\n",
            "Epoch 97/100\n",
            "1/1 [==============================] - 0s 23ms/step - loss: 0.2320 - mae: 0.2320\n",
            "Epoch 98/100\n",
            "1/1 [==============================] - 0s 28ms/step - loss: 0.1890 - mae: 0.1890\n",
            "Epoch 99/100\n",
            "1/1 [==============================] - 0s 30ms/step - loss: 0.1763 - mae: 0.1763\n",
            "Epoch 100/100\n",
            "1/1 [==============================] - 0s 22ms/step - loss: 0.1988 - mae: 0.1988\n"
          ]
        },
        {
          "output_type": "execute_result",
          "data": {
            "text/plain": [
              "<keras.callbacks.History at 0x781a59193550>"
            ]
          },
          "metadata": {},
          "execution_count": 19
        }
      ]
    },
    {
      "cell_type": "code",
      "source": [
        "model.predict([25.])"
      ],
      "metadata": {
        "colab": {
          "base_uri": "https://localhost:8080/"
        },
        "id": "ymwdU8OhcNhr",
        "outputId": "b12afeaa-0a27-4444-bfc0-378de8a492aa"
      },
      "execution_count": 20,
      "outputs": [
        {
          "output_type": "stream",
          "name": "stdout",
          "text": [
            "1/1 [==============================] - 0s 497ms/step\n"
          ]
        },
        {
          "output_type": "execute_result",
          "data": {
            "text/plain": [
              "array([[35.246162]], dtype=float32)"
            ]
          },
          "metadata": {},
          "execution_count": 20
        }
      ]
    },
    {
      "cell_type": "markdown",
      "source": [
        "#### RECAP: Common ways to improve a deep model\n",
        "- Adding layers\n",
        "- Increase the number of hideen units\n",
        "- Change the activation functions\n",
        "- Change the optimization function\n",
        "- Change the learning rate (👁️ The most useful hyperparameter to improve our neural network)\n",
        "- Sampling more data (bigger datasets)\n",
        "- Fitting training for longer (epochs)"
      ],
      "metadata": {
        "id": "xFgDf9-feGtW"
      }
    },
    {
      "cell_type": "markdown",
      "source": [
        "### Evaluating a model\n",
        "\n",
        "In practice a typical workflow you'll go through when building neural networks is:\n",
        "\n",
        "```\n",
        "Build model -> fit it -> evaluate it -> tweak model -> fit it -> evaluate it -> tweak model -> fit it -> evaluate it...\n",
        "```"
      ],
      "metadata": {
        "id": "X1HRwypid5_q"
      }
    },
    {
      "cell_type": "markdown",
      "source": [
        "When it comes to evaluation... there are 3 words you should memorize:\n",
        "\n",
        "> \"Visualize, visualize, visualize\"\n",
        "\n",
        "It's a good idea to visualize:\n",
        "* The data - what data are we working with? What does it looks like?\n",
        "* The model itself - what does our model look like?\n",
        "* The training of a model - how does a model perform while it learns?\n",
        "* The predictions of the model - how do the predictions of a model line up against the ground thruth (the original labels)?\n"
      ],
      "metadata": {
        "id": "JRfP-VnlfOmx"
      }
    },
    {
      "cell_type": "code",
      "source": [
        "# Make a bigger data set\n",
        "X = tf.range(-100,100,4)\n",
        "X"
      ],
      "metadata": {
        "colab": {
          "base_uri": "https://localhost:8080/"
        },
        "id": "_paPcFwsbGaJ",
        "outputId": "2c0af5d0-9423-4fa0-b32e-3f75b5633ec5"
      },
      "execution_count": 21,
      "outputs": [
        {
          "output_type": "execute_result",
          "data": {
            "text/plain": [
              "<tf.Tensor: shape=(50,), dtype=int32, numpy=\n",
              "array([-100,  -96,  -92,  -88,  -84,  -80,  -76,  -72,  -68,  -64,  -60,\n",
              "        -56,  -52,  -48,  -44,  -40,  -36,  -32,  -28,  -24,  -20,  -16,\n",
              "        -12,   -8,   -4,    0,    4,    8,   12,   16,   20,   24,   28,\n",
              "         32,   36,   40,   44,   48,   52,   56,   60,   64,   68,   72,\n",
              "         76,   80,   84,   88,   92,   96], dtype=int32)>"
            ]
          },
          "metadata": {},
          "execution_count": 21
        }
      ]
    },
    {
      "cell_type": "code",
      "source": [
        "# Make labels for the data set\n",
        "y = X + 10\n",
        "y"
      ],
      "metadata": {
        "colab": {
          "base_uri": "https://localhost:8080/"
        },
        "id": "rKvC6AIsbbUa",
        "outputId": "d068a838-5e3d-4ee0-e037-3201df5c1b6a"
      },
      "execution_count": 23,
      "outputs": [
        {
          "output_type": "execute_result",
          "data": {
            "text/plain": [
              "<tf.Tensor: shape=(50,), dtype=int32, numpy=\n",
              "array([-90, -86, -82, -78, -74, -70, -66, -62, -58, -54, -50, -46, -42,\n",
              "       -38, -34, -30, -26, -22, -18, -14, -10,  -6,  -2,   2,   6,  10,\n",
              "        14,  18,  22,  26,  30,  34,  38,  42,  46,  50,  54,  58,  62,\n",
              "        66,  70,  74,  78,  82,  86,  90,  94,  98, 102, 106], dtype=int32)>"
            ]
          },
          "metadata": {},
          "execution_count": 23
        }
      ]
    },
    {
      "cell_type": "code",
      "source": [
        "# Visualize the data\n",
        "plt.scatter(X,y)"
      ],
      "metadata": {
        "colab": {
          "base_uri": "https://localhost:8080/",
          "height": 447
        },
        "id": "UKmr3uAqbo7h",
        "outputId": "1c35a7e7-8892-4d47-acfb-f17d2fc558b0"
      },
      "execution_count": 25,
      "outputs": [
        {
          "output_type": "execute_result",
          "data": {
            "text/plain": [
              "<matplotlib.collections.PathCollection at 0x781a45091c60>"
            ]
          },
          "metadata": {},
          "execution_count": 25
        },
        {
          "output_type": "display_data",
          "data": {
            "text/plain": [
              "<Figure size 640x480 with 1 Axes>"
            ],
            "image/png": "[encoded data removed]"
          },
          "metadata": {}
        }
      ]
    },
    {
      "cell_type": "markdown",
      "source": [
        "#### The three sets...\n",
        "\n",
        "* Training set - the models learns from this data, which is typlically 70-80% of the data available.\n",
        "* Validation set - the model gets tuned on this data, which is typpically 10-15% of the data.\n",
        "* Test set - the model gets evaluated on this data to test what is has learned, this set is typlically 10-15% of the total of the data.\n",
        "\n",
        "Generalization - The ability for a machine learning model to perform well on data it hasn't seen before."
      ],
      "metadata": {
        "id": "xDKRPzAAb0Gf"
      }
    },
    {
      "cell_type": "code",
      "source": [
        "# Check the length of the samples we have\n",
        "len(X)"
      ],
      "metadata": {
        "colab": {
          "base_uri": "https://localhost:8080/"
        },
        "id": "Ddgi-kZcc_6a",
        "outputId": "a9069e71-ba69-4777-d3d6-a58658dbdb38"
      },
      "execution_count": 26,
      "outputs": [
        {
          "output_type": "execute_result",
          "data": {
            "text/plain": [
              "50"
            ]
          },
          "metadata": {},
          "execution_count": 26
        }
      ]
    },
    {
      "cell_type": "code",
      "source": [
        "# Split into training and test (this data is too small for validation)\n",
        "X_train = X[:40] # The first 40 are trainig samples (80% of the data)\n",
        "y_train = y[:40]\n",
        "\n",
        "X_test = X[40:] # the last 10 are testing samples (20% of the data)\n",
        "y_test = y[40:]\n",
        "\n",
        "len(X_train), len(X_test)"
      ],
      "metadata": {
        "colab": {
          "base_uri": "https://localhost:8080/"
        },
        "id": "Uf2meznbdrcw",
        "outputId": "a2eae2b7-fa5d-446a-eef0-d7242e3e5ea2"
      },
      "execution_count": 27,
      "outputs": [
        {
          "output_type": "execute_result",
          "data": {
            "text/plain": [
              "(40, 10)"
            ]
          },
          "metadata": {},
          "execution_count": 27
        }
      ]
    },
    {
      "cell_type": "markdown",
      "source": [
        "#### Visualizing the data\n",
        "\n",
        "Now we've got our data in training and test sets... let's visualize it again"
      ],
      "metadata": {
        "id": "9ZZQO_voeo_H"
      }
    },
    {
      "cell_type": "code",
      "source": [
        "plt.figure(figsize=(10,7))\n",
        "# Plot training data in blue\n",
        "plt.scatter(X_train, y_train, c='#126b75', label='Training Data')\n",
        "# Plot test data in green\n",
        "plt.scatter(X_test, y_test, c='#EE7A01', label='Test data')\n",
        "# Show a legend\n",
        "plt.legend()"
      ],
      "metadata": {
        "colab": {
          "base_uri": "https://localhost:8080/",
          "height": 616
        },
        "id": "v943lMOHgGeu",
        "outputId": "c2c42094-7e80-40f0-a842-3c98dfaf13d4"
      },
      "execution_count": 32,
      "outputs": [
        {
          "output_type": "execute_result",
          "data": {
            "text/plain": [
              "<matplotlib.legend.Legend at 0x781a4270a740>"
            ]
          },
          "metadata": {},
          "execution_count": 32
        },
        {
          "output_type": "display_data",
          "data": {
            "text/plain": [
              "<Figure size 1000x700 with 1 Axes>"
            ],
            "image/png": "[encoded data removed]"
          },
          "metadata": {}
        }
      ]
    },
    {
      "cell_type": "code",
      "source": [
        "# Let´s have a look up at how to build a neural network for our data\n",
        "\n",
        "# 1. Create model\n",
        "model = tf.keras.Sequential([\n",
        "    tf.keras.layers.Dense(1)\n",
        "])\n",
        "\n",
        "# 2. Compile the model\n",
        "model.compile(loss=tf.keras.losses.mae,\n",
        "              optimizer=tf.keras.optimizers.SGD(),\n",
        "              metrics=['mae'])\n",
        "\n",
        "# # 3. Fit the model\n",
        "# model.fit(tf.expand_dims(X_train, axis=-1), y_train, epochs=100)"
      ],
      "metadata": {
        "id": "ihv4eEb2goRe"
      },
      "execution_count": 33,
      "outputs": []
    },
    {
      "cell_type": "markdown",
      "source": [
        "#### Visualizing the model"
      ],
      "metadata": {
        "id": "TMi_DqMfi_3d"
      }
    },
    {
      "cell_type": "code",
      "source": [
        "model.summary()"
      ],
      "metadata": {
        "colab": {
          "base_uri": "https://localhost:8080/",
          "height": 332
        },
        "id": "CTdQ-VHAjDLr",
        "outputId": "d65371bd-1d00-4c6d-f497-a43c017f9600"
      },
      "execution_count": 34,
      "outputs": [
        {
          "output_type": "error",
          "ename": "ValueError",
          "evalue": "ignored",
          "traceback": [
            "\u001b[0;31m---------------------------------------------------------------------------\u001b[0m",
            "\u001b[0;31mValueError\u001b[0m                                Traceback (most recent call last)",
            "\u001b[0;32m<ipython-input-34-5f15418b3570>\u001b[0m in \u001b[0;36m<cell line: 1>\u001b[0;34m()\u001b[0m\n\u001b[0;32m----> 1\u001b[0;31m \u001b[0mmodel\u001b[0m\u001b[0;34m.\u001b[0m\u001b[0msummary\u001b[0m\u001b[0;34m(\u001b[0m\u001b[0;34m)\u001b[0m\u001b[0;34m\u001b[0m\u001b[0;34m\u001b[0m\u001b[0m\n\u001b[0m",
            "\u001b[0;32m/usr/local/lib/python3.10/dist-packages/keras/engine/training.py\u001b[0m in \u001b[0;36msummary\u001b[0;34m(self, line_length, positions, print_fn, expand_nested, show_trainable, layer_range)\u001b[0m\n\u001b[1;32m   3227\u001b[0m         \"\"\"\n\u001b[1;32m   3228\u001b[0m         \u001b[0;32mif\u001b[0m \u001b[0;32mnot\u001b[0m \u001b[0mself\u001b[0m\u001b[0;34m.\u001b[0m\u001b[0mbuilt\u001b[0m\u001b[0;34m:\u001b[0m\u001b[0;34m\u001b[0m\u001b[0;34m\u001b[0m\u001b[0m\n\u001b[0;32m-> 3229\u001b[0;31m             raise ValueError(\n\u001b[0m\u001b[1;32m   3230\u001b[0m                 \u001b[0;34m\"This model has not yet been built. \"\u001b[0m\u001b[0;34m\u001b[0m\u001b[0;34m\u001b[0m\u001b[0m\n\u001b[1;32m   3231\u001b[0m                 \u001b[0;34m\"Build the model first by calling `build()` or by calling \"\u001b[0m\u001b[0;34m\u001b[0m\u001b[0;34m\u001b[0m\u001b[0m\n",
            "\u001b[0;31mValueError\u001b[0m: This model has not yet been built. Build the model first by calling `build()` or by calling the model on a batch of data."
          ]
        }
      ]
    },
    {
      "cell_type": "code",
      "source": [
        "# Let's create a model which builds automatically by defining the imput_shape argument in the first layer\n",
        "tf.random.set_seed(42)\n",
        "\n",
        "# 1. Create a model\n",
        "model = tf.keras.Sequential([\n",
        "    tf.keras.layers.Dense(1, input_shape=[1])\n",
        "])\n",
        "\n",
        "# Compile the model\n",
        "model.compile(loss=tf.keras.losses.mae,\n",
        "              optimizer=tf.keras.optimizers.SGD(),\n",
        "              metrics=['mae'])"
      ],
      "metadata": {
        "id": "KXKcUeNmjJDL"
      },
      "execution_count": 37,
      "outputs": []
    },
    {
      "cell_type": "code",
      "source": [
        "model.summary()"
      ],
      "metadata": {
        "colab": {
          "base_uri": "https://localhost:8080/"
        },
        "id": "x4lb5SwGlG97",
        "outputId": "2f6b1a34-ebb1-4cba-d764-3d42bac0b880"
      },
      "execution_count": 38,
      "outputs": [
        {
          "output_type": "stream",
          "name": "stdout",
          "text": [
            "Model: \"sequential_6\"\n",
            "_________________________________________________________________\n",
            " Layer (type)                Output Shape              Param #   \n",
            "=================================================================\n",
            " dense_10 (Dense)            (None, 1)                 2         \n",
            "                                                                 \n",
            "=================================================================\n",
            "Total params: 2\n",
            "Trainable params: 2\n",
            "Non-trainable params: 0\n",
            "_________________________________________________________________\n"
          ]
        }
      ]
    },
    {
      "cell_type": "markdown",
      "source": [
        "* Total params - total number of parameters in the model.\n",
        "* Trainable params - these are the patterns the model can update as it trains\n",
        "* Non-trainable - these parameters aren't updated during training (this is typical when you brought parameters from other models during **transfer learning**)\n",
        "\n",
        "👁️ **Resource:** Fore a more in-depth overview check:\n",
        "\n",
        "https://www.youtube.com/watch?v=QDX-1M5Nj7s&list=PLtBw6njQRU-rwp5__7C0oIVt26ZgjG9NI&index=2\n",
        "\n",
        "MIT - Introduction to Deep Learning\n",
        "http://introtodeeplearning.com/\n"
      ],
      "metadata": {
        "id": "aHQ0TB17lJCi"
      }
    },
    {
      "cell_type": "code",
      "source": [],
      "metadata": {
        "id": "SDiABT3QmweC"
      },
      "execution_count": null,
      "outputs": []
    }
  ]
}