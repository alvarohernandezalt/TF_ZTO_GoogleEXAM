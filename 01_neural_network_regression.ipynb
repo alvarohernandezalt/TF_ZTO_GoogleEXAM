{
  "nbformat": 4,
  "nbformat_minor": 0,
  "metadata": {
    "colab": {
      "provenance": [],
      "gpuType": "T4"
    },
    "kernelspec": {
      "name": "python3",
      "display_name": "Python 3"
    },
    "language_info": {
      "name": "python"
    },
    "accelerator": "GPU"
  },
  "cells": [
    {
      "cell_type": "markdown",
      "source": [
        "## **Neural Network Regression in TensorFlow**\n",
        "\n",
        "👁️👁️ Looking to solve Regression Problems\n",
        "\n",
        " - Architecture of a neural network regression model\n",
        " - Input shapes and output shapes of a regression model (**features** and labels)\n",
        " - Creating custom data to view and fit\n",
        " - Steps in modelling\n",
        "  - Creating a model, compiling a model, fitting a model, evaluating a model.\n",
        " - Different evaluation methods\n",
        " - Saving and loading models"
      ],
      "metadata": {
        "id": "f5wjJGSx6-YW"
      }
    },
    {
      "cell_type": "code",
      "execution_count": 1,
      "metadata": {
        "colab": {
          "base_uri": "https://localhost:8080/"
        },
        "id": "CNH8xU5Y6G44",
        "outputId": "94a8f81a-c17a-4708-f3dc-30b6ad0342b7"
      },
      "outputs": [
        {
          "output_type": "stream",
          "name": "stdout",
          "text": [
            "2.12.0\n"
          ]
        }
      ],
      "source": [
        "# Import Tensorflow\n",
        "import tensorflow as tf\n",
        "print(tf.__version__)"
      ]
    },
    {
      "cell_type": "markdown",
      "source": [
        "### Creating data to view and fit"
      ],
      "metadata": {
        "id": "e0iBPtjeCCqv"
      }
    },
    {
      "cell_type": "code",
      "source": [
        "import numpy as np\n",
        "import matplotlib.pyplot as plt\n",
        "\n",
        "# Create features\n",
        "X = np.array([-7.0, -4.0, -1.0, 2.0, 5.0, 8.0, 11.0, 14.0])\n",
        "\n",
        "# Create labels\n",
        "y = np.array([3.0, 6.0, 9.0, 12.0, 15.0, 18.0, 21.0, 24.0])\n",
        "\n",
        "# Visualize it\n",
        "plt.scatter(X, y)\n"
      ],
      "metadata": {
        "colab": {
          "base_uri": "https://localhost:8080/",
          "height": 452
        },
        "id": "XZ5Rvn-1Ecxe",
        "outputId": "21228b23-1a10-4b3b-a184-7b06748521eb"
      },
      "execution_count": 2,
      "outputs": [
        {
          "output_type": "execute_result",
          "data": {
            "text/plain": [
              "<matplotlib.collections.PathCollection at 0x7beca937ba00>"
            ]
          },
          "metadata": {},
          "execution_count": 2
        },
        {
          "output_type": "display_data",
          "data": {
            "text/plain": [
              "<Figure size 640x480 with 1 Axes>"
            ],
            "image/png": "[encoded data removed]"
          },
          "metadata": {}
        }
      ]
    },
    {
      "cell_type": "code",
      "source": [
        "# This is how we get y values from this values (the linear regression of this very simple model)\n",
        "X + 10"
      ],
      "metadata": {
        "colab": {
          "base_uri": "https://localhost:8080/"
        },
        "id": "67oKXtvcFM7V",
        "outputId": "c7a045f1-6c49-4462-cc10-fa2fd97c7851"
      },
      "execution_count": 3,
      "outputs": [
        {
          "output_type": "execute_result",
          "data": {
            "text/plain": [
              "array([ 3.,  6.,  9., 12., 15., 18., 21., 24.])"
            ]
          },
          "metadata": {},
          "execution_count": 3
        }
      ]
    },
    {
      "cell_type": "code",
      "source": [
        "y == X + 10\n"
      ],
      "metadata": {
        "colab": {
          "base_uri": "https://localhost:8080/"
        },
        "id": "H2bcTt9MFlC0",
        "outputId": "497870a3-573f-40cb-e24a-cad845a472e3"
      },
      "execution_count": 4,
      "outputs": [
        {
          "output_type": "execute_result",
          "data": {
            "text/plain": [
              "array([ True,  True,  True,  True,  True,  True,  True,  True])"
            ]
          },
          "metadata": {},
          "execution_count": 4
        }
      ]
    },
    {
      "cell_type": "markdown",
      "source": [
        "#### Input and Output Shapes"
      ],
      "metadata": {
        "id": "yPxHTWJdFnrM"
      }
    },
    {
      "cell_type": "code",
      "source": [
        "# Create a demo tenosr for our housing price prediction problem\n",
        "house_info = tf.constant(['bedroom','bathroom','garage'])\n",
        "house_price = tf.constant([939700])\n",
        "house_info, house_price"
      ],
      "metadata": {
        "colab": {
          "base_uri": "https://localhost:8080/"
        },
        "id": "AlQOdSPNGRiP",
        "outputId": "94462714-473a-47be-cb13-b8c003e83f81"
      },
      "execution_count": 5,
      "outputs": [
        {
          "output_type": "execute_result",
          "data": {
            "text/plain": [
              "(<tf.Tensor: shape=(3,), dtype=string, numpy=array([b'bedroom', b'bathroom', b'garage'], dtype=object)>,\n",
              " <tf.Tensor: shape=(1,), dtype=int32, numpy=array([939700], dtype=int32)>)"
            ]
          },
          "metadata": {},
          "execution_count": 5
        }
      ]
    },
    {
      "cell_type": "code",
      "source": [
        "X[0], y[0]"
      ],
      "metadata": {
        "colab": {
          "base_uri": "https://localhost:8080/"
        },
        "id": "rpdDsnPZIsmn",
        "outputId": "8f0a5199-a567-4f7e-82e3-b2579b62bdab"
      },
      "execution_count": 6,
      "outputs": [
        {
          "output_type": "execute_result",
          "data": {
            "text/plain": [
              "(-7.0, 3.0)"
            ]
          },
          "metadata": {},
          "execution_count": 6
        }
      ]
    },
    {
      "cell_type": "code",
      "source": [
        "input_shape = X[0].shape\n",
        "output_shape = y[0].shape\n",
        "input_shape, output_shape"
      ],
      "metadata": {
        "colab": {
          "base_uri": "https://localhost:8080/"
        },
        "id": "iZy0Zyt3G3Pj",
        "outputId": "2f0e8a75-8eaf-47f8-d108-618390c973b1"
      },
      "execution_count": 7,
      "outputs": [
        {
          "output_type": "execute_result",
          "data": {
            "text/plain": [
              "((), ())"
            ]
          },
          "metadata": {},
          "execution_count": 7
        }
      ]
    },
    {
      "cell_type": "code",
      "source": [
        "# Turn our NumPy arrays into tensors\n",
        "X = tf.cast(tf.constant(X), dtype=tf.float32)\n",
        "y = tf.cast(tf.constant(y), dtype=tf.float32)\n",
        "\n",
        "X, y"
      ],
      "metadata": {
        "colab": {
          "base_uri": "https://localhost:8080/"
        },
        "id": "PpH980DyHIxj",
        "outputId": "74e827cc-c6bd-4b0b-d8ec-2d7a265e547b"
      },
      "execution_count": 8,
      "outputs": [
        {
          "output_type": "execute_result",
          "data": {
            "text/plain": [
              "(<tf.Tensor: shape=(8,), dtype=float32, numpy=array([-7., -4., -1.,  2.,  5.,  8., 11., 14.], dtype=float32)>,\n",
              " <tf.Tensor: shape=(8,), dtype=float32, numpy=array([ 3.,  6.,  9., 12., 15., 18., 21., 24.], dtype=float32)>)"
            ]
          },
          "metadata": {},
          "execution_count": 8
        }
      ]
    },
    {
      "cell_type": "code",
      "source": [
        "input_shape = X[0].shape\n",
        "output_shape = y[0].shape\n",
        "input_shape, output_shape"
      ],
      "metadata": {
        "colab": {
          "base_uri": "https://localhost:8080/"
        },
        "id": "7bVYtQdFLiMH",
        "outputId": "4e207827-5c02-48a6-8f08-615ced654699"
      },
      "execution_count": 9,
      "outputs": [
        {
          "output_type": "execute_result",
          "data": {
            "text/plain": [
              "(TensorShape([]), TensorShape([]))"
            ]
          },
          "metadata": {},
          "execution_count": 9
        }
      ]
    },
    {
      "cell_type": "code",
      "source": [
        "plt.scatter(X, y)\n"
      ],
      "metadata": {
        "colab": {
          "base_uri": "https://localhost:8080/",
          "height": 452
        },
        "id": "49bMIexxLno-",
        "outputId": "8a4f7266-e0ab-47b0-e682-370d761d8a52"
      },
      "execution_count": 10,
      "outputs": [
        {
          "output_type": "execute_result",
          "data": {
            "text/plain": [
              "<matplotlib.collections.PathCollection at 0x7beca6fe6c80>"
            ]
          },
          "metadata": {},
          "execution_count": 10
        },
        {
          "output_type": "display_data",
          "data": {
            "text/plain": [
              "<Figure size 640x480 with 1 Axes>"
            ],
            "image/png": "[encoded data removed]"
          },
          "metadata": {}
        }
      ]
    },
    {
      "cell_type": "markdown",
      "source": [
        "### Steps in modelling with TensorFlow\n",
        "\n",
        "1. **Creating a model** - define the input and output layers, as well as the hidden layers of a deep learning model.\n",
        "2. **Compiling a model** - define the loss function (in other words, the function which tells our model how worng it is), the optimizer (tells our model how to improve the patterns its learning), and the evaluation metrics (what we can use to interpret the performance of our model).\n",
        "3. **Fitting a model** - letting the model try to find patterns between X & y (features & labels). Epochs - How many times the model will go through all of the training examples\n",
        "4. **Evaluate the model** on the test data (how reliable are our models predictions?)\n"
      ],
      "metadata": {
        "id": "wMt8oXAML0kn"
      }
    },
    {
      "cell_type": "code",
      "source": [
        "# Set random seed\n",
        "tf.random.set_seed(42)\n",
        "\n",
        "# 1. Create amodel using the sequential API\n",
        "model = tf.keras.Sequential([\n",
        "    tf.keras.layers.Dense(1)\n",
        "]) # into a list method\n",
        "\n",
        "# add method\n",
        "# model = tf.keras.Sequential()\n",
        "# model.add(tf.keras.layers.Dense(1))\n",
        "\n",
        "# 2. Compile the model\n",
        "model.compile(loss=tf.keras.losses.mae, #mae is short for mean absolute error\n",
        "              optimizer=tf.keras.optimizers.SGD(), #SGD is short for Stochastic Gradient Descent\n",
        "              metrics=['mae'])\n",
        "\n",
        "# Fit the model\n",
        "model.fit(tf.expand_dims(X, axis=-1), y, epochs=5)"
      ],
      "metadata": {
        "colab": {
          "base_uri": "https://localhost:8080/"
        },
        "id": "PlQ3HrGyL9ve",
        "outputId": "2857a254-afe7-4a31-e7d6-a306aa9ff2da"
      },
      "execution_count": 11,
      "outputs": [
        {
          "output_type": "stream",
          "name": "stdout",
          "text": [
            "Epoch 1/5\n",
            "1/1 [==============================] - 6s 6s/step - loss: 10.2360 - mae: 10.2360\n",
            "Epoch 2/5\n",
            "1/1 [==============================] - 0s 18ms/step - loss: 10.1035 - mae: 10.1035\n",
            "Epoch 3/5\n",
            "1/1 [==============================] - 0s 10ms/step - loss: 9.9710 - mae: 9.9710\n",
            "Epoch 4/5\n",
            "1/1 [==============================] - 0s 14ms/step - loss: 9.8385 - mae: 9.8385\n",
            "Epoch 5/5\n",
            "1/1 [==============================] - 0s 13ms/step - loss: 9.7060 - mae: 9.7060\n"
          ]
        },
        {
          "output_type": "execute_result",
          "data": {
            "text/plain": [
              "<keras.callbacks.History at 0x7bec9e7e7dc0>"
            ]
          },
          "metadata": {},
          "execution_count": 11
        }
      ]
    },
    {
      "cell_type": "code",
      "source": [
        "# Check out X and y\n",
        "X, y"
      ],
      "metadata": {
        "colab": {
          "base_uri": "https://localhost:8080/"
        },
        "id": "YYSR2YinqtYI",
        "outputId": "d1b0ce3e-facc-4a84-ca97-b37097ddbf87"
      },
      "execution_count": 12,
      "outputs": [
        {
          "output_type": "execute_result",
          "data": {
            "text/plain": [
              "(<tf.Tensor: shape=(8,), dtype=float32, numpy=array([-7., -4., -1.,  2.,  5.,  8., 11., 14.], dtype=float32)>,\n",
              " <tf.Tensor: shape=(8,), dtype=float32, numpy=array([ 3.,  6.,  9., 12., 15., 18., 21., 24.], dtype=float32)>)"
            ]
          },
          "metadata": {},
          "execution_count": 12
        }
      ]
    },
    {
      "cell_type": "code",
      "source": [
        "# Try and make a prediction using our model\n",
        "model.predict([17.0])"
      ],
      "metadata": {
        "colab": {
          "base_uri": "https://localhost:8080/"
        },
        "id": "Hh4K2jbqucOa",
        "outputId": "eb7a604a-8e26-4dbd-c3cb-cf19474518ef"
      },
      "execution_count": 13,
      "outputs": [
        {
          "output_type": "stream",
          "name": "stdout",
          "text": [
            "1/1 [==============================] - 0s 80ms/step\n"
          ]
        },
        {
          "output_type": "execute_result",
          "data": {
            "text/plain": [
              "array([[18.878616]], dtype=float32)"
            ]
          },
          "metadata": {},
          "execution_count": 13
        }
      ]
    },
    {
      "cell_type": "markdown",
      "source": [
        "### Improving our model\n",
        "\n",
        "We can improve our model, by altering the steps we took to create a model.\n",
        "\n",
        "1. **Creating a model** - here we might add more layers, increase the number of hidden units (all called neurons) within each of the hidden layers, change the activation function of each layer.\n",
        "2. **Compiling a model** - here we might change the optimization fucntion or perhaps the **learning rate** of the optimization function.\n",
        "3. **Fitting a model** - here we might fit the model for more **epochs** (leave it training for longer) or on more data (give the model more examples to learn from)."
      ],
      "metadata": {
        "id": "uhwABg2_ulcC"
      }
    },
    {
      "cell_type": "code",
      "source": [
        "# Rebuilding our model\n",
        "\n",
        "# 1. Creating the model\n",
        "model = tf.keras.Sequential([\n",
        "    tf.keras.layers.Dense(1)\n",
        "])\n",
        "\n",
        "# 2. Compiling the model\n",
        "model.compile(loss=tf.keras.losses.mae,\n",
        "              optimizer=tf.keras.optimizers.SGD(),\n",
        "              metrics=['mae'])\n",
        "\n",
        "# 3. Fit the model (this time we'll train for longer)\n",
        "model.fit(tf.expand_dims(X, axis=-1), y, epochs=100)"
      ],
      "metadata": {
        "colab": {
          "base_uri": "https://localhost:8080/"
        },
        "id": "AKveIxuqUtMq",
        "outputId": "700f6e2d-06d1-4128-b33e-f70745d3dbd7"
      },
      "execution_count": 14,
      "outputs": [
        {
          "output_type": "stream",
          "name": "stdout",
          "text": [
            "Epoch 1/100\n",
            "1/1 [==============================] - 0s 336ms/step - loss: 11.7601 - mae: 11.7601\n",
            "Epoch 2/100\n",
            "1/1 [==============================] - 0s 12ms/step - loss: 11.6276 - mae: 11.6276\n",
            "Epoch 3/100\n",
            "1/1 [==============================] - 0s 9ms/step - loss: 11.4951 - mae: 11.4951\n",
            "Epoch 4/100\n",
            "1/1 [==============================] - 0s 9ms/step - loss: 11.3626 - mae: 11.3626\n",
            "Epoch 5/100\n",
            "1/1 [==============================] - 0s 8ms/step - loss: 11.2301 - mae: 11.2301\n",
            "Epoch 6/100\n",
            "1/1 [==============================] - 0s 10ms/step - loss: 11.0976 - mae: 11.0976\n",
            "Epoch 7/100\n",
            "1/1 [==============================] - 0s 8ms/step - loss: 10.9651 - mae: 10.9651\n",
            "Epoch 8/100\n",
            "1/1 [==============================] - 0s 7ms/step - loss: 10.8326 - mae: 10.8326\n",
            "Epoch 9/100\n",
            "1/1 [==============================] - 0s 11ms/step - loss: 10.7001 - mae: 10.7001\n",
            "Epoch 10/100\n",
            "1/1 [==============================] - 0s 10ms/step - loss: 10.5676 - mae: 10.5676\n",
            "Epoch 11/100\n",
            "1/1 [==============================] - 0s 10ms/step - loss: 10.4351 - mae: 10.4351\n",
            "Epoch 12/100\n",
            "1/1 [==============================] - 0s 8ms/step - loss: 10.3026 - mae: 10.3026\n",
            "Epoch 13/100\n",
            "1/1 [==============================] - 0s 8ms/step - loss: 10.1701 - mae: 10.1701\n",
            "Epoch 14/100\n",
            "1/1 [==============================] - 0s 12ms/step - loss: 10.0376 - mae: 10.0376\n",
            "Epoch 15/100\n",
            "1/1 [==============================] - 0s 8ms/step - loss: 9.9051 - mae: 9.9051\n",
            "Epoch 16/100\n",
            "1/1 [==============================] - 0s 8ms/step - loss: 9.7726 - mae: 9.7726\n",
            "Epoch 17/100\n",
            "1/1 [==============================] - 0s 8ms/step - loss: 9.6401 - mae: 9.6401\n",
            "Epoch 18/100\n",
            "1/1 [==============================] - 0s 13ms/step - loss: 9.5076 - mae: 9.5076\n",
            "Epoch 19/100\n",
            "1/1 [==============================] - 0s 9ms/step - loss: 9.3751 - mae: 9.3751\n",
            "Epoch 20/100\n",
            "1/1 [==============================] - 0s 13ms/step - loss: 9.2426 - mae: 9.2426\n",
            "Epoch 21/100\n",
            "1/1 [==============================] - 0s 12ms/step - loss: 9.1101 - mae: 9.1101\n",
            "Epoch 22/100\n",
            "1/1 [==============================] - 0s 15ms/step - loss: 8.9776 - mae: 8.9776\n",
            "Epoch 23/100\n",
            "1/1 [==============================] - 0s 11ms/step - loss: 8.8451 - mae: 8.8451\n",
            "Epoch 24/100\n",
            "1/1 [==============================] - 0s 9ms/step - loss: 8.7126 - mae: 8.7126\n",
            "Epoch 25/100\n",
            "1/1 [==============================] - 0s 8ms/step - loss: 8.5801 - mae: 8.5801\n",
            "Epoch 26/100\n",
            "1/1 [==============================] - 0s 9ms/step - loss: 8.4476 - mae: 8.4476\n",
            "Epoch 27/100\n",
            "1/1 [==============================] - 0s 9ms/step - loss: 8.3151 - mae: 8.3151\n",
            "Epoch 28/100\n",
            "1/1 [==============================] - 0s 9ms/step - loss: 8.1826 - mae: 8.1826\n",
            "Epoch 29/100\n",
            "1/1 [==============================] - 0s 9ms/step - loss: 8.0501 - mae: 8.0501\n",
            "Epoch 30/100\n",
            "1/1 [==============================] - 0s 9ms/step - loss: 7.9176 - mae: 7.9176\n",
            "Epoch 31/100\n",
            "1/1 [==============================] - 0s 10ms/step - loss: 7.7851 - mae: 7.7851\n",
            "Epoch 32/100\n",
            "1/1 [==============================] - 0s 10ms/step - loss: 7.6526 - mae: 7.6526\n",
            "Epoch 33/100\n",
            "1/1 [==============================] - 0s 10ms/step - loss: 7.5201 - mae: 7.5201\n",
            "Epoch 34/100\n",
            "1/1 [==============================] - 0s 10ms/step - loss: 7.3876 - mae: 7.3876\n",
            "Epoch 35/100\n",
            "1/1 [==============================] - 0s 8ms/step - loss: 7.2551 - mae: 7.2551\n",
            "Epoch 36/100\n",
            "1/1 [==============================] - 0s 8ms/step - loss: 7.2375 - mae: 7.2375\n",
            "Epoch 37/100\n",
            "1/1 [==============================] - 0s 13ms/step - loss: 7.2319 - mae: 7.2319\n",
            "Epoch 38/100\n",
            "1/1 [==============================] - 0s 12ms/step - loss: 7.2263 - mae: 7.2263\n",
            "Epoch 39/100\n",
            "1/1 [==============================] - 0s 13ms/step - loss: 7.2206 - mae: 7.2206\n",
            "Epoch 40/100\n",
            "1/1 [==============================] - 0s 11ms/step - loss: 7.2150 - mae: 7.2150\n",
            "Epoch 41/100\n",
            "1/1 [==============================] - 0s 10ms/step - loss: 7.2094 - mae: 7.2094\n",
            "Epoch 42/100\n",
            "1/1 [==============================] - 0s 10ms/step - loss: 7.2038 - mae: 7.2038\n",
            "Epoch 43/100\n",
            "1/1 [==============================] - 0s 9ms/step - loss: 7.1981 - mae: 7.1981\n",
            "Epoch 44/100\n",
            "1/1 [==============================] - 0s 10ms/step - loss: 7.1925 - mae: 7.1925\n",
            "Epoch 45/100\n",
            "1/1 [==============================] - 0s 10ms/step - loss: 7.1869 - mae: 7.1869\n",
            "Epoch 46/100\n",
            "1/1 [==============================] - 0s 10ms/step - loss: 7.1813 - mae: 7.1813\n",
            "Epoch 47/100\n",
            "1/1 [==============================] - 0s 11ms/step - loss: 7.1756 - mae: 7.1756\n",
            "Epoch 48/100\n",
            "1/1 [==============================] - 0s 10ms/step - loss: 7.1700 - mae: 7.1700\n",
            "Epoch 49/100\n",
            "1/1 [==============================] - 0s 10ms/step - loss: 7.1644 - mae: 7.1644\n",
            "Epoch 50/100\n",
            "1/1 [==============================] - 0s 13ms/step - loss: 7.1588 - mae: 7.1588\n",
            "Epoch 51/100\n",
            "1/1 [==============================] - 0s 10ms/step - loss: 7.1531 - mae: 7.1531\n",
            "Epoch 52/100\n",
            "1/1 [==============================] - 0s 10ms/step - loss: 7.1475 - mae: 7.1475\n",
            "Epoch 53/100\n",
            "1/1 [==============================] - 0s 10ms/step - loss: 7.1419 - mae: 7.1419\n",
            "Epoch 54/100\n",
            "1/1 [==============================] - 0s 9ms/step - loss: 7.1363 - mae: 7.1363\n",
            "Epoch 55/100\n",
            "1/1 [==============================] - 0s 15ms/step - loss: 7.1306 - mae: 7.1306\n",
            "Epoch 56/100\n",
            "1/1 [==============================] - 0s 15ms/step - loss: 7.1250 - mae: 7.1250\n",
            "Epoch 57/100\n",
            "1/1 [==============================] - 0s 10ms/step - loss: 7.1194 - mae: 7.1194\n",
            "Epoch 58/100\n",
            "1/1 [==============================] - 0s 10ms/step - loss: 7.1138 - mae: 7.1138\n",
            "Epoch 59/100\n",
            "1/1 [==============================] - 0s 9ms/step - loss: 7.1081 - mae: 7.1081\n",
            "Epoch 60/100\n",
            "1/1 [==============================] - 0s 10ms/step - loss: 7.1025 - mae: 7.1025\n",
            "Epoch 61/100\n",
            "1/1 [==============================] - 0s 10ms/step - loss: 7.0969 - mae: 7.0969\n",
            "Epoch 62/100\n",
            "1/1 [==============================] - 0s 9ms/step - loss: 7.0912 - mae: 7.0912\n",
            "Epoch 63/100\n",
            "1/1 [==============================] - 0s 13ms/step - loss: 7.0856 - mae: 7.0856\n",
            "Epoch 64/100\n",
            "1/1 [==============================] - 0s 13ms/step - loss: 7.0800 - mae: 7.0800\n",
            "Epoch 65/100\n",
            "1/1 [==============================] - 0s 10ms/step - loss: 7.0744 - mae: 7.0744\n",
            "Epoch 66/100\n",
            "1/1 [==============================] - 0s 11ms/step - loss: 7.0687 - mae: 7.0687\n",
            "Epoch 67/100\n",
            "1/1 [==============================] - 0s 9ms/step - loss: 7.0631 - mae: 7.0631\n",
            "Epoch 68/100\n",
            "1/1 [==============================] - 0s 9ms/step - loss: 7.0575 - mae: 7.0575\n",
            "Epoch 69/100\n",
            "1/1 [==============================] - 0s 12ms/step - loss: 7.0519 - mae: 7.0519\n",
            "Epoch 70/100\n",
            "1/1 [==============================] - 0s 15ms/step - loss: 7.0463 - mae: 7.0463\n",
            "Epoch 71/100\n",
            "1/1 [==============================] - 0s 10ms/step - loss: 7.0406 - mae: 7.0406\n",
            "Epoch 72/100\n",
            "1/1 [==============================] - 0s 16ms/step - loss: 7.0350 - mae: 7.0350\n",
            "Epoch 73/100\n",
            "1/1 [==============================] - 0s 10ms/step - loss: 7.0294 - mae: 7.0294\n",
            "Epoch 74/100\n",
            "1/1 [==============================] - 0s 10ms/step - loss: 7.0238 - mae: 7.0238\n",
            "Epoch 75/100\n",
            "1/1 [==============================] - 0s 9ms/step - loss: 7.0181 - mae: 7.0181\n",
            "Epoch 76/100\n",
            "1/1 [==============================] - 0s 9ms/step - loss: 7.0125 - mae: 7.0125\n",
            "Epoch 77/100\n",
            "1/1 [==============================] - 0s 9ms/step - loss: 7.0069 - mae: 7.0069\n",
            "Epoch 78/100\n",
            "1/1 [==============================] - 0s 9ms/step - loss: 7.0013 - mae: 7.0013\n",
            "Epoch 79/100\n",
            "1/1 [==============================] - 0s 10ms/step - loss: 6.9956 - mae: 6.9956\n",
            "Epoch 80/100\n",
            "1/1 [==============================] - 0s 9ms/step - loss: 6.9900 - mae: 6.9900\n",
            "Epoch 81/100\n",
            "1/1 [==============================] - 0s 10ms/step - loss: 6.9844 - mae: 6.9844\n",
            "Epoch 82/100\n",
            "1/1 [==============================] - 0s 9ms/step - loss: 6.9788 - mae: 6.9788\n",
            "Epoch 83/100\n",
            "1/1 [==============================] - 0s 9ms/step - loss: 6.9731 - mae: 6.9731\n",
            "Epoch 84/100\n",
            "1/1 [==============================] - 0s 9ms/step - loss: 6.9675 - mae: 6.9675\n",
            "Epoch 85/100\n",
            "1/1 [==============================] - 0s 9ms/step - loss: 6.9619 - mae: 6.9619\n",
            "Epoch 86/100\n",
            "1/1 [==============================] - 0s 9ms/step - loss: 6.9563 - mae: 6.9563\n",
            "Epoch 87/100\n",
            "1/1 [==============================] - 0s 10ms/step - loss: 6.9506 - mae: 6.9506\n",
            "Epoch 88/100\n",
            "1/1 [==============================] - 0s 9ms/step - loss: 6.9450 - mae: 6.9450\n",
            "Epoch 89/100\n",
            "1/1 [==============================] - 0s 14ms/step - loss: 6.9394 - mae: 6.9394\n",
            "Epoch 90/100\n",
            "1/1 [==============================] - 0s 12ms/step - loss: 6.9338 - mae: 6.9338\n",
            "Epoch 91/100\n",
            "1/1 [==============================] - 0s 14ms/step - loss: 6.9281 - mae: 6.9281\n",
            "Epoch 92/100\n",
            "1/1 [==============================] - 0s 9ms/step - loss: 6.9225 - mae: 6.9225\n",
            "Epoch 93/100\n",
            "1/1 [==============================] - 0s 11ms/step - loss: 6.9169 - mae: 6.9169\n",
            "Epoch 94/100\n",
            "1/1 [==============================] - 0s 10ms/step - loss: 6.9113 - mae: 6.9113\n",
            "Epoch 95/100\n",
            "1/1 [==============================] - 0s 9ms/step - loss: 6.9056 - mae: 6.9056\n",
            "Epoch 96/100\n",
            "1/1 [==============================] - 0s 8ms/step - loss: 6.9000 - mae: 6.9000\n",
            "Epoch 97/100\n",
            "1/1 [==============================] - 0s 8ms/step - loss: 6.8944 - mae: 6.8944\n",
            "Epoch 98/100\n",
            "1/1 [==============================] - 0s 9ms/step - loss: 6.8888 - mae: 6.8888\n",
            "Epoch 99/100\n",
            "1/1 [==============================] - 0s 11ms/step - loss: 6.8831 - mae: 6.8831\n",
            "Epoch 100/100\n",
            "1/1 [==============================] - 0s 10ms/step - loss: 6.8775 - mae: 6.8775\n"
          ]
        },
        {
          "output_type": "execute_result",
          "data": {
            "text/plain": [
              "<keras.callbacks.History at 0x7bec930f8a60>"
            ]
          },
          "metadata": {},
          "execution_count": 14
        }
      ]
    },
    {
      "cell_type": "code",
      "source": [
        "# Remind the data\n",
        "X, y"
      ],
      "metadata": {
        "colab": {
          "base_uri": "https://localhost:8080/"
        },
        "id": "ScmQsLJQXrFI",
        "outputId": "c3e610ac-436a-4ed4-9226-c078773434a8"
      },
      "execution_count": 15,
      "outputs": [
        {
          "output_type": "execute_result",
          "data": {
            "text/plain": [
              "(<tf.Tensor: shape=(8,), dtype=float32, numpy=array([-7., -4., -1.,  2.,  5.,  8., 11., 14.], dtype=float32)>,\n",
              " <tf.Tensor: shape=(8,), dtype=float32, numpy=array([ 3.,  6.,  9., 12., 15., 18., 21., 24.], dtype=float32)>)"
            ]
          },
          "metadata": {},
          "execution_count": 15
        }
      ]
    },
    {
      "cell_type": "code",
      "source": [
        "# Let's see if the model prediction has improved\n",
        "model.predict([17.])"
      ],
      "metadata": {
        "colab": {
          "base_uri": "https://localhost:8080/"
        },
        "id": "ZvbtrPKkYbkP",
        "outputId": "301bbd19-c526-4d11-f5d6-235bef50ee57"
      },
      "execution_count": 16,
      "outputs": [
        {
          "output_type": "stream",
          "name": "stdout",
          "text": [
            "1/1 [==============================] - 0s 54ms/step\n"
          ]
        },
        {
          "output_type": "execute_result",
          "data": {
            "text/plain": [
              "array([[30.11359]], dtype=float32)"
            ]
          },
          "metadata": {},
          "execution_count": 16
        }
      ]
    },
    {
      "cell_type": "code",
      "source": [
        "# Rebuilding (third time) our model\n",
        "# Adding a hidden layer\n",
        "\n",
        "# 1. Creating the model\n",
        "model = tf.keras.Sequential([\n",
        "    tf.keras.layers.Dense(100, activation='relu'),\n",
        "    tf.keras.layers.Dense(100, activation='relu'),\n",
        "    tf.keras.layers.Dense(100, activation='relu'),\n",
        "    tf.keras.layers.Dense(1)\n",
        "])\n",
        "\n",
        "# 2. Compiling the model\n",
        "model.compile(loss=tf.keras.losses.mae,\n",
        "              optimizer=tf.keras.optimizers.SGD(),\n",
        "              metrics=['mae'])\n",
        "\n",
        "# 3. Fit the model (this time we'll train for longer)\n",
        "model.fit(tf.expand_dims(X, axis=-1), y, epochs=100)"
      ],
      "metadata": {
        "colab": {
          "base_uri": "https://localhost:8080/"
        },
        "id": "Vb5bklpEYqTO",
        "outputId": "379f4f7a-7edd-4a7b-9ad4-d30b4f598206"
      },
      "execution_count": 17,
      "outputs": [
        {
          "output_type": "stream",
          "name": "stdout",
          "text": [
            "Epoch 1/100\n",
            "1/1 [==============================] - 1s 874ms/step - loss: 13.6007 - mae: 13.6007\n",
            "Epoch 2/100\n",
            "1/1 [==============================] - 0s 12ms/step - loss: 13.2011 - mae: 13.2011\n",
            "Epoch 3/100\n",
            "1/1 [==============================] - 0s 10ms/step - loss: 12.8561 - mae: 12.8561\n",
            "Epoch 4/100\n",
            "1/1 [==============================] - 0s 14ms/step - loss: 12.4727 - mae: 12.4727\n",
            "Epoch 5/100\n",
            "1/1 [==============================] - 0s 10ms/step - loss: 12.0599 - mae: 12.0599\n",
            "Epoch 6/100\n",
            "1/1 [==============================] - 0s 12ms/step - loss: 11.5916 - mae: 11.5916\n",
            "Epoch 7/100\n",
            "1/1 [==============================] - 0s 10ms/step - loss: 11.0387 - mae: 11.0387\n",
            "Epoch 8/100\n",
            "1/1 [==============================] - 0s 10ms/step - loss: 10.3737 - mae: 10.3737\n",
            "Epoch 9/100\n",
            "1/1 [==============================] - 0s 10ms/step - loss: 9.5400 - mae: 9.5400\n",
            "Epoch 10/100\n",
            "1/1 [==============================] - 0s 10ms/step - loss: 8.4763 - mae: 8.4763\n",
            "Epoch 11/100\n",
            "1/1 [==============================] - 0s 11ms/step - loss: 7.0824 - mae: 7.0824\n",
            "Epoch 12/100\n",
            "1/1 [==============================] - 0s 9ms/step - loss: 5.2533 - mae: 5.2533\n",
            "Epoch 13/100\n",
            "1/1 [==============================] - 0s 12ms/step - loss: 3.9912 - mae: 3.9912\n",
            "Epoch 14/100\n",
            "1/1 [==============================] - 0s 9ms/step - loss: 3.9795 - mae: 3.9795\n",
            "Epoch 15/100\n",
            "1/1 [==============================] - 0s 9ms/step - loss: 4.0038 - mae: 4.0038\n",
            "Epoch 16/100\n",
            "1/1 [==============================] - 0s 17ms/step - loss: 3.9295 - mae: 3.9295\n",
            "Epoch 17/100\n",
            "1/1 [==============================] - 0s 8ms/step - loss: 4.0187 - mae: 4.0187\n",
            "Epoch 18/100\n",
            "1/1 [==============================] - 0s 11ms/step - loss: 3.8780 - mae: 3.8780\n",
            "Epoch 19/100\n",
            "1/1 [==============================] - 0s 13ms/step - loss: 4.0343 - mae: 4.0343\n",
            "Epoch 20/100\n",
            "1/1 [==============================] - 0s 11ms/step - loss: 3.8247 - mae: 3.8247\n",
            "Epoch 21/100\n",
            "1/1 [==============================] - 0s 10ms/step - loss: 4.0514 - mae: 4.0514\n",
            "Epoch 22/100\n",
            "1/1 [==============================] - 0s 11ms/step - loss: 3.8305 - mae: 3.8305\n",
            "Epoch 23/100\n",
            "1/1 [==============================] - 0s 10ms/step - loss: 3.9947 - mae: 3.9947\n",
            "Epoch 24/100\n",
            "1/1 [==============================] - 0s 10ms/step - loss: 3.8481 - mae: 3.8481\n",
            "Epoch 25/100\n",
            "1/1 [==============================] - 0s 11ms/step - loss: 3.9412 - mae: 3.9412\n",
            "Epoch 26/100\n",
            "1/1 [==============================] - 0s 11ms/step - loss: 3.8667 - mae: 3.8667\n",
            "Epoch 27/100\n",
            "1/1 [==============================] - 0s 11ms/step - loss: 3.8880 - mae: 3.8880\n",
            "Epoch 28/100\n",
            "1/1 [==============================] - 0s 11ms/step - loss: 3.9204 - mae: 3.9204\n",
            "Epoch 29/100\n",
            "1/1 [==============================] - 0s 10ms/step - loss: 3.8081 - mae: 3.8081\n",
            "Epoch 30/100\n",
            "1/1 [==============================] - 0s 13ms/step - loss: 3.9407 - mae: 3.9407\n",
            "Epoch 31/100\n",
            "1/1 [==============================] - 0s 9ms/step - loss: 3.7486 - mae: 3.7486\n",
            "Epoch 32/100\n",
            "1/1 [==============================] - 0s 10ms/step - loss: 3.9623 - mae: 3.9623\n",
            "Epoch 33/100\n",
            "1/1 [==============================] - 0s 10ms/step - loss: 3.7482 - mae: 3.7482\n",
            "Epoch 34/100\n",
            "1/1 [==============================] - 0s 10ms/step - loss: 3.9102 - mae: 3.9102\n",
            "Epoch 35/100\n",
            "1/1 [==============================] - 0s 10ms/step - loss: 3.7696 - mae: 3.7696\n",
            "Epoch 36/100\n",
            "1/1 [==============================] - 0s 10ms/step - loss: 3.8502 - mae: 3.8502\n",
            "Epoch 37/100\n",
            "1/1 [==============================] - 0s 12ms/step - loss: 3.7925 - mae: 3.7925\n",
            "Epoch 38/100\n",
            "1/1 [==============================] - 0s 10ms/step - loss: 3.7936 - mae: 3.7936\n",
            "Epoch 39/100\n",
            "1/1 [==============================] - 0s 10ms/step - loss: 3.8499 - mae: 3.8499\n",
            "Epoch 40/100\n",
            "1/1 [==============================] - 0s 10ms/step - loss: 3.7051 - mae: 3.7051\n",
            "Epoch 41/100\n",
            "1/1 [==============================] - 0s 10ms/step - loss: 3.8743 - mae: 3.8743\n",
            "Epoch 42/100\n",
            "1/1 [==============================] - 0s 11ms/step - loss: 3.6672 - mae: 3.6672\n",
            "Epoch 43/100\n",
            "1/1 [==============================] - 0s 10ms/step - loss: 3.8587 - mae: 3.8587\n",
            "Epoch 44/100\n",
            "1/1 [==============================] - 0s 10ms/step - loss: 3.6914 - mae: 3.6914\n",
            "Epoch 45/100\n",
            "1/1 [==============================] - 0s 10ms/step - loss: 3.7945 - mae: 3.7945\n",
            "Epoch 46/100\n",
            "1/1 [==============================] - 0s 11ms/step - loss: 3.7169 - mae: 3.7169\n",
            "Epoch 47/100\n",
            "1/1 [==============================] - 0s 10ms/step - loss: 3.7283 - mae: 3.7283\n",
            "Epoch 48/100\n",
            "1/1 [==============================] - 0s 11ms/step - loss: 3.7441 - mae: 3.7441\n",
            "Epoch 49/100\n",
            "1/1 [==============================] - 0s 9ms/step - loss: 3.6635 - mae: 3.6635\n",
            "Epoch 50/100\n",
            "1/1 [==============================] - 0s 11ms/step - loss: 3.8055 - mae: 3.8055\n",
            "Epoch 51/100\n",
            "1/1 [==============================] - 0s 12ms/step - loss: 3.6023 - mae: 3.6023\n",
            "Epoch 52/100\n",
            "1/1 [==============================] - 0s 14ms/step - loss: 3.7864 - mae: 3.7864\n",
            "Epoch 53/100\n",
            "1/1 [==============================] - 0s 11ms/step - loss: 3.6293 - mae: 3.6293\n",
            "Epoch 54/100\n",
            "1/1 [==============================] - 0s 11ms/step - loss: 3.7167 - mae: 3.7167\n",
            "Epoch 55/100\n",
            "1/1 [==============================] - 0s 12ms/step - loss: 3.6577 - mae: 3.6577\n",
            "Epoch 56/100\n",
            "1/1 [==============================] - 0s 11ms/step - loss: 3.6438 - mae: 3.6438\n",
            "Epoch 57/100\n",
            "1/1 [==============================] - 0s 12ms/step - loss: 3.6866 - mae: 3.6866\n",
            "Epoch 58/100\n",
            "1/1 [==============================] - 0s 11ms/step - loss: 3.5671 - mae: 3.5671\n",
            "Epoch 59/100\n",
            "1/1 [==============================] - 0s 11ms/step - loss: 3.7163 - mae: 3.7163\n",
            "Epoch 60/100\n",
            "1/1 [==============================] - 0s 10ms/step - loss: 3.5184 - mae: 3.5184\n",
            "Epoch 61/100\n",
            "1/1 [==============================] - 0s 11ms/step - loss: 3.7237 - mae: 3.7237\n",
            "Epoch 62/100\n",
            "1/1 [==============================] - 0s 11ms/step - loss: 3.5819 - mae: 3.5819\n",
            "Epoch 63/100\n",
            "1/1 [==============================] - 0s 12ms/step - loss: 3.6076 - mae: 3.6076\n",
            "Epoch 64/100\n",
            "1/1 [==============================] - 0s 12ms/step - loss: 3.6125 - mae: 3.6125\n",
            "Epoch 65/100\n",
            "1/1 [==============================] - 0s 12ms/step - loss: 3.5291 - mae: 3.5291\n",
            "Epoch 66/100\n",
            "1/1 [==============================] - 0s 11ms/step - loss: 3.6447 - mae: 3.6447\n",
            "Epoch 67/100\n",
            "1/1 [==============================] - 0s 13ms/step - loss: 3.4515 - mae: 3.4515\n",
            "Epoch 68/100\n",
            "1/1 [==============================] - 0s 9ms/step - loss: 3.6620 - mae: 3.6620\n",
            "Epoch 69/100\n",
            "1/1 [==============================] - 0s 11ms/step - loss: 3.4834 - mae: 3.4834\n",
            "Epoch 70/100\n",
            "1/1 [==============================] - 0s 10ms/step - loss: 3.5824 - mae: 3.5824\n",
            "Epoch 71/100\n",
            "1/1 [==============================] - 0s 11ms/step - loss: 3.5162 - mae: 3.5162\n",
            "Epoch 72/100\n",
            "1/1 [==============================] - 0s 10ms/step - loss: 3.5055 - mae: 3.5055\n",
            "Epoch 73/100\n",
            "1/1 [==============================] - 0s 9ms/step - loss: 3.5843 - mae: 3.5843\n",
            "Epoch 74/100\n",
            "1/1 [==============================] - 0s 15ms/step - loss: 3.3944 - mae: 3.3944\n",
            "Epoch 75/100\n",
            "1/1 [==============================] - 0s 10ms/step - loss: 3.6193 - mae: 3.6193\n",
            "Epoch 76/100\n",
            "1/1 [==============================] - 0s 9ms/step - loss: 3.4231 - mae: 3.4231\n",
            "Epoch 77/100\n",
            "1/1 [==============================] - 0s 9ms/step - loss: 3.5252 - mae: 3.5252\n",
            "Epoch 78/100\n",
            "1/1 [==============================] - 0s 10ms/step - loss: 3.4575 - mae: 3.4575\n",
            "Epoch 79/100\n",
            "1/1 [==============================] - 0s 10ms/step - loss: 3.4385 - mae: 3.4385\n",
            "Epoch 80/100\n",
            "1/1 [==============================] - 0s 10ms/step - loss: 3.4945 - mae: 3.4945\n",
            "Epoch 81/100\n",
            "1/1 [==============================] - 0s 11ms/step - loss: 3.3480 - mae: 3.3480\n",
            "Epoch 82/100\n",
            "1/1 [==============================] - 0s 16ms/step - loss: 3.5327 - mae: 3.5327\n",
            "Epoch 83/100\n",
            "1/1 [==============================] - 0s 10ms/step - loss: 3.3423 - mae: 3.3423\n",
            "Epoch 84/100\n",
            "1/1 [==============================] - 0s 10ms/step - loss: 3.4843 - mae: 3.4843\n",
            "Epoch 85/100\n",
            "1/1 [==============================] - 0s 11ms/step - loss: 3.4107 - mae: 3.4107\n",
            "Epoch 86/100\n",
            "1/1 [==============================] - 0s 11ms/step - loss: 3.3561 - mae: 3.3561\n",
            "Epoch 87/100\n",
            "1/1 [==============================] - 0s 11ms/step - loss: 3.4517 - mae: 3.4517\n",
            "Epoch 88/100\n",
            "1/1 [==============================] - 0s 14ms/step - loss: 3.2647 - mae: 3.2647\n",
            "Epoch 89/100\n",
            "1/1 [==============================] - 0s 16ms/step - loss: 3.4727 - mae: 3.4727\n",
            "Epoch 90/100\n",
            "1/1 [==============================] - 0s 12ms/step - loss: 3.3006 - mae: 3.3006\n",
            "Epoch 91/100\n",
            "1/1 [==============================] - 0s 10ms/step - loss: 3.3781 - mae: 3.3781\n",
            "Epoch 92/100\n",
            "1/1 [==============================] - 0s 10ms/step - loss: 3.3376 - mae: 3.3376\n",
            "Epoch 93/100\n",
            "1/1 [==============================] - 0s 12ms/step - loss: 3.2772 - mae: 3.2772\n",
            "Epoch 94/100\n",
            "1/1 [==============================] - 0s 11ms/step - loss: 3.3815 - mae: 3.3815\n",
            "Epoch 95/100\n",
            "1/1 [==============================] - 0s 8ms/step - loss: 3.1960 - mae: 3.1960\n",
            "Epoch 96/100\n",
            "1/1 [==============================] - 0s 12ms/step - loss: 3.3997 - mae: 3.3997\n",
            "Epoch 97/100\n",
            "1/1 [==============================] - 0s 11ms/step - loss: 3.2647 - mae: 3.2647\n",
            "Epoch 98/100\n",
            "1/1 [==============================] - 0s 10ms/step - loss: 3.2681 - mae: 3.2681\n",
            "Epoch 99/100\n",
            "1/1 [==============================] - 0s 10ms/step - loss: 3.3033 - mae: 3.3033\n",
            "Epoch 100/100\n",
            "1/1 [==============================] - 0s 10ms/step - loss: 3.1633 - mae: 3.1633\n"
          ]
        },
        {
          "output_type": "execute_result",
          "data": {
            "text/plain": [
              "<keras.callbacks.History at 0x7bec92fc88e0>"
            ]
          },
          "metadata": {},
          "execution_count": 17
        }
      ]
    },
    {
      "cell_type": "code",
      "source": [
        "model.predict([17.])"
      ],
      "metadata": {
        "colab": {
          "base_uri": "https://localhost:8080/"
        },
        "id": "XrBO9geZZkDd",
        "outputId": "80545580-2aa5-4e50-a6de-5ea2a336e81b"
      },
      "execution_count": 18,
      "outputs": [
        {
          "output_type": "stream",
          "name": "stdout",
          "text": [
            "1/1 [==============================] - 0s 66ms/step\n"
          ]
        },
        {
          "output_type": "execute_result",
          "data": {
            "text/plain": [
              "array([[34.327934]], dtype=float32)"
            ]
          },
          "metadata": {},
          "execution_count": 18
        }
      ]
    },
    {
      "cell_type": "code",
      "source": [
        "# Rebuilding our model\n",
        "\n",
        "# 1. Creating the model\n",
        "model = tf.keras.Sequential([\n",
        "    tf.keras.layers.Dense(50, activation=None),\n",
        "    tf.keras.layers.Dense(1)\n",
        "])\n",
        "\n",
        "# 2. Compiling the model\n",
        "model.compile(loss='mae',\n",
        "              optimizer=tf.keras.optimizers.Adam(learning_rate=0.01),\n",
        "              metrics=['mae'])\n",
        "\n",
        "# 3. Fit the model (this time we'll train for longer)\n",
        "model.fit(tf.expand_dims(X, axis=-1), y, epochs=100)"
      ],
      "metadata": {
        "colab": {
          "base_uri": "https://localhost:8080/"
        },
        "id": "1UKofvlaZq4t",
        "outputId": "402d5f9a-6d80-4e62-a616-594d573a8e41"
      },
      "execution_count": 19,
      "outputs": [
        {
          "output_type": "stream",
          "name": "stdout",
          "text": [
            "Epoch 1/100\n",
            "1/1 [==============================] - 1s 1s/step - loss: 13.9239 - mae: 13.9239\n",
            "Epoch 2/100\n",
            "1/1 [==============================] - 0s 11ms/step - loss: 13.2777 - mae: 13.2777\n",
            "Epoch 3/100\n",
            "1/1 [==============================] - 0s 11ms/step - loss: 12.6308 - mae: 12.6308\n",
            "Epoch 4/100\n",
            "1/1 [==============================] - 0s 11ms/step - loss: 11.9802 - mae: 11.9802\n",
            "Epoch 5/100\n",
            "1/1 [==============================] - 0s 11ms/step - loss: 11.3234 - mae: 11.3234\n",
            "Epoch 6/100\n",
            "1/1 [==============================] - 0s 10ms/step - loss: 10.6581 - mae: 10.6581\n",
            "Epoch 7/100\n",
            "1/1 [==============================] - 0s 10ms/step - loss: 9.9826 - mae: 9.9826\n",
            "Epoch 8/100\n",
            "1/1 [==============================] - 0s 10ms/step - loss: 9.2950 - mae: 9.2950\n",
            "Epoch 9/100\n",
            "1/1 [==============================] - 0s 10ms/step - loss: 8.5928 - mae: 8.5928\n",
            "Epoch 10/100\n",
            "1/1 [==============================] - 0s 10ms/step - loss: 7.8735 - mae: 7.8735\n",
            "Epoch 11/100\n",
            "1/1 [==============================] - 0s 9ms/step - loss: 7.1341 - mae: 7.1341\n",
            "Epoch 12/100\n",
            "1/1 [==============================] - 0s 9ms/step - loss: 6.7261 - mae: 6.7261\n",
            "Epoch 13/100\n",
            "1/1 [==============================] - 0s 10ms/step - loss: 6.9370 - mae: 6.9370\n",
            "Epoch 14/100\n",
            "1/1 [==============================] - 0s 17ms/step - loss: 7.2290 - mae: 7.2290\n",
            "Epoch 15/100\n",
            "1/1 [==============================] - 0s 10ms/step - loss: 7.5073 - mae: 7.5073\n",
            "Epoch 16/100\n",
            "1/1 [==============================] - 0s 10ms/step - loss: 7.6296 - mae: 7.6296\n",
            "Epoch 17/100\n",
            "1/1 [==============================] - 0s 9ms/step - loss: 7.5546 - mae: 7.5546\n",
            "Epoch 18/100\n",
            "1/1 [==============================] - 0s 9ms/step - loss: 7.3293 - mae: 7.3293\n",
            "Epoch 19/100\n",
            "1/1 [==============================] - 0s 9ms/step - loss: 7.0106 - mae: 7.0106\n",
            "Epoch 20/100\n",
            "1/1 [==============================] - 0s 9ms/step - loss: 6.7717 - mae: 6.7717\n",
            "Epoch 21/100\n",
            "1/1 [==============================] - 0s 15ms/step - loss: 6.5151 - mae: 6.5151\n",
            "Epoch 22/100\n",
            "1/1 [==============================] - 0s 8ms/step - loss: 6.2449 - mae: 6.2449\n",
            "Epoch 23/100\n",
            "1/1 [==============================] - 0s 9ms/step - loss: 6.1119 - mae: 6.1119\n",
            "Epoch 24/100\n",
            "1/1 [==============================] - 0s 9ms/step - loss: 6.0739 - mae: 6.0739\n",
            "Epoch 25/100\n",
            "1/1 [==============================] - 0s 10ms/step - loss: 6.1781 - mae: 6.1781\n",
            "Epoch 26/100\n",
            "1/1 [==============================] - 0s 10ms/step - loss: 6.2534 - mae: 6.2534\n",
            "Epoch 27/100\n",
            "1/1 [==============================] - 0s 10ms/step - loss: 6.2256 - mae: 6.2256\n",
            "Epoch 28/100\n",
            "1/1 [==============================] - 0s 10ms/step - loss: 6.1080 - mae: 6.1080\n",
            "Epoch 29/100\n",
            "1/1 [==============================] - 0s 12ms/step - loss: 5.9102 - mae: 5.9102\n",
            "Epoch 30/100\n",
            "1/1 [==============================] - 0s 11ms/step - loss: 5.6485 - mae: 5.6485\n",
            "Epoch 31/100\n",
            "1/1 [==============================] - 0s 10ms/step - loss: 5.5485 - mae: 5.5485\n",
            "Epoch 32/100\n",
            "1/1 [==============================] - 0s 18ms/step - loss: 5.4455 - mae: 5.4455\n",
            "Epoch 33/100\n",
            "1/1 [==============================] - 0s 10ms/step - loss: 5.3538 - mae: 5.3538\n",
            "Epoch 34/100\n",
            "1/1 [==============================] - 0s 10ms/step - loss: 5.3366 - mae: 5.3366\n",
            "Epoch 35/100\n",
            "1/1 [==============================] - 0s 10ms/step - loss: 5.2777 - mae: 5.2777\n",
            "Epoch 36/100\n",
            "1/1 [==============================] - 0s 10ms/step - loss: 5.1804 - mae: 5.1804\n",
            "Epoch 37/100\n",
            "1/1 [==============================] - 0s 10ms/step - loss: 5.0480 - mae: 5.0480\n",
            "Epoch 38/100\n",
            "1/1 [==============================] - 0s 12ms/step - loss: 4.8834 - mae: 4.8834\n",
            "Epoch 39/100\n",
            "1/1 [==============================] - 0s 10ms/step - loss: 4.7958 - mae: 4.7958\n",
            "Epoch 40/100\n",
            "1/1 [==============================] - 0s 10ms/step - loss: 4.7067 - mae: 4.7067\n",
            "Epoch 41/100\n",
            "1/1 [==============================] - 0s 11ms/step - loss: 4.6101 - mae: 4.6101\n",
            "Epoch 42/100\n",
            "1/1 [==============================] - 0s 10ms/step - loss: 4.5237 - mae: 4.5237\n",
            "Epoch 43/100\n",
            "1/1 [==============================] - 0s 10ms/step - loss: 4.3856 - mae: 4.3856\n",
            "Epoch 44/100\n",
            "1/1 [==============================] - 0s 12ms/step - loss: 4.2426 - mae: 4.2426\n",
            "Epoch 45/100\n",
            "1/1 [==============================] - 0s 11ms/step - loss: 4.0957 - mae: 4.0957\n",
            "Epoch 46/100\n",
            "1/1 [==============================] - 0s 9ms/step - loss: 3.9418 - mae: 3.9418\n",
            "Epoch 47/100\n",
            "1/1 [==============================] - 0s 10ms/step - loss: 3.8661 - mae: 3.8661\n",
            "Epoch 48/100\n",
            "1/1 [==============================] - 0s 10ms/step - loss: 3.7575 - mae: 3.7575\n",
            "Epoch 49/100\n",
            "1/1 [==============================] - 0s 10ms/step - loss: 3.5984 - mae: 3.5984\n",
            "Epoch 50/100\n",
            "1/1 [==============================] - 0s 10ms/step - loss: 3.3915 - mae: 3.3915\n",
            "Epoch 51/100\n",
            "1/1 [==============================] - 0s 15ms/step - loss: 3.1708 - mae: 3.1708\n",
            "Epoch 52/100\n",
            "1/1 [==============================] - 0s 10ms/step - loss: 3.0105 - mae: 3.0105\n",
            "Epoch 53/100\n",
            "1/1 [==============================] - 0s 9ms/step - loss: 2.8386 - mae: 2.8386\n",
            "Epoch 54/100\n",
            "1/1 [==============================] - 0s 11ms/step - loss: 2.7142 - mae: 2.7142\n",
            "Epoch 55/100\n",
            "1/1 [==============================] - 0s 9ms/step - loss: 2.4542 - mae: 2.4542\n",
            "Epoch 56/100\n",
            "1/1 [==============================] - 0s 9ms/step - loss: 2.2167 - mae: 2.2167\n",
            "Epoch 57/100\n",
            "1/1 [==============================] - 0s 8ms/step - loss: 2.1079 - mae: 2.1079\n",
            "Epoch 58/100\n",
            "1/1 [==============================] - 0s 11ms/step - loss: 1.9516 - mae: 1.9516\n",
            "Epoch 59/100\n",
            "1/1 [==============================] - 0s 10ms/step - loss: 1.7506 - mae: 1.7506\n",
            "Epoch 60/100\n",
            "1/1 [==============================] - 0s 10ms/step - loss: 1.3946 - mae: 1.3946\n",
            "Epoch 61/100\n",
            "1/1 [==============================] - 0s 9ms/step - loss: 1.0641 - mae: 1.0641\n",
            "Epoch 62/100\n",
            "1/1 [==============================] - 0s 9ms/step - loss: 1.0101 - mae: 1.0101\n",
            "Epoch 63/100\n",
            "1/1 [==============================] - 0s 10ms/step - loss: 0.7834 - mae: 0.7834\n",
            "Epoch 64/100\n",
            "1/1 [==============================] - 0s 9ms/step - loss: 0.3773 - mae: 0.3773\n",
            "Epoch 65/100\n",
            "1/1 [==============================] - 0s 10ms/step - loss: 0.2662 - mae: 0.2662\n",
            "Epoch 66/100\n",
            "1/1 [==============================] - 0s 12ms/step - loss: 0.4417 - mae: 0.4417\n",
            "Epoch 67/100\n",
            "1/1 [==============================] - 0s 8ms/step - loss: 0.4797 - mae: 0.4797\n",
            "Epoch 68/100\n",
            "1/1 [==============================] - 0s 16ms/step - loss: 0.7274 - mae: 0.7274\n",
            "Epoch 69/100\n",
            "1/1 [==============================] - 0s 9ms/step - loss: 0.7707 - mae: 0.7707\n",
            "Epoch 70/100\n",
            "1/1 [==============================] - 0s 9ms/step - loss: 0.7429 - mae: 0.7429\n",
            "Epoch 71/100\n",
            "1/1 [==============================] - 0s 9ms/step - loss: 0.7726 - mae: 0.7726\n",
            "Epoch 72/100\n",
            "1/1 [==============================] - 0s 10ms/step - loss: 0.7016 - mae: 0.7016\n",
            "Epoch 73/100\n",
            "1/1 [==============================] - 0s 10ms/step - loss: 0.6805 - mae: 0.6805\n",
            "Epoch 74/100\n",
            "1/1 [==============================] - 0s 11ms/step - loss: 0.5786 - mae: 0.5786\n",
            "Epoch 75/100\n",
            "1/1 [==============================] - 0s 12ms/step - loss: 0.4037 - mae: 0.4037\n",
            "Epoch 76/100\n",
            "1/1 [==============================] - 0s 12ms/step - loss: 0.2987 - mae: 0.2987\n",
            "Epoch 77/100\n",
            "1/1 [==============================] - 0s 11ms/step - loss: 0.1343 - mae: 0.1343\n",
            "Epoch 78/100\n",
            "1/1 [==============================] - 0s 13ms/step - loss: 0.0926 - mae: 0.0926\n",
            "Epoch 79/100\n",
            "1/1 [==============================] - 0s 11ms/step - loss: 0.2595 - mae: 0.2595\n",
            "Epoch 80/100\n",
            "1/1 [==============================] - 0s 15ms/step - loss: 0.2805 - mae: 0.2805\n",
            "Epoch 81/100\n",
            "1/1 [==============================] - 0s 12ms/step - loss: 0.3446 - mae: 0.3446\n",
            "Epoch 82/100\n",
            "1/1 [==============================] - 0s 14ms/step - loss: 0.3430 - mae: 0.3430\n",
            "Epoch 83/100\n",
            "1/1 [==============================] - 0s 13ms/step - loss: 0.3296 - mae: 0.3296\n",
            "Epoch 84/100\n",
            "1/1 [==============================] - 0s 13ms/step - loss: 0.2534 - mae: 0.2534\n",
            "Epoch 85/100\n",
            "1/1 [==============================] - 0s 15ms/step - loss: 0.1759 - mae: 0.1759\n",
            "Epoch 86/100\n",
            "1/1 [==============================] - 0s 12ms/step - loss: 0.0794 - mae: 0.0794\n",
            "Epoch 87/100\n",
            "1/1 [==============================] - 0s 11ms/step - loss: 0.2132 - mae: 0.2132\n",
            "Epoch 88/100\n",
            "1/1 [==============================] - 0s 11ms/step - loss: 0.1856 - mae: 0.1856\n",
            "Epoch 89/100\n",
            "1/1 [==============================] - 0s 11ms/step - loss: 0.4187 - mae: 0.4187\n",
            "Epoch 90/100\n",
            "1/1 [==============================] - 0s 11ms/step - loss: 0.4520 - mae: 0.4520\n",
            "Epoch 91/100\n",
            "1/1 [==============================] - 0s 11ms/step - loss: 0.2712 - mae: 0.2712\n",
            "Epoch 92/100\n",
            "1/1 [==============================] - 0s 10ms/step - loss: 0.3848 - mae: 0.3848\n",
            "Epoch 93/100\n",
            "1/1 [==============================] - 0s 9ms/step - loss: 0.3335 - mae: 0.3335\n",
            "Epoch 94/100\n",
            "1/1 [==============================] - 0s 12ms/step - loss: 0.1274 - mae: 0.1274\n",
            "Epoch 95/100\n",
            "1/1 [==============================] - 0s 11ms/step - loss: 0.2458 - mae: 0.2458\n",
            "Epoch 96/100\n",
            "1/1 [==============================] - 0s 12ms/step - loss: 0.1369 - mae: 0.1369\n",
            "Epoch 97/100\n",
            "1/1 [==============================] - 0s 11ms/step - loss: 0.2643 - mae: 0.2643\n",
            "Epoch 98/100\n",
            "1/1 [==============================] - 0s 13ms/step - loss: 0.2822 - mae: 0.2822\n",
            "Epoch 99/100\n",
            "1/1 [==============================] - 0s 9ms/step - loss: 0.2185 - mae: 0.2185\n",
            "Epoch 100/100\n",
            "1/1 [==============================] - 0s 10ms/step - loss: 0.2359 - mae: 0.2359\n"
          ]
        },
        {
          "output_type": "execute_result",
          "data": {
            "text/plain": [
              "<keras.callbacks.History at 0x7bec92f20550>"
            ]
          },
          "metadata": {},
          "execution_count": 19
        }
      ]
    },
    {
      "cell_type": "code",
      "source": [
        "model.predict([25.])"
      ],
      "metadata": {
        "colab": {
          "base_uri": "https://localhost:8080/"
        },
        "id": "ymwdU8OhcNhr",
        "outputId": "28f807db-6f31-4a30-c0c0-e3c0588c375d"
      },
      "execution_count": 20,
      "outputs": [
        {
          "output_type": "stream",
          "name": "stdout",
          "text": [
            "1/1 [==============================] - 0s 86ms/step\n"
          ]
        },
        {
          "output_type": "execute_result",
          "data": {
            "text/plain": [
              "array([[35.214943]], dtype=float32)"
            ]
          },
          "metadata": {},
          "execution_count": 20
        }
      ]
    },
    {
      "cell_type": "markdown",
      "source": [
        "#### RECAP: Common ways to improve a deep model\n",
        "- Adding layers\n",
        "- Increase the number of hideen units\n",
        "- Change the activation functions\n",
        "- Change the optimization function\n",
        "- Change the learning rate (👁️ The most useful hyperparameter to improve our neural network)\n",
        "- Sampling more data (bigger datasets)\n",
        "- Fitting training for longer (epochs)"
      ],
      "metadata": {
        "id": "xFgDf9-feGtW"
      }
    },
    {
      "cell_type": "markdown",
      "source": [
        "### Evaluating a model\n",
        "\n",
        "In practice a typical workflow you'll go through when building neural networks is:\n",
        "\n",
        "```\n",
        "Build model -> fit it -> evaluate it -> tweak model -> fit it -> evaluate it -> tweak model -> fit it -> evaluate it...\n",
        "```"
      ],
      "metadata": {
        "id": "X1HRwypid5_q"
      }
    },
    {
      "cell_type": "markdown",
      "source": [
        "When it comes to evaluation... there are 3 words you should memorize:\n",
        "\n",
        "> \"Visualize, visualize, visualize\"\n",
        "\n",
        "It's a good idea to visualize:\n",
        "* The data - what data are we working with? What does it looks like?\n",
        "* The model itself - what does our model look like?\n",
        "* The training of a model - how does a model perform while it learns?\n",
        "* The predictions of the model - how do the predictions of a model line up against the ground thruth (the original labels)?\n"
      ],
      "metadata": {
        "id": "JRfP-VnlfOmx"
      }
    },
    {
      "cell_type": "code",
      "source": [
        "# Make a bigger data set\n",
        "X = tf.range(-100,100,4)\n",
        "X"
      ],
      "metadata": {
        "colab": {
          "base_uri": "https://localhost:8080/"
        },
        "id": "_paPcFwsbGaJ",
        "outputId": "8e719270-95bc-4893-9272-fae4fbbb9bef"
      },
      "execution_count": 21,
      "outputs": [
        {
          "output_type": "execute_result",
          "data": {
            "text/plain": [
              "<tf.Tensor: shape=(50,), dtype=int32, numpy=\n",
              "array([-100,  -96,  -92,  -88,  -84,  -80,  -76,  -72,  -68,  -64,  -60,\n",
              "        -56,  -52,  -48,  -44,  -40,  -36,  -32,  -28,  -24,  -20,  -16,\n",
              "        -12,   -8,   -4,    0,    4,    8,   12,   16,   20,   24,   28,\n",
              "         32,   36,   40,   44,   48,   52,   56,   60,   64,   68,   72,\n",
              "         76,   80,   84,   88,   92,   96], dtype=int32)>"
            ]
          },
          "metadata": {},
          "execution_count": 21
        }
      ]
    },
    {
      "cell_type": "code",
      "source": [
        "# Make labels for the data set\n",
        "y = X + 10\n",
        "y"
      ],
      "metadata": {
        "colab": {
          "base_uri": "https://localhost:8080/"
        },
        "id": "rKvC6AIsbbUa",
        "outputId": "7e35224e-cf60-4e4c-d2dd-5f8d2eee5263"
      },
      "execution_count": 22,
      "outputs": [
        {
          "output_type": "execute_result",
          "data": {
            "text/plain": [
              "<tf.Tensor: shape=(50,), dtype=int32, numpy=\n",
              "array([-90, -86, -82, -78, -74, -70, -66, -62, -58, -54, -50, -46, -42,\n",
              "       -38, -34, -30, -26, -22, -18, -14, -10,  -6,  -2,   2,   6,  10,\n",
              "        14,  18,  22,  26,  30,  34,  38,  42,  46,  50,  54,  58,  62,\n",
              "        66,  70,  74,  78,  82,  86,  90,  94,  98, 102, 106], dtype=int32)>"
            ]
          },
          "metadata": {},
          "execution_count": 22
        }
      ]
    },
    {
      "cell_type": "code",
      "source": [
        "# Visualize the data\n",
        "plt.scatter(X,y)"
      ],
      "metadata": {
        "colab": {
          "base_uri": "https://localhost:8080/",
          "height": 447
        },
        "id": "UKmr3uAqbo7h",
        "outputId": "818772f5-df9b-4eea-f60b-b2ccab9bc99b"
      },
      "execution_count": 23,
      "outputs": [
        {
          "output_type": "execute_result",
          "data": {
            "text/plain": [
              "<matplotlib.collections.PathCollection at 0x7bec92e4ce80>"
            ]
          },
          "metadata": {},
          "execution_count": 23
        },
        {
          "output_type": "display_data",
          "data": {
            "text/plain": [
              "<Figure size 640x480 with 1 Axes>"
            ],
            "image/png": "[encoded data removed]"
          },
          "metadata": {}
        }
      ]
    },
    {
      "cell_type": "markdown",
      "source": [
        "#### The three sets...\n",
        "\n",
        "* Training set - the models learns from this data, which is typlically 70-80% of the data available.\n",
        "* Validation set - the model gets tuned on this data, which is typpically 10-15% of the data.\n",
        "* Test set - the model gets evaluated on this data to test what is has learned, this set is typlically 10-15% of the total of the data.\n",
        "\n",
        "Generalization - The ability for a machine learning model to perform well on data it hasn't seen before."
      ],
      "metadata": {
        "id": "xDKRPzAAb0Gf"
      }
    },
    {
      "cell_type": "code",
      "source": [
        "# Check the length of the samples we have\n",
        "len(X)"
      ],
      "metadata": {
        "colab": {
          "base_uri": "https://localhost:8080/"
        },
        "id": "Ddgi-kZcc_6a",
        "outputId": "164479c6-9d82-4ffa-a593-7a8c1b46465b"
      },
      "execution_count": 24,
      "outputs": [
        {
          "output_type": "execute_result",
          "data": {
            "text/plain": [
              "50"
            ]
          },
          "metadata": {},
          "execution_count": 24
        }
      ]
    },
    {
      "cell_type": "code",
      "source": [
        "# Split into training and test (this data is too small for validation)\n",
        "X_train = X[:40] # The first 40 are trainig samples (80% of the data)\n",
        "y_train = y[:40]\n",
        "\n",
        "X_test = X[40:] # the last 10 are testing samples (20% of the data)\n",
        "y_test = y[40:]\n",
        "\n",
        "len(X_train), len(X_test)"
      ],
      "metadata": {
        "colab": {
          "base_uri": "https://localhost:8080/"
        },
        "id": "Uf2meznbdrcw",
        "outputId": "4fc2a5cc-3e54-4734-cbfc-b65796f0b40b"
      },
      "execution_count": 25,
      "outputs": [
        {
          "output_type": "execute_result",
          "data": {
            "text/plain": [
              "(40, 10)"
            ]
          },
          "metadata": {},
          "execution_count": 25
        }
      ]
    },
    {
      "cell_type": "markdown",
      "source": [
        "#### Visualizing the data\n",
        "\n",
        "Now we've got our data in training and test sets... let's visualize it again"
      ],
      "metadata": {
        "id": "9ZZQO_voeo_H"
      }
    },
    {
      "cell_type": "code",
      "source": [
        "plt.figure(figsize=(10,7))\n",
        "# Plot training data in blue\n",
        "plt.scatter(X_train, y_train, c='#126b75', label='Training Data')\n",
        "# Plot test data in green\n",
        "plt.scatter(X_test, y_test, c='#EE7A01', label='Test data')\n",
        "# Show a legend\n",
        "plt.legend()"
      ],
      "metadata": {
        "colab": {
          "base_uri": "https://localhost:8080/",
          "height": 616
        },
        "id": "v943lMOHgGeu",
        "outputId": "5e52f07d-1967-42ac-852e-cfcb9faac7e4"
      },
      "execution_count": 26,
      "outputs": [
        {
          "output_type": "execute_result",
          "data": {
            "text/plain": [
              "<matplotlib.legend.Legend at 0x7bec92caee00>"
            ]
          },
          "metadata": {},
          "execution_count": 26
        },
        {
          "output_type": "display_data",
          "data": {
            "text/plain": [
              "<Figure size 1000x700 with 1 Axes>"
            ],
            "image/png": "[encoded data removed]"
          },
          "metadata": {}
        }
      ]
    },
    {
      "cell_type": "code",
      "source": [
        "# Let´s have a look up at how to build a neural network for our data\n",
        "\n",
        "# 1. Create model\n",
        "model = tf.keras.Sequential([\n",
        "    tf.keras.layers.Dense(1)\n",
        "])\n",
        "\n",
        "# 2. Compile the model\n",
        "model.compile(loss=tf.keras.losses.mae,\n",
        "              optimizer=tf.keras.optimizers.SGD(),\n",
        "              metrics=['mae'])\n",
        "\n",
        "# # 3. Fit the model\n",
        "# model.fit(tf.expand_dims(X_train, axis=-1), y_train, epochs=100)"
      ],
      "metadata": {
        "id": "ihv4eEb2goRe"
      },
      "execution_count": 27,
      "outputs": []
    },
    {
      "cell_type": "markdown",
      "source": [
        "#### Visualizing the model"
      ],
      "metadata": {
        "id": "TMi_DqMfi_3d"
      }
    },
    {
      "cell_type": "code",
      "source": [
        "# Let's create a model which builds automatically by defining the imput_shape argument in the first layer\n",
        "tf.random.set_seed(42)\n",
        "\n",
        "# 1. Create a model\n",
        "model = tf.keras.Sequential([\n",
        "    tf.keras.layers.Dense(10, input_shape=[1], name='input_layer'),\n",
        "    tf.keras.layers.Dense(1, name='output_layer')\n",
        "], name=\"model_1\")\n",
        "\n",
        "# Compile the model\n",
        "model.compile(loss=tf.keras.losses.mae,\n",
        "              optimizer=tf.keras.optimizers.SGD(),\n",
        "              metrics=['mae'])"
      ],
      "metadata": {
        "id": "KXKcUeNmjJDL"
      },
      "execution_count": 28,
      "outputs": []
    },
    {
      "cell_type": "code",
      "source": [
        "model.summary()"
      ],
      "metadata": {
        "colab": {
          "base_uri": "https://localhost:8080/"
        },
        "id": "x4lb5SwGlG97",
        "outputId": "db81010c-2043-4297-b9be-e090b043f0d4"
      },
      "execution_count": 29,
      "outputs": [
        {
          "output_type": "stream",
          "name": "stdout",
          "text": [
            "Model: \"model_1\"\n",
            "_________________________________________________________________\n",
            " Layer (type)                Output Shape              Param #   \n",
            "=================================================================\n",
            " input_layer (Dense)         (None, 10)                20        \n",
            "                                                                 \n",
            " output_layer (Dense)        (None, 1)                 11        \n",
            "                                                                 \n",
            "=================================================================\n",
            "Total params: 31\n",
            "Trainable params: 31\n",
            "Non-trainable params: 0\n",
            "_________________________________________________________________\n"
          ]
        }
      ]
    },
    {
      "cell_type": "markdown",
      "source": [
        "* Total params - total number of parameters in the model.\n",
        "* Trainable params - these are the patterns the model can update as it trains\n",
        "* Non-trainable - these parameters aren't updated during training (this is typical when you brought parameters from other models during **transfer learning**)\n",
        "\n",
        "👁️ **Resource:** Fore a more in-depth overview check:\n",
        "\n",
        "https://www.youtube.com/watch?v=QDX-1M5Nj7s&list=PLtBw6njQRU-rwp5__7C0oIVt26ZgjG9NI&index=2\n",
        "\n",
        "MIT - Introduction to Deep Learning\n",
        "http://introtodeeplearning.com/\n",
        "\n",
        "⚒️ **Exercise** Try playing around with the number of hidden units in the dense layer, see how that effects the number of parameters (total and trainable) by calling `model.summary()`."
      ],
      "metadata": {
        "id": "aHQ0TB17lJCi"
      }
    },
    {
      "cell_type": "code",
      "source": [
        "# Let`s fit our model to the training data\n",
        "model.fit(tf.expand_dims(X_train, axis=-1), y_train, epochs=100, verbose=0)"
      ],
      "metadata": {
        "colab": {
          "base_uri": "https://localhost:8080/"
        },
        "id": "SDiABT3QmweC",
        "outputId": "0a7ba43b-2f7b-4ad4-d637-e9aaace6263d"
      },
      "execution_count": 30,
      "outputs": [
        {
          "output_type": "execute_result",
          "data": {
            "text/plain": [
              "<keras.callbacks.History at 0x7bec92d45000>"
            ]
          },
          "metadata": {},
          "execution_count": 30
        }
      ]
    },
    {
      "cell_type": "code",
      "source": [
        "from tensorflow.keras.utils import plot_model\n",
        "\n",
        "plot_model(model=model, show_shapes=True)"
      ],
      "metadata": {
        "colab": {
          "base_uri": "https://localhost:8080/",
          "height": 312
        },
        "id": "vMbPQISNDEfD",
        "outputId": "d68e66be-999a-4090-b680-8ad069250e86"
      },
      "execution_count": 31,
      "outputs": [
        {
          "output_type": "execute_result",
          "data": {
            "image/png": "[encoded data removed]",
            "text/plain": [
              "<IPython.core.display.Image object>"
            ]
          },
          "metadata": {},
          "execution_count": 31
        }
      ]
    },
    {
      "cell_type": "markdown",
      "source": [
        "#### Visualizing our model's predictions\n",
        "\n",
        "To visualize predictions, it's a good idea to plot them against the ground truth labels.\n",
        "\n",
        "Often you'll see this in the form of `y_test` or `y_true` versus `y_pred` (ground truth versus your model`s predictions)."
      ],
      "metadata": {
        "id": "33ca6ZI9ETvK"
      }
    },
    {
      "cell_type": "code",
      "source": [
        "# Make some predictions\n",
        "y_pred = model.predict(X_test)\n",
        "y_pred"
      ],
      "metadata": {
        "colab": {
          "base_uri": "https://localhost:8080/"
        },
        "id": "dmdfFGV7Jfo1",
        "outputId": "2020156b-4d3f-4d85-e50e-05e7124c198d"
      },
      "execution_count": 32,
      "outputs": [
        {
          "output_type": "stream",
          "name": "stderr",
          "text": [
            "WARNING:tensorflow:5 out of the last 5 calls to <function Model.make_predict_function.<locals>.predict_function at 0x7bec92c2bc70> triggered tf.function retracing. Tracing is expensive and the excessive number of tracings could be due to (1) creating @tf.function repeatedly in a loop, (2) passing tensors with different shapes, (3) passing Python objects instead of tensors. For (1), please define your @tf.function outside of the loop. For (2), @tf.function has reduce_retracing=True option that can avoid unnecessary retracing. For (3), please refer to https://www.tensorflow.org/guide/function#controlling_retracing and https://www.tensorflow.org/api_docs/python/tf/function for  more details.\n"
          ]
        },
        {
          "output_type": "stream",
          "name": "stdout",
          "text": [
            "1/1 [==============================] - 0s 53ms/step\n"
          ]
        },
        {
          "output_type": "execute_result",
          "data": {
            "text/plain": [
              "array([[ 76.3598  ],\n",
              "       [ 81.335205],\n",
              "       [ 86.31061 ],\n",
              "       [ 91.28601 ],\n",
              "       [ 96.26141 ],\n",
              "       [101.2368  ],\n",
              "       [106.21222 ],\n",
              "       [111.18761 ],\n",
              "       [116.16301 ],\n",
              "       [121.13841 ]], dtype=float32)"
            ]
          },
          "metadata": {},
          "execution_count": 32
        }
      ]
    },
    {
      "cell_type": "code",
      "source": [
        "# Remember X_test values\n",
        "y_test"
      ],
      "metadata": {
        "colab": {
          "base_uri": "https://localhost:8080/"
        },
        "id": "Cx71eoQ2KmKc",
        "outputId": "f0034828-5a52-4f0a-b3a6-de71c8b7c4a9"
      },
      "execution_count": 33,
      "outputs": [
        {
          "output_type": "execute_result",
          "data": {
            "text/plain": [
              "<tf.Tensor: shape=(10,), dtype=int32, numpy=array([ 70,  74,  78,  82,  86,  90,  94,  98, 102, 106], dtype=int32)>"
            ]
          },
          "metadata": {},
          "execution_count": 33
        }
      ]
    },
    {
      "cell_type": "markdown",
      "source": [
        "👁️ **Note:** If you feel like you`re going to reuse some kind of functionality in the future is a good idea to turn it into a function"
      ],
      "metadata": {
        "id": "lLNt2o7KNCia"
      }
    },
    {
      "cell_type": "code",
      "source": [
        "# Let's create a plotting function\n",
        "def plot_predictions(train_data=X_train,\n",
        "                     train_labels=y_train,\n",
        "                     test_data=X_test,\n",
        "                     test_labels=y_test,\n",
        "                     predictions=y_pred):\n",
        "  \"\"\"\n",
        "  Plots training data, test data and compares predictions to ground truth labels.\n",
        "  \"\"\"\n",
        "  plt.figure(figsize=(10,7))\n",
        "  # Plot training data in one color\n",
        "  plt.scatter(train_data, train_labels, c='#126b75', label='Training Data')\n",
        "  # Plot test data in another color\n",
        "  plt.scatter(test_data, test_labels, c='#EE7A01', label='Test data')\n",
        "  # Plot model's predictions in the other color\n",
        "  plt.scatter(test_data, predictions, c='#94192a', label='Predictions')\n",
        "  # Show a legend\n",
        "  plt.legend();\n",
        "\n",
        "\n"
      ],
      "metadata": {
        "id": "Yy_rM9RaPwwh"
      },
      "execution_count": 34,
      "outputs": []
    },
    {
      "cell_type": "code",
      "source": [
        "plot_predictions(train_data=X_train,\n",
        "                 train_labels=y_train,\n",
        "                 test_data=X_test,\n",
        "                test_labels=y_test,\n",
        "                predictions=y_pred)"
      ],
      "metadata": {
        "colab": {
          "base_uri": "https://localhost:8080/",
          "height": 595
        },
        "id": "GGMw2UTbRd1I",
        "outputId": "48ad1259-b422-4b35-cc6e-536cc80bca3d"
      },
      "execution_count": 35,
      "outputs": [
        {
          "output_type": "display_data",
          "data": {
            "text/plain": [
              "<Figure size 1000x700 with 1 Axes>"
            ],
            "image/png": "[encoded data removed]"
          },
          "metadata": {}
        }
      ]
    },
    {
      "cell_type": "markdown",
      "source": [
        "#### Evaluating our model's predictions with regression evaluation metrics\n",
        "\n",
        "Depending on the problem you are working on, there will be different evalutaion metrics to evaluate your model's performance.\n",
        "\n",
        "Working in a Regression, two of the main metrics are:\n",
        "* MAE - mean absolute error, \"on average, how worng is each of my model's predictions\".\n",
        "* MSE - mean square error, \"square the average errors\""
      ],
      "metadata": {
        "id": "3eAE8WlgRjS_"
      }
    },
    {
      "cell_type": "code",
      "source": [
        "# Evaluate the model on the test\n",
        "model.evaluate(X_test, y_test)"
      ],
      "metadata": {
        "id": "4h8p2YdGSi4P",
        "colab": {
          "base_uri": "https://localhost:8080/"
        },
        "outputId": "a5674e46-ce1a-45bb-aae4-62cfbecb5d49"
      },
      "execution_count": 36,
      "outputs": [
        {
          "output_type": "stream",
          "name": "stdout",
          "text": [
            "1/1 [==============================] - 0s 125ms/step - loss: 10.7491 - mae: 10.7491\n"
          ]
        },
        {
          "output_type": "execute_result",
          "data": {
            "text/plain": [
              "[10.749109268188477, 10.749109268188477]"
            ]
          },
          "metadata": {},
          "execution_count": 36
        }
      ]
    },
    {
      "cell_type": "code",
      "source": [
        "tf.constant(tf.squeeze(y_pred))\n"
      ],
      "metadata": {
        "colab": {
          "base_uri": "https://localhost:8080/"
        },
        "id": "H7D95I1IIz-6",
        "outputId": "dceb5189-415e-4bda-c007-1b35a8ec4566"
      },
      "execution_count": 37,
      "outputs": [
        {
          "output_type": "execute_result",
          "data": {
            "text/plain": [
              "<tf.Tensor: shape=(10,), dtype=float32, numpy=\n",
              "array([ 76.3598  ,  81.335205,  86.31061 ,  91.28601 ,  96.26141 ,\n",
              "       101.2368  , 106.21222 , 111.18761 , 116.16301 , 121.13841 ],\n",
              "      dtype=float32)>"
            ]
          },
          "metadata": {},
          "execution_count": 37
        }
      ]
    },
    {
      "cell_type": "code",
      "source": [
        "y_test"
      ],
      "metadata": {
        "colab": {
          "base_uri": "https://localhost:8080/"
        },
        "id": "TmH6Y1RwK4tC",
        "outputId": "073a8083-1e02-4b5d-c980-23cf4bd0b851"
      },
      "execution_count": 38,
      "outputs": [
        {
          "output_type": "execute_result",
          "data": {
            "text/plain": [
              "<tf.Tensor: shape=(10,), dtype=int32, numpy=array([ 70,  74,  78,  82,  86,  90,  94,  98, 102, 106], dtype=int32)>"
            ]
          },
          "metadata": {},
          "execution_count": 38
        }
      ]
    },
    {
      "cell_type": "code",
      "source": [
        "# Calculate the mean absolute error\n",
        "mae = tf.metrics.mean_absolute_error(y_true=y_test,\n",
        "                                     y_pred=tf.constant(tf.squeeze(y_pred)))\n",
        "mae\n"
      ],
      "metadata": {
        "colab": {
          "base_uri": "https://localhost:8080/"
        },
        "id": "XeaIjggmI9XK",
        "outputId": "8fed5e3a-718b-4d01-832e-b30b7f2b1c09"
      },
      "execution_count": 39,
      "outputs": [
        {
          "output_type": "execute_result",
          "data": {
            "text/plain": [
              "<tf.Tensor: shape=(), dtype=float32, numpy=10.749109>"
            ]
          },
          "metadata": {},
          "execution_count": 39
        }
      ]
    },
    {
      "cell_type": "markdown",
      "source": [
        "👁️ If we are trying to compare Tensors we need to make shapes and dtypes equal to each other:\n",
        "\n",
        "That's why we use:\n",
        "`y_pred=tf.constant(tf.squeeze(y_pred))`"
      ],
      "metadata": {
        "id": "zTnv_UjeJbgp"
      }
    },
    {
      "cell_type": "code",
      "source": [
        "# Calculate the mean square error\n",
        "mse = tf.metrics.mean_squared_error(y_true=y_test,\n",
        "                                   y_pred=tf.constant(tf.squeeze(y_pred)))\n",
        "mse"
      ],
      "metadata": {
        "colab": {
          "base_uri": "https://localhost:8080/"
        },
        "id": "zgZf8bWWK23q",
        "outputId": "68325b12-2650-4fb1-b872-70653864c29e"
      },
      "execution_count": 40,
      "outputs": [
        {
          "output_type": "execute_result",
          "data": {
            "text/plain": [
              "<tf.Tensor: shape=(), dtype=float32, numpy=123.392456>"
            ]
          },
          "metadata": {},
          "execution_count": 40
        }
      ]
    },
    {
      "cell_type": "code",
      "source": [
        "# Make functions to reuse MAE and MSE\n",
        "def mae(y_true, y_pred):\n",
        "  return tf.metrics.mean_absolute_error(y_true=y_true,\n",
        "                                        y_pred=tf.squeeze(y_pred))\n",
        "\n",
        "def mse(y_true, y_pred):\n",
        "  return tf.metrics.mean_squared_error(y_true=y_true,\n",
        "                                       y_pred=tf.squeeze(y_pred))"
      ],
      "metadata": {
        "id": "3r519uq-MZjn"
      },
      "execution_count": 41,
      "outputs": []
    },
    {
      "cell_type": "code",
      "source": [
        "mse(y_test, y_pred)"
      ],
      "metadata": {
        "colab": {
          "base_uri": "https://localhost:8080/"
        },
        "id": "5hLBry7wNpSH",
        "outputId": "d0b5b240-656f-4104-d8fd-041796389846"
      },
      "execution_count": 42,
      "outputs": [
        {
          "output_type": "execute_result",
          "data": {
            "text/plain": [
              "<tf.Tensor: shape=(), dtype=float32, numpy=123.392456>"
            ]
          },
          "metadata": {},
          "execution_count": 42
        }
      ]
    },
    {
      "cell_type": "markdown",
      "source": [
        "### Runnning experiments to improve our model experiments\n",
        "\n",
        "\n",
        "```\n",
        "Build model -> fit it -> evaluate it -> tweak model -> fit it -> evaluate it -> tweak model -> fit it -> evaluate it...\n",
        "```\n",
        "\n",
        "1. Get more data - get more examples for your model to train on (more opportunities to learn patterns or relationships between features and labels).\n",
        "2. Make your model larger (using a more complex model) - this might come in the form of more layers or more hidden units in each layer.\n",
        "3. Train for longer -  give your model more of a chance to find patterns in the data\n",
        "\n",
        "Let's do three model experiments:\n",
        "\n",
        "1. `model_1` - same as the original model, 1 layer, trained por 100 epochs\n",
        "2. `model_2` - 2 layers, trained for 100 epochs.\n",
        "3. `model_3` - 2 layers, trained for 500 epochs.\n",
        "4.\n",
        "5.\n",
        "\n",
        "**Build** `model_1`\n"
      ],
      "metadata": {
        "id": "nwLUPBwcNuE1"
      }
    },
    {
      "cell_type": "code",
      "source": [
        "# Set random seed\n",
        "tf.random.set_seed(42)\n",
        "\n",
        "# 1. Create the model\n",
        "model_1 = tf.keras.Sequential([\n",
        "    tf.keras.layers.Dense(1)\n",
        "])\n",
        "\n",
        "# 2. Compile the model\n",
        "model_1.compile(loss=tf.keras.losses.mae,\n",
        "              optimizer=tf.keras.optimizers.SGD(),\n",
        "              metrics=['mae'])\n",
        "\n",
        "# 3. Fit the model\n",
        "model_1.fit(tf.expand_dims(X_train, axis=-1), y_train, epochs=100)"
      ],
      "metadata": {
        "colab": {
          "base_uri": "https://localhost:8080/"
        },
        "id": "sDyM609QOQH-",
        "outputId": "2a86e073-3312-4537-98bb-6865abc56877"
      },
      "execution_count": 43,
      "outputs": [
        {
          "output_type": "stream",
          "name": "stdout",
          "text": [
            "Epoch 1/100\n",
            "2/2 [==============================] - 0s 11ms/step - loss: 44.6417 - mae: 44.6417\n",
            "Epoch 2/100\n",
            "2/2 [==============================] - 0s 7ms/step - loss: 14.3927 - mae: 14.3927\n",
            "Epoch 3/100\n",
            "2/2 [==============================] - 0s 6ms/step - loss: 13.3507 - mae: 13.3507\n",
            "Epoch 4/100\n",
            "2/2 [==============================] - 0s 7ms/step - loss: 7.5537 - mae: 7.5537\n",
            "Epoch 5/100\n",
            "2/2 [==============================] - 0s 7ms/step - loss: 7.5646 - mae: 7.5646\n",
            "Epoch 6/100\n",
            "2/2 [==============================] - 0s 7ms/step - loss: 9.0587 - mae: 9.0587\n",
            "Epoch 7/100\n",
            "2/2 [==============================] - 0s 7ms/step - loss: 9.4707 - mae: 9.4707\n",
            "Epoch 8/100\n",
            "2/2 [==============================] - 0s 7ms/step - loss: 9.3305 - mae: 9.3305\n",
            "Epoch 9/100\n",
            "2/2 [==============================] - 0s 6ms/step - loss: 7.5192 - mae: 7.5192\n",
            "Epoch 10/100\n",
            "2/2 [==============================] - 0s 6ms/step - loss: 12.5939 - mae: 12.5939\n",
            "Epoch 11/100\n",
            "2/2 [==============================] - 0s 10ms/step - loss: 10.3428 - mae: 10.3428\n",
            "Epoch 12/100\n",
            "2/2 [==============================] - 0s 7ms/step - loss: 18.5178 - mae: 18.5178\n",
            "Epoch 13/100\n",
            "2/2 [==============================] - 0s 7ms/step - loss: 9.7400 - mae: 9.7400\n",
            "Epoch 14/100\n",
            "2/2 [==============================] - 0s 9ms/step - loss: 15.6212 - mae: 15.6212\n",
            "Epoch 15/100\n",
            "2/2 [==============================] - 0s 7ms/step - loss: 11.7212 - mae: 11.7212\n",
            "Epoch 16/100\n",
            "2/2 [==============================] - 0s 7ms/step - loss: 8.4544 - mae: 8.4544\n",
            "Epoch 17/100\n",
            "2/2 [==============================] - 0s 6ms/step - loss: 13.4302 - mae: 13.4302\n",
            "Epoch 18/100\n",
            "2/2 [==============================] - 0s 6ms/step - loss: 11.2053 - mae: 11.2053\n",
            "Epoch 19/100\n",
            "2/2 [==============================] - 0s 6ms/step - loss: 18.3380 - mae: 18.3380\n",
            "Epoch 20/100\n",
            "2/2 [==============================] - 0s 8ms/step - loss: 15.0427 - mae: 15.0427\n",
            "Epoch 21/100\n",
            "2/2 [==============================] - 0s 8ms/step - loss: 11.0179 - mae: 11.0179\n",
            "Epoch 22/100\n",
            "2/2 [==============================] - 0s 6ms/step - loss: 8.1539 - mae: 8.1539\n",
            "Epoch 23/100\n",
            "2/2 [==============================] - 0s 6ms/step - loss: 9.5282 - mae: 9.5282\n",
            "Epoch 24/100\n",
            "2/2 [==============================] - 0s 7ms/step - loss: 7.6675 - mae: 7.6675\n",
            "Epoch 25/100\n",
            "2/2 [==============================] - 0s 7ms/step - loss: 13.2053 - mae: 13.2053\n",
            "Epoch 26/100\n",
            "2/2 [==============================] - 0s 8ms/step - loss: 16.4145 - mae: 16.4145\n",
            "Epoch 27/100\n",
            "2/2 [==============================] - 0s 6ms/step - loss: 13.1619 - mae: 13.1619\n",
            "Epoch 28/100\n",
            "2/2 [==============================] - 0s 6ms/step - loss: 14.2493 - mae: 14.2493\n",
            "Epoch 29/100\n",
            "2/2 [==============================] - 0s 6ms/step - loss: 10.0708 - mae: 10.0708\n",
            "Epoch 30/100\n",
            "2/2 [==============================] - 0s 7ms/step - loss: 16.3267 - mae: 16.3267\n",
            "Epoch 31/100\n",
            "2/2 [==============================] - 0s 7ms/step - loss: 23.6632 - mae: 23.6632\n",
            "Epoch 32/100\n",
            "2/2 [==============================] - 0s 7ms/step - loss: 7.6319 - mae: 7.6319\n",
            "Epoch 33/100\n",
            "2/2 [==============================] - 0s 7ms/step - loss: 9.3331 - mae: 9.3331\n",
            "Epoch 34/100\n",
            "2/2 [==============================] - 0s 8ms/step - loss: 13.7500 - mae: 13.7500\n",
            "Epoch 35/100\n",
            "2/2 [==============================] - 0s 7ms/step - loss: 11.1274 - mae: 11.1274\n",
            "Epoch 36/100\n",
            "2/2 [==============================] - 0s 7ms/step - loss: 13.3131 - mae: 13.3131\n",
            "Epoch 37/100\n",
            "2/2 [==============================] - 0s 8ms/step - loss: 9.4893 - mae: 9.4893\n",
            "Epoch 38/100\n",
            "2/2 [==============================] - 0s 8ms/step - loss: 10.1541 - mae: 10.1541\n",
            "Epoch 39/100\n",
            "2/2 [==============================] - 0s 7ms/step - loss: 10.1791 - mae: 10.1791\n",
            "Epoch 40/100\n",
            "2/2 [==============================] - 0s 7ms/step - loss: 10.9099 - mae: 10.9099\n",
            "Epoch 41/100\n",
            "2/2 [==============================] - 0s 7ms/step - loss: 7.9056 - mae: 7.9056\n",
            "Epoch 42/100\n",
            "2/2 [==============================] - 0s 7ms/step - loss: 10.1058 - mae: 10.1058\n",
            "Epoch 43/100\n",
            "2/2 [==============================] - 0s 6ms/step - loss: 8.7110 - mae: 8.7110\n",
            "Epoch 44/100\n",
            "2/2 [==============================] - 0s 7ms/step - loss: 12.2234 - mae: 12.2234\n",
            "Epoch 45/100\n",
            "2/2 [==============================] - 0s 6ms/step - loss: 13.7904 - mae: 13.7904\n",
            "Epoch 46/100\n",
            "2/2 [==============================] - 0s 8ms/step - loss: 8.4677 - mae: 8.4677\n",
            "Epoch 47/100\n",
            "2/2 [==============================] - 0s 7ms/step - loss: 9.1462 - mae: 9.1462\n",
            "Epoch 48/100\n",
            "2/2 [==============================] - 0s 7ms/step - loss: 10.6353 - mae: 10.6353\n",
            "Epoch 49/100\n",
            "2/2 [==============================] - 0s 7ms/step - loss: 7.7624 - mae: 7.7624\n",
            "Epoch 50/100\n",
            "2/2 [==============================] - 0s 7ms/step - loss: 9.5560 - mae: 9.5560\n",
            "Epoch 51/100\n",
            "2/2 [==============================] - 0s 7ms/step - loss: 9.1676 - mae: 9.1676\n",
            "Epoch 52/100\n",
            "2/2 [==============================] - 0s 7ms/step - loss: 16.3825 - mae: 16.3825\n",
            "Epoch 53/100\n",
            "2/2 [==============================] - 0s 7ms/step - loss: 14.1280 - mae: 14.1280\n",
            "Epoch 54/100\n",
            "2/2 [==============================] - 0s 7ms/step - loss: 21.1096 - mae: 21.1096\n",
            "Epoch 55/100\n",
            "2/2 [==============================] - 0s 7ms/step - loss: 16.4154 - mae: 16.4154\n",
            "Epoch 56/100\n",
            "2/2 [==============================] - 0s 7ms/step - loss: 9.9302 - mae: 9.9302\n",
            "Epoch 57/100\n",
            "2/2 [==============================] - 0s 6ms/step - loss: 9.6283 - mae: 9.6283\n",
            "Epoch 58/100\n",
            "2/2 [==============================] - 0s 6ms/step - loss: 8.9595 - mae: 8.9595\n",
            "Epoch 59/100\n",
            "2/2 [==============================] - 0s 12ms/step - loss: 10.1482 - mae: 10.1482\n",
            "Epoch 60/100\n",
            "2/2 [==============================] - 0s 8ms/step - loss: 8.4558 - mae: 8.4558\n",
            "Epoch 61/100\n",
            "2/2 [==============================] - 0s 7ms/step - loss: 9.3087 - mae: 9.3087\n",
            "Epoch 62/100\n",
            "2/2 [==============================] - 0s 7ms/step - loss: 7.0809 - mae: 7.0809\n",
            "Epoch 63/100\n",
            "2/2 [==============================] - 0s 7ms/step - loss: 8.6346 - mae: 8.6346\n",
            "Epoch 64/100\n",
            "2/2 [==============================] - 0s 7ms/step - loss: 9.2137 - mae: 9.2137\n",
            "Epoch 65/100\n",
            "2/2 [==============================] - 0s 7ms/step - loss: 10.4512 - mae: 10.4512\n",
            "Epoch 66/100\n",
            "2/2 [==============================] - 0s 7ms/step - loss: 15.6991 - mae: 15.6991\n",
            "Epoch 67/100\n",
            "2/2 [==============================] - 0s 7ms/step - loss: 10.0818 - mae: 10.0818\n",
            "Epoch 68/100\n",
            "2/2 [==============================] - 0s 7ms/step - loss: 9.0440 - mae: 9.0440\n",
            "Epoch 69/100\n",
            "2/2 [==============================] - 0s 7ms/step - loss: 12.5708 - mae: 12.5708\n",
            "Epoch 70/100\n",
            "2/2 [==============================] - 0s 7ms/step - loss: 8.9638 - mae: 8.9638\n",
            "Epoch 71/100\n",
            "2/2 [==============================] - 0s 7ms/step - loss: 9.9386 - mae: 9.9386\n",
            "Epoch 72/100\n",
            "2/2 [==============================] - 0s 7ms/step - loss: 9.9779 - mae: 9.9779\n",
            "Epoch 73/100\n",
            "2/2 [==============================] - 0s 8ms/step - loss: 12.4430 - mae: 12.4430\n",
            "Epoch 74/100\n",
            "2/2 [==============================] - 0s 9ms/step - loss: 10.5853 - mae: 10.5853\n",
            "Epoch 75/100\n",
            "2/2 [==============================] - 0s 6ms/step - loss: 9.6363 - mae: 9.6363\n",
            "Epoch 76/100\n",
            "2/2 [==============================] - 0s 8ms/step - loss: 11.1018 - mae: 11.1018\n",
            "Epoch 77/100\n",
            "2/2 [==============================] - 0s 8ms/step - loss: 8.2846 - mae: 8.2846\n",
            "Epoch 78/100\n",
            "2/2 [==============================] - 0s 8ms/step - loss: 8.9742 - mae: 8.9742\n",
            "Epoch 79/100\n",
            "2/2 [==============================] - 0s 7ms/step - loss: 19.7980 - mae: 19.7980\n",
            "Epoch 80/100\n",
            "2/2 [==============================] - 0s 7ms/step - loss: 17.8177 - mae: 17.8177\n",
            "Epoch 81/100\n",
            "2/2 [==============================] - 0s 7ms/step - loss: 7.0892 - mae: 7.0892\n",
            "Epoch 82/100\n",
            "2/2 [==============================] - 0s 7ms/step - loss: 10.4138 - mae: 10.4138\n",
            "Epoch 83/100\n",
            "2/2 [==============================] - 0s 7ms/step - loss: 9.8368 - mae: 9.8368\n",
            "Epoch 84/100\n",
            "2/2 [==============================] - 0s 8ms/step - loss: 7.9462 - mae: 7.9462\n",
            "Epoch 85/100\n",
            "2/2 [==============================] - 0s 10ms/step - loss: 9.4557 - mae: 9.4557\n",
            "Epoch 86/100\n",
            "2/2 [==============================] - 0s 7ms/step - loss: 9.4998 - mae: 9.4998\n",
            "Epoch 87/100\n",
            "2/2 [==============================] - 0s 9ms/step - loss: 11.4438 - mae: 11.4438\n",
            "Epoch 88/100\n",
            "2/2 [==============================] - 0s 7ms/step - loss: 9.9434 - mae: 9.9434\n",
            "Epoch 89/100\n",
            "2/2 [==============================] - 0s 6ms/step - loss: 7.2606 - mae: 7.2606\n",
            "Epoch 90/100\n",
            "2/2 [==============================] - 0s 7ms/step - loss: 12.7031 - mae: 12.7031\n",
            "Epoch 91/100\n",
            "2/2 [==============================] - 0s 10ms/step - loss: 7.3203 - mae: 7.3203\n",
            "Epoch 92/100\n",
            "2/2 [==============================] - 0s 7ms/step - loss: 7.6840 - mae: 7.6840\n",
            "Epoch 93/100\n",
            "2/2 [==============================] - 0s 8ms/step - loss: 7.1266 - mae: 7.1266\n",
            "Epoch 94/100\n",
            "2/2 [==============================] - 0s 7ms/step - loss: 12.5509 - mae: 12.5509\n",
            "Epoch 95/100\n",
            "2/2 [==============================] - 0s 8ms/step - loss: 9.9276 - mae: 9.9276\n",
            "Epoch 96/100\n",
            "2/2 [==============================] - 0s 9ms/step - loss: 9.1485 - mae: 9.1485\n",
            "Epoch 97/100\n",
            "2/2 [==============================] - 0s 8ms/step - loss: 12.0931 - mae: 12.0931\n",
            "Epoch 98/100\n",
            "2/2 [==============================] - 0s 6ms/step - loss: 9.0732 - mae: 9.0732\n",
            "Epoch 99/100\n",
            "2/2 [==============================] - 0s 8ms/step - loss: 8.5054 - mae: 8.5054\n",
            "Epoch 100/100\n",
            "2/2 [==============================] - 0s 6ms/step - loss: 14.4656 - mae: 14.4656\n"
          ]
        },
        {
          "output_type": "execute_result",
          "data": {
            "text/plain": [
              "<keras.callbacks.History at 0x7bec91cc2980>"
            ]
          },
          "metadata": {},
          "execution_count": 43
        }
      ]
    },
    {
      "cell_type": "code",
      "source": [
        "# Make and plot predictions to model_1\n",
        "y_preds_1 = model_1.predict(X_test)\n",
        "plot_predictions(predictions=y_preds_1)"
      ],
      "metadata": {
        "colab": {
          "base_uri": "https://localhost:8080/",
          "height": 654
        },
        "id": "t9wU0dEldRn8",
        "outputId": "67b42966-3866-4716-c8e4-ae76c4989ebe"
      },
      "execution_count": 44,
      "outputs": [
        {
          "output_type": "stream",
          "name": "stderr",
          "text": [
            "WARNING:tensorflow:6 out of the last 6 calls to <function Model.make_predict_function.<locals>.predict_function at 0x7bec92c1fac0> triggered tf.function retracing. Tracing is expensive and the excessive number of tracings could be due to (1) creating @tf.function repeatedly in a loop, (2) passing tensors with different shapes, (3) passing Python objects instead of tensors. For (1), please define your @tf.function outside of the loop. For (2), @tf.function has reduce_retracing=True option that can avoid unnecessary retracing. For (3), please refer to https://www.tensorflow.org/guide/function#controlling_retracing and https://www.tensorflow.org/api_docs/python/tf/function for  more details.\n"
          ]
        },
        {
          "output_type": "stream",
          "name": "stdout",
          "text": [
            "1/1 [==============================] - 0s 41ms/step\n"
          ]
        },
        {
          "output_type": "display_data",
          "data": {
            "text/plain": [
              "<Figure size 1000x700 with 1 Axes>"
            ],
            "image/png": "[encoded data removed]"
          },
          "metadata": {}
        }
      ]
    },
    {
      "cell_type": "code",
      "source": [
        "# Calculate model_1 evaluation metrics\n",
        "mae_1 = mae(y_test, y_preds_1)\n",
        "mse_1 = mse(y_test, y_preds_1)\n",
        "mae_1, mse_1"
      ],
      "metadata": {
        "colab": {
          "base_uri": "https://localhost:8080/"
        },
        "id": "CB4GlEQxhROX",
        "outputId": "d9be6779-080b-4498-c166-2f1d7a8b1e59"
      },
      "execution_count": 45,
      "outputs": [
        {
          "output_type": "execute_result",
          "data": {
            "text/plain": [
              "(<tf.Tensor: shape=(), dtype=float32, numpy=30.618515>,\n",
              " <tf.Tensor: shape=(), dtype=float32, numpy=947.90546>)"
            ]
          },
          "metadata": {},
          "execution_count": 45
        }
      ]
    },
    {
      "cell_type": "markdown",
      "source": [
        "**Build** `model_2`"
      ],
      "metadata": {
        "id": "TreW3W3wkvsV"
      }
    },
    {
      "cell_type": "code",
      "source": [
        "# Set the random seed\n",
        "tf.random.set_seed(42)\n",
        "\n",
        "# 1. Create a model\n",
        "model_2 = tf.keras.Sequential([\n",
        "    tf.keras.layers.Dense(10),\n",
        "    tf.keras.layers.Dense(1)\n",
        "])\n",
        "\n",
        "# 2. Compile the model\n",
        "model_2.compile(loss=tf.keras.losses.mae,\n",
        "                optimizer=tf.keras.optimizers.SGD(),\n",
        "                metrics='mse')\n",
        "\n",
        "# 3. Fit the model\n",
        "model_2.fit(tf.expand_dims(X_train, axis=-1), y_train, epochs=100)"
      ],
      "metadata": {
        "colab": {
          "base_uri": "https://localhost:8080/"
        },
        "id": "wnle-n8PmBgN",
        "outputId": "d69cebd5-0571-4d4c-ea72-f0f1b4acaf83"
      },
      "execution_count": 46,
      "outputs": [
        {
          "output_type": "stream",
          "name": "stdout",
          "text": [
            "Epoch 1/100\n",
            "2/2 [==============================] - 1s 12ms/step - loss: 70.3029 - mse: 7868.2603\n",
            "Epoch 2/100\n",
            "2/2 [==============================] - 0s 9ms/step - loss: 40.7119 - mse: 2642.7227\n",
            "Epoch 3/100\n",
            "2/2 [==============================] - 0s 9ms/step - loss: 28.1048 - mse: 1157.3356\n",
            "Epoch 4/100\n",
            "2/2 [==============================] - 0s 7ms/step - loss: 14.1603 - mse: 266.0883\n",
            "Epoch 5/100\n",
            "2/2 [==============================] - 0s 8ms/step - loss: 19.3815 - mse: 512.1329\n",
            "Epoch 6/100\n",
            "2/2 [==============================] - 0s 7ms/step - loss: 9.6680 - mse: 121.7314\n",
            "Epoch 7/100\n",
            "2/2 [==============================] - 0s 6ms/step - loss: 10.6363 - mse: 142.1386\n",
            "Epoch 8/100\n",
            "2/2 [==============================] - 0s 7ms/step - loss: 10.9619 - mse: 138.1765\n",
            "Epoch 9/100\n",
            "2/2 [==============================] - 0s 7ms/step - loss: 38.3726 - mse: 2280.9666\n",
            "Epoch 10/100\n",
            "2/2 [==============================] - 0s 7ms/step - loss: 25.9009 - mse: 942.8997\n",
            "Epoch 11/100\n",
            "2/2 [==============================] - 0s 6ms/step - loss: 10.2676 - mse: 149.9942\n",
            "Epoch 12/100\n",
            "2/2 [==============================] - 0s 7ms/step - loss: 25.2131 - mse: 886.5850\n",
            "Epoch 13/100\n",
            "2/2 [==============================] - 0s 7ms/step - loss: 17.1792 - mse: 411.0213\n",
            "Epoch 14/100\n",
            "2/2 [==============================] - 0s 7ms/step - loss: 26.2500 - mse: 1079.5085\n",
            "Epoch 15/100\n",
            "2/2 [==============================] - 0s 7ms/step - loss: 18.2656 - mse: 463.8054\n",
            "Epoch 16/100\n",
            "2/2 [==============================] - 0s 7ms/step - loss: 8.6688 - mse: 108.0860\n",
            "Epoch 17/100\n",
            "2/2 [==============================] - 0s 13ms/step - loss: 22.1473 - mse: 678.9825\n",
            "Epoch 18/100\n",
            "2/2 [==============================] - 0s 12ms/step - loss: 10.8174 - mse: 169.7170\n",
            "Epoch 19/100\n",
            "2/2 [==============================] - 0s 8ms/step - loss: 10.7014 - mse: 137.9362\n",
            "Epoch 20/100\n",
            "2/2 [==============================] - 0s 7ms/step - loss: 12.0211 - mse: 164.3373\n",
            "Epoch 21/100\n",
            "2/2 [==============================] - 0s 9ms/step - loss: 20.0407 - mse: 582.2823\n",
            "Epoch 22/100\n",
            "2/2 [==============================] - 0s 7ms/step - loss: 13.7383 - mse: 240.2257\n",
            "Epoch 23/100\n",
            "2/2 [==============================] - 0s 7ms/step - loss: 9.5142 - mse: 94.5680\n",
            "Epoch 24/100\n",
            "2/2 [==============================] - 0s 7ms/step - loss: 11.8667 - mse: 163.1297\n",
            "Epoch 25/100\n",
            "2/2 [==============================] - 0s 7ms/step - loss: 16.0978 - mse: 379.3913\n",
            "Epoch 26/100\n",
            "2/2 [==============================] - 0s 7ms/step - loss: 16.2980 - mse: 368.9748\n",
            "Epoch 27/100\n",
            "2/2 [==============================] - 0s 7ms/step - loss: 11.5685 - mse: 178.4662\n",
            "Epoch 28/100\n",
            "2/2 [==============================] - 0s 7ms/step - loss: 29.7521 - mse: 1442.3054\n",
            "Epoch 29/100\n",
            "2/2 [==============================] - 0s 7ms/step - loss: 9.2664 - mse: 93.2647\n",
            "Epoch 30/100\n",
            "2/2 [==============================] - 0s 7ms/step - loss: 30.3415 - mse: 1683.0472\n",
            "Epoch 31/100\n",
            "2/2 [==============================] - 0s 7ms/step - loss: 55.1321 - mse: 5450.9727\n",
            "Epoch 32/100\n",
            "2/2 [==============================] - 0s 7ms/step - loss: 9.7011 - mse: 102.9222\n",
            "Epoch 33/100\n",
            "2/2 [==============================] - 0s 8ms/step - loss: 12.3113 - mse: 191.0135\n",
            "Epoch 34/100\n",
            "2/2 [==============================] - 0s 8ms/step - loss: 24.4719 - mse: 909.8611\n",
            "Epoch 35/100\n",
            "2/2 [==============================] - 0s 8ms/step - loss: 11.9596 - mse: 210.6304\n",
            "Epoch 36/100\n",
            "2/2 [==============================] - 0s 8ms/step - loss: 22.1956 - mse: 700.7734\n",
            "Epoch 37/100\n",
            "2/2 [==============================] - 0s 7ms/step - loss: 17.4139 - mse: 431.9212\n",
            "Epoch 38/100\n",
            "2/2 [==============================] - 0s 7ms/step - loss: 10.6856 - mse: 131.4063\n",
            "Epoch 39/100\n",
            "2/2 [==============================] - 0s 8ms/step - loss: 11.2012 - mse: 162.9409\n",
            "Epoch 40/100\n",
            "2/2 [==============================] - 0s 7ms/step - loss: 18.0301 - mse: 470.1765\n",
            "Epoch 41/100\n",
            "2/2 [==============================] - 0s 10ms/step - loss: 10.4246 - mse: 183.0733\n",
            "Epoch 42/100\n",
            "2/2 [==============================] - 0s 8ms/step - loss: 7.2715 - mse: 75.4664\n",
            "Epoch 43/100\n",
            "2/2 [==============================] - 0s 8ms/step - loss: 18.9850 - mse: 534.3842\n",
            "Epoch 44/100\n",
            "2/2 [==============================] - 0s 7ms/step - loss: 20.1479 - mse: 627.9225\n",
            "Epoch 45/100\n",
            "2/2 [==============================] - 0s 8ms/step - loss: 10.1374 - mse: 127.8161\n",
            "Epoch 46/100\n",
            "2/2 [==============================] - 0s 8ms/step - loss: 11.4049 - mse: 161.3882\n",
            "Epoch 47/100\n",
            "2/2 [==============================] - 0s 8ms/step - loss: 9.8128 - mse: 152.9043\n",
            "Epoch 48/100\n",
            "2/2 [==============================] - 0s 7ms/step - loss: 17.5929 - mse: 420.7244\n",
            "Epoch 49/100\n",
            "2/2 [==============================] - 0s 7ms/step - loss: 9.3473 - mse: 95.7710\n",
            "Epoch 50/100\n",
            "2/2 [==============================] - 0s 7ms/step - loss: 13.4046 - mse: 237.4001\n",
            "Epoch 51/100\n",
            "2/2 [==============================] - 0s 7ms/step - loss: 11.4459 - mse: 148.9740\n",
            "Epoch 52/100\n",
            "2/2 [==============================] - 0s 9ms/step - loss: 29.4610 - mse: 1489.2621\n",
            "Epoch 53/100\n",
            "2/2 [==============================] - 0s 8ms/step - loss: 16.7859 - mse: 417.3057\n",
            "Epoch 54/100\n",
            "2/2 [==============================] - 0s 8ms/step - loss: 21.7737 - mse: 699.4491\n",
            "Epoch 55/100\n",
            "2/2 [==============================] - 0s 7ms/step - loss: 22.2266 - mse: 739.5859\n",
            "Epoch 56/100\n",
            "2/2 [==============================] - 0s 12ms/step - loss: 11.2624 - mse: 171.6148\n",
            "Epoch 57/100\n",
            "2/2 [==============================] - 0s 9ms/step - loss: 13.2473 - mse: 219.6653\n",
            "Epoch 58/100\n",
            "2/2 [==============================] - 0s 10ms/step - loss: 9.8881 - mse: 107.9177\n",
            "Epoch 59/100\n",
            "2/2 [==============================] - 0s 7ms/step - loss: 13.4398 - mse: 256.7028\n",
            "Epoch 60/100\n",
            "2/2 [==============================] - 0s 8ms/step - loss: 10.9553 - mse: 142.2091\n",
            "Epoch 61/100\n",
            "2/2 [==============================] - 0s 7ms/step - loss: 13.5841 - mse: 247.6258\n",
            "Epoch 62/100\n",
            "2/2 [==============================] - 0s 8ms/step - loss: 17.9198 - mse: 488.9423\n",
            "Epoch 63/100\n",
            "2/2 [==============================] - 0s 7ms/step - loss: 8.7503 - mse: 91.9250\n",
            "Epoch 64/100\n",
            "2/2 [==============================] - 0s 7ms/step - loss: 16.1706 - mse: 374.8664\n",
            "Epoch 65/100\n",
            "2/2 [==============================] - 0s 7ms/step - loss: 10.7612 - mse: 147.4267\n",
            "Epoch 66/100\n",
            "2/2 [==============================] - 0s 7ms/step - loss: 22.2297 - mse: 732.3335\n",
            "Epoch 67/100\n",
            "2/2 [==============================] - 0s 8ms/step - loss: 10.2847 - mse: 121.6101\n",
            "Epoch 68/100\n",
            "2/2 [==============================] - 0s 9ms/step - loss: 13.4959 - mse: 270.2623\n",
            "Epoch 69/100\n",
            "2/2 [==============================] - 0s 9ms/step - loss: 11.4524 - mse: 164.0555\n",
            "Epoch 70/100\n",
            "2/2 [==============================] - 0s 13ms/step - loss: 13.6391 - mse: 246.8527\n",
            "Epoch 71/100\n",
            "2/2 [==============================] - 0s 8ms/step - loss: 15.6548 - mse: 348.2089\n",
            "Epoch 72/100\n",
            "2/2 [==============================] - 0s 9ms/step - loss: 11.8700 - mse: 169.0606\n",
            "Epoch 73/100\n",
            "2/2 [==============================] - 0s 8ms/step - loss: 16.6521 - mse: 373.6624\n",
            "Epoch 74/100\n",
            "2/2 [==============================] - 0s 8ms/step - loss: 24.1873 - mse: 920.9573\n",
            "Epoch 75/100\n",
            "2/2 [==============================] - 0s 8ms/step - loss: 9.6464 - mse: 149.1775\n",
            "Epoch 76/100\n",
            "2/2 [==============================] - 0s 8ms/step - loss: 12.5002 - mse: 190.3639\n",
            "Epoch 77/100\n",
            "2/2 [==============================] - 0s 7ms/step - loss: 16.7455 - mse: 434.8834\n",
            "Epoch 78/100\n",
            "2/2 [==============================] - 0s 7ms/step - loss: 9.0936 - mse: 96.8009\n",
            "Epoch 79/100\n",
            "2/2 [==============================] - 0s 7ms/step - loss: 24.0703 - mse: 872.6743\n",
            "Epoch 80/100\n",
            "2/2 [==============================] - 0s 7ms/step - loss: 26.8715 - mse: 1115.8789\n",
            "Epoch 81/100\n",
            "2/2 [==============================] - 0s 8ms/step - loss: 11.7476 - mse: 173.6056\n",
            "Epoch 82/100\n",
            "2/2 [==============================] - 0s 7ms/step - loss: 11.9985 - mse: 211.6523\n",
            "Epoch 83/100\n",
            "2/2 [==============================] - 0s 7ms/step - loss: 17.3890 - mse: 393.8755\n",
            "Epoch 84/100\n",
            "2/2 [==============================] - 0s 8ms/step - loss: 7.2751 - mse: 73.5023\n",
            "Epoch 85/100\n",
            "2/2 [==============================] - 0s 8ms/step - loss: 14.9463 - mse: 312.0618\n",
            "Epoch 86/100\n",
            "2/2 [==============================] - 0s 8ms/step - loss: 15.2737 - mse: 315.1882\n",
            "Epoch 87/100\n",
            "2/2 [==============================] - 0s 12ms/step - loss: 19.0747 - mse: 519.6776\n",
            "Epoch 88/100\n",
            "2/2 [==============================] - 0s 7ms/step - loss: 29.9186 - mse: 1296.0703\n",
            "Epoch 89/100\n",
            "2/2 [==============================] - 0s 7ms/step - loss: 10.2075 - mse: 124.5582\n",
            "Epoch 90/100\n",
            "2/2 [==============================] - 0s 8ms/step - loss: 21.5954 - mse: 668.4752\n",
            "Epoch 91/100\n",
            "2/2 [==============================] - 0s 8ms/step - loss: 10.6064 - mse: 161.8920\n",
            "Epoch 92/100\n",
            "2/2 [==============================] - 0s 8ms/step - loss: 18.4576 - mse: 467.2903\n",
            "Epoch 93/100\n",
            "2/2 [==============================] - 0s 9ms/step - loss: 7.4353 - mse: 81.9575\n",
            "Epoch 94/100\n",
            "2/2 [==============================] - 0s 7ms/step - loss: 17.7864 - mse: 448.2367\n",
            "Epoch 95/100\n",
            "2/2 [==============================] - 0s 7ms/step - loss: 11.1476 - mse: 165.4229\n",
            "Epoch 96/100\n",
            "2/2 [==============================] - 0s 7ms/step - loss: 19.4817 - mse: 512.9125\n",
            "Epoch 97/100\n",
            "2/2 [==============================] - 0s 8ms/step - loss: 12.5192 - mse: 224.8954\n",
            "Epoch 98/100\n",
            "2/2 [==============================] - 0s 8ms/step - loss: 10.3119 - mse: 137.5610\n",
            "Epoch 99/100\n",
            "2/2 [==============================] - 0s 9ms/step - loss: 13.8423 - mse: 263.3302\n",
            "Epoch 100/100\n",
            "2/2 [==============================] - 0s 11ms/step - loss: 20.1344 - mse: 602.9408\n"
          ]
        },
        {
          "output_type": "execute_result",
          "data": {
            "text/plain": [
              "<keras.callbacks.History at 0x7bec91c20310>"
            ]
          },
          "metadata": {},
          "execution_count": 46
        }
      ]
    },
    {
      "cell_type": "code",
      "source": [
        "# Make predictions and plotting into a scatter plot using previous function\n",
        "y_preds_2 = model_2.predict(X_test)\n",
        "plot_predictions(predictions=y_preds_2)"
      ],
      "metadata": {
        "colab": {
          "base_uri": "https://localhost:8080/",
          "height": 612
        },
        "id": "UkISZ0lMnSXj",
        "outputId": "53c46e0b-2554-43f6-eb14-44932ab706b5"
      },
      "execution_count": 47,
      "outputs": [
        {
          "output_type": "stream",
          "name": "stdout",
          "text": [
            "1/1 [==============================] - 0s 47ms/step\n"
          ]
        },
        {
          "output_type": "display_data",
          "data": {
            "text/plain": [
              "<Figure size 1000x700 with 1 Axes>"
            ],
            "image/png": "[encoded data removed]"
          },
          "metadata": {}
        }
      ]
    },
    {
      "cell_type": "code",
      "source": [
        "mae_2 = mae(y_test, y_preds_2)\n",
        "mse_2 = mse(y_test, y_preds_2)\n",
        "mae_2, mse_2"
      ],
      "metadata": {
        "colab": {
          "base_uri": "https://localhost:8080/"
        },
        "id": "gVKwVsAan2Jz",
        "outputId": "cff5c59f-0d76-4161-ffa8-a8d931cdf781"
      },
      "execution_count": 48,
      "outputs": [
        {
          "output_type": "execute_result",
          "data": {
            "text/plain": [
              "(<tf.Tensor: shape=(), dtype=float32, numpy=2.9019387>,\n",
              " <tf.Tensor: shape=(), dtype=float32, numpy=11.141665>)"
            ]
          },
          "metadata": {},
          "execution_count": 48
        }
      ]
    },
    {
      "cell_type": "markdown",
      "source": [
        "**Build** `model_3`"
      ],
      "metadata": {
        "id": "HmCmJnYmoJly"
      }
    },
    {
      "cell_type": "code",
      "source": [
        "# Set the random seed\n",
        "tf.random.set_seed(42)\n",
        "\n",
        "# 1. Create the model\n",
        "model_3  = tf.keras.Sequential([\n",
        "    tf.keras.layers.Dense(100, activation='relu'),\n",
        "    tf.keras.layers.Dense(1)\n",
        "])\n",
        "\n",
        "# 2. Compile the model\n",
        "model_3.compile(loss=tf.keras.losses.mae,\n",
        "                optimizer=tf.keras.optimizers.Adam(learning_rate=0.01),\n",
        "                metrics='mse')\n",
        "\n",
        "# 3. Fit the model\n",
        "model_3.fit(tf.expand_dims(X_train, axis=-1), y_train, epochs=100)"
      ],
      "metadata": {
        "colab": {
          "base_uri": "https://localhost:8080/"
        },
        "id": "hI7AjukNp28j",
        "outputId": "9267a67c-8eb1-4fef-f61c-656f07c2a8c3"
      },
      "execution_count": 49,
      "outputs": [
        {
          "output_type": "stream",
          "name": "stdout",
          "text": [
            "Epoch 1/100\n",
            "2/2 [==============================] - 1s 13ms/step - loss: 41.4656 - mse: 2391.3508\n",
            "Epoch 2/100\n",
            "2/2 [==============================] - 0s 8ms/step - loss: 31.9683 - mse: 1435.8389\n",
            "Epoch 3/100\n",
            "2/2 [==============================] - 0s 8ms/step - loss: 22.9862 - mse: 744.3212\n",
            "Epoch 4/100\n",
            "2/2 [==============================] - 0s 8ms/step - loss: 13.9739 - mse: 275.6450\n",
            "Epoch 5/100\n",
            "2/2 [==============================] - 0s 8ms/step - loss: 6.2259 - mse: 58.3967\n",
            "Epoch 6/100\n",
            "2/2 [==============================] - 0s 8ms/step - loss: 6.4722 - mse: 51.3531\n",
            "Epoch 7/100\n",
            "2/2 [==============================] - 0s 8ms/step - loss: 8.7084 - mse: 88.2931\n",
            "Epoch 8/100\n",
            "2/2 [==============================] - 0s 10ms/step - loss: 7.2136 - mse: 69.4328\n",
            "Epoch 9/100\n",
            "2/2 [==============================] - 0s 8ms/step - loss: 5.2629 - mse: 41.9876\n",
            "Epoch 10/100\n",
            "2/2 [==============================] - 0s 8ms/step - loss: 5.5185 - mse: 42.8208\n",
            "Epoch 11/100\n",
            "2/2 [==============================] - 0s 8ms/step - loss: 5.9452 - mse: 53.3839\n",
            "Epoch 12/100\n",
            "2/2 [==============================] - 0s 8ms/step - loss: 6.6179 - mse: 56.5187\n",
            "Epoch 13/100\n",
            "2/2 [==============================] - 0s 8ms/step - loss: 5.8747 - mse: 42.1012\n",
            "Epoch 14/100\n",
            "2/2 [==============================] - 0s 11ms/step - loss: 4.8671 - mse: 30.7229\n",
            "Epoch 15/100\n",
            "2/2 [==============================] - 0s 7ms/step - loss: 4.9743 - mse: 32.6340\n",
            "Epoch 16/100\n",
            "2/2 [==============================] - 0s 9ms/step - loss: 5.3513 - mse: 35.1685\n",
            "Epoch 17/100\n",
            "2/2 [==============================] - 0s 13ms/step - loss: 4.7512 - mse: 32.4294\n",
            "Epoch 18/100\n",
            "2/2 [==============================] - 0s 7ms/step - loss: 4.6790 - mse: 29.8883\n",
            "Epoch 19/100\n",
            "2/2 [==============================] - 0s 7ms/step - loss: 4.6874 - mse: 29.7376\n",
            "Epoch 20/100\n",
            "2/2 [==============================] - 0s 8ms/step - loss: 4.5352 - mse: 29.0785\n",
            "Epoch 21/100\n",
            "2/2 [==============================] - 0s 8ms/step - loss: 4.4353 - mse: 26.6508\n",
            "Epoch 22/100\n",
            "2/2 [==============================] - 0s 8ms/step - loss: 4.0912 - mse: 23.3989\n",
            "Epoch 23/100\n",
            "2/2 [==============================] - 0s 9ms/step - loss: 4.2491 - mse: 25.6226\n",
            "Epoch 24/100\n",
            "2/2 [==============================] - 0s 10ms/step - loss: 4.3631 - mse: 26.1687\n",
            "Epoch 25/100\n",
            "2/2 [==============================] - 0s 8ms/step - loss: 4.1090 - mse: 23.5482\n",
            "Epoch 26/100\n",
            "2/2 [==============================] - 0s 8ms/step - loss: 4.2159 - mse: 24.2776\n",
            "Epoch 27/100\n",
            "2/2 [==============================] - 0s 8ms/step - loss: 4.0204 - mse: 21.9196\n",
            "Epoch 28/100\n",
            "2/2 [==============================] - 0s 8ms/step - loss: 3.6928 - mse: 19.4527\n",
            "Epoch 29/100\n",
            "2/2 [==============================] - 0s 8ms/step - loss: 3.7143 - mse: 20.7566\n",
            "Epoch 30/100\n",
            "2/2 [==============================] - 0s 8ms/step - loss: 4.1248 - mse: 23.3914\n",
            "Epoch 31/100\n",
            "2/2 [==============================] - 0s 9ms/step - loss: 3.6838 - mse: 20.0009\n",
            "Epoch 32/100\n",
            "2/2 [==============================] - 0s 8ms/step - loss: 3.6814 - mse: 18.8462\n",
            "Epoch 33/100\n",
            "2/2 [==============================] - 0s 10ms/step - loss: 4.0528 - mse: 21.8893\n",
            "Epoch 34/100\n",
            "2/2 [==============================] - 0s 9ms/step - loss: 4.1389 - mse: 23.2060\n",
            "Epoch 35/100\n",
            "2/2 [==============================] - 0s 9ms/step - loss: 3.9443 - mse: 21.9392\n",
            "Epoch 36/100\n",
            "2/2 [==============================] - 0s 9ms/step - loss: 3.7308 - mse: 19.7127\n",
            "Epoch 37/100\n",
            "2/2 [==============================] - 0s 9ms/step - loss: 3.4468 - mse: 17.1802\n",
            "Epoch 38/100\n",
            "2/2 [==============================] - 0s 9ms/step - loss: 3.3829 - mse: 16.5913\n",
            "Epoch 39/100\n",
            "2/2 [==============================] - 0s 9ms/step - loss: 3.7595 - mse: 18.5556\n",
            "Epoch 40/100\n",
            "2/2 [==============================] - 0s 9ms/step - loss: 3.6279 - mse: 17.5148\n",
            "Epoch 41/100\n",
            "2/2 [==============================] - 0s 9ms/step - loss: 3.2144 - mse: 15.2452\n",
            "Epoch 42/100\n",
            "2/2 [==============================] - 0s 13ms/step - loss: 3.3021 - mse: 15.9388\n",
            "Epoch 43/100\n",
            "2/2 [==============================] - 0s 10ms/step - loss: 3.4791 - mse: 17.3111\n",
            "Epoch 44/100\n",
            "2/2 [==============================] - 0s 6ms/step - loss: 3.3745 - mse: 16.3010\n",
            "Epoch 45/100\n",
            "2/2 [==============================] - 0s 11ms/step - loss: 3.2308 - mse: 14.5336\n",
            "Epoch 46/100\n",
            "2/2 [==============================] - 0s 10ms/step - loss: 3.1969 - mse: 14.4288\n",
            "Epoch 47/100\n",
            "2/2 [==============================] - 0s 14ms/step - loss: 3.3043 - mse: 14.8280\n",
            "Epoch 48/100\n",
            "2/2 [==============================] - 0s 8ms/step - loss: 3.0458 - mse: 13.3014\n",
            "Epoch 49/100\n",
            "2/2 [==============================] - 0s 8ms/step - loss: 2.9660 - mse: 12.4692\n",
            "Epoch 50/100\n",
            "2/2 [==============================] - 0s 8ms/step - loss: 3.2134 - mse: 14.1385\n",
            "Epoch 51/100\n",
            "2/2 [==============================] - 0s 11ms/step - loss: 3.1252 - mse: 13.4093\n",
            "Epoch 52/100\n",
            "2/2 [==============================] - 0s 7ms/step - loss: 2.9455 - mse: 11.8512\n",
            "Epoch 53/100\n",
            "2/2 [==============================] - 0s 7ms/step - loss: 2.9166 - mse: 12.0822\n",
            "Epoch 54/100\n",
            "2/2 [==============================] - 0s 7ms/step - loss: 2.8008 - mse: 11.4747\n",
            "Epoch 55/100\n",
            "2/2 [==============================] - 0s 8ms/step - loss: 2.6837 - mse: 10.7296\n",
            "Epoch 56/100\n",
            "2/2 [==============================] - 0s 9ms/step - loss: 2.8402 - mse: 11.3936\n",
            "Epoch 57/100\n",
            "2/2 [==============================] - 0s 7ms/step - loss: 2.6834 - mse: 10.3294\n",
            "Epoch 58/100\n",
            "2/2 [==============================] - 0s 11ms/step - loss: 2.5462 - mse: 9.6145\n",
            "Epoch 59/100\n",
            "2/2 [==============================] - 0s 9ms/step - loss: 2.4920 - mse: 9.4222\n",
            "Epoch 60/100\n",
            "2/2 [==============================] - 0s 12ms/step - loss: 2.4380 - mse: 8.7338\n",
            "Epoch 61/100\n",
            "2/2 [==============================] - 0s 8ms/step - loss: 2.4870 - mse: 8.7146\n",
            "Epoch 62/100\n",
            "2/2 [==============================] - 0s 8ms/step - loss: 2.4118 - mse: 8.0821\n",
            "Epoch 63/100\n",
            "2/2 [==============================] - 0s 7ms/step - loss: 2.4123 - mse: 8.3489\n",
            "Epoch 64/100\n",
            "2/2 [==============================] - 0s 8ms/step - loss: 2.2057 - mse: 7.1903\n",
            "Epoch 65/100\n",
            "2/2 [==============================] - 0s 8ms/step - loss: 2.5186 - mse: 9.2791\n",
            "Epoch 66/100\n",
            "2/2 [==============================] - 0s 8ms/step - loss: 2.1425 - mse: 6.3844\n",
            "Epoch 67/100\n",
            "2/2 [==============================] - 0s 10ms/step - loss: 2.2669 - mse: 7.0073\n",
            "Epoch 68/100\n",
            "2/2 [==============================] - 0s 9ms/step - loss: 1.9448 - mse: 5.4450\n",
            "Epoch 69/100\n",
            "2/2 [==============================] - 0s 8ms/step - loss: 1.9568 - mse: 5.5005\n",
            "Epoch 70/100\n",
            "2/2 [==============================] - 0s 8ms/step - loss: 1.5949 - mse: 3.7581\n",
            "Epoch 71/100\n",
            "2/2 [==============================] - 0s 8ms/step - loss: 1.9067 - mse: 4.8561\n",
            "Epoch 72/100\n",
            "2/2 [==============================] - 0s 7ms/step - loss: 1.6241 - mse: 3.4690\n",
            "Epoch 73/100\n",
            "2/2 [==============================] - 0s 10ms/step - loss: 1.5040 - mse: 3.2467\n",
            "Epoch 74/100\n",
            "2/2 [==============================] - 0s 8ms/step - loss: 1.6350 - mse: 3.3852\n",
            "Epoch 75/100\n",
            "2/2 [==============================] - 0s 8ms/step - loss: 1.4487 - mse: 2.5885\n",
            "Epoch 76/100\n",
            "2/2 [==============================] - 0s 7ms/step - loss: 1.4222 - mse: 2.6093\n",
            "Epoch 77/100\n",
            "2/2 [==============================] - 0s 10ms/step - loss: 1.7607 - mse: 4.0274\n",
            "Epoch 78/100\n",
            "2/2 [==============================] - 0s 9ms/step - loss: 1.7138 - mse: 4.8932\n",
            "Epoch 79/100\n",
            "2/2 [==============================] - 0s 10ms/step - loss: 1.1292 - mse: 1.6960\n",
            "Epoch 80/100\n",
            "2/2 [==============================] - 0s 9ms/step - loss: 0.9957 - mse: 1.5026\n",
            "Epoch 81/100\n",
            "2/2 [==============================] - 0s 7ms/step - loss: 1.2887 - mse: 2.3986\n",
            "Epoch 82/100\n",
            "2/2 [==============================] - 0s 8ms/step - loss: 1.0615 - mse: 1.4441\n",
            "Epoch 83/100\n",
            "2/2 [==============================] - 0s 11ms/step - loss: 1.0028 - mse: 1.8668\n",
            "Epoch 84/100\n",
            "2/2 [==============================] - 0s 9ms/step - loss: 1.0359 - mse: 1.6563\n",
            "Epoch 85/100\n",
            "2/2 [==============================] - 0s 9ms/step - loss: 0.6317 - mse: 0.4526\n",
            "Epoch 86/100\n",
            "2/2 [==============================] - 0s 8ms/step - loss: 0.6684 - mse: 0.6250\n",
            "Epoch 87/100\n",
            "2/2 [==============================] - 0s 9ms/step - loss: 0.2934 - mse: 0.2251\n",
            "Epoch 88/100\n",
            "2/2 [==============================] - 0s 7ms/step - loss: 0.9220 - mse: 1.1260\n",
            "Epoch 89/100\n",
            "2/2 [==============================] - 0s 9ms/step - loss: 0.3098 - mse: 0.1560\n",
            "Epoch 90/100\n",
            "2/2 [==============================] - 0s 8ms/step - loss: 1.5554 - mse: 3.0450\n",
            "Epoch 91/100\n",
            "2/2 [==============================] - 0s 9ms/step - loss: 0.7437 - mse: 1.2217\n",
            "Epoch 92/100\n",
            "2/2 [==============================] - 0s 9ms/step - loss: 2.0375 - mse: 6.0494\n",
            "Epoch 93/100\n",
            "2/2 [==============================] - 0s 9ms/step - loss: 0.2710 - mse: 0.1510\n",
            "Epoch 94/100\n",
            "2/2 [==============================] - 0s 8ms/step - loss: 0.7050 - mse: 1.0810\n",
            "Epoch 95/100\n",
            "2/2 [==============================] - 0s 8ms/step - loss: 0.5951 - mse: 0.5944\n",
            "Epoch 96/100\n",
            "2/2 [==============================] - 0s 8ms/step - loss: 0.8897 - mse: 1.3509\n",
            "Epoch 97/100\n",
            "2/2 [==============================] - 0s 8ms/step - loss: 1.1410 - mse: 1.9089\n",
            "Epoch 98/100\n",
            "2/2 [==============================] - 0s 8ms/step - loss: 0.5257 - mse: 0.4731\n",
            "Epoch 99/100\n",
            "2/2 [==============================] - 0s 7ms/step - loss: 0.8917 - mse: 1.7904\n",
            "Epoch 100/100\n",
            "2/2 [==============================] - 0s 7ms/step - loss: 0.9016 - mse: 1.1895\n"
          ]
        },
        {
          "output_type": "execute_result",
          "data": {
            "text/plain": [
              "<keras.callbacks.History at 0x7bec9307c820>"
            ]
          },
          "metadata": {},
          "execution_count": 49
        }
      ]
    },
    {
      "cell_type": "code",
      "source": [
        "y_preds_3 = model_3.predict(X_test)\n",
        "plot_predictions(predictions=y_preds_3)"
      ],
      "metadata": {
        "colab": {
          "base_uri": "https://localhost:8080/",
          "height": 616
        },
        "id": "7Nm1Y7n3q4-o",
        "outputId": "eb54fbf1-f38a-4f42-fa01-7cc98329c4b5"
      },
      "execution_count": 50,
      "outputs": [
        {
          "output_type": "stream",
          "name": "stdout",
          "text": [
            "1/1 [==============================] - 0s 70ms/step\n"
          ]
        },
        {
          "output_type": "display_data",
          "data": {
            "text/plain": [
              "<Figure size 1000x700 with 1 Axes>"
            ],
            "image/png": "[encoded data removed]"
          },
          "metadata": {}
        }
      ]
    },
    {
      "cell_type": "code",
      "source": [
        "mae_3 = mae(y_test, y_preds_3)\n",
        "mse_3 = mse(y_test, y_preds_3)\n",
        "mae_3, mse_3"
      ],
      "metadata": {
        "colab": {
          "base_uri": "https://localhost:8080/"
        },
        "id": "icDlccN2rNBY",
        "outputId": "e5c7b209-d9d2-45cb-f474-6e9b7d2bc3ab"
      },
      "execution_count": 51,
      "outputs": [
        {
          "output_type": "execute_result",
          "data": {
            "text/plain": [
              "(<tf.Tensor: shape=(), dtype=float32, numpy=0.9009911>,\n",
              " <tf.Tensor: shape=(), dtype=float32, numpy=0.8121333>)"
            ]
          },
          "metadata": {},
          "execution_count": 51
        }
      ]
    },
    {
      "cell_type": "markdown",
      "source": [
        "👁️ **NOTE:** You want to start with small experiments (small models) and make sure they work and then improve the model that works better"
      ],
      "metadata": {
        "id": "26BkYnBgtNo4"
      }
    },
    {
      "cell_type": "markdown",
      "source": [
        "### Comparing the results of our experiments\n",
        "\n",
        "We've run a few experiments, let´s comapre the results"
      ],
      "metadata": {
        "id": "MMRCeBuDrd3H"
      }
    },
    {
      "cell_type": "code",
      "source": [
        "# Let´s compare our model's result using a pandas DataFrame\n",
        "import pandas as pd\n",
        "\n",
        "model_results = [['model_1', mae_1.numpy(), mse_1.numpy()],\n",
        "                 ['model_2', mae_2.numpy(), mse_2.numpy()],\n",
        "                 ['model_3', mae_3.numpy(), mse_3.numpy()]]\n",
        "\n",
        "all_results = pd.DataFrame(model_results, columns=['model','mae','mse'])\n",
        "all_results"
      ],
      "metadata": {
        "colab": {
          "base_uri": "https://localhost:8080/",
          "height": 143
        },
        "id": "_H2jw1Wxs5R2",
        "outputId": "2c159055-a9ba-4885-d4d8-728dc5a1eec5"
      },
      "execution_count": 52,
      "outputs": [
        {
          "output_type": "execute_result",
          "data": {
            "text/plain": [
              "     model        mae         mse\n",
              "0  model_1  30.618515  947.905457\n",
              "1  model_2   2.901939   11.141665\n",
              "2  model_3   0.900991    0.812133"
            ],
            "text/html": [
              "\n",
              "\n",
              "  <div id=\"df-8b91563a-d0f9-44bd-a3c2-068bf6ed6b2d\">\n",
              "    <div class=\"colab-df-container\">\n",
              "      <div>\n",
              "<style scoped>\n",
              "    .dataframe tbody tr th:only-of-type {\n",
              "        vertical-align: middle;\n",
              "    }\n",
              "\n",
              "    .dataframe tbody tr th {\n",
              "        vertical-align: top;\n",
              "    }\n",
              "\n",
              "    .dataframe thead th {\n",
              "        text-align: right;\n",
              "    }\n",
              "</style>\n",
              "<table border=\"1\" class=\"dataframe\">\n",
              "  <thead>\n",
              "    <tr style=\"text-align: right;\">\n",
              "      <th></th>\n",
              "      <th>model</th>\n",
              "      <th>mae</th>\n",
              "      <th>mse</th>\n",
              "    </tr>\n",
              "  </thead>\n",
              "  <tbody>\n",
              "    <tr>\n",
              "      <th>0</th>\n",
              "      <td>model_1</td>\n",
              "      <td>30.618515</td>\n",
              "      <td>947.905457</td>\n",
              "    </tr>\n",
              "    <tr>\n",
              "      <th>1</th>\n",
              "      <td>model_2</td>\n",
              "      <td>2.901939</td>\n",
              "      <td>11.141665</td>\n",
              "    </tr>\n",
              "    <tr>\n",
              "      <th>2</th>\n",
              "      <td>model_3</td>\n",
              "      <td>0.900991</td>\n",
              "      <td>0.812133</td>\n",
              "    </tr>\n",
              "  </tbody>\n",
              "</table>\n",
              "</div>\n",
              "      <button class=\"colab-df-convert\" onclick=\"convertToInteractive('df-8b91563a-d0f9-44bd-a3c2-068bf6ed6b2d')\"\n",
              "              title=\"Convert this dataframe to an interactive table.\"\n",
              "              style=\"display:none;\">\n",
              "\n",
              "  <svg xmlns=\"http://www.w3.org/2000/svg\" height=\"24px\"viewBox=\"0 0 24 24\"\n",
              "       width=\"24px\">\n",
              "    <path d=\"M0 0h24v24H0V0z\" fill=\"none\"/>\n",
              "    <path d=\"M18.56 5.44l.94 2.06.94-2.06 2.06-.94-2.06-.94-.94-2.06-.94 2.06-2.06.94zm-11 1L8.5 8.5l.94-2.06 2.06-.94-2.06-.94L8.5 2.5l-.94 2.06-2.06.94zm10 10l.94 2.06.94-2.06 2.06-.94-2.06-.94-.94-2.06-.94 2.06-2.06.94z\"/><path d=\"M17.41 7.96l-1.37-1.37c-.4-.4-.92-.59-1.43-.59-.52 0-1.04.2-1.43.59L10.3 9.45l-7.72 7.72c-.78.78-.78 2.05 0 2.83L4 21.41c.39.39.9.59 1.41.59.51 0 1.02-.2 1.41-.59l7.78-7.78 2.81-2.81c.8-.78.8-2.07 0-2.86zM5.41 20L4 18.59l7.72-7.72 1.47 1.35L5.41 20z\"/>\n",
              "  </svg>\n",
              "      </button>\n",
              "\n",
              "\n",
              "\n",
              "    <div id=\"df-541b5c55-ad08-4a7a-89e2-48fa422d0ad9\">\n",
              "      <button class=\"colab-df-quickchart\" onclick=\"quickchart('df-541b5c55-ad08-4a7a-89e2-48fa422d0ad9')\"\n",
              "              title=\"Suggest charts.\"\n",
              "              style=\"display:none;\">\n",
              "\n",
              "<svg xmlns=\"http://www.w3.org/2000/svg\" height=\"24px\"viewBox=\"0 0 24 24\"\n",
              "     width=\"24px\">\n",
              "    <g>\n",
              "        <path d=\"M19 3H5c-1.1 0-2 .9-2 2v14c0 1.1.9 2 2 2h14c1.1 0 2-.9 2-2V5c0-1.1-.9-2-2-2zM9 17H7v-7h2v7zm4 0h-2V7h2v10zm4 0h-2v-4h2v4z\"/>\n",
              "    </g>\n",
              "</svg>\n",
              "      </button>\n",
              "    </div>\n",
              "\n",
              "<style>\n",
              "  .colab-df-quickchart {\n",
              "    background-color: #E8F0FE;\n",
              "    border: none;\n",
              "    border-radius: 50%;\n",
              "    cursor: pointer;\n",
              "    display: none;\n",
              "    fill: #1967D2;\n",
              "    height: 32px;\n",
              "    padding: 0 0 0 0;\n",
              "    width: 32px;\n",
              "  }\n",
              "\n",
              "  .colab-df-quickchart:hover {\n",
              "    background-color: #E2EBFA;\n",
              "    box-shadow: 0px 1px 2px rgba(60, 64, 67, 0.3), 0px 1px 3px 1px rgba(60, 64, 67, 0.15);\n",
              "    fill: #174EA6;\n",
              "  }\n",
              "\n",
              "  [theme=dark] .colab-df-quickchart {\n",
              "    background-color: #3B4455;\n",
              "    fill: #D2E3FC;\n",
              "  }\n",
              "\n",
              "  [theme=dark] .colab-df-quickchart:hover {\n",
              "    background-color: #434B5C;\n",
              "    box-shadow: 0px 1px 3px 1px rgba(0, 0, 0, 0.15);\n",
              "    filter: drop-shadow(0px 1px 2px rgba(0, 0, 0, 0.3));\n",
              "    fill: #FFFFFF;\n",
              "  }\n",
              "</style>\n",
              "\n",
              "    <script>\n",
              "      async function quickchart(key) {\n",
              "        const containerElement = document.querySelector('#' + key);\n",
              "        const charts = await google.colab.kernel.invokeFunction(\n",
              "            'suggestCharts', [key], {});\n",
              "      }\n",
              "    </script>\n",
              "\n",
              "      <script>\n",
              "\n",
              "function displayQuickchartButton(domScope) {\n",
              "  let quickchartButtonEl =\n",
              "    domScope.querySelector('#df-541b5c55-ad08-4a7a-89e2-48fa422d0ad9 button.colab-df-quickchart');\n",
              "  quickchartButtonEl.style.display =\n",
              "    google.colab.kernel.accessAllowed ? 'block' : 'none';\n",
              "}\n",
              "\n",
              "        displayQuickchartButton(document);\n",
              "      </script>\n",
              "      <style>\n",
              "    .colab-df-container {\n",
              "      display:flex;\n",
              "      flex-wrap:wrap;\n",
              "      gap: 12px;\n",
              "    }\n",
              "\n",
              "    .colab-df-convert {\n",
              "      background-color: #E8F0FE;\n",
              "      border: none;\n",
              "      border-radius: 50%;\n",
              "      cursor: pointer;\n",
              "      display: none;\n",
              "      fill: #1967D2;\n",
              "      height: 32px;\n",
              "      padding: 0 0 0 0;\n",
              "      width: 32px;\n",
              "    }\n",
              "\n",
              "    .colab-df-convert:hover {\n",
              "      background-color: #E2EBFA;\n",
              "      box-shadow: 0px 1px 2px rgba(60, 64, 67, 0.3), 0px 1px 3px 1px rgba(60, 64, 67, 0.15);\n",
              "      fill: #174EA6;\n",
              "    }\n",
              "\n",
              "    [theme=dark] .colab-df-convert {\n",
              "      background-color: #3B4455;\n",
              "      fill: #D2E3FC;\n",
              "    }\n",
              "\n",
              "    [theme=dark] .colab-df-convert:hover {\n",
              "      background-color: #434B5C;\n",
              "      box-shadow: 0px 1px 3px 1px rgba(0, 0, 0, 0.15);\n",
              "      filter: drop-shadow(0px 1px 2px rgba(0, 0, 0, 0.3));\n",
              "      fill: #FFFFFF;\n",
              "    }\n",
              "  </style>\n",
              "\n",
              "      <script>\n",
              "        const buttonEl =\n",
              "          document.querySelector('#df-8b91563a-d0f9-44bd-a3c2-068bf6ed6b2d button.colab-df-convert');\n",
              "        buttonEl.style.display =\n",
              "          google.colab.kernel.accessAllowed ? 'block' : 'none';\n",
              "\n",
              "        async function convertToInteractive(key) {\n",
              "          const element = document.querySelector('#df-8b91563a-d0f9-44bd-a3c2-068bf6ed6b2d');\n",
              "          const dataTable =\n",
              "            await google.colab.kernel.invokeFunction('convertToInteractive',\n",
              "                                                     [key], {});\n",
              "          if (!dataTable) return;\n",
              "\n",
              "          const docLinkHtml = 'Like what you see? Visit the ' +\n",
              "            '<a target=\"_blank\" href=https://colab.research.google.com/notebooks/data_table.ipynb>data table notebook</a>'\n",
              "            + ' to learn more about interactive tables.';\n",
              "          element.innerHTML = '';\n",
              "          dataTable['output_type'] = 'display_data';\n",
              "          await google.colab.output.renderOutput(dataTable, element);\n",
              "          const docLink = document.createElement('div');\n",
              "          docLink.innerHTML = docLinkHtml;\n",
              "          element.appendChild(docLink);\n",
              "        }\n",
              "      </script>\n",
              "    </div>\n",
              "  </div>\n"
            ]
          },
          "metadata": {},
          "execution_count": 52
        }
      ]
    },
    {
      "cell_type": "code",
      "source": [
        "model_2.summary(), model_3.summary()"
      ],
      "metadata": {
        "colab": {
          "base_uri": "https://localhost:8080/"
        },
        "id": "gRZAkdulu2AF",
        "outputId": "910b5cbe-8d34-4a89-9266-7656c80cfb49"
      },
      "execution_count": 53,
      "outputs": [
        {
          "output_type": "stream",
          "name": "stdout",
          "text": [
            "Model: \"sequential_6\"\n",
            "_________________________________________________________________\n",
            " Layer (type)                Output Shape              Param #   \n",
            "=================================================================\n",
            " dense_10 (Dense)            (None, 10)                20        \n",
            "                                                                 \n",
            " dense_11 (Dense)            (None, 1)                 11        \n",
            "                                                                 \n",
            "=================================================================\n",
            "Total params: 31\n",
            "Trainable params: 31\n",
            "Non-trainable params: 0\n",
            "_________________________________________________________________\n",
            "Model: \"sequential_7\"\n",
            "_________________________________________________________________\n",
            " Layer (type)                Output Shape              Param #   \n",
            "=================================================================\n",
            " dense_12 (Dense)            (None, 100)               200       \n",
            "                                                                 \n",
            " dense_13 (Dense)            (None, 1)                 101       \n",
            "                                                                 \n",
            "=================================================================\n",
            "Total params: 301\n",
            "Trainable params: 301\n",
            "Non-trainable params: 0\n",
            "_________________________________________________________________\n"
          ]
        },
        {
          "output_type": "execute_result",
          "data": {
            "text/plain": [
              "(None, None)"
            ]
          },
          "metadata": {},
          "execution_count": 53
        }
      ]
    },
    {
      "cell_type": "markdown",
      "source": [
        "👁️ **NOTE:** One of your main goals should be to minimize the time between your experiments. The more experiments you do, the more things you'll figure out which don´t work and in turn, get closer to figuring out what does work. Remember the machine learning practioner's motto: \"experiment, experiment, experiment\""
      ],
      "metadata": {
        "id": "8RRN5PLCvROV"
      }
    },
    {
      "cell_type": "markdown",
      "source": [
        "### Tracking your experiments\n",
        "\n",
        "One really good habit in machine learning modelling is to track the results of your experiments.\n",
        "\n",
        "And doing so, it can be tedius if you're running lots of experiments.\n",
        "\n",
        "Luckily, there are tools to help us!\n",
        "\n",
        "💊 **Resource** As you builkd more models you look into using:\n",
        "* [TensorBoard](https://www.tensorflow.org/tensorboard) - a component of the TensorFlow library to help track modelling experiments\n",
        "* [Weight and Biases](https://wandb.ai/site) - a tool for tracking all kinds of machine learning experiments (plugs straight to TensorBoard)"
      ],
      "metadata": {
        "id": "St6SMvASvyD7"
      }
    },
    {
      "cell_type": "markdown",
      "source": [
        "### Saving our models\n",
        "\n",
        "Saving our models allows us to use them outside of Google Colab (or whereever they were trained) such in a web application or a mobile app.\n",
        "\n",
        "There are tow main formats\n",
        "\n",
        "1. The SavedModel format\n",
        "2. The HDF5 format"
      ],
      "metadata": {
        "id": "yltljc_0yu9L"
      }
    },
    {
      "cell_type": "code",
      "source": [
        "# Save using SavedModel\n",
        "model_3.save('best_model_SavedModel_format')"
      ],
      "metadata": {
        "colab": {
          "base_uri": "https://localhost:8080/"
        },
        "id": "deEr7K8RyypT",
        "outputId": "a8580995-c5dd-42ea-a720-d7d6ecbf9c45"
      },
      "execution_count": 54,
      "outputs": [
        {
          "output_type": "stream",
          "name": "stderr",
          "text": [
            "WARNING:absl:Found untraced functions such as _update_step_xla while saving (showing 1 of 1). These functions will not be directly callable after loading.\n"
          ]
        }
      ]
    },
    {
      "cell_type": "code",
      "source": [
        " # Save using HDF5\n",
        " model_3.save('best_model_HDF5_format.h5')"
      ],
      "metadata": {
        "id": "35ucmMnRCwAW"
      },
      "execution_count": 55,
      "outputs": []
    },
    {
      "cell_type": "markdown",
      "source": [
        "### Loading and using saved models"
      ],
      "metadata": {
        "id": "HxYhEOvsDSLl"
      }
    },
    {
      "cell_type": "code",
      "source": [
        "# Loading a SavedModel format model\n",
        "loaded_SavedModel_format = tf.keras.models.load_model('/content/best_model_SavedModel_format')"
      ],
      "metadata": {
        "id": "EKOspIFMDrT9"
      },
      "execution_count": 56,
      "outputs": []
    },
    {
      "cell_type": "code",
      "source": [
        "y_preds_4 = loaded_SavedModel_format.predict(X_test)\n",
        "plot_predictions(predictions=y_preds_4)"
      ],
      "metadata": {
        "colab": {
          "base_uri": "https://localhost:8080/",
          "height": 616
        },
        "id": "9Z8KVGQPEJWl",
        "outputId": "306ac9b2-dee3-4d5c-d059-01cc483a9a39"
      },
      "execution_count": 57,
      "outputs": [
        {
          "output_type": "stream",
          "name": "stdout",
          "text": [
            "1/1 [==============================] - 0s 84ms/step\n"
          ]
        },
        {
          "output_type": "display_data",
          "data": {
            "text/plain": [
              "<Figure size 1000x700 with 1 Axes>"
            ],
            "image/png": "[encoded data removed]"
          },
          "metadata": {}
        }
      ]
    },
    {
      "cell_type": "code",
      "source": [
        "y_preds_4"
      ],
      "metadata": {
        "colab": {
          "base_uri": "https://localhost:8080/"
        },
        "id": "cuV8pUrtEbnj",
        "outputId": "e518e366-22b9-463d-f830-1ad39940c7f7"
      },
      "execution_count": 58,
      "outputs": [
        {
          "output_type": "execute_result",
          "data": {
            "text/plain": [
              "array([[ 69.12788 ],\n",
              "       [ 73.12158 ],\n",
              "       [ 77.11529 ],\n",
              "       [ 81.10898 ],\n",
              "       [ 85.10265 ],\n",
              "       [ 89.09601 ],\n",
              "       [ 93.089386],\n",
              "       [ 97.08275 ],\n",
              "       [101.07611 ],\n",
              "       [105.06946 ]], dtype=float32)"
            ]
          },
          "metadata": {},
          "execution_count": 58
        }
      ]
    },
    {
      "cell_type": "code",
      "source": [
        "loaded_SavedModel_format.summary()\n",
        "model_3.summary()"
      ],
      "metadata": {
        "colab": {
          "base_uri": "https://localhost:8080/"
        },
        "id": "whA4SVvMElPd",
        "outputId": "251f0ba4-6963-4f45-f104-bb4e60e93c8c"
      },
      "execution_count": 59,
      "outputs": [
        {
          "output_type": "stream",
          "name": "stdout",
          "text": [
            "Model: \"sequential_7\"\n",
            "_________________________________________________________________\n",
            " Layer (type)                Output Shape              Param #   \n",
            "=================================================================\n",
            " dense_12 (Dense)            (None, 100)               200       \n",
            "                                                                 \n",
            " dense_13 (Dense)            (None, 1)                 101       \n",
            "                                                                 \n",
            "=================================================================\n",
            "Total params: 301\n",
            "Trainable params: 301\n",
            "Non-trainable params: 0\n",
            "_________________________________________________________________\n",
            "Model: \"sequential_7\"\n",
            "_________________________________________________________________\n",
            " Layer (type)                Output Shape              Param #   \n",
            "=================================================================\n",
            " dense_12 (Dense)            (None, 100)               200       \n",
            "                                                                 \n",
            " dense_13 (Dense)            (None, 1)                 101       \n",
            "                                                                 \n",
            "=================================================================\n",
            "Total params: 301\n",
            "Trainable params: 301\n",
            "Non-trainable params: 0\n",
            "_________________________________________________________________\n"
          ]
        }
      ]
    },
    {
      "cell_type": "code",
      "source": [
        "y_preds_3 == y_preds_4"
      ],
      "metadata": {
        "colab": {
          "base_uri": "https://localhost:8080/"
        },
        "id": "Uun1XNReE67U",
        "outputId": "01187b63-d7e4-4ef0-f047-4a1b1c1cae81"
      },
      "execution_count": 60,
      "outputs": [
        {
          "output_type": "execute_result",
          "data": {
            "text/plain": [
              "array([[ True],\n",
              "       [ True],\n",
              "       [ True],\n",
              "       [ True],\n",
              "       [ True],\n",
              "       [ True],\n",
              "       [ True],\n",
              "       [ True],\n",
              "       [ True],\n",
              "       [ True]])"
            ]
          },
          "metadata": {},
          "execution_count": 60
        }
      ]
    },
    {
      "cell_type": "code",
      "source": [
        "# Loading a model using the HDF5 model\n",
        "loaded_h5_model = tf.keras.models.load_model('/content/best_model_HDF5_format.h5')"
      ],
      "metadata": {
        "id": "ivc4hGGqFZzj"
      },
      "execution_count": 61,
      "outputs": []
    },
    {
      "cell_type": "code",
      "source": [
        "y_preds_5 = loaded_h5_model.predict(X_test)\n",
        "plot_predictions(predictions=y_preds_5)"
      ],
      "metadata": {
        "colab": {
          "base_uri": "https://localhost:8080/",
          "height": 616
        },
        "id": "UiNptJwXGHoT",
        "outputId": "b915c54e-6dd9-423b-be37-015ad29db0ce"
      },
      "execution_count": 62,
      "outputs": [
        {
          "output_type": "stream",
          "name": "stdout",
          "text": [
            "1/1 [==============================] - 0s 95ms/step\n"
          ]
        },
        {
          "output_type": "display_data",
          "data": {
            "text/plain": [
              "<Figure size 1000x700 with 1 Axes>"
            ],
            "image/png": "[encoded data removed]"
          },
          "metadata": {}
        }
      ]
    },
    {
      "cell_type": "code",
      "source": [
        "y_preds_3 == y_preds_5"
      ],
      "metadata": {
        "colab": {
          "base_uri": "https://localhost:8080/"
        },
        "id": "js6ZGzcyGTLL",
        "outputId": "603dfd7b-190d-4bfb-a649-ef8c7ff3645b"
      },
      "execution_count": 63,
      "outputs": [
        {
          "output_type": "execute_result",
          "data": {
            "text/plain": [
              "array([[ True],\n",
              "       [ True],\n",
              "       [ True],\n",
              "       [ True],\n",
              "       [ True],\n",
              "       [ True],\n",
              "       [ True],\n",
              "       [ True],\n",
              "       [ True],\n",
              "       [ True]])"
            ]
          },
          "metadata": {},
          "execution_count": 63
        }
      ]
    },
    {
      "cell_type": "code",
      "source": [],
      "metadata": {
        "id": "SyDdcNvjGXzL"
      },
      "execution_count": null,
      "outputs": []
    }
  ]
}