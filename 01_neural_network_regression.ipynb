{
  "nbformat": 4,
  "nbformat_minor": 0,
  "metadata": {
    "colab": {
      "provenance": []
    },
    "kernelspec": {
      "name": "python3",
      "display_name": "Python 3"
    },
    "language_info": {
      "name": "python"
    }
  },
  "cells": [
    {
      "cell_type": "markdown",
      "source": [
        "## **Neural Network Regression in TensorFlow**\n",
        "\n",
        "👁️👁️ Looking to solve Regression Problems\n",
        "\n",
        " - Architecture of a neural network regression model\n",
        " - Input shapes and output shapes of a regression model (**features** and labels)\n",
        " - Creating custom data to view and fit\n",
        " - Steps in modelling\n",
        "  - Creating a model, compiling a model, fitting a model, evaluating a model.\n",
        " - Different evaluation methods\n",
        " - Saving and loading models"
      ],
      "metadata": {
        "id": "f5wjJGSx6-YW"
      }
    },
    {
      "cell_type": "code",
      "execution_count": 1,
      "metadata": {
        "colab": {
          "base_uri": "https://localhost:8080/"
        },
        "id": "CNH8xU5Y6G44",
        "outputId": "35da4fcd-f3e9-4717-8a1d-42b06f19209f"
      },
      "outputs": [
        {
          "output_type": "stream",
          "name": "stdout",
          "text": [
            "2.12.0\n"
          ]
        }
      ],
      "source": [
        "# Import Tensorflow\n",
        "import tensorflow as tf\n",
        "print(tf.__version__)"
      ]
    },
    {
      "cell_type": "markdown",
      "source": [
        "### Creating data to view and fit"
      ],
      "metadata": {
        "id": "e0iBPtjeCCqv"
      }
    },
    {
      "cell_type": "code",
      "source": [
        "import numpy as np\n",
        "import matplotlib.pyplot as plt\n",
        "\n",
        "# Create features\n",
        "X = np.array([-7.0, -4.0, -1.0, 2.0, 5.0, 8.0, 11.0, 14.0])\n",
        "\n",
        "# Create labels\n",
        "y = np.array([3.0, 6.0, 9.0, 12.0, 15.0, 18.0, 21.0, 24.0])\n",
        "\n",
        "# Visualize it\n",
        "plt.scatter(X, y)\n"
      ],
      "metadata": {
        "colab": {
          "base_uri": "https://localhost:8080/",
          "height": 452
        },
        "id": "XZ5Rvn-1Ecxe",
        "outputId": "c9a973b5-0dce-4ce4-d091-b19e9c8acbe8"
      },
      "execution_count": 2,
      "outputs": [
        {
          "output_type": "execute_result",
          "data": {
            "text/plain": [
              "<matplotlib.collections.PathCollection at 0x79ec3d298f10>"
            ]
          },
          "metadata": {},
          "execution_count": 2
        },
        {
          "output_type": "display_data",
          "data": {
            "text/plain": [
              "<Figure size 640x480 with 1 Axes>"
            ],
            "image/png": "[encoded data removed]"
          },
          "metadata": {}
        }
      ]
    },
    {
      "cell_type": "code",
      "source": [
        "# This is how we get y values from this values (the linear regression of this very simple model)\n",
        "X + 10"
      ],
      "metadata": {
        "colab": {
          "base_uri": "https://localhost:8080/"
        },
        "id": "67oKXtvcFM7V",
        "outputId": "7994d704-d395-4c28-9458-332b31c6c90f"
      },
      "execution_count": 3,
      "outputs": [
        {
          "output_type": "execute_result",
          "data": {
            "text/plain": [
              "array([ 3.,  6.,  9., 12., 15., 18., 21., 24.])"
            ]
          },
          "metadata": {},
          "execution_count": 3
        }
      ]
    },
    {
      "cell_type": "code",
      "source": [
        "y == X + 10\n"
      ],
      "metadata": {
        "colab": {
          "base_uri": "https://localhost:8080/"
        },
        "id": "H2bcTt9MFlC0",
        "outputId": "f90ea002-d939-4bd2-c4f9-4fcc4fb649bd"
      },
      "execution_count": 4,
      "outputs": [
        {
          "output_type": "execute_result",
          "data": {
            "text/plain": [
              "array([ True,  True,  True,  True,  True,  True,  True,  True])"
            ]
          },
          "metadata": {},
          "execution_count": 4
        }
      ]
    },
    {
      "cell_type": "markdown",
      "source": [
        "#### Input and Output Shapes"
      ],
      "metadata": {
        "id": "yPxHTWJdFnrM"
      }
    },
    {
      "cell_type": "code",
      "source": [
        "# Create a demo tenosr for our housing price prediction problem\n",
        "house_info = tf.constant(['bedroom','bathroom','garage'])\n",
        "house_price = tf.constant([939700])\n",
        "house_info, house_price"
      ],
      "metadata": {
        "colab": {
          "base_uri": "https://localhost:8080/"
        },
        "id": "AlQOdSPNGRiP",
        "outputId": "b8b102b8-0ce3-4548-dc0f-d1e45efa2c63"
      },
      "execution_count": 5,
      "outputs": [
        {
          "output_type": "execute_result",
          "data": {
            "text/plain": [
              "(<tf.Tensor: shape=(3,), dtype=string, numpy=array([b'bedroom', b'bathroom', b'garage'], dtype=object)>,\n",
              " <tf.Tensor: shape=(1,), dtype=int32, numpy=array([939700], dtype=int32)>)"
            ]
          },
          "metadata": {},
          "execution_count": 5
        }
      ]
    },
    {
      "cell_type": "code",
      "source": [
        "X[0], y[0]"
      ],
      "metadata": {
        "colab": {
          "base_uri": "https://localhost:8080/"
        },
        "id": "rpdDsnPZIsmn",
        "outputId": "7a66f191-3e9f-47a8-881f-f771e9393a68"
      },
      "execution_count": 6,
      "outputs": [
        {
          "output_type": "execute_result",
          "data": {
            "text/plain": [
              "(-7.0, 3.0)"
            ]
          },
          "metadata": {},
          "execution_count": 6
        }
      ]
    },
    {
      "cell_type": "code",
      "source": [
        "input_shape = X[0].shape\n",
        "output_shape = y[0].shape\n",
        "input_shape, output_shape"
      ],
      "metadata": {
        "colab": {
          "base_uri": "https://localhost:8080/"
        },
        "id": "iZy0Zyt3G3Pj",
        "outputId": "3f584b6b-0ae9-4eb5-bf59-1f247edcc564"
      },
      "execution_count": 7,
      "outputs": [
        {
          "output_type": "execute_result",
          "data": {
            "text/plain": [
              "((), ())"
            ]
          },
          "metadata": {},
          "execution_count": 7
        }
      ]
    },
    {
      "cell_type": "code",
      "source": [
        "# Turn our NumPy arrays into tensors\n",
        "X = tf.cast(tf.constant(X), dtype=tf.float32)\n",
        "y = tf.cast(tf.constant(y), dtype=tf.float32)\n",
        "\n",
        "X, y"
      ],
      "metadata": {
        "colab": {
          "base_uri": "https://localhost:8080/"
        },
        "id": "PpH980DyHIxj",
        "outputId": "5b684d65-47d9-4246-df1c-68bcb8f8e4ad"
      },
      "execution_count": 8,
      "outputs": [
        {
          "output_type": "execute_result",
          "data": {
            "text/plain": [
              "(<tf.Tensor: shape=(8,), dtype=float32, numpy=array([-7., -4., -1.,  2.,  5.,  8., 11., 14.], dtype=float32)>,\n",
              " <tf.Tensor: shape=(8,), dtype=float32, numpy=array([ 3.,  6.,  9., 12., 15., 18., 21., 24.], dtype=float32)>)"
            ]
          },
          "metadata": {},
          "execution_count": 8
        }
      ]
    },
    {
      "cell_type": "code",
      "source": [
        "input_shape = X[0].shape\n",
        "output_shape = y[0].shape\n",
        "input_shape, output_shape"
      ],
      "metadata": {
        "colab": {
          "base_uri": "https://localhost:8080/"
        },
        "id": "7bVYtQdFLiMH",
        "outputId": "d67941a6-6cfb-4b43-bd2e-ad7a91779ee8"
      },
      "execution_count": 9,
      "outputs": [
        {
          "output_type": "execute_result",
          "data": {
            "text/plain": [
              "(TensorShape([]), TensorShape([]))"
            ]
          },
          "metadata": {},
          "execution_count": 9
        }
      ]
    },
    {
      "cell_type": "code",
      "source": [
        "plt.scatter(X, y)\n"
      ],
      "metadata": {
        "colab": {
          "base_uri": "https://localhost:8080/",
          "height": 452
        },
        "id": "49bMIexxLno-",
        "outputId": "a0e5666b-2ce0-4587-9ba1-e125510fbbfd"
      },
      "execution_count": 10,
      "outputs": [
        {
          "output_type": "execute_result",
          "data": {
            "text/plain": [
              "<matplotlib.collections.PathCollection at 0x79ec3b1dc460>"
            ]
          },
          "metadata": {},
          "execution_count": 10
        },
        {
          "output_type": "display_data",
          "data": {
            "text/plain": [
              "<Figure size 640x480 with 1 Axes>"
            ],
            "image/png": "[encoded data removed]"
          },
          "metadata": {}
        }
      ]
    },
    {
      "cell_type": "markdown",
      "source": [
        "### Steps in modelling with TensorFlow\n",
        "\n",
        "1. **Creating a model** - define the input and output layers, as well as the hidden layers of a deep learning model.\n",
        "2. **Compiling a model** - define the loss function (in other words, the function which tells our model how worng it is), the optimizer (tells our model how to improve the patterns its learning), and the evaluation metrics (what we can use to interpret the performance of our model).\n",
        "3. **Fitting a model** - letting the model try to find patterns between X & y (features & labels). Epochs - How many times the model will go through all of the training examples\n",
        "4. **Evaluate the model** on the test data (how reliable are our models predictions?)\n"
      ],
      "metadata": {
        "id": "wMt8oXAML0kn"
      }
    },
    {
      "cell_type": "code",
      "source": [
        "# Set random seed\n",
        "tf.random.set_seed(42)\n",
        "\n",
        "# 1. Create amodel using the sequential API\n",
        "model = tf.keras.Sequential([\n",
        "    tf.keras.layers.Dense(1)\n",
        "]) # into a list method\n",
        "\n",
        "# add method\n",
        "# model = tf.keras.Sequential()\n",
        "# model.add(tf.keras.layers.Dense(1))\n",
        "\n",
        "# 2. Compile the model\n",
        "model.compile(loss=tf.keras.losses.mae, #mae is short for mean absolute error\n",
        "              optimizer=tf.keras.optimizers.SGD(), #SGD is short for Stochastic Gradient Descent\n",
        "              metrics=['mae'])\n",
        "\n",
        "# Fit the model\n",
        "model.fit(tf.expand_dims(X, axis=-1), y, epochs=5)"
      ],
      "metadata": {
        "colab": {
          "base_uri": "https://localhost:8080/"
        },
        "id": "PlQ3HrGyL9ve",
        "outputId": "6b1f1790-61fc-45f3-c9f7-946db544b5e8"
      },
      "execution_count": 11,
      "outputs": [
        {
          "output_type": "stream",
          "name": "stdout",
          "text": [
            "Epoch 1/5\n",
            "1/1 [==============================] - 1s 854ms/step - loss: 17.1170 - mae: 17.1170\n",
            "Epoch 2/5\n",
            "1/1 [==============================] - 0s 20ms/step - loss: 16.8357 - mae: 16.8357\n",
            "Epoch 3/5\n",
            "1/1 [==============================] - 0s 28ms/step - loss: 16.5545 - mae: 16.5545\n",
            "Epoch 4/5\n",
            "1/1 [==============================] - 0s 13ms/step - loss: 16.2732 - mae: 16.2732\n",
            "Epoch 5/5\n",
            "1/1 [==============================] - 0s 11ms/step - loss: 15.9920 - mae: 15.9920\n"
          ]
        },
        {
          "output_type": "execute_result",
          "data": {
            "text/plain": [
              "<keras.callbacks.History at 0x79ec2bf35420>"
            ]
          },
          "metadata": {},
          "execution_count": 11
        }
      ]
    },
    {
      "cell_type": "code",
      "source": [
        "# Check out X and y\n",
        "X, y"
      ],
      "metadata": {
        "colab": {
          "base_uri": "https://localhost:8080/"
        },
        "id": "YYSR2YinqtYI",
        "outputId": "177393b6-2da7-400a-f1af-173f11ea6062"
      },
      "execution_count": 12,
      "outputs": [
        {
          "output_type": "execute_result",
          "data": {
            "text/plain": [
              "(<tf.Tensor: shape=(8,), dtype=float32, numpy=array([-7., -4., -1.,  2.,  5.,  8., 11., 14.], dtype=float32)>,\n",
              " <tf.Tensor: shape=(8,), dtype=float32, numpy=array([ 3.,  6.,  9., 12., 15., 18., 21., 24.], dtype=float32)>)"
            ]
          },
          "metadata": {},
          "execution_count": 12
        }
      ]
    },
    {
      "cell_type": "code",
      "source": [
        "# Try and make a prediction using our model\n",
        "model.predict([17.0])"
      ],
      "metadata": {
        "colab": {
          "base_uri": "https://localhost:8080/"
        },
        "id": "Hh4K2jbqucOa",
        "outputId": "6b58f041-37c7-42a7-e574-0e011741c2a4"
      },
      "execution_count": 13,
      "outputs": [
        {
          "output_type": "stream",
          "name": "stdout",
          "text": [
            "1/1 [==============================] - 0s 327ms/step\n"
          ]
        },
        {
          "output_type": "execute_result",
          "data": {
            "text/plain": [
              "array([[-9.640674]], dtype=float32)"
            ]
          },
          "metadata": {},
          "execution_count": 13
        }
      ]
    },
    {
      "cell_type": "markdown",
      "source": [
        "### Improving our model\n",
        "\n",
        "We can improve our model, by altering the steps we took to create a model.\n",
        "\n",
        "1. **Creating a model** - here we might add more layers, increase the number of hidden units (all called neurons) within each of the hidden layers, change the activation function of each layer.\n",
        "2. **Compiling a model** - here we might change the optimization fucntion or perhaps the **learning rate** of the optimization function.\n",
        "3. **Fitting a model** - here we might fit the model for more **epochs** (leave it training for longer) or on more data (give the model more examples to learn from)."
      ],
      "metadata": {
        "id": "uhwABg2_ulcC"
      }
    },
    {
      "cell_type": "code",
      "source": [
        "# Rebuilding our model\n",
        "\n",
        "# 1. Creating the model\n",
        "model = tf.keras.Sequential([\n",
        "    tf.keras.layers.Dense(1)\n",
        "])\n",
        "\n",
        "# 2. Compiling the model\n",
        "model.compile(loss=tf.keras.losses.mae,\n",
        "              optimizer=tf.keras.optimizers.SGD(),\n",
        "              metrics=['mae'])\n",
        "\n",
        "# 3. Fit the model (this time we'll train for longer)\n",
        "model.fit(tf.expand_dims(X, axis=-1), y, epochs=100)"
      ],
      "metadata": {
        "colab": {
          "base_uri": "https://localhost:8080/"
        },
        "id": "AKveIxuqUtMq",
        "outputId": "f446ee9a-2507-4047-8fcb-e7dce28743a2"
      },
      "execution_count": 14,
      "outputs": [
        {
          "output_type": "stream",
          "name": "stdout",
          "text": [
            "Epoch 1/100\n",
            "1/1 [==============================] - 1s 1s/step - loss: 12.2397 - mae: 12.2397\n",
            "Epoch 2/100\n",
            "1/1 [==============================] - 0s 13ms/step - loss: 12.1072 - mae: 12.1072\n",
            "Epoch 3/100\n",
            "1/1 [==============================] - 0s 57ms/step - loss: 11.9747 - mae: 11.9747\n",
            "Epoch 4/100\n",
            "1/1 [==============================] - 0s 30ms/step - loss: 11.8422 - mae: 11.8422\n",
            "Epoch 5/100\n",
            "1/1 [==============================] - 0s 18ms/step - loss: 11.7097 - mae: 11.7097\n",
            "Epoch 6/100\n",
            "1/1 [==============================] - 0s 18ms/step - loss: 11.5772 - mae: 11.5772\n",
            "Epoch 7/100\n",
            "1/1 [==============================] - 0s 13ms/step - loss: 11.4447 - mae: 11.4447\n",
            "Epoch 8/100\n",
            "1/1 [==============================] - 0s 18ms/step - loss: 11.3122 - mae: 11.3122\n",
            "Epoch 9/100\n",
            "1/1 [==============================] - 0s 17ms/step - loss: 11.1797 - mae: 11.1797\n",
            "Epoch 10/100\n",
            "1/1 [==============================] - 0s 27ms/step - loss: 11.0472 - mae: 11.0472\n",
            "Epoch 11/100\n",
            "1/1 [==============================] - 0s 27ms/step - loss: 10.9147 - mae: 10.9147\n",
            "Epoch 12/100\n",
            "1/1 [==============================] - 0s 20ms/step - loss: 10.7822 - mae: 10.7822\n",
            "Epoch 13/100\n",
            "1/1 [==============================] - 0s 32ms/step - loss: 10.6497 - mae: 10.6497\n",
            "Epoch 14/100\n",
            "1/1 [==============================] - 0s 16ms/step - loss: 10.5172 - mae: 10.5172\n",
            "Epoch 15/100\n",
            "1/1 [==============================] - 0s 21ms/step - loss: 10.3847 - mae: 10.3847\n",
            "Epoch 16/100\n",
            "1/1 [==============================] - 0s 20ms/step - loss: 10.2522 - mae: 10.2522\n",
            "Epoch 17/100\n",
            "1/1 [==============================] - 0s 15ms/step - loss: 10.1197 - mae: 10.1197\n",
            "Epoch 18/100\n",
            "1/1 [==============================] - 0s 11ms/step - loss: 9.9872 - mae: 9.9872\n",
            "Epoch 19/100\n",
            "1/1 [==============================] - 0s 21ms/step - loss: 9.8547 - mae: 9.8547\n",
            "Epoch 20/100\n",
            "1/1 [==============================] - 0s 18ms/step - loss: 9.7222 - mae: 9.7222\n",
            "Epoch 21/100\n",
            "1/1 [==============================] - 0s 25ms/step - loss: 9.5897 - mae: 9.5897\n",
            "Epoch 22/100\n",
            "1/1 [==============================] - 0s 21ms/step - loss: 9.4572 - mae: 9.4572\n",
            "Epoch 23/100\n",
            "1/1 [==============================] - 0s 17ms/step - loss: 9.3247 - mae: 9.3247\n",
            "Epoch 24/100\n",
            "1/1 [==============================] - 0s 19ms/step - loss: 9.1922 - mae: 9.1922\n",
            "Epoch 25/100\n",
            "1/1 [==============================] - 0s 11ms/step - loss: 9.0597 - mae: 9.0597\n",
            "Epoch 26/100\n",
            "1/1 [==============================] - 0s 17ms/step - loss: 8.9272 - mae: 8.9272\n",
            "Epoch 27/100\n",
            "1/1 [==============================] - 0s 18ms/step - loss: 8.7947 - mae: 8.7947\n",
            "Epoch 28/100\n",
            "1/1 [==============================] - 0s 24ms/step - loss: 8.6622 - mae: 8.6622\n",
            "Epoch 29/100\n",
            "1/1 [==============================] - 0s 12ms/step - loss: 8.5297 - mae: 8.5297\n",
            "Epoch 30/100\n",
            "1/1 [==============================] - 0s 12ms/step - loss: 8.3972 - mae: 8.3972\n",
            "Epoch 31/100\n",
            "1/1 [==============================] - 0s 11ms/step - loss: 8.2647 - mae: 8.2647\n",
            "Epoch 32/100\n",
            "1/1 [==============================] - 0s 11ms/step - loss: 8.1322 - mae: 8.1322\n",
            "Epoch 33/100\n",
            "1/1 [==============================] - 0s 11ms/step - loss: 7.9997 - mae: 7.9997\n",
            "Epoch 34/100\n",
            "1/1 [==============================] - 0s 16ms/step - loss: 7.8672 - mae: 7.8672\n",
            "Epoch 35/100\n",
            "1/1 [==============================] - 0s 19ms/step - loss: 7.7347 - mae: 7.7347\n",
            "Epoch 36/100\n",
            "1/1 [==============================] - 0s 18ms/step - loss: 7.6022 - mae: 7.6022\n",
            "Epoch 37/100\n",
            "1/1 [==============================] - 0s 12ms/step - loss: 7.4697 - mae: 7.4697\n",
            "Epoch 38/100\n",
            "1/1 [==============================] - 0s 28ms/step - loss: 7.3372 - mae: 7.3372\n",
            "Epoch 39/100\n",
            "1/1 [==============================] - 0s 14ms/step - loss: 7.2150 - mae: 7.2150\n",
            "Epoch 40/100\n",
            "1/1 [==============================] - 0s 28ms/step - loss: 7.2094 - mae: 7.2094\n",
            "Epoch 41/100\n",
            "1/1 [==============================] - 0s 12ms/step - loss: 7.2038 - mae: 7.2038\n",
            "Epoch 42/100\n",
            "1/1 [==============================] - 0s 11ms/step - loss: 7.1981 - mae: 7.1981\n",
            "Epoch 43/100\n",
            "1/1 [==============================] - 0s 13ms/step - loss: 7.1925 - mae: 7.1925\n",
            "Epoch 44/100\n",
            "1/1 [==============================] - 0s 10ms/step - loss: 7.1869 - mae: 7.1869\n",
            "Epoch 45/100\n",
            "1/1 [==============================] - 0s 14ms/step - loss: 7.1813 - mae: 7.1813\n",
            "Epoch 46/100\n",
            "1/1 [==============================] - 0s 18ms/step - loss: 7.1756 - mae: 7.1756\n",
            "Epoch 47/100\n",
            "1/1 [==============================] - 0s 10ms/step - loss: 7.1700 - mae: 7.1700\n",
            "Epoch 48/100\n",
            "1/1 [==============================] - 0s 14ms/step - loss: 7.1644 - mae: 7.1644\n",
            "Epoch 49/100\n",
            "1/1 [==============================] - 0s 12ms/step - loss: 7.1588 - mae: 7.1588\n",
            "Epoch 50/100\n",
            "1/1 [==============================] - 0s 21ms/step - loss: 7.1531 - mae: 7.1531\n",
            "Epoch 51/100\n",
            "1/1 [==============================] - 0s 19ms/step - loss: 7.1475 - mae: 7.1475\n",
            "Epoch 52/100\n",
            "1/1 [==============================] - 0s 12ms/step - loss: 7.1419 - mae: 7.1419\n",
            "Epoch 53/100\n",
            "1/1 [==============================] - 0s 12ms/step - loss: 7.1363 - mae: 7.1363\n",
            "Epoch 54/100\n",
            "1/1 [==============================] - 0s 17ms/step - loss: 7.1306 - mae: 7.1306\n",
            "Epoch 55/100\n",
            "1/1 [==============================] - 0s 30ms/step - loss: 7.1250 - mae: 7.1250\n",
            "Epoch 56/100\n",
            "1/1 [==============================] - 0s 23ms/step - loss: 7.1194 - mae: 7.1194\n",
            "Epoch 57/100\n",
            "1/1 [==============================] - 0s 18ms/step - loss: 7.1138 - mae: 7.1138\n",
            "Epoch 58/100\n",
            "1/1 [==============================] - 0s 17ms/step - loss: 7.1081 - mae: 7.1081\n",
            "Epoch 59/100\n",
            "1/1 [==============================] - 0s 17ms/step - loss: 7.1025 - mae: 7.1025\n",
            "Epoch 60/100\n",
            "1/1 [==============================] - 0s 10ms/step - loss: 7.0969 - mae: 7.0969\n",
            "Epoch 61/100\n",
            "1/1 [==============================] - 0s 18ms/step - loss: 7.0912 - mae: 7.0912\n",
            "Epoch 62/100\n",
            "1/1 [==============================] - 0s 15ms/step - loss: 7.0856 - mae: 7.0856\n",
            "Epoch 63/100\n",
            "1/1 [==============================] - 0s 15ms/step - loss: 7.0800 - mae: 7.0800\n",
            "Epoch 64/100\n",
            "1/1 [==============================] - 0s 15ms/step - loss: 7.0744 - mae: 7.0744\n",
            "Epoch 65/100\n",
            "1/1 [==============================] - 0s 18ms/step - loss: 7.0688 - mae: 7.0688\n",
            "Epoch 66/100\n",
            "1/1 [==============================] - 0s 14ms/step - loss: 7.0631 - mae: 7.0631\n",
            "Epoch 67/100\n",
            "1/1 [==============================] - 0s 16ms/step - loss: 7.0575 - mae: 7.0575\n",
            "Epoch 68/100\n",
            "1/1 [==============================] - 0s 24ms/step - loss: 7.0519 - mae: 7.0519\n",
            "Epoch 69/100\n",
            "1/1 [==============================] - 0s 30ms/step - loss: 7.0463 - mae: 7.0463\n",
            "Epoch 70/100\n",
            "1/1 [==============================] - 0s 20ms/step - loss: 7.0406 - mae: 7.0406\n",
            "Epoch 71/100\n",
            "1/1 [==============================] - 0s 22ms/step - loss: 7.0350 - mae: 7.0350\n",
            "Epoch 72/100\n",
            "1/1 [==============================] - 0s 19ms/step - loss: 7.0294 - mae: 7.0294\n",
            "Epoch 73/100\n",
            "1/1 [==============================] - 0s 20ms/step - loss: 7.0238 - mae: 7.0238\n",
            "Epoch 74/100\n",
            "1/1 [==============================] - 0s 19ms/step - loss: 7.0181 - mae: 7.0181\n",
            "Epoch 75/100\n",
            "1/1 [==============================] - 0s 19ms/step - loss: 7.0125 - mae: 7.0125\n",
            "Epoch 76/100\n",
            "1/1 [==============================] - 0s 19ms/step - loss: 7.0069 - mae: 7.0069\n",
            "Epoch 77/100\n",
            "1/1 [==============================] - 0s 25ms/step - loss: 7.0013 - mae: 7.0013\n",
            "Epoch 78/100\n",
            "1/1 [==============================] - 0s 41ms/step - loss: 6.9956 - mae: 6.9956\n",
            "Epoch 79/100\n",
            "1/1 [==============================] - 0s 19ms/step - loss: 6.9900 - mae: 6.9900\n",
            "Epoch 80/100\n",
            "1/1 [==============================] - 0s 17ms/step - loss: 6.9844 - mae: 6.9844\n",
            "Epoch 81/100\n",
            "1/1 [==============================] - 0s 15ms/step - loss: 6.9788 - mae: 6.9788\n",
            "Epoch 82/100\n",
            "1/1 [==============================] - 0s 15ms/step - loss: 6.9731 - mae: 6.9731\n",
            "Epoch 83/100\n",
            "1/1 [==============================] - 0s 17ms/step - loss: 6.9675 - mae: 6.9675\n",
            "Epoch 84/100\n",
            "1/1 [==============================] - 0s 20ms/step - loss: 6.9619 - mae: 6.9619\n",
            "Epoch 85/100\n",
            "1/1 [==============================] - 0s 15ms/step - loss: 6.9563 - mae: 6.9563\n",
            "Epoch 86/100\n",
            "1/1 [==============================] - 0s 16ms/step - loss: 6.9506 - mae: 6.9506\n",
            "Epoch 87/100\n",
            "1/1 [==============================] - 0s 23ms/step - loss: 6.9450 - mae: 6.9450\n",
            "Epoch 88/100\n",
            "1/1 [==============================] - 0s 14ms/step - loss: 6.9394 - mae: 6.9394\n",
            "Epoch 89/100\n",
            "1/1 [==============================] - 0s 10ms/step - loss: 6.9338 - mae: 6.9338\n",
            "Epoch 90/100\n",
            "1/1 [==============================] - 0s 17ms/step - loss: 6.9281 - mae: 6.9281\n",
            "Epoch 91/100\n",
            "1/1 [==============================] - 0s 15ms/step - loss: 6.9225 - mae: 6.9225\n",
            "Epoch 92/100\n",
            "1/1 [==============================] - 0s 16ms/step - loss: 6.9169 - mae: 6.9169\n",
            "Epoch 93/100\n",
            "1/1 [==============================] - 0s 15ms/step - loss: 6.9113 - mae: 6.9113\n",
            "Epoch 94/100\n",
            "1/1 [==============================] - 0s 16ms/step - loss: 6.9056 - mae: 6.9056\n",
            "Epoch 95/100\n",
            "1/1 [==============================] - 0s 24ms/step - loss: 6.9000 - mae: 6.9000\n",
            "Epoch 96/100\n",
            "1/1 [==============================] - 0s 19ms/step - loss: 6.8944 - mae: 6.8944\n",
            "Epoch 97/100\n",
            "1/1 [==============================] - 0s 17ms/step - loss: 6.8888 - mae: 6.8888\n",
            "Epoch 98/100\n",
            "1/1 [==============================] - 0s 15ms/step - loss: 6.8831 - mae: 6.8831\n",
            "Epoch 99/100\n",
            "1/1 [==============================] - 0s 22ms/step - loss: 6.8775 - mae: 6.8775\n",
            "Epoch 100/100\n",
            "1/1 [==============================] - 0s 13ms/step - loss: 6.8719 - mae: 6.8719\n"
          ]
        },
        {
          "output_type": "execute_result",
          "data": {
            "text/plain": [
              "<keras.callbacks.History at 0x79ec2b52f6a0>"
            ]
          },
          "metadata": {},
          "execution_count": 14
        }
      ]
    },
    {
      "cell_type": "code",
      "source": [
        "# Remind the data\n",
        "X, y"
      ],
      "metadata": {
        "colab": {
          "base_uri": "https://localhost:8080/"
        },
        "id": "ScmQsLJQXrFI",
        "outputId": "2129f8fd-e50a-4f94-fef4-0f7743abfc48"
      },
      "execution_count": 15,
      "outputs": [
        {
          "output_type": "execute_result",
          "data": {
            "text/plain": [
              "(<tf.Tensor: shape=(8,), dtype=float32, numpy=array([-7., -4., -1.,  2.,  5.,  8., 11., 14.], dtype=float32)>,\n",
              " <tf.Tensor: shape=(8,), dtype=float32, numpy=array([ 3.,  6.,  9., 12., 15., 18., 21., 24.], dtype=float32)>)"
            ]
          },
          "metadata": {},
          "execution_count": 15
        }
      ]
    },
    {
      "cell_type": "code",
      "source": [
        "# Let's see if the model prediction has improved\n",
        "model.predict([17.])"
      ],
      "metadata": {
        "colab": {
          "base_uri": "https://localhost:8080/"
        },
        "id": "ZvbtrPKkYbkP",
        "outputId": "d957fb94-86d3-4ada-e1b3-8134d46c9c55"
      },
      "execution_count": 16,
      "outputs": [
        {
          "output_type": "stream",
          "name": "stdout",
          "text": [
            "1/1 [==============================] - 0s 282ms/step\n"
          ]
        },
        {
          "output_type": "execute_result",
          "data": {
            "text/plain": [
              "array([[29.576336]], dtype=float32)"
            ]
          },
          "metadata": {},
          "execution_count": 16
        }
      ]
    },
    {
      "cell_type": "code",
      "source": [
        "# Rebuilding (third time) our model\n",
        "# Adding a hidden layer\n",
        "\n",
        "# 1. Creating the model\n",
        "model = tf.keras.Sequential([\n",
        "    tf.keras.layers.Dense(100, activation='relu'),\n",
        "    tf.keras.layers.Dense(100, activation='relu'),\n",
        "    tf.keras.layers.Dense(100, activation='relu'),\n",
        "    tf.keras.layers.Dense(1)\n",
        "])\n",
        "\n",
        "# 2. Compiling the model\n",
        "model.compile(loss=tf.keras.losses.mae,\n",
        "              optimizer=tf.keras.optimizers.SGD(),\n",
        "              metrics=['mae'])\n",
        "\n",
        "# 3. Fit the model (this time we'll train for longer)\n",
        "model.fit(tf.expand_dims(X, axis=-1), y, epochs=100)"
      ],
      "metadata": {
        "colab": {
          "base_uri": "https://localhost:8080/"
        },
        "id": "Vb5bklpEYqTO",
        "outputId": "46167c94-6f58-4612-849a-53da1a194c0b"
      },
      "execution_count": 17,
      "outputs": [
        {
          "output_type": "stream",
          "name": "stdout",
          "text": [
            "Epoch 1/100\n",
            "1/1 [==============================] - 1s 1s/step - loss: 13.0169 - mae: 13.0169\n",
            "Epoch 2/100\n",
            "1/1 [==============================] - 0s 21ms/step - loss: 12.4391 - mae: 12.4391\n",
            "Epoch 3/100\n",
            "1/1 [==============================] - 0s 16ms/step - loss: 11.8730 - mae: 11.8730\n",
            "Epoch 4/100\n",
            "1/1 [==============================] - 0s 16ms/step - loss: 11.2350 - mae: 11.2350\n",
            "Epoch 5/100\n",
            "1/1 [==============================] - 0s 16ms/step - loss: 10.4828 - mae: 10.4828\n",
            "Epoch 6/100\n",
            "1/1 [==============================] - 0s 16ms/step - loss: 9.5845 - mae: 9.5845\n",
            "Epoch 7/100\n",
            "1/1 [==============================] - 0s 21ms/step - loss: 8.4572 - mae: 8.4572\n",
            "Epoch 8/100\n",
            "1/1 [==============================] - 0s 18ms/step - loss: 6.9314 - mae: 6.9314\n",
            "Epoch 9/100\n",
            "1/1 [==============================] - 0s 17ms/step - loss: 4.8397 - mae: 4.8397\n",
            "Epoch 10/100\n",
            "1/1 [==============================] - 0s 17ms/step - loss: 4.2081 - mae: 4.2081\n",
            "Epoch 11/100\n",
            "1/1 [==============================] - 0s 17ms/step - loss: 3.9723 - mae: 3.9723\n",
            "Epoch 12/100\n",
            "1/1 [==============================] - 0s 18ms/step - loss: 3.9934 - mae: 3.9934\n",
            "Epoch 13/100\n",
            "1/1 [==============================] - 0s 18ms/step - loss: 3.9889 - mae: 3.9889\n",
            "Epoch 14/100\n",
            "1/1 [==============================] - 0s 21ms/step - loss: 3.9439 - mae: 3.9439\n",
            "Epoch 15/100\n",
            "1/1 [==============================] - 0s 14ms/step - loss: 4.0321 - mae: 4.0321\n",
            "Epoch 16/100\n",
            "1/1 [==============================] - 0s 12ms/step - loss: 3.8719 - mae: 3.8719\n",
            "Epoch 17/100\n",
            "1/1 [==============================] - 0s 12ms/step - loss: 4.0505 - mae: 4.0505\n",
            "Epoch 18/100\n",
            "1/1 [==============================] - 0s 13ms/step - loss: 3.8310 - mae: 3.8310\n",
            "Epoch 19/100\n",
            "1/1 [==============================] - 0s 11ms/step - loss: 4.0405 - mae: 4.0405\n",
            "Epoch 20/100\n",
            "1/1 [==============================] - 0s 20ms/step - loss: 3.8489 - mae: 3.8489\n",
            "Epoch 21/100\n",
            "1/1 [==============================] - 0s 29ms/step - loss: 3.9857 - mae: 3.9857\n",
            "Epoch 22/100\n",
            "1/1 [==============================] - 0s 21ms/step - loss: 3.8683 - mae: 3.8683\n",
            "Epoch 23/100\n",
            "1/1 [==============================] - 0s 13ms/step - loss: 3.9292 - mae: 3.9292\n",
            "Epoch 24/100\n",
            "1/1 [==============================] - 0s 11ms/step - loss: 3.8887 - mae: 3.8887\n",
            "Epoch 25/100\n",
            "1/1 [==============================] - 0s 12ms/step - loss: 3.8764 - mae: 3.8764\n",
            "Epoch 26/100\n",
            "1/1 [==============================] - 0s 13ms/step - loss: 3.9359 - mae: 3.9359\n",
            "Epoch 27/100\n",
            "1/1 [==============================] - 0s 13ms/step - loss: 3.7973 - mae: 3.7973\n",
            "Epoch 28/100\n",
            "1/1 [==============================] - 0s 32ms/step - loss: 3.9586 - mae: 3.9586\n",
            "Epoch 29/100\n",
            "1/1 [==============================] - 0s 14ms/step - loss: 3.7457 - mae: 3.7457\n",
            "Epoch 30/100\n",
            "1/1 [==============================] - 0s 12ms/step - loss: 3.9580 - mae: 3.9580\n",
            "Epoch 31/100\n",
            "1/1 [==============================] - 0s 14ms/step - loss: 3.7671 - mae: 3.7671\n",
            "Epoch 32/100\n",
            "1/1 [==============================] - 0s 15ms/step - loss: 3.8969 - mae: 3.8969\n",
            "Epoch 33/100\n",
            "1/1 [==============================] - 0s 19ms/step - loss: 3.7903 - mae: 3.7903\n",
            "Epoch 34/100\n",
            "1/1 [==============================] - 0s 12ms/step - loss: 3.8344 - mae: 3.8344\n",
            "Epoch 35/100\n",
            "1/1 [==============================] - 0s 23ms/step - loss: 3.8147 - mae: 3.8147\n",
            "Epoch 36/100\n",
            "1/1 [==============================] - 0s 37ms/step - loss: 3.7698 - mae: 3.7698\n",
            "Epoch 37/100\n",
            "1/1 [==============================] - 0s 28ms/step - loss: 3.8656 - mae: 3.8656\n",
            "Epoch 38/100\n",
            "1/1 [==============================] - 0s 21ms/step - loss: 3.6875 - mae: 3.6875\n",
            "Epoch 39/100\n",
            "1/1 [==============================] - 0s 12ms/step - loss: 3.8914 - mae: 3.8914\n",
            "Epoch 40/100\n",
            "1/1 [==============================] - 0s 14ms/step - loss: 3.6821 - mae: 3.6821\n",
            "Epoch 41/100\n",
            "1/1 [==============================] - 0s 14ms/step - loss: 3.8397 - mae: 3.8397\n",
            "Epoch 42/100\n",
            "1/1 [==============================] - 0s 29ms/step - loss: 3.7075 - mae: 3.7075\n",
            "Epoch 43/100\n",
            "1/1 [==============================] - 0s 23ms/step - loss: 3.7686 - mae: 3.7686\n",
            "Epoch 44/100\n",
            "1/1 [==============================] - 0s 28ms/step - loss: 3.7377 - mae: 3.7377\n",
            "Epoch 45/100\n",
            "1/1 [==============================] - 0s 28ms/step - loss: 3.6964 - mae: 3.6964\n",
            "Epoch 46/100\n",
            "1/1 [==============================] - 0s 23ms/step - loss: 3.7661 - mae: 3.7661\n",
            "Epoch 47/100\n",
            "1/1 [==============================] - 0s 39ms/step - loss: 3.6216 - mae: 3.6216\n",
            "Epoch 48/100\n",
            "1/1 [==============================] - 0s 26ms/step - loss: 3.7961 - mae: 3.7961\n",
            "Epoch 49/100\n",
            "1/1 [==============================] - 0s 21ms/step - loss: 3.5905 - mae: 3.5905\n",
            "Epoch 50/100\n",
            "1/1 [==============================] - 0s 19ms/step - loss: 3.7902 - mae: 3.7902\n",
            "Epoch 51/100\n",
            "1/1 [==============================] - 0s 17ms/step - loss: 3.6452 - mae: 3.6452\n",
            "Epoch 52/100\n",
            "1/1 [==============================] - 0s 22ms/step - loss: 3.6775 - mae: 3.6775\n",
            "Epoch 53/100\n",
            "1/1 [==============================] - 0s 19ms/step - loss: 3.6754 - mae: 3.6754\n",
            "Epoch 54/100\n",
            "1/1 [==============================] - 0s 25ms/step - loss: 3.5993 - mae: 3.5993\n",
            "Epoch 55/100\n",
            "1/1 [==============================] - 0s 27ms/step - loss: 3.7070 - mae: 3.7070\n",
            "Epoch 56/100\n",
            "1/1 [==============================] - 0s 22ms/step - loss: 3.5187 - mae: 3.5187\n",
            "Epoch 57/100\n",
            "1/1 [==============================] - 0s 25ms/step - loss: 3.7402 - mae: 3.7402\n",
            "Epoch 58/100\n",
            "1/1 [==============================] - 0s 27ms/step - loss: 3.5364 - mae: 3.5364\n",
            "Epoch 59/100\n",
            "1/1 [==============================] - 0s 37ms/step - loss: 3.6616 - mae: 3.6616\n",
            "Epoch 60/100\n",
            "1/1 [==============================] - 0s 31ms/step - loss: 3.5937 - mae: 3.5937\n",
            "Epoch 61/100\n",
            "1/1 [==============================] - 0s 31ms/step - loss: 3.5626 - mae: 3.5626\n",
            "Epoch 62/100\n",
            "1/1 [==============================] - 0s 23ms/step - loss: 3.6274 - mae: 3.6274\n",
            "Epoch 63/100\n",
            "1/1 [==============================] - 0s 22ms/step - loss: 3.4769 - mae: 3.4769\n",
            "Epoch 64/100\n",
            "1/1 [==============================] - 0s 20ms/step - loss: 3.6623 - mae: 3.6623\n",
            "Epoch 65/100\n",
            "1/1 [==============================] - 0s 26ms/step - loss: 3.4636 - mae: 3.4636\n",
            "Epoch 66/100\n",
            "1/1 [==============================] - 0s 22ms/step - loss: 3.6094 - mae: 3.6094\n",
            "Epoch 67/100\n",
            "1/1 [==============================] - 0s 20ms/step - loss: 3.4972 - mae: 3.4972\n",
            "Epoch 68/100\n",
            "1/1 [==============================] - 0s 18ms/step - loss: 3.5217 - mae: 3.5217\n",
            "Epoch 69/100\n",
            "1/1 [==============================] - 0s 23ms/step - loss: 3.5327 - mae: 3.5327\n",
            "Epoch 70/100\n",
            "1/1 [==============================] - 0s 25ms/step - loss: 3.4320 - mae: 3.4320\n",
            "Epoch 71/100\n",
            "1/1 [==============================] - 0s 20ms/step - loss: 3.5704 - mae: 3.5704\n",
            "Epoch 72/100\n",
            "1/1 [==============================] - 0s 21ms/step - loss: 3.3773 - mae: 3.3773\n",
            "Epoch 73/100\n",
            "1/1 [==============================] - 0s 17ms/step - loss: 3.5693 - mae: 3.5693\n",
            "Epoch 74/100\n",
            "1/1 [==============================] - 0s 23ms/step - loss: 3.4364 - mae: 3.4364\n",
            "Epoch 75/100\n",
            "1/1 [==============================] - 0s 16ms/step - loss: 3.4490 - mae: 3.4490\n",
            "Epoch 76/100\n",
            "1/1 [==============================] - 0s 21ms/step - loss: 3.4733 - mae: 3.4733\n",
            "Epoch 77/100\n",
            "1/1 [==============================] - 0s 21ms/step - loss: 3.3514 - mae: 3.3514\n",
            "Epoch 78/100\n",
            "1/1 [==============================] - 0s 23ms/step - loss: 3.5113 - mae: 3.5113\n",
            "Epoch 79/100\n",
            "1/1 [==============================] - 0s 25ms/step - loss: 3.3193 - mae: 3.3193\n",
            "Epoch 80/100\n",
            "1/1 [==============================] - 0s 19ms/step - loss: 3.4676 - mae: 3.4676\n",
            "Epoch 81/100\n",
            "1/1 [==============================] - 0s 25ms/step - loss: 3.3570 - mae: 3.3570\n",
            "Epoch 82/100\n",
            "1/1 [==============================] - 0s 24ms/step - loss: 3.3658 - mae: 3.3658\n",
            "Epoch 83/100\n",
            "1/1 [==============================] - 0s 29ms/step - loss: 3.3966 - mae: 3.3966\n",
            "Epoch 84/100\n",
            "1/1 [==============================] - 0s 32ms/step - loss: 3.2633 - mae: 3.2633\n",
            "Epoch 85/100\n",
            "1/1 [==============================] - 0s 29ms/step - loss: 3.4390 - mae: 3.4390\n",
            "Epoch 86/100\n",
            "1/1 [==============================] - 0s 37ms/step - loss: 3.2487 - mae: 3.2487\n",
            "Epoch 87/100\n",
            "1/1 [==============================] - 0s 41ms/step - loss: 3.3748 - mae: 3.3748\n",
            "Epoch 88/100\n",
            "1/1 [==============================] - 0s 30ms/step - loss: 3.2889 - mae: 3.2889\n",
            "Epoch 89/100\n",
            "1/1 [==============================] - 0s 19ms/step - loss: 3.2726 - mae: 3.2726\n",
            "Epoch 90/100\n",
            "1/1 [==============================] - 0s 19ms/step - loss: 3.3564 - mae: 3.3564\n",
            "Epoch 91/100\n",
            "1/1 [==============================] - 0s 20ms/step - loss: 3.1705 - mae: 3.1705\n",
            "Epoch 92/100\n",
            "1/1 [==============================] - 0s 17ms/step - loss: 3.3585 - mae: 3.3585\n",
            "Epoch 93/100\n",
            "1/1 [==============================] - 0s 17ms/step - loss: 3.2092 - mae: 3.2092\n",
            "Epoch 94/100\n",
            "1/1 [==============================] - 0s 17ms/step - loss: 3.2482 - mae: 3.2482\n",
            "Epoch 95/100\n",
            "1/1 [==============================] - 0s 17ms/step - loss: 3.2519 - mae: 3.2519\n",
            "Epoch 96/100\n",
            "1/1 [==============================] - 0s 17ms/step - loss: 3.1342 - mae: 3.1342\n",
            "Epoch 97/100\n",
            "1/1 [==============================] - 0s 17ms/step - loss: 3.2949 - mae: 3.2949\n",
            "Epoch 98/100\n",
            "1/1 [==============================] - 0s 17ms/step - loss: 3.1099 - mae: 3.1099\n",
            "Epoch 99/100\n",
            "1/1 [==============================] - 0s 15ms/step - loss: 3.2331 - mae: 3.2331\n",
            "Epoch 100/100\n",
            "1/1 [==============================] - 0s 15ms/step - loss: 3.1514 - mae: 3.1514\n"
          ]
        },
        {
          "output_type": "execute_result",
          "data": {
            "text/plain": [
              "<keras.callbacks.History at 0x79ec293f6410>"
            ]
          },
          "metadata": {},
          "execution_count": 17
        }
      ]
    },
    {
      "cell_type": "code",
      "source": [
        "model.predict([17.])"
      ],
      "metadata": {
        "colab": {
          "base_uri": "https://localhost:8080/"
        },
        "id": "XrBO9geZZkDd",
        "outputId": "0753904c-5cab-4e45-c63f-31aa25a20405"
      },
      "execution_count": 18,
      "outputs": [
        {
          "output_type": "stream",
          "name": "stdout",
          "text": [
            "1/1 [==============================] - 0s 181ms/step\n"
          ]
        },
        {
          "output_type": "execute_result",
          "data": {
            "text/plain": [
              "array([[30.183266]], dtype=float32)"
            ]
          },
          "metadata": {},
          "execution_count": 18
        }
      ]
    },
    {
      "cell_type": "code",
      "source": [
        "# Rebuilding our model\n",
        "\n",
        "# 1. Creating the model\n",
        "model = tf.keras.Sequential([\n",
        "    tf.keras.layers.Dense(50, activation=None),\n",
        "    tf.keras.layers.Dense(1)\n",
        "])\n",
        "\n",
        "# 2. Compiling the model\n",
        "model.compile(loss='mae',\n",
        "              optimizer=tf.keras.optimizers.Adam(learning_rate=0.01),\n",
        "              metrics=['mae'])\n",
        "\n",
        "# 3. Fit the model (this time we'll train for longer)\n",
        "model.fit(tf.expand_dims(X, axis=-1), y, epochs=100)"
      ],
      "metadata": {
        "colab": {
          "base_uri": "https://localhost:8080/"
        },
        "id": "1UKofvlaZq4t",
        "outputId": "7e562d6b-d03b-4ea6-ee7d-870a3e65e2d4"
      },
      "execution_count": 19,
      "outputs": [
        {
          "output_type": "stream",
          "name": "stdout",
          "text": [
            "Epoch 1/100\n",
            "1/1 [==============================] - 3s 3s/step - loss: 13.2275 - mae: 13.2275\n",
            "Epoch 2/100\n",
            "1/1 [==============================] - 0s 32ms/step - loss: 12.4917 - mae: 12.4917\n",
            "Epoch 3/100\n",
            "1/1 [==============================] - 0s 17ms/step - loss: 11.7582 - mae: 11.7582\n",
            "Epoch 4/100\n",
            "1/1 [==============================] - 0s 60ms/step - loss: 11.0257 - mae: 11.0257\n",
            "Epoch 5/100\n",
            "1/1 [==============================] - 0s 37ms/step - loss: 10.2916 - mae: 10.2916\n",
            "Epoch 6/100\n",
            "1/1 [==============================] - 0s 33ms/step - loss: 9.5530 - mae: 9.5530\n",
            "Epoch 7/100\n",
            "1/1 [==============================] - 0s 11ms/step - loss: 8.8071 - mae: 8.8071\n",
            "Epoch 8/100\n",
            "1/1 [==============================] - 0s 21ms/step - loss: 8.0517 - mae: 8.0517\n",
            "Epoch 9/100\n",
            "1/1 [==============================] - 0s 11ms/step - loss: 7.2843 - mae: 7.2843\n",
            "Epoch 10/100\n",
            "1/1 [==============================] - 0s 12ms/step - loss: 6.7786 - mae: 6.7786\n",
            "Epoch 11/100\n",
            "1/1 [==============================] - 0s 18ms/step - loss: 6.9270 - mae: 6.9270\n",
            "Epoch 12/100\n",
            "1/1 [==============================] - 0s 14ms/step - loss: 7.2110 - mae: 7.2110\n",
            "Epoch 13/100\n",
            "1/1 [==============================] - 0s 21ms/step - loss: 7.4128 - mae: 7.4128\n",
            "Epoch 14/100\n",
            "1/1 [==============================] - 0s 16ms/step - loss: 7.5082 - mae: 7.5082\n",
            "Epoch 15/100\n",
            "1/1 [==============================] - 0s 23ms/step - loss: 7.4080 - mae: 7.4080\n",
            "Epoch 16/100\n",
            "1/1 [==============================] - 0s 28ms/step - loss: 7.1614 - mae: 7.1614\n",
            "Epoch 17/100\n",
            "1/1 [==============================] - 0s 28ms/step - loss: 6.9164 - mae: 6.9164\n",
            "Epoch 18/100\n",
            "1/1 [==============================] - 0s 23ms/step - loss: 6.6649 - mae: 6.6649\n",
            "Epoch 19/100\n",
            "1/1 [==============================] - 0s 18ms/step - loss: 6.3963 - mae: 6.3963\n",
            "Epoch 20/100\n",
            "1/1 [==============================] - 0s 14ms/step - loss: 6.1458 - mae: 6.1458\n",
            "Epoch 21/100\n",
            "1/1 [==============================] - 0s 14ms/step - loss: 6.0964 - mae: 6.0964\n",
            "Epoch 22/100\n",
            "1/1 [==============================] - 0s 18ms/step - loss: 6.0430 - mae: 6.0430\n",
            "Epoch 23/100\n",
            "1/1 [==============================] - 0s 17ms/step - loss: 6.1678 - mae: 6.1678\n",
            "Epoch 24/100\n",
            "1/1 [==============================] - 0s 34ms/step - loss: 6.1998 - mae: 6.1998\n",
            "Epoch 25/100\n",
            "1/1 [==============================] - 0s 24ms/step - loss: 6.1349 - mae: 6.1349\n",
            "Epoch 26/100\n",
            "1/1 [==============================] - 0s 17ms/step - loss: 5.9847 - mae: 5.9847\n",
            "Epoch 27/100\n",
            "1/1 [==============================] - 0s 18ms/step - loss: 5.7576 - mae: 5.7576\n",
            "Epoch 28/100\n",
            "1/1 [==============================] - 0s 23ms/step - loss: 5.5568 - mae: 5.5568\n",
            "Epoch 29/100\n",
            "1/1 [==============================] - 0s 20ms/step - loss: 5.4509 - mae: 5.4509\n",
            "Epoch 30/100\n",
            "1/1 [==============================] - 0s 13ms/step - loss: 5.3419 - mae: 5.3419\n",
            "Epoch 31/100\n",
            "1/1 [==============================] - 0s 18ms/step - loss: 5.3557 - mae: 5.3557\n",
            "Epoch 32/100\n",
            "1/1 [==============================] - 0s 20ms/step - loss: 5.3381 - mae: 5.3381\n",
            "Epoch 33/100\n",
            "1/1 [==============================] - 0s 26ms/step - loss: 5.2744 - mae: 5.2744\n",
            "Epoch 34/100\n",
            "1/1 [==============================] - 0s 23ms/step - loss: 5.1679 - mae: 5.1679\n",
            "Epoch 35/100\n",
            "1/1 [==============================] - 0s 17ms/step - loss: 5.0218 - mae: 5.0218\n",
            "Epoch 36/100\n",
            "1/1 [==============================] - 0s 35ms/step - loss: 4.8392 - mae: 4.8392\n",
            "Epoch 37/100\n",
            "1/1 [==============================] - 0s 35ms/step - loss: 4.6227 - mae: 4.6227\n",
            "Epoch 38/100\n",
            "1/1 [==============================] - 0s 25ms/step - loss: 4.5270 - mae: 4.5270\n",
            "Epoch 39/100\n",
            "1/1 [==============================] - 0s 27ms/step - loss: 4.4243 - mae: 4.4243\n",
            "Epoch 40/100\n",
            "1/1 [==============================] - 0s 24ms/step - loss: 4.4306 - mae: 4.4306\n",
            "Epoch 41/100\n",
            "1/1 [==============================] - 0s 18ms/step - loss: 4.3479 - mae: 4.3479\n",
            "Epoch 42/100\n",
            "1/1 [==============================] - 0s 17ms/step - loss: 4.1491 - mae: 4.1491\n",
            "Epoch 43/100\n",
            "1/1 [==============================] - 0s 16ms/step - loss: 3.8844 - mae: 3.8844\n",
            "Epoch 44/100\n",
            "1/1 [==============================] - 0s 19ms/step - loss: 3.7193 - mae: 3.7193\n",
            "Epoch 45/100\n",
            "1/1 [==============================] - 0s 18ms/step - loss: 3.5580 - mae: 3.5580\n",
            "Epoch 46/100\n",
            "1/1 [==============================] - 0s 18ms/step - loss: 3.4545 - mae: 3.4545\n",
            "Epoch 47/100\n",
            "1/1 [==============================] - 0s 13ms/step - loss: 3.2946 - mae: 3.2946\n",
            "Epoch 48/100\n",
            "1/1 [==============================] - 0s 23ms/step - loss: 3.0809 - mae: 3.0809\n",
            "Epoch 49/100\n",
            "1/1 [==============================] - 0s 63ms/step - loss: 2.8738 - mae: 2.8738\n",
            "Epoch 50/100\n",
            "1/1 [==============================] - 0s 15ms/step - loss: 2.6954 - mae: 2.6954\n",
            "Epoch 51/100\n",
            "1/1 [==============================] - 0s 13ms/step - loss: 2.5399 - mae: 2.5399\n",
            "Epoch 52/100\n",
            "1/1 [==============================] - 0s 21ms/step - loss: 2.2960 - mae: 2.2960\n",
            "Epoch 53/100\n",
            "1/1 [==============================] - 0s 15ms/step - loss: 2.0640 - mae: 2.0640\n",
            "Epoch 54/100\n",
            "1/1 [==============================] - 0s 22ms/step - loss: 1.9395 - mae: 1.9395\n",
            "Epoch 55/100\n",
            "1/1 [==============================] - 0s 35ms/step - loss: 1.7644 - mae: 1.7644\n",
            "Epoch 56/100\n",
            "1/1 [==============================] - 0s 29ms/step - loss: 1.5211 - mae: 1.5211\n",
            "Epoch 57/100\n",
            "1/1 [==============================] - 0s 20ms/step - loss: 1.1601 - mae: 1.1601\n",
            "Epoch 58/100\n",
            "1/1 [==============================] - 0s 21ms/step - loss: 0.9887 - mae: 0.9887\n",
            "Epoch 59/100\n",
            "1/1 [==============================] - 0s 19ms/step - loss: 0.8264 - mae: 0.8264\n",
            "Epoch 60/100\n",
            "1/1 [==============================] - 0s 13ms/step - loss: 0.4881 - mae: 0.4881\n",
            "Epoch 61/100\n",
            "1/1 [==============================] - 0s 18ms/step - loss: 0.1293 - mae: 0.1293\n",
            "Epoch 62/100\n",
            "1/1 [==============================] - 0s 14ms/step - loss: 0.2539 - mae: 0.2539\n",
            "Epoch 63/100\n",
            "1/1 [==============================] - 0s 13ms/step - loss: 0.5504 - mae: 0.5504\n",
            "Epoch 64/100\n",
            "1/1 [==============================] - 0s 23ms/step - loss: 0.6693 - mae: 0.6693\n",
            "Epoch 65/100\n",
            "1/1 [==============================] - 0s 28ms/step - loss: 0.7415 - mae: 0.7415\n",
            "Epoch 66/100\n",
            "1/1 [==============================] - 0s 16ms/step - loss: 0.8147 - mae: 0.8147\n",
            "Epoch 67/100\n",
            "1/1 [==============================] - 0s 25ms/step - loss: 0.8103 - mae: 0.8103\n",
            "Epoch 68/100\n",
            "1/1 [==============================] - 0s 16ms/step - loss: 0.8100 - mae: 0.8100\n",
            "Epoch 69/100\n",
            "1/1 [==============================] - 0s 14ms/step - loss: 0.7179 - mae: 0.7179\n",
            "Epoch 70/100\n",
            "1/1 [==============================] - 0s 25ms/step - loss: 0.6950 - mae: 0.6950\n",
            "Epoch 71/100\n",
            "1/1 [==============================] - 0s 29ms/step - loss: 0.5636 - mae: 0.5636\n",
            "Epoch 72/100\n",
            "1/1 [==============================] - 0s 15ms/step - loss: 0.4286 - mae: 0.4286\n",
            "Epoch 73/100\n",
            "1/1 [==============================] - 0s 18ms/step - loss: 0.2908 - mae: 0.2908\n",
            "Epoch 74/100\n",
            "1/1 [==============================] - 0s 18ms/step - loss: 0.1458 - mae: 0.1458\n",
            "Epoch 75/100\n",
            "1/1 [==============================] - 0s 18ms/step - loss: 0.1857 - mae: 0.1857\n",
            "Epoch 76/100\n",
            "1/1 [==============================] - 0s 16ms/step - loss: 0.3283 - mae: 0.3283\n",
            "Epoch 77/100\n",
            "1/1 [==============================] - 0s 12ms/step - loss: 0.4481 - mae: 0.4481\n",
            "Epoch 78/100\n",
            "1/1 [==============================] - 0s 27ms/step - loss: 0.3992 - mae: 0.3992\n",
            "Epoch 79/100\n",
            "1/1 [==============================] - 0s 18ms/step - loss: 0.5109 - mae: 0.5109\n",
            "Epoch 80/100\n",
            "1/1 [==============================] - 0s 21ms/step - loss: 0.5576 - mae: 0.5576\n",
            "Epoch 81/100\n",
            "1/1 [==============================] - 0s 18ms/step - loss: 0.3879 - mae: 0.3879\n",
            "Epoch 82/100\n",
            "1/1 [==============================] - 0s 16ms/step - loss: 0.4491 - mae: 0.4491\n",
            "Epoch 83/100\n",
            "1/1 [==============================] - 0s 20ms/step - loss: 0.4831 - mae: 0.4831\n",
            "Epoch 84/100\n",
            "1/1 [==============================] - 0s 20ms/step - loss: 0.3899 - mae: 0.3899\n",
            "Epoch 85/100\n",
            "1/1 [==============================] - 0s 15ms/step - loss: 0.0777 - mae: 0.0777\n",
            "Epoch 86/100\n",
            "1/1 [==============================] - 0s 11ms/step - loss: 0.4702 - mae: 0.4702\n",
            "Epoch 87/100\n",
            "1/1 [==============================] - 0s 13ms/step - loss: 0.6517 - mae: 0.6517\n",
            "Epoch 88/100\n",
            "1/1 [==============================] - 0s 15ms/step - loss: 0.5662 - mae: 0.5662\n",
            "Epoch 89/100\n",
            "1/1 [==============================] - 0s 15ms/step - loss: 0.4022 - mae: 0.4022\n",
            "Epoch 90/100\n",
            "1/1 [==============================] - 0s 10ms/step - loss: 0.4669 - mae: 0.4669\n",
            "Epoch 91/100\n",
            "1/1 [==============================] - 0s 19ms/step - loss: 0.6007 - mae: 0.6007\n",
            "Epoch 92/100\n",
            "1/1 [==============================] - 0s 13ms/step - loss: 0.4632 - mae: 0.4632\n",
            "Epoch 93/100\n",
            "1/1 [==============================] - 0s 17ms/step - loss: 0.2296 - mae: 0.2296\n",
            "Epoch 94/100\n",
            "1/1 [==============================] - 0s 15ms/step - loss: 0.2542 - mae: 0.2542\n",
            "Epoch 95/100\n",
            "1/1 [==============================] - 0s 16ms/step - loss: 0.1530 - mae: 0.1530\n",
            "Epoch 96/100\n",
            "1/1 [==============================] - 0s 14ms/step - loss: 0.1670 - mae: 0.1670\n",
            "Epoch 97/100\n",
            "1/1 [==============================] - 0s 17ms/step - loss: 0.2438 - mae: 0.2438\n",
            "Epoch 98/100\n",
            "1/1 [==============================] - 0s 14ms/step - loss: 0.1873 - mae: 0.1873\n",
            "Epoch 99/100\n",
            "1/1 [==============================] - 0s 21ms/step - loss: 0.2868 - mae: 0.2868\n",
            "Epoch 100/100\n",
            "1/1 [==============================] - 0s 11ms/step - loss: 0.2898 - mae: 0.2898\n"
          ]
        },
        {
          "output_type": "execute_result",
          "data": {
            "text/plain": [
              "<keras.callbacks.History at 0x79ec28e29b70>"
            ]
          },
          "metadata": {},
          "execution_count": 19
        }
      ]
    },
    {
      "cell_type": "code",
      "source": [
        "model.predict([25.])"
      ],
      "metadata": {
        "colab": {
          "base_uri": "https://localhost:8080/"
        },
        "id": "ymwdU8OhcNhr",
        "outputId": "877eb8bb-7750-4c99-d7b8-4311dc320643"
      },
      "execution_count": 20,
      "outputs": [
        {
          "output_type": "stream",
          "name": "stdout",
          "text": [
            "1/1 [==============================] - 0s 133ms/step\n"
          ]
        },
        {
          "output_type": "execute_result",
          "data": {
            "text/plain": [
              "array([[35.14236]], dtype=float32)"
            ]
          },
          "metadata": {},
          "execution_count": 20
        }
      ]
    },
    {
      "cell_type": "markdown",
      "source": [
        "#### RECAP: Common ways to improve a deep model\n",
        "- Adding layers\n",
        "- Increase the number of hideen units\n",
        "- Change the activation functions\n",
        "- Change the optimization function\n",
        "- Change the learning rate (👁️ The most useful hyperparameter to improve our neural network)\n",
        "- Sampling more data (bigger datasets)\n",
        "- Fitting training for longer (epochs)"
      ],
      "metadata": {
        "id": "xFgDf9-feGtW"
      }
    },
    {
      "cell_type": "markdown",
      "source": [
        "### Evaluating a model\n",
        "\n",
        "In practice a typical workflow you'll go through when building neural networks is:\n",
        "\n",
        "```\n",
        "Build model -> fit it -> evaluate it -> tweak model -> fit it -> evaluate it -> tweak model -> fit it -> evaluate it...\n",
        "```"
      ],
      "metadata": {
        "id": "X1HRwypid5_q"
      }
    },
    {
      "cell_type": "markdown",
      "source": [
        "When it comes to evaluation... there are 3 words you should memorize:\n",
        "\n",
        "> \"Visualize, visualize, visualize\"\n",
        "\n",
        "It's a good idea to visualize:\n",
        "* The data - what data are we working with? What does it looks like?\n",
        "* The model itself - what does our model look like?\n",
        "* The training of a model - how does a model perform while it learns?\n",
        "* The predictions of the model - how do the predictions of a model line up against the ground thruth (the original labels)?\n"
      ],
      "metadata": {
        "id": "JRfP-VnlfOmx"
      }
    },
    {
      "cell_type": "code",
      "source": [
        "# Make a bigger data set\n",
        "X = tf.range(-100,100,4)\n",
        "X"
      ],
      "metadata": {
        "colab": {
          "base_uri": "https://localhost:8080/"
        },
        "id": "_paPcFwsbGaJ",
        "outputId": "d18c760b-f55f-4650-fda8-f77cafe04315"
      },
      "execution_count": 21,
      "outputs": [
        {
          "output_type": "execute_result",
          "data": {
            "text/plain": [
              "<tf.Tensor: shape=(50,), dtype=int32, numpy=\n",
              "array([-100,  -96,  -92,  -88,  -84,  -80,  -76,  -72,  -68,  -64,  -60,\n",
              "        -56,  -52,  -48,  -44,  -40,  -36,  -32,  -28,  -24,  -20,  -16,\n",
              "        -12,   -8,   -4,    0,    4,    8,   12,   16,   20,   24,   28,\n",
              "         32,   36,   40,   44,   48,   52,   56,   60,   64,   68,   72,\n",
              "         76,   80,   84,   88,   92,   96], dtype=int32)>"
            ]
          },
          "metadata": {},
          "execution_count": 21
        }
      ]
    },
    {
      "cell_type": "code",
      "source": [
        "# Make labels for the data set\n",
        "y = X + 10\n",
        "y"
      ],
      "metadata": {
        "colab": {
          "base_uri": "https://localhost:8080/"
        },
        "id": "rKvC6AIsbbUa",
        "outputId": "22587869-9c05-4d28-cee4-4123e7c8e27d"
      },
      "execution_count": 22,
      "outputs": [
        {
          "output_type": "execute_result",
          "data": {
            "text/plain": [
              "<tf.Tensor: shape=(50,), dtype=int32, numpy=\n",
              "array([-90, -86, -82, -78, -74, -70, -66, -62, -58, -54, -50, -46, -42,\n",
              "       -38, -34, -30, -26, -22, -18, -14, -10,  -6,  -2,   2,   6,  10,\n",
              "        14,  18,  22,  26,  30,  34,  38,  42,  46,  50,  54,  58,  62,\n",
              "        66,  70,  74,  78,  82,  86,  90,  94,  98, 102, 106], dtype=int32)>"
            ]
          },
          "metadata": {},
          "execution_count": 22
        }
      ]
    },
    {
      "cell_type": "code",
      "source": [
        "# Visualize the data\n",
        "plt.scatter(X,y)"
      ],
      "metadata": {
        "colab": {
          "base_uri": "https://localhost:8080/",
          "height": 447
        },
        "id": "UKmr3uAqbo7h",
        "outputId": "eb9be1a2-1f58-4ae2-9c45-3194212ae356"
      },
      "execution_count": 23,
      "outputs": [
        {
          "output_type": "execute_result",
          "data": {
            "text/plain": [
              "<matplotlib.collections.PathCollection at 0x79ec388d95a0>"
            ]
          },
          "metadata": {},
          "execution_count": 23
        },
        {
          "output_type": "display_data",
          "data": {
            "text/plain": [
              "<Figure size 640x480 with 1 Axes>"
            ],
            "image/png": "[encoded data removed]"
          },
          "metadata": {}
        }
      ]
    },
    {
      "cell_type": "markdown",
      "source": [
        "#### The three sets...\n",
        "\n",
        "* Training set - the models learns from this data, which is typlically 70-80% of the data available.\n",
        "* Validation set - the model gets tuned on this data, which is typpically 10-15% of the data.\n",
        "* Test set - the model gets evaluated on this data to test what is has learned, this set is typlically 10-15% of the total of the data.\n",
        "\n",
        "Generalization - The ability for a machine learning model to perform well on data it hasn't seen before."
      ],
      "metadata": {
        "id": "xDKRPzAAb0Gf"
      }
    },
    {
      "cell_type": "code",
      "source": [
        "# Check the length of the samples we have\n",
        "len(X)"
      ],
      "metadata": {
        "colab": {
          "base_uri": "https://localhost:8080/"
        },
        "id": "Ddgi-kZcc_6a",
        "outputId": "57a38657-0048-45cd-8a27-624a7c31ff67"
      },
      "execution_count": 24,
      "outputs": [
        {
          "output_type": "execute_result",
          "data": {
            "text/plain": [
              "50"
            ]
          },
          "metadata": {},
          "execution_count": 24
        }
      ]
    },
    {
      "cell_type": "code",
      "source": [
        "# Split into training and test (this data is too small for validation)\n",
        "X_train = X[:40] # The first 40 are trainig samples (80% of the data)\n",
        "y_train = y[:40]\n",
        "\n",
        "X_test = X[40:] # the last 10 are testing samples (20% of the data)\n",
        "y_test = y[40:]\n",
        "\n",
        "len(X_train), len(X_test)"
      ],
      "metadata": {
        "colab": {
          "base_uri": "https://localhost:8080/"
        },
        "id": "Uf2meznbdrcw",
        "outputId": "992c9dc7-4d24-4c8b-fb21-29ae9c3f85f5"
      },
      "execution_count": 25,
      "outputs": [
        {
          "output_type": "execute_result",
          "data": {
            "text/plain": [
              "(40, 10)"
            ]
          },
          "metadata": {},
          "execution_count": 25
        }
      ]
    },
    {
      "cell_type": "markdown",
      "source": [
        "#### Visualizing the data\n",
        "\n",
        "Now we've got our data in training and test sets... let's visualize it again"
      ],
      "metadata": {
        "id": "9ZZQO_voeo_H"
      }
    },
    {
      "cell_type": "code",
      "source": [
        "plt.figure(figsize=(10,7))\n",
        "# Plot training data in blue\n",
        "plt.scatter(X_train, y_train, c='#126b75', label='Training Data')\n",
        "# Plot test data in green\n",
        "plt.scatter(X_test, y_test, c='#EE7A01', label='Test data')\n",
        "# Show a legend\n",
        "plt.legend()"
      ],
      "metadata": {
        "colab": {
          "base_uri": "https://localhost:8080/",
          "height": 616
        },
        "id": "v943lMOHgGeu",
        "outputId": "b2fd85f2-58a8-4e25-b513-d6b7f578a9af"
      },
      "execution_count": 26,
      "outputs": [
        {
          "output_type": "execute_result",
          "data": {
            "text/plain": [
              "<matplotlib.legend.Legend at 0x79ec3892e320>"
            ]
          },
          "metadata": {},
          "execution_count": 26
        },
        {
          "output_type": "display_data",
          "data": {
            "text/plain": [
              "<Figure size 1000x700 with 1 Axes>"
            ],
            "image/png": "[encoded data removed]"
          },
          "metadata": {}
        }
      ]
    },
    {
      "cell_type": "code",
      "source": [
        "# Let´s have a look up at how to build a neural network for our data\n",
        "\n",
        "# 1. Create model\n",
        "model = tf.keras.Sequential([\n",
        "    tf.keras.layers.Dense(1)\n",
        "])\n",
        "\n",
        "# 2. Compile the model\n",
        "model.compile(loss=tf.keras.losses.mae,\n",
        "              optimizer=tf.keras.optimizers.SGD(),\n",
        "              metrics=['mae'])\n",
        "\n",
        "# # 3. Fit the model\n",
        "# model.fit(tf.expand_dims(X_train, axis=-1), y_train, epochs=100)"
      ],
      "metadata": {
        "id": "ihv4eEb2goRe"
      },
      "execution_count": 27,
      "outputs": []
    },
    {
      "cell_type": "markdown",
      "source": [
        "#### Visualizing the model"
      ],
      "metadata": {
        "id": "TMi_DqMfi_3d"
      }
    },
    {
      "cell_type": "code",
      "source": [
        "# Let's create a model which builds automatically by defining the imput_shape argument in the first layer\n",
        "tf.random.set_seed(42)\n",
        "\n",
        "# 1. Create a model\n",
        "model = tf.keras.Sequential([\n",
        "    tf.keras.layers.Dense(10, input_shape=[1], name='input_layer'),\n",
        "    tf.keras.layers.Dense(1, name='output_layer')\n",
        "], name=\"model_1\")\n",
        "\n",
        "# Compile the model\n",
        "model.compile(loss=tf.keras.losses.mae,\n",
        "              optimizer=tf.keras.optimizers.SGD(),\n",
        "              metrics=['mae'])"
      ],
      "metadata": {
        "id": "KXKcUeNmjJDL"
      },
      "execution_count": 28,
      "outputs": []
    },
    {
      "cell_type": "code",
      "source": [
        "model.summary()"
      ],
      "metadata": {
        "colab": {
          "base_uri": "https://localhost:8080/"
        },
        "id": "x4lb5SwGlG97",
        "outputId": "47249780-5ba1-41cc-b178-db67e8cfcb25"
      },
      "execution_count": 29,
      "outputs": [
        {
          "output_type": "stream",
          "name": "stdout",
          "text": [
            "Model: \"model_1\"\n",
            "_________________________________________________________________\n",
            " Layer (type)                Output Shape              Param #   \n",
            "=================================================================\n",
            " input_layer (Dense)         (None, 10)                20        \n",
            "                                                                 \n",
            " output_layer (Dense)        (None, 1)                 11        \n",
            "                                                                 \n",
            "=================================================================\n",
            "Total params: 31\n",
            "Trainable params: 31\n",
            "Non-trainable params: 0\n",
            "_________________________________________________________________\n"
          ]
        }
      ]
    },
    {
      "cell_type": "markdown",
      "source": [
        "* Total params - total number of parameters in the model.\n",
        "* Trainable params - these are the patterns the model can update as it trains\n",
        "* Non-trainable - these parameters aren't updated during training (this is typical when you brought parameters from other models during **transfer learning**)\n",
        "\n",
        "👁️ **Resource:** Fore a more in-depth overview check:\n",
        "\n",
        "https://www.youtube.com/watch?v=QDX-1M5Nj7s&list=PLtBw6njQRU-rwp5__7C0oIVt26ZgjG9NI&index=2\n",
        "\n",
        "MIT - Introduction to Deep Learning\n",
        "http://introtodeeplearning.com/\n",
        "\n",
        "⚒️ **Exercise** Try playing around with the number of hidden units in the dense layer, see how that effects the number of parameters (total and trainable) by calling `model.summary()`."
      ],
      "metadata": {
        "id": "aHQ0TB17lJCi"
      }
    },
    {
      "cell_type": "code",
      "source": [
        "# Let`s fit our model to the training data\n",
        "model.fit(tf.expand_dims(X_train, axis=-1), y_train, epochs=100, verbose=0)"
      ],
      "metadata": {
        "colab": {
          "base_uri": "https://localhost:8080/"
        },
        "id": "SDiABT3QmweC",
        "outputId": "5437bd0d-dd17-4584-922c-185bcc6ee50f"
      },
      "execution_count": 30,
      "outputs": [
        {
          "output_type": "execute_result",
          "data": {
            "text/plain": [
              "<keras.callbacks.History at 0x79ec387d4340>"
            ]
          },
          "metadata": {},
          "execution_count": 30
        }
      ]
    },
    {
      "cell_type": "code",
      "source": [
        "from tensorflow.keras.utils import plot_model\n",
        "\n",
        "plot_model(model=model, show_shapes=True)"
      ],
      "metadata": {
        "colab": {
          "base_uri": "https://localhost:8080/",
          "height": 312
        },
        "id": "vMbPQISNDEfD",
        "outputId": "18498f8b-a7c7-403e-f2b7-e0d2a95bd459"
      },
      "execution_count": 31,
      "outputs": [
        {
          "output_type": "execute_result",
          "data": {
            "image/png": "[encoded data removed]",
            "text/plain": [
              "<IPython.core.display.Image object>"
            ]
          },
          "metadata": {},
          "execution_count": 31
        }
      ]
    },
    {
      "cell_type": "markdown",
      "source": [
        "#### Visualizing our model's predictions\n",
        "\n",
        "To visualize predictions, it's a good idea to plot them against the ground truth labels.\n",
        "\n",
        "Often you'll see this in the form of `y_test` or `y_true` versus `y_pred` (ground truth versus your model`s predictions)."
      ],
      "metadata": {
        "id": "33ca6ZI9ETvK"
      }
    },
    {
      "cell_type": "code",
      "source": [
        "# Make some predictions\n",
        "y_pred = model.predict(X_test)\n",
        "y_pred"
      ],
      "metadata": {
        "colab": {
          "base_uri": "https://localhost:8080/"
        },
        "id": "dmdfFGV7Jfo1",
        "outputId": "a1ba40f6-ec38-4d37-f0f9-47c11bbbbbd7"
      },
      "execution_count": 32,
      "outputs": [
        {
          "output_type": "stream",
          "name": "stderr",
          "text": [
            "WARNING:tensorflow:5 out of the last 5 calls to <function Model.make_predict_function.<locals>.predict_function at 0x79ec387ae680> triggered tf.function retracing. Tracing is expensive and the excessive number of tracings could be due to (1) creating @tf.function repeatedly in a loop, (2) passing tensors with different shapes, (3) passing Python objects instead of tensors. For (1), please define your @tf.function outside of the loop. For (2), @tf.function has reduce_retracing=True option that can avoid unnecessary retracing. For (3), please refer to https://www.tensorflow.org/guide/function#controlling_retracing and https://www.tensorflow.org/api_docs/python/tf/function for  more details.\n"
          ]
        },
        {
          "output_type": "stream",
          "name": "stdout",
          "text": [
            "1/1 [==============================] - 0s 144ms/step\n"
          ]
        },
        {
          "output_type": "execute_result",
          "data": {
            "text/plain": [
              "array([[ 78.30407 ],\n",
              "       [ 83.405464],\n",
              "       [ 88.50685 ],\n",
              "       [ 93.608246],\n",
              "       [ 98.70963 ],\n",
              "       [103.81103 ],\n",
              "       [108.91242 ],\n",
              "       [114.01381 ],\n",
              "       [119.115204],\n",
              "       [124.21658 ]], dtype=float32)"
            ]
          },
          "metadata": {},
          "execution_count": 32
        }
      ]
    },
    {
      "cell_type": "code",
      "source": [
        "# Remember X_test values\n",
        "y_test"
      ],
      "metadata": {
        "colab": {
          "base_uri": "https://localhost:8080/"
        },
        "id": "Cx71eoQ2KmKc",
        "outputId": "6271b194-b997-410d-c831-cc9bf7fbae26"
      },
      "execution_count": 33,
      "outputs": [
        {
          "output_type": "execute_result",
          "data": {
            "text/plain": [
              "<tf.Tensor: shape=(10,), dtype=int32, numpy=array([ 70,  74,  78,  82,  86,  90,  94,  98, 102, 106], dtype=int32)>"
            ]
          },
          "metadata": {},
          "execution_count": 33
        }
      ]
    },
    {
      "cell_type": "markdown",
      "source": [
        "👁️ **Note:** If you feel like you`re going to reuse some kind of functionality in the future is a good idea to turn it into a function"
      ],
      "metadata": {
        "id": "lLNt2o7KNCia"
      }
    },
    {
      "cell_type": "code",
      "source": [
        "# Let's create a plotting function\n",
        "def plot_predictions(train_data=X_train,\n",
        "                     train_labels=y_train,\n",
        "                     test_data=X_test,\n",
        "                     test_labels=y_test,\n",
        "                     predictions=y_pred):\n",
        "  \"\"\"\n",
        "  Plots training data, test data and compares predictions to ground truth labels.\n",
        "  \"\"\"\n",
        "  plt.figure(figsize=(10,7))\n",
        "  # Plot training data in one color\n",
        "  plt.scatter(train_data, train_labels, c='#126b75', label='Training Data')\n",
        "  # Plot test data in another color\n",
        "  plt.scatter(test_data, test_labels, c='#EE7A01', label='Test data')\n",
        "  # Plot model's predictions in the other color\n",
        "  plt.scatter(test_data, predictions, c='#94192a', label='Predictions')\n",
        "  # Show a legend\n",
        "  plt.legend();\n",
        "\n",
        "\n"
      ],
      "metadata": {
        "id": "Yy_rM9RaPwwh"
      },
      "execution_count": 34,
      "outputs": []
    },
    {
      "cell_type": "code",
      "source": [
        "plot_predictions()"
      ],
      "metadata": {
        "colab": {
          "base_uri": "https://localhost:8080/",
          "height": 595
        },
        "id": "GGMw2UTbRd1I",
        "outputId": "91384a5f-0916-4ced-8735-2a6e15a3f109"
      },
      "execution_count": 35,
      "outputs": [
        {
          "output_type": "display_data",
          "data": {
            "text/plain": [
              "<Figure size 1000x700 with 1 Axes>"
            ],
            "image/png": "[encoded data removed]"
          },
          "metadata": {}
        }
      ]
    },
    {
      "cell_type": "code",
      "source": [],
      "metadata": {
        "id": "3eAE8WlgRjS_"
      },
      "execution_count": null,
      "outputs": []
    }
  ]
}