{
  "nbformat": 4,
  "nbformat_minor": 0,
  "metadata": {
    "colab": {
      "provenance": [],
      "gpuType": "T4"
    },
    "kernelspec": {
      "name": "python3",
      "display_name": "Python 3"
    },
    "language_info": {
      "name": "python"
    },
    "accelerator": "GPU"
  },
  "cells": [
    {
      "cell_type": "markdown",
      "source": [
        "## **Neural Network Regression in TensorFlow**\n",
        "\n",
        "👁️👁️ Looking to solve Regression Problems\n",
        "\n",
        " - Architecture of a neural network regression model\n",
        " - Input shapes and output shapes of a regression model (**features** and labels)\n",
        " - Creating custom data to view and fit\n",
        " - Steps in modelling\n",
        "  - Creating a model, compiling a model, fitting a model, evaluating a model.\n",
        " - Different evaluation methods\n",
        " - Saving and loading models"
      ],
      "metadata": {
        "id": "f5wjJGSx6-YW"
      }
    },
    {
      "cell_type": "code",
      "execution_count": 1,
      "metadata": {
        "colab": {
          "base_uri": "https://localhost:8080/"
        },
        "id": "CNH8xU5Y6G44",
        "outputId": "fe9ecc16-5766-4b7e-dc10-51f960d7177b"
      },
      "outputs": [
        {
          "output_type": "stream",
          "name": "stdout",
          "text": [
            "2.12.0\n"
          ]
        }
      ],
      "source": [
        "# Import Tensorflow\n",
        "import tensorflow as tf\n",
        "print(tf.__version__)"
      ]
    },
    {
      "cell_type": "markdown",
      "source": [
        "### Creating data to view and fit"
      ],
      "metadata": {
        "id": "e0iBPtjeCCqv"
      }
    },
    {
      "cell_type": "code",
      "source": [
        "import numpy as np\n",
        "import matplotlib.pyplot as plt\n",
        "\n",
        "# Create features\n",
        "X = np.array([-7.0, -4.0, -1.0, 2.0, 5.0, 8.0, 11.0, 14.0])\n",
        "\n",
        "# Create labels\n",
        "y = np.array([3.0, 6.0, 9.0, 12.0, 15.0, 18.0, 21.0, 24.0])\n",
        "\n",
        "# Visualize it\n",
        "plt.scatter(X, y)\n"
      ],
      "metadata": {
        "colab": {
          "base_uri": "https://localhost:8080/",
          "height": 452
        },
        "id": "XZ5Rvn-1Ecxe",
        "outputId": "75f139c0-29cc-447e-8270-b45937fae517"
      },
      "execution_count": 2,
      "outputs": [
        {
          "output_type": "execute_result",
          "data": {
            "text/plain": [
              "<matplotlib.collections.PathCollection at 0x7ad6456f9f00>"
            ]
          },
          "metadata": {},
          "execution_count": 2
        },
        {
          "output_type": "display_data",
          "data": {
            "text/plain": [
              "<Figure size 640x480 with 1 Axes>"
            ],
            "image/png": "[encoded data removed]"
          },
          "metadata": {}
        }
      ]
    },
    {
      "cell_type": "code",
      "source": [
        "# This is how we get y values from this values (the linear regression of this very simple model)\n",
        "X + 10"
      ],
      "metadata": {
        "colab": {
          "base_uri": "https://localhost:8080/"
        },
        "id": "67oKXtvcFM7V",
        "outputId": "1af1fa8c-3111-4226-b5ab-66f71ad9693b"
      },
      "execution_count": 3,
      "outputs": [
        {
          "output_type": "execute_result",
          "data": {
            "text/plain": [
              "array([ 3.,  6.,  9., 12., 15., 18., 21., 24.])"
            ]
          },
          "metadata": {},
          "execution_count": 3
        }
      ]
    },
    {
      "cell_type": "code",
      "source": [
        "y == X + 10\n"
      ],
      "metadata": {
        "colab": {
          "base_uri": "https://localhost:8080/"
        },
        "id": "H2bcTt9MFlC0",
        "outputId": "a508ab30-b8e4-4d18-9f2c-4cb9b6f89d90"
      },
      "execution_count": 4,
      "outputs": [
        {
          "output_type": "execute_result",
          "data": {
            "text/plain": [
              "array([ True,  True,  True,  True,  True,  True,  True,  True])"
            ]
          },
          "metadata": {},
          "execution_count": 4
        }
      ]
    },
    {
      "cell_type": "markdown",
      "source": [
        "#### Input and Output Shapes"
      ],
      "metadata": {
        "id": "yPxHTWJdFnrM"
      }
    },
    {
      "cell_type": "code",
      "source": [
        "# Create a demo tenosr for our housing price prediction problem\n",
        "house_info = tf.constant(['bedroom','bathroom','garage'])\n",
        "house_price = tf.constant([939700])\n",
        "house_info, house_price"
      ],
      "metadata": {
        "colab": {
          "base_uri": "https://localhost:8080/"
        },
        "id": "AlQOdSPNGRiP",
        "outputId": "86fae5e7-e147-4092-e96e-57a41fe48b2f"
      },
      "execution_count": 5,
      "outputs": [
        {
          "output_type": "execute_result",
          "data": {
            "text/plain": [
              "(<tf.Tensor: shape=(3,), dtype=string, numpy=array([b'bedroom', b'bathroom', b'garage'], dtype=object)>,\n",
              " <tf.Tensor: shape=(1,), dtype=int32, numpy=array([939700], dtype=int32)>)"
            ]
          },
          "metadata": {},
          "execution_count": 5
        }
      ]
    },
    {
      "cell_type": "code",
      "source": [
        "X[0], y[0]"
      ],
      "metadata": {
        "colab": {
          "base_uri": "https://localhost:8080/"
        },
        "id": "rpdDsnPZIsmn",
        "outputId": "fc560c12-a300-4c27-e8b9-2a836ab7035e"
      },
      "execution_count": 6,
      "outputs": [
        {
          "output_type": "execute_result",
          "data": {
            "text/plain": [
              "(-7.0, 3.0)"
            ]
          },
          "metadata": {},
          "execution_count": 6
        }
      ]
    },
    {
      "cell_type": "code",
      "source": [
        "input_shape = X[0].shape\n",
        "output_shape = y[0].shape\n",
        "input_shape, output_shape"
      ],
      "metadata": {
        "colab": {
          "base_uri": "https://localhost:8080/"
        },
        "id": "iZy0Zyt3G3Pj",
        "outputId": "f08af587-a18d-40e0-afcb-7edd3ba2df3d"
      },
      "execution_count": 7,
      "outputs": [
        {
          "output_type": "execute_result",
          "data": {
            "text/plain": [
              "((), ())"
            ]
          },
          "metadata": {},
          "execution_count": 7
        }
      ]
    },
    {
      "cell_type": "code",
      "source": [
        "# Turn our NumPy arrays into tensors\n",
        "X = tf.cast(tf.constant(X), dtype=tf.float32)\n",
        "y = tf.cast(tf.constant(y), dtype=tf.float32)\n",
        "\n",
        "X, y"
      ],
      "metadata": {
        "colab": {
          "base_uri": "https://localhost:8080/"
        },
        "id": "PpH980DyHIxj",
        "outputId": "526fe1af-9e24-4f18-9100-d52e64733429"
      },
      "execution_count": 8,
      "outputs": [
        {
          "output_type": "execute_result",
          "data": {
            "text/plain": [
              "(<tf.Tensor: shape=(8,), dtype=float32, numpy=array([-7., -4., -1.,  2.,  5.,  8., 11., 14.], dtype=float32)>,\n",
              " <tf.Tensor: shape=(8,), dtype=float32, numpy=array([ 3.,  6.,  9., 12., 15., 18., 21., 24.], dtype=float32)>)"
            ]
          },
          "metadata": {},
          "execution_count": 8
        }
      ]
    },
    {
      "cell_type": "code",
      "source": [
        "input_shape = X[0].shape\n",
        "output_shape = y[0].shape\n",
        "input_shape, output_shape"
      ],
      "metadata": {
        "colab": {
          "base_uri": "https://localhost:8080/"
        },
        "id": "7bVYtQdFLiMH",
        "outputId": "78b8b07e-73f9-4e9c-81a1-80f243e56d6b"
      },
      "execution_count": 9,
      "outputs": [
        {
          "output_type": "execute_result",
          "data": {
            "text/plain": [
              "(TensorShape([]), TensorShape([]))"
            ]
          },
          "metadata": {},
          "execution_count": 9
        }
      ]
    },
    {
      "cell_type": "code",
      "source": [
        "plt.scatter(X, y)\n"
      ],
      "metadata": {
        "colab": {
          "base_uri": "https://localhost:8080/",
          "height": 452
        },
        "id": "49bMIexxLno-",
        "outputId": "acf76e91-e261-4ac3-89ec-e400142b32ac"
      },
      "execution_count": 10,
      "outputs": [
        {
          "output_type": "execute_result",
          "data": {
            "text/plain": [
              "<matplotlib.collections.PathCollection at 0x7ad643645450>"
            ]
          },
          "metadata": {},
          "execution_count": 10
        },
        {
          "output_type": "display_data",
          "data": {
            "text/plain": [
              "<Figure size 640x480 with 1 Axes>"
            ],
            "image/png": "[encoded data removed]"
          },
          "metadata": {}
        }
      ]
    },
    {
      "cell_type": "markdown",
      "source": [
        "### Steps in modelling with TensorFlow\n",
        "\n",
        "1. **Creating a model** - define the input and output layers, as well as the hidden layers of a deep learning model.\n",
        "2. **Compiling a model** - define the loss function (in other words, the function which tells our model how worng it is), the optimizer (tells our model how to improve the patterns its learning), and the evaluation metrics (what we can use to interpret the performance of our model).\n",
        "3. **Fitting a model** - letting the model try to find patterns between X & y (features & labels). Epochs - How many times the model will go through all of the training examples\n",
        "4. **Evaluate the model** on the test data (how reliable are our models predictions?)\n"
      ],
      "metadata": {
        "id": "wMt8oXAML0kn"
      }
    },
    {
      "cell_type": "code",
      "source": [
        "# Set random seed\n",
        "tf.random.set_seed(42)\n",
        "\n",
        "# 1. Create amodel using the sequential API\n",
        "model = tf.keras.Sequential([\n",
        "    tf.keras.layers.Dense(1)\n",
        "]) # into a list method\n",
        "\n",
        "# add method\n",
        "# model = tf.keras.Sequential()\n",
        "# model.add(tf.keras.layers.Dense(1))\n",
        "\n",
        "# 2. Compile the model\n",
        "model.compile(loss=tf.keras.losses.mae, #mae is short for mean absolute error\n",
        "              optimizer=tf.keras.optimizers.SGD(), #SGD is short for Stochastic Gradient Descent\n",
        "              metrics=['mae'])\n",
        "\n",
        "# Fit the model\n",
        "model.fit(tf.expand_dims(X, axis=-1), y, epochs=5)"
      ],
      "metadata": {
        "colab": {
          "base_uri": "https://localhost:8080/"
        },
        "id": "PlQ3HrGyL9ve",
        "outputId": "fccfdfb2-3fb4-4b19-d182-792ead17f88d"
      },
      "execution_count": 11,
      "outputs": [
        {
          "output_type": "stream",
          "name": "stdout",
          "text": [
            "Epoch 1/5\n",
            "1/1 [==============================] - 3s 3s/step - loss: 9.3783 - mae: 9.3783\n",
            "Epoch 2/5\n",
            "1/1 [==============================] - 0s 17ms/step - loss: 9.2458 - mae: 9.2458\n",
            "Epoch 3/5\n",
            "1/1 [==============================] - 0s 15ms/step - loss: 9.1133 - mae: 9.1133\n",
            "Epoch 4/5\n",
            "1/1 [==============================] - 0s 14ms/step - loss: 8.9808 - mae: 8.9808\n",
            "Epoch 5/5\n",
            "1/1 [==============================] - 0s 13ms/step - loss: 8.8483 - mae: 8.8483\n"
          ]
        },
        {
          "output_type": "execute_result",
          "data": {
            "text/plain": [
              "<keras.callbacks.History at 0x7ad6351da2c0>"
            ]
          },
          "metadata": {},
          "execution_count": 11
        }
      ]
    },
    {
      "cell_type": "code",
      "source": [
        "# Check out X and y\n",
        "X, y"
      ],
      "metadata": {
        "colab": {
          "base_uri": "https://localhost:8080/"
        },
        "id": "YYSR2YinqtYI",
        "outputId": "420e6011-8f0a-451c-953d-dc609576e4e2"
      },
      "execution_count": 12,
      "outputs": [
        {
          "output_type": "execute_result",
          "data": {
            "text/plain": [
              "(<tf.Tensor: shape=(8,), dtype=float32, numpy=array([-7., -4., -1.,  2.,  5.,  8., 11., 14.], dtype=float32)>,\n",
              " <tf.Tensor: shape=(8,), dtype=float32, numpy=array([ 3.,  6.,  9., 12., 15., 18., 21., 24.], dtype=float32)>)"
            ]
          },
          "metadata": {},
          "execution_count": 12
        }
      ]
    },
    {
      "cell_type": "code",
      "source": [
        "# Try and make a prediction using our model\n",
        "model.predict([17.0])"
      ],
      "metadata": {
        "colab": {
          "base_uri": "https://localhost:8080/"
        },
        "id": "Hh4K2jbqucOa",
        "outputId": "336a7b08-040c-4088-8634-fcb869ba5050"
      },
      "execution_count": 13,
      "outputs": [
        {
          "output_type": "stream",
          "name": "stdout",
          "text": [
            "1/1 [==============================] - 0s 328ms/step\n"
          ]
        },
        {
          "output_type": "execute_result",
          "data": {
            "text/plain": [
              "array([[23.04478]], dtype=float32)"
            ]
          },
          "metadata": {},
          "execution_count": 13
        }
      ]
    },
    {
      "cell_type": "markdown",
      "source": [
        "### Improving our model\n",
        "\n",
        "We can improve our model, by altering the steps we took to create a model.\n",
        "\n",
        "1. **Creating a model** - here we might add more layers, increase the number of hidden units (all called neurons) within each of the hidden layers, change the activation function of each layer.\n",
        "2. **Compiling a model** - here we might change the optimization fucntion or perhaps the **learning rate** of the optimization function.\n",
        "3. **Fitting a model** - here we might fit the model for more **epochs** (leave it training for longer) or on more data (give the model more examples to learn from)."
      ],
      "metadata": {
        "id": "uhwABg2_ulcC"
      }
    },
    {
      "cell_type": "code",
      "source": [
        "# Rebuilding our model\n",
        "\n",
        "# 1. Creating the model\n",
        "model = tf.keras.Sequential([\n",
        "    tf.keras.layers.Dense(1)\n",
        "])\n",
        "\n",
        "# 2. Compiling the model\n",
        "model.compile(loss=tf.keras.losses.mae,\n",
        "              optimizer=tf.keras.optimizers.SGD(),\n",
        "              metrics=['mae'])\n",
        "\n",
        "# 3. Fit the model (this time we'll train for longer)\n",
        "model.fit(tf.expand_dims(X, axis=-1), y, epochs=100)"
      ],
      "metadata": {
        "colab": {
          "base_uri": "https://localhost:8080/"
        },
        "id": "AKveIxuqUtMq",
        "outputId": "47e0a82c-76c8-4c92-8cd7-fb28e7fbf82d"
      },
      "execution_count": 14,
      "outputs": [
        {
          "output_type": "stream",
          "name": "stdout",
          "text": [
            "Epoch 1/100\n",
            "1/1 [==============================] - 2s 2s/step - loss: 9.9509 - mae: 9.9509\n",
            "Epoch 2/100\n",
            "1/1 [==============================] - 0s 24ms/step - loss: 9.8184 - mae: 9.8184\n",
            "Epoch 3/100\n",
            "1/1 [==============================] - 0s 24ms/step - loss: 9.6859 - mae: 9.6859\n",
            "Epoch 4/100\n",
            "1/1 [==============================] - 0s 18ms/step - loss: 9.5534 - mae: 9.5534\n",
            "Epoch 5/100\n",
            "1/1 [==============================] - 0s 20ms/step - loss: 9.4209 - mae: 9.4209\n",
            "Epoch 6/100\n",
            "1/1 [==============================] - 0s 17ms/step - loss: 9.2884 - mae: 9.2884\n",
            "Epoch 7/100\n",
            "1/1 [==============================] - 0s 22ms/step - loss: 9.1559 - mae: 9.1559\n",
            "Epoch 8/100\n",
            "1/1 [==============================] - 0s 26ms/step - loss: 9.0234 - mae: 9.0234\n",
            "Epoch 9/100\n",
            "1/1 [==============================] - 0s 20ms/step - loss: 8.8909 - mae: 8.8909\n",
            "Epoch 10/100\n",
            "1/1 [==============================] - 0s 22ms/step - loss: 8.7584 - mae: 8.7584\n",
            "Epoch 11/100\n",
            "1/1 [==============================] - 0s 18ms/step - loss: 8.6259 - mae: 8.6259\n",
            "Epoch 12/100\n",
            "1/1 [==============================] - 0s 18ms/step - loss: 8.4934 - mae: 8.4934\n",
            "Epoch 13/100\n",
            "1/1 [==============================] - 0s 20ms/step - loss: 8.3609 - mae: 8.3609\n",
            "Epoch 14/100\n",
            "1/1 [==============================] - 0s 18ms/step - loss: 8.2284 - mae: 8.2284\n",
            "Epoch 15/100\n",
            "1/1 [==============================] - 0s 17ms/step - loss: 8.0959 - mae: 8.0959\n",
            "Epoch 16/100\n",
            "1/1 [==============================] - 0s 18ms/step - loss: 7.9634 - mae: 7.9634\n",
            "Epoch 17/100\n",
            "1/1 [==============================] - 0s 14ms/step - loss: 7.8309 - mae: 7.8309\n",
            "Epoch 18/100\n",
            "1/1 [==============================] - 0s 16ms/step - loss: 7.6984 - mae: 7.6984\n",
            "Epoch 19/100\n",
            "1/1 [==============================] - 0s 17ms/step - loss: 7.5659 - mae: 7.5659\n",
            "Epoch 20/100\n",
            "1/1 [==============================] - 0s 18ms/step - loss: 7.4334 - mae: 7.4334\n",
            "Epoch 21/100\n",
            "1/1 [==============================] - 0s 21ms/step - loss: 7.3500 - mae: 7.3500\n",
            "Epoch 22/100\n",
            "1/1 [==============================] - 0s 19ms/step - loss: 7.3444 - mae: 7.3444\n",
            "Epoch 23/100\n",
            "1/1 [==============================] - 0s 16ms/step - loss: 7.3387 - mae: 7.3387\n",
            "Epoch 24/100\n",
            "1/1 [==============================] - 0s 20ms/step - loss: 7.3331 - mae: 7.3331\n",
            "Epoch 25/100\n",
            "1/1 [==============================] - 0s 18ms/step - loss: 7.3275 - mae: 7.3275\n",
            "Epoch 26/100\n",
            "1/1 [==============================] - 0s 23ms/step - loss: 7.3219 - mae: 7.3219\n",
            "Epoch 27/100\n",
            "1/1 [==============================] - 0s 10ms/step - loss: 7.3163 - mae: 7.3163\n",
            "Epoch 28/100\n",
            "1/1 [==============================] - 0s 10ms/step - loss: 7.3106 - mae: 7.3106\n",
            "Epoch 29/100\n",
            "1/1 [==============================] - 0s 15ms/step - loss: 7.3050 - mae: 7.3050\n",
            "Epoch 30/100\n",
            "1/1 [==============================] - 0s 19ms/step - loss: 7.2994 - mae: 7.2994\n",
            "Epoch 31/100\n",
            "1/1 [==============================] - 0s 14ms/step - loss: 7.2937 - mae: 7.2937\n",
            "Epoch 32/100\n",
            "1/1 [==============================] - 0s 15ms/step - loss: 7.2881 - mae: 7.2881\n",
            "Epoch 33/100\n",
            "1/1 [==============================] - 0s 15ms/step - loss: 7.2825 - mae: 7.2825\n",
            "Epoch 34/100\n",
            "1/1 [==============================] - 0s 17ms/step - loss: 7.2769 - mae: 7.2769\n",
            "Epoch 35/100\n",
            "1/1 [==============================] - 0s 17ms/step - loss: 7.2712 - mae: 7.2712\n",
            "Epoch 36/100\n",
            "1/1 [==============================] - 0s 22ms/step - loss: 7.2656 - mae: 7.2656\n",
            "Epoch 37/100\n",
            "1/1 [==============================] - 0s 18ms/step - loss: 7.2600 - mae: 7.2600\n",
            "Epoch 38/100\n",
            "1/1 [==============================] - 0s 16ms/step - loss: 7.2544 - mae: 7.2544\n",
            "Epoch 39/100\n",
            "1/1 [==============================] - 0s 17ms/step - loss: 7.2487 - mae: 7.2487\n",
            "Epoch 40/100\n",
            "1/1 [==============================] - 0s 18ms/step - loss: 7.2431 - mae: 7.2431\n",
            "Epoch 41/100\n",
            "1/1 [==============================] - 0s 22ms/step - loss: 7.2375 - mae: 7.2375\n",
            "Epoch 42/100\n",
            "1/1 [==============================] - 0s 20ms/step - loss: 7.2319 - mae: 7.2319\n",
            "Epoch 43/100\n",
            "1/1 [==============================] - 0s 18ms/step - loss: 7.2263 - mae: 7.2263\n",
            "Epoch 44/100\n",
            "1/1 [==============================] - 0s 17ms/step - loss: 7.2206 - mae: 7.2206\n",
            "Epoch 45/100\n",
            "1/1 [==============================] - 0s 19ms/step - loss: 7.2150 - mae: 7.2150\n",
            "Epoch 46/100\n",
            "1/1 [==============================] - 0s 23ms/step - loss: 7.2094 - mae: 7.2094\n",
            "Epoch 47/100\n",
            "1/1 [==============================] - 0s 17ms/step - loss: 7.2037 - mae: 7.2037\n",
            "Epoch 48/100\n",
            "1/1 [==============================] - 0s 17ms/step - loss: 7.1981 - mae: 7.1981\n",
            "Epoch 49/100\n",
            "1/1 [==============================] - 0s 18ms/step - loss: 7.1925 - mae: 7.1925\n",
            "Epoch 50/100\n",
            "1/1 [==============================] - 0s 22ms/step - loss: 7.1869 - mae: 7.1869\n",
            "Epoch 51/100\n",
            "1/1 [==============================] - 0s 16ms/step - loss: 7.1812 - mae: 7.1812\n",
            "Epoch 52/100\n",
            "1/1 [==============================] - 0s 19ms/step - loss: 7.1756 - mae: 7.1756\n",
            "Epoch 53/100\n",
            "1/1 [==============================] - 0s 18ms/step - loss: 7.1700 - mae: 7.1700\n",
            "Epoch 54/100\n",
            "1/1 [==============================] - 0s 15ms/step - loss: 7.1644 - mae: 7.1644\n",
            "Epoch 55/100\n",
            "1/1 [==============================] - 0s 17ms/step - loss: 7.1588 - mae: 7.1588\n",
            "Epoch 56/100\n",
            "1/1 [==============================] - 0s 17ms/step - loss: 7.1531 - mae: 7.1531\n",
            "Epoch 57/100\n",
            "1/1 [==============================] - 0s 21ms/step - loss: 7.1475 - mae: 7.1475\n",
            "Epoch 58/100\n",
            "1/1 [==============================] - 0s 22ms/step - loss: 7.1419 - mae: 7.1419\n",
            "Epoch 59/100\n",
            "1/1 [==============================] - 0s 24ms/step - loss: 7.1363 - mae: 7.1363\n",
            "Epoch 60/100\n",
            "1/1 [==============================] - 0s 31ms/step - loss: 7.1306 - mae: 7.1306\n",
            "Epoch 61/100\n",
            "1/1 [==============================] - 0s 27ms/step - loss: 7.1250 - mae: 7.1250\n",
            "Epoch 62/100\n",
            "1/1 [==============================] - 0s 27ms/step - loss: 7.1194 - mae: 7.1194\n",
            "Epoch 63/100\n",
            "1/1 [==============================] - 0s 18ms/step - loss: 7.1137 - mae: 7.1137\n",
            "Epoch 64/100\n",
            "1/1 [==============================] - 0s 20ms/step - loss: 7.1081 - mae: 7.1081\n",
            "Epoch 65/100\n",
            "1/1 [==============================] - 0s 18ms/step - loss: 7.1025 - mae: 7.1025\n",
            "Epoch 66/100\n",
            "1/1 [==============================] - 0s 16ms/step - loss: 7.0969 - mae: 7.0969\n",
            "Epoch 67/100\n",
            "1/1 [==============================] - 0s 16ms/step - loss: 7.0912 - mae: 7.0912\n",
            "Epoch 68/100\n",
            "1/1 [==============================] - 0s 21ms/step - loss: 7.0856 - mae: 7.0856\n",
            "Epoch 69/100\n",
            "1/1 [==============================] - 0s 16ms/step - loss: 7.0800 - mae: 7.0800\n",
            "Epoch 70/100\n",
            "1/1 [==============================] - 0s 22ms/step - loss: 7.0744 - mae: 7.0744\n",
            "Epoch 71/100\n",
            "1/1 [==============================] - 0s 18ms/step - loss: 7.0688 - mae: 7.0688\n",
            "Epoch 72/100\n",
            "1/1 [==============================] - 0s 35ms/step - loss: 7.0631 - mae: 7.0631\n",
            "Epoch 73/100\n",
            "1/1 [==============================] - 0s 19ms/step - loss: 7.0575 - mae: 7.0575\n",
            "Epoch 74/100\n",
            "1/1 [==============================] - 0s 19ms/step - loss: 7.0519 - mae: 7.0519\n",
            "Epoch 75/100\n",
            "1/1 [==============================] - 0s 17ms/step - loss: 7.0463 - mae: 7.0463\n",
            "Epoch 76/100\n",
            "1/1 [==============================] - 0s 19ms/step - loss: 7.0406 - mae: 7.0406\n",
            "Epoch 77/100\n",
            "1/1 [==============================] - 0s 37ms/step - loss: 7.0350 - mae: 7.0350\n",
            "Epoch 78/100\n",
            "1/1 [==============================] - 0s 23ms/step - loss: 7.0294 - mae: 7.0294\n",
            "Epoch 79/100\n",
            "1/1 [==============================] - 0s 25ms/step - loss: 7.0238 - mae: 7.0238\n",
            "Epoch 80/100\n",
            "1/1 [==============================] - 0s 21ms/step - loss: 7.0181 - mae: 7.0181\n",
            "Epoch 81/100\n",
            "1/1 [==============================] - 0s 22ms/step - loss: 7.0125 - mae: 7.0125\n",
            "Epoch 82/100\n",
            "1/1 [==============================] - 0s 30ms/step - loss: 7.0069 - mae: 7.0069\n",
            "Epoch 83/100\n",
            "1/1 [==============================] - 0s 23ms/step - loss: 7.0013 - mae: 7.0013\n",
            "Epoch 84/100\n",
            "1/1 [==============================] - 0s 35ms/step - loss: 6.9956 - mae: 6.9956\n",
            "Epoch 85/100\n",
            "1/1 [==============================] - 0s 27ms/step - loss: 6.9900 - mae: 6.9900\n",
            "Epoch 86/100\n",
            "1/1 [==============================] - 0s 30ms/step - loss: 6.9844 - mae: 6.9844\n",
            "Epoch 87/100\n",
            "1/1 [==============================] - 0s 27ms/step - loss: 6.9788 - mae: 6.9788\n",
            "Epoch 88/100\n",
            "1/1 [==============================] - 0s 27ms/step - loss: 6.9731 - mae: 6.9731\n",
            "Epoch 89/100\n",
            "1/1 [==============================] - 0s 15ms/step - loss: 6.9675 - mae: 6.9675\n",
            "Epoch 90/100\n",
            "1/1 [==============================] - 0s 20ms/step - loss: 6.9619 - mae: 6.9619\n",
            "Epoch 91/100\n",
            "1/1 [==============================] - 0s 17ms/step - loss: 6.9563 - mae: 6.9563\n",
            "Epoch 92/100\n",
            "1/1 [==============================] - 0s 26ms/step - loss: 6.9506 - mae: 6.9506\n",
            "Epoch 93/100\n",
            "1/1 [==============================] - 0s 25ms/step - loss: 6.9450 - mae: 6.9450\n",
            "Epoch 94/100\n",
            "1/1 [==============================] - 0s 26ms/step - loss: 6.9394 - mae: 6.9394\n",
            "Epoch 95/100\n",
            "1/1 [==============================] - 0s 31ms/step - loss: 6.9338 - mae: 6.9338\n",
            "Epoch 96/100\n",
            "1/1 [==============================] - 0s 29ms/step - loss: 6.9281 - mae: 6.9281\n",
            "Epoch 97/100\n",
            "1/1 [==============================] - 0s 25ms/step - loss: 6.9225 - mae: 6.9225\n",
            "Epoch 98/100\n",
            "1/1 [==============================] - 0s 22ms/step - loss: 6.9169 - mae: 6.9169\n",
            "Epoch 99/100\n",
            "1/1 [==============================] - 0s 29ms/step - loss: 6.9113 - mae: 6.9113\n",
            "Epoch 100/100\n",
            "1/1 [==============================] - 0s 26ms/step - loss: 6.9056 - mae: 6.9056\n"
          ]
        },
        {
          "output_type": "execute_result",
          "data": {
            "text/plain": [
              "<keras.callbacks.History at 0x7ad5fb9050f0>"
            ]
          },
          "metadata": {},
          "execution_count": 14
        }
      ]
    },
    {
      "cell_type": "code",
      "source": [
        "# Remind the data\n",
        "X, y"
      ],
      "metadata": {
        "colab": {
          "base_uri": "https://localhost:8080/"
        },
        "id": "ScmQsLJQXrFI",
        "outputId": "acc73144-88ed-40e8-b4d3-dbe209020032"
      },
      "execution_count": 15,
      "outputs": [
        {
          "output_type": "execute_result",
          "data": {
            "text/plain": [
              "(<tf.Tensor: shape=(8,), dtype=float32, numpy=array([-7., -4., -1.,  2.,  5.,  8., 11., 14.], dtype=float32)>,\n",
              " <tf.Tensor: shape=(8,), dtype=float32, numpy=array([ 3.,  6.,  9., 12., 15., 18., 21., 24.], dtype=float32)>)"
            ]
          },
          "metadata": {},
          "execution_count": 15
        }
      ]
    },
    {
      "cell_type": "code",
      "source": [
        "# Let's see if the model prediction has improved\n",
        "model.predict([17.])"
      ],
      "metadata": {
        "colab": {
          "base_uri": "https://localhost:8080/"
        },
        "id": "ZvbtrPKkYbkP",
        "outputId": "073cd52b-d395-408f-9ef6-e66a92da94ea"
      },
      "execution_count": 16,
      "outputs": [
        {
          "output_type": "stream",
          "name": "stdout",
          "text": [
            "1/1 [==============================] - 0s 91ms/step\n"
          ]
        },
        {
          "output_type": "execute_result",
          "data": {
            "text/plain": [
              "array([[29.93841]], dtype=float32)"
            ]
          },
          "metadata": {},
          "execution_count": 16
        }
      ]
    },
    {
      "cell_type": "code",
      "source": [
        "# Rebuilding (third time) our model\n",
        "# Adding a hidden layer\n",
        "\n",
        "# 1. Creating the model\n",
        "model = tf.keras.Sequential([\n",
        "    tf.keras.layers.Dense(100, activation='relu'),\n",
        "    tf.keras.layers.Dense(100, activation='relu'),\n",
        "    tf.keras.layers.Dense(100, activation='relu'),\n",
        "    tf.keras.layers.Dense(1)\n",
        "])\n",
        "\n",
        "# 2. Compiling the model\n",
        "model.compile(loss=tf.keras.losses.mae,\n",
        "              optimizer=tf.keras.optimizers.SGD(),\n",
        "              metrics=['mae'])\n",
        "\n",
        "# 3. Fit the model (this time we'll train for longer)\n",
        "model.fit(tf.expand_dims(X, axis=-1), y, epochs=100)"
      ],
      "metadata": {
        "colab": {
          "base_uri": "https://localhost:8080/"
        },
        "id": "Vb5bklpEYqTO",
        "outputId": "cdf0d384-cb46-4c64-f3fe-7722d89b2069"
      },
      "execution_count": 17,
      "outputs": [
        {
          "output_type": "stream",
          "name": "stdout",
          "text": [
            "Epoch 1/100\n",
            "1/1 [==============================] - 2s 2s/step - loss: 13.2755 - mae: 13.2755\n",
            "Epoch 2/100\n",
            "1/1 [==============================] - 0s 13ms/step - loss: 12.8022 - mae: 12.8022\n",
            "Epoch 3/100\n",
            "1/1 [==============================] - 0s 28ms/step - loss: 12.3347 - mae: 12.3347\n",
            "Epoch 4/100\n",
            "1/1 [==============================] - 0s 16ms/step - loss: 11.8263 - mae: 11.8263\n",
            "Epoch 5/100\n",
            "1/1 [==============================] - 0s 15ms/step - loss: 11.2722 - mae: 11.2722\n",
            "Epoch 6/100\n",
            "1/1 [==============================] - 0s 12ms/step - loss: 10.6217 - mae: 10.6217\n",
            "Epoch 7/100\n",
            "1/1 [==============================] - 0s 24ms/step - loss: 9.8080 - mae: 9.8080\n",
            "Epoch 8/100\n",
            "1/1 [==============================] - 0s 14ms/step - loss: 8.7602 - mae: 8.7602\n",
            "Epoch 9/100\n",
            "1/1 [==============================] - 0s 11ms/step - loss: 7.4132 - mae: 7.4132\n",
            "Epoch 10/100\n",
            "1/1 [==============================] - 0s 31ms/step - loss: 5.6580 - mae: 5.6580\n",
            "Epoch 11/100\n",
            "1/1 [==============================] - 0s 14ms/step - loss: 3.9403 - mae: 3.9403\n",
            "Epoch 12/100\n",
            "1/1 [==============================] - 0s 13ms/step - loss: 4.0858 - mae: 4.0858\n",
            "Epoch 13/100\n",
            "1/1 [==============================] - 0s 12ms/step - loss: 3.8932 - mae: 3.8932\n",
            "Epoch 14/100\n",
            "1/1 [==============================] - 0s 13ms/step - loss: 4.0962 - mae: 4.0962\n",
            "Epoch 15/100\n",
            "1/1 [==============================] - 0s 18ms/step - loss: 3.8771 - mae: 3.8771\n",
            "Epoch 16/100\n",
            "1/1 [==============================] - 0s 13ms/step - loss: 4.0609 - mae: 4.0609\n",
            "Epoch 17/100\n",
            "1/1 [==============================] - 0s 19ms/step - loss: 3.8877 - mae: 3.8877\n",
            "Epoch 18/100\n",
            "1/1 [==============================] - 0s 21ms/step - loss: 4.0113 - mae: 4.0113\n",
            "Epoch 19/100\n",
            "1/1 [==============================] - 0s 14ms/step - loss: 3.8992 - mae: 3.8992\n",
            "Epoch 20/100\n",
            "1/1 [==============================] - 0s 13ms/step - loss: 3.9607 - mae: 3.9607\n",
            "Epoch 21/100\n",
            "1/1 [==============================] - 0s 16ms/step - loss: 3.9140 - mae: 3.9140\n",
            "Epoch 22/100\n",
            "1/1 [==============================] - 0s 18ms/step - loss: 3.9077 - mae: 3.9077\n",
            "Epoch 23/100\n",
            "1/1 [==============================] - 0s 20ms/step - loss: 3.9283 - mae: 3.9283\n",
            "Epoch 24/100\n",
            "1/1 [==============================] - 0s 27ms/step - loss: 3.8528 - mae: 3.8528\n",
            "Epoch 25/100\n",
            "1/1 [==============================] - 0s 20ms/step - loss: 3.9458 - mae: 3.9458\n",
            "Epoch 26/100\n",
            "1/1 [==============================] - 0s 12ms/step - loss: 3.7983 - mae: 3.7983\n",
            "Epoch 27/100\n",
            "1/1 [==============================] - 0s 23ms/step - loss: 3.9634 - mae: 3.9634\n",
            "Epoch 28/100\n",
            "1/1 [==============================] - 0s 15ms/step - loss: 3.7559 - mae: 3.7559\n",
            "Epoch 29/100\n",
            "1/1 [==============================] - 0s 15ms/step - loss: 3.9288 - mae: 3.9288\n",
            "Epoch 30/100\n",
            "1/1 [==============================] - 0s 46ms/step - loss: 3.8149 - mae: 3.8149\n",
            "Epoch 31/100\n",
            "1/1 [==============================] - 0s 17ms/step - loss: 3.8720 - mae: 3.8720\n",
            "Epoch 32/100\n",
            "1/1 [==============================] - 0s 15ms/step - loss: 3.8324 - mae: 3.8324\n",
            "Epoch 33/100\n",
            "1/1 [==============================] - 0s 16ms/step - loss: 3.8141 - mae: 3.8141\n",
            "Epoch 34/100\n",
            "1/1 [==============================] - 0s 21ms/step - loss: 3.8513 - mae: 3.8513\n",
            "Epoch 35/100\n",
            "1/1 [==============================] - 0s 12ms/step - loss: 3.7542 - mae: 3.7542\n",
            "Epoch 36/100\n",
            "1/1 [==============================] - 0s 26ms/step - loss: 3.8716 - mae: 3.8716\n",
            "Epoch 37/100\n",
            "1/1 [==============================] - 0s 23ms/step - loss: 3.6924 - mae: 3.6924\n",
            "Epoch 38/100\n",
            "1/1 [==============================] - 0s 25ms/step - loss: 3.8935 - mae: 3.8935\n",
            "Epoch 39/100\n",
            "1/1 [==============================] - 0s 13ms/step - loss: 3.6992 - mae: 3.6992\n",
            "Epoch 40/100\n",
            "1/1 [==============================] - 0s 21ms/step - loss: 3.8161 - mae: 3.8161\n",
            "Epoch 41/100\n",
            "1/1 [==============================] - 0s 13ms/step - loss: 3.7514 - mae: 3.7514\n",
            "Epoch 42/100\n",
            "1/1 [==============================] - 0s 22ms/step - loss: 3.7528 - mae: 3.7528\n",
            "Epoch 43/100\n",
            "1/1 [==============================] - 0s 16ms/step - loss: 3.7737 - mae: 3.7737\n",
            "Epoch 44/100\n",
            "1/1 [==============================] - 0s 13ms/step - loss: 3.6872 - mae: 3.6872\n",
            "Epoch 45/100\n",
            "1/1 [==============================] - 0s 33ms/step - loss: 3.7967 - mae: 3.7967\n",
            "Epoch 46/100\n",
            "1/1 [==============================] - 0s 41ms/step - loss: 3.6188 - mae: 3.6188\n",
            "Epoch 47/100\n",
            "1/1 [==============================] - 0s 24ms/step - loss: 3.8208 - mae: 3.8208\n",
            "Epoch 48/100\n",
            "1/1 [==============================] - 0s 23ms/step - loss: 3.6212 - mae: 3.6212\n",
            "Epoch 49/100\n",
            "1/1 [==============================] - 0s 15ms/step - loss: 3.7367 - mae: 3.7367\n",
            "Epoch 50/100\n",
            "1/1 [==============================] - 0s 20ms/step - loss: 3.6864 - mae: 3.6864\n",
            "Epoch 51/100\n",
            "1/1 [==============================] - 0s 13ms/step - loss: 3.6678 - mae: 3.6678\n",
            "Epoch 52/100\n",
            "1/1 [==============================] - 0s 18ms/step - loss: 3.7108 - mae: 3.7108\n",
            "Epoch 53/100\n",
            "1/1 [==============================] - 0s 21ms/step - loss: 3.5983 - mae: 3.5983\n",
            "Epoch 54/100\n",
            "1/1 [==============================] - 0s 25ms/step - loss: 3.7363 - mae: 3.7363\n",
            "Epoch 55/100\n",
            "1/1 [==============================] - 0s 20ms/step - loss: 3.5398 - mae: 3.5398\n",
            "Epoch 56/100\n",
            "1/1 [==============================] - 0s 14ms/step - loss: 3.7538 - mae: 3.7538\n",
            "Epoch 57/100\n",
            "1/1 [==============================] - 0s 21ms/step - loss: 3.6066 - mae: 3.6066\n",
            "Epoch 58/100\n",
            "1/1 [==============================] - 0s 17ms/step - loss: 3.6407 - mae: 3.6407\n",
            "Epoch 59/100\n",
            "1/1 [==============================] - 0s 25ms/step - loss: 3.6323 - mae: 3.6323\n",
            "Epoch 60/100\n",
            "1/1 [==============================] - 0s 16ms/step - loss: 3.5650 - mae: 3.5650\n",
            "Epoch 61/100\n",
            "1/1 [==============================] - 0s 15ms/step - loss: 3.6605 - mae: 3.6605\n",
            "Epoch 62/100\n",
            "1/1 [==============================] - 0s 18ms/step - loss: 3.4877 - mae: 3.4877\n",
            "Epoch 63/100\n",
            "1/1 [==============================] - 0s 26ms/step - loss: 3.6909 - mae: 3.6909\n",
            "Epoch 64/100\n",
            "1/1 [==============================] - 0s 22ms/step - loss: 3.4945 - mae: 3.4945\n",
            "Epoch 65/100\n",
            "1/1 [==============================] - 0s 22ms/step - loss: 3.6229 - mae: 3.6229\n",
            "Epoch 66/100\n",
            "1/1 [==============================] - 0s 22ms/step - loss: 3.5659 - mae: 3.5659\n",
            "Epoch 67/100\n",
            "1/1 [==============================] - 0s 20ms/step - loss: 3.5165 - mae: 3.5165\n",
            "Epoch 68/100\n",
            "1/1 [==============================] - 0s 25ms/step - loss: 3.5961 - mae: 3.5961\n",
            "Epoch 69/100\n",
            "1/1 [==============================] - 0s 24ms/step - loss: 3.4336 - mae: 3.4336\n",
            "Epoch 70/100\n",
            "1/1 [==============================] - 0s 26ms/step - loss: 3.6279 - mae: 3.6279\n",
            "Epoch 71/100\n",
            "1/1 [==============================] - 0s 27ms/step - loss: 3.4343 - mae: 3.4343\n",
            "Epoch 72/100\n",
            "1/1 [==============================] - 0s 18ms/step - loss: 3.5624 - mae: 3.5624\n",
            "Epoch 73/100\n",
            "1/1 [==============================] - 0s 22ms/step - loss: 3.4660 - mae: 3.4660\n",
            "Epoch 74/100\n",
            "1/1 [==============================] - 0s 21ms/step - loss: 3.4775 - mae: 3.4775\n",
            "Epoch 75/100\n",
            "1/1 [==============================] - 0s 22ms/step - loss: 3.4984 - mae: 3.4984\n",
            "Epoch 76/100\n",
            "1/1 [==============================] - 0s 15ms/step - loss: 3.3909 - mae: 3.3909\n",
            "Epoch 77/100\n",
            "1/1 [==============================] - 0s 18ms/step - loss: 3.5348 - mae: 3.5348\n",
            "Epoch 78/100\n",
            "1/1 [==============================] - 0s 14ms/step - loss: 3.3465 - mae: 3.3465\n",
            "Epoch 79/100\n",
            "1/1 [==============================] - 0s 33ms/step - loss: 3.5452 - mae: 3.5452\n",
            "Epoch 80/100\n",
            "1/1 [==============================] - 0s 29ms/step - loss: 3.4177 - mae: 3.4177\n",
            "Epoch 81/100\n",
            "1/1 [==============================] - 0s 15ms/step - loss: 3.3947 - mae: 3.3947\n",
            "Epoch 82/100\n",
            "1/1 [==============================] - 0s 15ms/step - loss: 3.4512 - mae: 3.4512\n",
            "Epoch 83/100\n",
            "1/1 [==============================] - 0s 13ms/step - loss: 3.3004 - mae: 3.3004\n",
            "Epoch 84/100\n",
            "1/1 [==============================] - 0s 26ms/step - loss: 3.4876 - mae: 3.4876\n",
            "Epoch 85/100\n",
            "1/1 [==============================] - 0s 18ms/step - loss: 3.2994 - mae: 3.2994\n",
            "Epoch 86/100\n",
            "1/1 [==============================] - 0s 18ms/step - loss: 3.4173 - mae: 3.4173\n",
            "Epoch 87/100\n",
            "1/1 [==============================] - 0s 18ms/step - loss: 3.3360 - mae: 3.3360\n",
            "Epoch 88/100\n",
            "1/1 [==============================] - 0s 14ms/step - loss: 3.3248 - mae: 3.3248\n",
            "Epoch 89/100\n",
            "1/1 [==============================] - 0s 14ms/step - loss: 3.4136 - mae: 3.4136\n",
            "Epoch 90/100\n",
            "1/1 [==============================] - 0s 20ms/step - loss: 3.2300 - mae: 3.2300\n",
            "Epoch 91/100\n",
            "1/1 [==============================] - 0s 14ms/step - loss: 3.4040 - mae: 3.4040\n",
            "Epoch 92/100\n",
            "1/1 [==============================] - 0s 12ms/step - loss: 3.2649 - mae: 3.2649\n",
            "Epoch 93/100\n",
            "1/1 [==============================] - 0s 14ms/step - loss: 3.3049 - mae: 3.3049\n",
            "Epoch 94/100\n",
            "1/1 [==============================] - 0s 20ms/step - loss: 3.3018 - mae: 3.3018\n",
            "Epoch 95/100\n",
            "1/1 [==============================] - 0s 15ms/step - loss: 3.2029 - mae: 3.2029\n",
            "Epoch 96/100\n",
            "1/1 [==============================] - 0s 30ms/step - loss: 3.3416 - mae: 3.3416\n",
            "Epoch 97/100\n",
            "1/1 [==============================] - 0s 17ms/step - loss: 3.1588 - mae: 3.1588\n",
            "Epoch 98/100\n",
            "1/1 [==============================] - 0s 15ms/step - loss: 3.3093 - mae: 3.3093\n",
            "Epoch 99/100\n",
            "1/1 [==============================] - 0s 15ms/step - loss: 3.2387 - mae: 3.2387\n",
            "Epoch 100/100\n",
            "1/1 [==============================] - 0s 19ms/step - loss: 3.1727 - mae: 3.1727\n"
          ]
        },
        {
          "output_type": "execute_result",
          "data": {
            "text/plain": [
              "<keras.callbacks.History at 0x7ad5ea903400>"
            ]
          },
          "metadata": {},
          "execution_count": 17
        }
      ]
    },
    {
      "cell_type": "code",
      "source": [
        "model.predict([17.])"
      ],
      "metadata": {
        "colab": {
          "base_uri": "https://localhost:8080/"
        },
        "id": "XrBO9geZZkDd",
        "outputId": "dc9e17ef-537c-44ca-c611-e93a889b202c"
      },
      "execution_count": 18,
      "outputs": [
        {
          "output_type": "stream",
          "name": "stdout",
          "text": [
            "1/1 [==============================] - 0s 160ms/step\n"
          ]
        },
        {
          "output_type": "execute_result",
          "data": {
            "text/plain": [
              "array([[33.77365]], dtype=float32)"
            ]
          },
          "metadata": {},
          "execution_count": 18
        }
      ]
    },
    {
      "cell_type": "code",
      "source": [
        "# Rebuilding our model\n",
        "\n",
        "# 1. Creating the model\n",
        "model = tf.keras.Sequential([\n",
        "    tf.keras.layers.Dense(50, activation=None),\n",
        "    tf.keras.layers.Dense(1)\n",
        "])\n",
        "\n",
        "# 2. Compiling the model\n",
        "model.compile(loss='mae',\n",
        "              optimizer=tf.keras.optimizers.Adam(learning_rate=0.01),\n",
        "              metrics=['mae'])\n",
        "\n",
        "# 3. Fit the model (this time we'll train for longer)\n",
        "model.fit(tf.expand_dims(X, axis=-1), y, epochs=100)"
      ],
      "metadata": {
        "colab": {
          "base_uri": "https://localhost:8080/"
        },
        "id": "1UKofvlaZq4t",
        "outputId": "326b1ba4-602a-40be-987c-4d058144c195"
      },
      "execution_count": 19,
      "outputs": [
        {
          "output_type": "stream",
          "name": "stdout",
          "text": [
            "Epoch 1/100\n",
            "1/1 [==============================] - 2s 2s/step - loss: 15.4557 - mae: 15.4557\n",
            "Epoch 2/100\n",
            "1/1 [==============================] - 0s 20ms/step - loss: 14.6499 - mae: 14.6499\n",
            "Epoch 3/100\n",
            "1/1 [==============================] - 0s 15ms/step - loss: 14.0176 - mae: 14.0176\n",
            "Epoch 4/100\n",
            "1/1 [==============================] - 0s 12ms/step - loss: 13.3900 - mae: 13.3900\n",
            "Epoch 5/100\n",
            "1/1 [==============================] - 0s 11ms/step - loss: 12.7635 - mae: 12.7635\n",
            "Epoch 6/100\n",
            "1/1 [==============================] - 0s 12ms/step - loss: 12.1363 - mae: 12.1363\n",
            "Epoch 7/100\n",
            "1/1 [==============================] - 0s 12ms/step - loss: 11.5066 - mae: 11.5066\n",
            "Epoch 8/100\n",
            "1/1 [==============================] - 0s 16ms/step - loss: 10.8722 - mae: 10.8722\n",
            "Epoch 9/100\n",
            "1/1 [==============================] - 0s 13ms/step - loss: 10.2311 - mae: 10.2311\n",
            "Epoch 10/100\n",
            "1/1 [==============================] - 0s 13ms/step - loss: 9.5808 - mae: 9.5808\n",
            "Epoch 11/100\n",
            "1/1 [==============================] - 0s 23ms/step - loss: 8.9190 - mae: 8.9190\n",
            "Epoch 12/100\n",
            "1/1 [==============================] - 0s 13ms/step - loss: 8.2429 - mae: 8.2429\n",
            "Epoch 13/100\n",
            "1/1 [==============================] - 0s 12ms/step - loss: 7.5499 - mae: 7.5499\n",
            "Epoch 14/100\n",
            "1/1 [==============================] - 0s 18ms/step - loss: 6.8371 - mae: 6.8371\n",
            "Epoch 15/100\n",
            "1/1 [==============================] - 0s 31ms/step - loss: 6.3803 - mae: 6.3803\n",
            "Epoch 16/100\n",
            "1/1 [==============================] - 0s 23ms/step - loss: 6.5200 - mae: 6.5200\n",
            "Epoch 17/100\n",
            "1/1 [==============================] - 0s 9ms/step - loss: 6.7954 - mae: 6.7954\n",
            "Epoch 18/100\n",
            "1/1 [==============================] - 0s 14ms/step - loss: 7.0670 - mae: 7.0670\n",
            "Epoch 19/100\n",
            "1/1 [==============================] - 0s 13ms/step - loss: 7.2241 - mae: 7.2241\n",
            "Epoch 20/100\n",
            "1/1 [==============================] - 0s 12ms/step - loss: 7.1988 - mae: 7.1988\n",
            "Epoch 21/100\n",
            "1/1 [==============================] - 0s 12ms/step - loss: 7.0304 - mae: 7.0304\n",
            "Epoch 22/100\n",
            "1/1 [==============================] - 0s 20ms/step - loss: 6.7506 - mae: 6.7506\n",
            "Epoch 23/100\n",
            "1/1 [==============================] - 0s 14ms/step - loss: 6.4428 - mae: 6.4428\n",
            "Epoch 24/100\n",
            "1/1 [==============================] - 0s 14ms/step - loss: 6.1972 - mae: 6.1972\n",
            "Epoch 25/100\n",
            "1/1 [==============================] - 0s 13ms/step - loss: 5.9410 - mae: 5.9410\n",
            "Epoch 26/100\n",
            "1/1 [==============================] - 0s 12ms/step - loss: 5.6832 - mae: 5.6832\n",
            "Epoch 27/100\n",
            "1/1 [==============================] - 0s 14ms/step - loss: 5.6402 - mae: 5.6402\n",
            "Epoch 28/100\n",
            "1/1 [==============================] - 0s 13ms/step - loss: 5.5916 - mae: 5.5916\n",
            "Epoch 29/100\n",
            "1/1 [==============================] - 0s 16ms/step - loss: 5.6816 - mae: 5.6816\n",
            "Epoch 30/100\n",
            "1/1 [==============================] - 0s 13ms/step - loss: 5.7056 - mae: 5.7056\n",
            "Epoch 31/100\n",
            "1/1 [==============================] - 0s 16ms/step - loss: 5.6366 - mae: 5.6366\n",
            "Epoch 32/100\n",
            "1/1 [==============================] - 0s 11ms/step - loss: 5.4848 - mae: 5.4848\n",
            "Epoch 33/100\n",
            "1/1 [==============================] - 0s 23ms/step - loss: 5.2575 - mae: 5.2575\n",
            "Epoch 34/100\n",
            "1/1 [==============================] - 0s 12ms/step - loss: 5.0701 - mae: 5.0701\n",
            "Epoch 35/100\n",
            "1/1 [==============================] - 0s 11ms/step - loss: 4.9492 - mae: 4.9492\n",
            "Epoch 36/100\n",
            "1/1 [==============================] - 0s 12ms/step - loss: 4.8414 - mae: 4.8414\n",
            "Epoch 37/100\n",
            "1/1 [==============================] - 0s 12ms/step - loss: 4.8219 - mae: 4.8219\n",
            "Epoch 38/100\n",
            "1/1 [==============================] - 0s 14ms/step - loss: 4.7646 - mae: 4.7646\n",
            "Epoch 39/100\n",
            "1/1 [==============================] - 0s 11ms/step - loss: 4.6720 - mae: 4.6720\n",
            "Epoch 40/100\n",
            "1/1 [==============================] - 0s 12ms/step - loss: 4.5469 - mae: 4.5469\n",
            "Epoch 41/100\n",
            "1/1 [==============================] - 0s 12ms/step - loss: 4.3915 - mae: 4.3915\n",
            "Epoch 42/100\n",
            "1/1 [==============================] - 0s 15ms/step - loss: 4.2083 - mae: 4.2083\n",
            "Epoch 43/100\n",
            "1/1 [==============================] - 0s 15ms/step - loss: 4.0774 - mae: 4.0774\n",
            "Epoch 44/100\n",
            "1/1 [==============================] - 0s 13ms/step - loss: 3.9715 - mae: 3.9715\n",
            "Epoch 45/100\n",
            "1/1 [==============================] - 0s 12ms/step - loss: 3.8564 - mae: 3.8564\n",
            "Epoch 46/100\n",
            "1/1 [==============================] - 0s 26ms/step - loss: 3.7781 - mae: 3.7781\n",
            "Epoch 47/100\n",
            "1/1 [==============================] - 0s 15ms/step - loss: 3.6219 - mae: 3.6219\n",
            "Epoch 48/100\n",
            "1/1 [==============================] - 0s 22ms/step - loss: 3.4222 - mae: 3.4222\n",
            "Epoch 49/100\n",
            "1/1 [==============================] - 0s 16ms/step - loss: 3.2495 - mae: 3.2495\n",
            "Epoch 50/100\n",
            "1/1 [==============================] - 0s 13ms/step - loss: 3.0692 - mae: 3.0692\n",
            "Epoch 51/100\n",
            "1/1 [==============================] - 0s 12ms/step - loss: 2.9402 - mae: 2.9402\n",
            "Epoch 52/100\n",
            "1/1 [==============================] - 0s 10ms/step - loss: 2.7654 - mae: 2.7654\n",
            "Epoch 53/100\n",
            "1/1 [==============================] - 0s 11ms/step - loss: 2.5466 - mae: 2.5466\n",
            "Epoch 54/100\n",
            "1/1 [==============================] - 0s 12ms/step - loss: 2.3726 - mae: 2.3726\n",
            "Epoch 55/100\n",
            "1/1 [==============================] - 0s 12ms/step - loss: 2.1921 - mae: 2.1921\n",
            "Epoch 56/100\n",
            "1/1 [==============================] - 0s 12ms/step - loss: 1.9782 - mae: 1.9782\n",
            "Epoch 57/100\n",
            "1/1 [==============================] - 0s 12ms/step - loss: 1.7561 - mae: 1.7561\n",
            "Epoch 58/100\n",
            "1/1 [==============================] - 0s 13ms/step - loss: 1.5219 - mae: 1.5219\n",
            "Epoch 59/100\n",
            "1/1 [==============================] - 0s 13ms/step - loss: 1.2753 - mae: 1.2753\n",
            "Epoch 60/100\n",
            "1/1 [==============================] - 0s 14ms/step - loss: 1.0791 - mae: 1.0791\n",
            "Epoch 61/100\n",
            "1/1 [==============================] - 0s 14ms/step - loss: 0.8169 - mae: 0.8169\n",
            "Epoch 62/100\n",
            "1/1 [==============================] - 0s 13ms/step - loss: 0.4999 - mae: 0.4999\n",
            "Epoch 63/100\n",
            "1/1 [==============================] - 0s 13ms/step - loss: 0.2827 - mae: 0.2827\n",
            "Epoch 64/100\n",
            "1/1 [==============================] - 0s 16ms/step - loss: 0.0846 - mae: 0.0846\n",
            "Epoch 65/100\n",
            "1/1 [==============================] - 0s 17ms/step - loss: 0.3460 - mae: 0.3460\n",
            "Epoch 66/100\n",
            "1/1 [==============================] - 0s 17ms/step - loss: 0.4787 - mae: 0.4787\n",
            "Epoch 67/100\n",
            "1/1 [==============================] - 0s 17ms/step - loss: 0.6645 - mae: 0.6645\n",
            "Epoch 68/100\n",
            "1/1 [==============================] - 0s 11ms/step - loss: 0.6590 - mae: 0.6590\n",
            "Epoch 69/100\n",
            "1/1 [==============================] - 0s 10ms/step - loss: 0.7309 - mae: 0.7309\n",
            "Epoch 70/100\n",
            "1/1 [==============================] - 0s 10ms/step - loss: 0.7157 - mae: 0.7157\n",
            "Epoch 71/100\n",
            "1/1 [==============================] - 0s 18ms/step - loss: 0.6095 - mae: 0.6095\n",
            "Epoch 72/100\n",
            "1/1 [==============================] - 0s 11ms/step - loss: 0.6329 - mae: 0.6329\n",
            "Epoch 73/100\n",
            "1/1 [==============================] - 0s 11ms/step - loss: 0.5165 - mae: 0.5165\n",
            "Epoch 74/100\n",
            "1/1 [==============================] - 0s 11ms/step - loss: 0.2912 - mae: 0.2912\n",
            "Epoch 75/100\n",
            "1/1 [==============================] - 0s 13ms/step - loss: 0.2317 - mae: 0.2317\n",
            "Epoch 76/100\n",
            "1/1 [==============================] - 0s 16ms/step - loss: 0.0830 - mae: 0.0830\n",
            "Epoch 77/100\n",
            "1/1 [==============================] - 0s 14ms/step - loss: 0.1710 - mae: 0.1710\n",
            "Epoch 78/100\n",
            "1/1 [==============================] - 0s 14ms/step - loss: 0.2407 - mae: 0.2407\n",
            "Epoch 79/100\n",
            "1/1 [==============================] - 0s 13ms/step - loss: 0.2700 - mae: 0.2700\n",
            "Epoch 80/100\n",
            "1/1 [==============================] - 0s 14ms/step - loss: 0.2889 - mae: 0.2889\n",
            "Epoch 81/100\n",
            "1/1 [==============================] - 0s 21ms/step - loss: 0.2327 - mae: 0.2327\n",
            "Epoch 82/100\n",
            "1/1 [==============================] - 0s 14ms/step - loss: 0.1705 - mae: 0.1705\n",
            "Epoch 83/100\n",
            "1/1 [==============================] - 0s 20ms/step - loss: 0.0907 - mae: 0.0907\n",
            "Epoch 84/100\n",
            "1/1 [==============================] - 0s 14ms/step - loss: 0.1011 - mae: 0.1011\n",
            "Epoch 85/100\n",
            "1/1 [==============================] - 0s 14ms/step - loss: 0.1936 - mae: 0.1936\n",
            "Epoch 86/100\n",
            "1/1 [==============================] - 0s 14ms/step - loss: 0.2334 - mae: 0.2334\n",
            "Epoch 87/100\n",
            "1/1 [==============================] - 0s 12ms/step - loss: 0.1872 - mae: 0.1872\n",
            "Epoch 88/100\n",
            "1/1 [==============================] - 0s 14ms/step - loss: 0.1510 - mae: 0.1510\n",
            "Epoch 89/100\n",
            "1/1 [==============================] - 0s 20ms/step - loss: 0.2094 - mae: 0.2094\n",
            "Epoch 90/100\n",
            "1/1 [==============================] - 0s 15ms/step - loss: 0.1960 - mae: 0.1960\n",
            "Epoch 91/100\n",
            "1/1 [==============================] - 0s 17ms/step - loss: 0.1150 - mae: 0.1150\n",
            "Epoch 92/100\n",
            "1/1 [==============================] - 0s 15ms/step - loss: 0.1885 - mae: 0.1885\n",
            "Epoch 93/100\n",
            "1/1 [==============================] - 0s 20ms/step - loss: 0.0923 - mae: 0.0923\n",
            "Epoch 94/100\n",
            "1/1 [==============================] - 0s 20ms/step - loss: 0.1337 - mae: 0.1337\n",
            "Epoch 95/100\n",
            "1/1 [==============================] - 0s 15ms/step - loss: 0.0972 - mae: 0.0972\n",
            "Epoch 96/100\n",
            "1/1 [==============================] - 0s 16ms/step - loss: 0.0211 - mae: 0.0211\n",
            "Epoch 97/100\n",
            "1/1 [==============================] - 0s 13ms/step - loss: 0.2601 - mae: 0.2601\n",
            "Epoch 98/100\n",
            "1/1 [==============================] - 0s 14ms/step - loss: 0.2135 - mae: 0.2135\n",
            "Epoch 99/100\n",
            "1/1 [==============================] - 0s 14ms/step - loss: 0.1351 - mae: 0.1351\n",
            "Epoch 100/100\n",
            "1/1 [==============================] - 0s 16ms/step - loss: 0.1666 - mae: 0.1666\n"
          ]
        },
        {
          "output_type": "execute_result",
          "data": {
            "text/plain": [
              "<keras.callbacks.History at 0x7ad5e3f6e050>"
            ]
          },
          "metadata": {},
          "execution_count": 19
        }
      ]
    },
    {
      "cell_type": "code",
      "source": [
        "model.predict([25.])"
      ],
      "metadata": {
        "colab": {
          "base_uri": "https://localhost:8080/"
        },
        "id": "ymwdU8OhcNhr",
        "outputId": "c9c4236b-5b03-41e3-eebe-786ea8a9012f"
      },
      "execution_count": 20,
      "outputs": [
        {
          "output_type": "stream",
          "name": "stdout",
          "text": [
            "1/1 [==============================] - 0s 291ms/step\n"
          ]
        },
        {
          "output_type": "execute_result",
          "data": {
            "text/plain": [
              "array([[35.3054]], dtype=float32)"
            ]
          },
          "metadata": {},
          "execution_count": 20
        }
      ]
    },
    {
      "cell_type": "markdown",
      "source": [
        "#### RECAP: Common ways to improve a deep model\n",
        "- Adding layers\n",
        "- Increase the number of hideen units\n",
        "- Change the activation functions\n",
        "- Change the optimization function\n",
        "- Change the learning rate (👁️ The most useful hyperparameter to improve our neural network)\n",
        "- Sampling more data (bigger datasets)\n",
        "- Fitting training for longer (epochs)"
      ],
      "metadata": {
        "id": "xFgDf9-feGtW"
      }
    },
    {
      "cell_type": "markdown",
      "source": [
        "### Evaluating a model\n",
        "\n",
        "In practice a typical workflow you'll go through when building neural networks is:\n",
        "\n",
        "```\n",
        "Build model -> fit it -> evaluate it -> tweak model -> fit it -> evaluate it -> tweak model -> fit it -> evaluate it...\n",
        "```"
      ],
      "metadata": {
        "id": "X1HRwypid5_q"
      }
    },
    {
      "cell_type": "markdown",
      "source": [
        "When it comes to evaluation... there are 3 words you should memorize:\n",
        "\n",
        "> \"Visualize, visualize, visualize\"\n",
        "\n",
        "It's a good idea to visualize:\n",
        "* The data - what data are we working with? What does it looks like?\n",
        "* The model itself - what does our model look like?\n",
        "* The training of a model - how does a model perform while it learns?\n",
        "* The predictions of the model - how do the predictions of a model line up against the ground thruth (the original labels)?\n"
      ],
      "metadata": {
        "id": "JRfP-VnlfOmx"
      }
    },
    {
      "cell_type": "code",
      "source": [
        "# Make a bigger data set\n",
        "X = tf.range(-100,100,4)\n",
        "X"
      ],
      "metadata": {
        "colab": {
          "base_uri": "https://localhost:8080/"
        },
        "id": "_paPcFwsbGaJ",
        "outputId": "79dd252a-9761-4944-d6d9-022c211b8aea"
      },
      "execution_count": 21,
      "outputs": [
        {
          "output_type": "execute_result",
          "data": {
            "text/plain": [
              "<tf.Tensor: shape=(50,), dtype=int32, numpy=\n",
              "array([-100,  -96,  -92,  -88,  -84,  -80,  -76,  -72,  -68,  -64,  -60,\n",
              "        -56,  -52,  -48,  -44,  -40,  -36,  -32,  -28,  -24,  -20,  -16,\n",
              "        -12,   -8,   -4,    0,    4,    8,   12,   16,   20,   24,   28,\n",
              "         32,   36,   40,   44,   48,   52,   56,   60,   64,   68,   72,\n",
              "         76,   80,   84,   88,   92,   96], dtype=int32)>"
            ]
          },
          "metadata": {},
          "execution_count": 21
        }
      ]
    },
    {
      "cell_type": "code",
      "source": [
        "# Make labels for the data set\n",
        "y = X + 10\n",
        "y"
      ],
      "metadata": {
        "colab": {
          "base_uri": "https://localhost:8080/"
        },
        "id": "rKvC6AIsbbUa",
        "outputId": "fbef76b2-e854-4f4a-a535-9e3b00c02868"
      },
      "execution_count": 22,
      "outputs": [
        {
          "output_type": "execute_result",
          "data": {
            "text/plain": [
              "<tf.Tensor: shape=(50,), dtype=int32, numpy=\n",
              "array([-90, -86, -82, -78, -74, -70, -66, -62, -58, -54, -50, -46, -42,\n",
              "       -38, -34, -30, -26, -22, -18, -14, -10,  -6,  -2,   2,   6,  10,\n",
              "        14,  18,  22,  26,  30,  34,  38,  42,  46,  50,  54,  58,  62,\n",
              "        66,  70,  74,  78,  82,  86,  90,  94,  98, 102, 106], dtype=int32)>"
            ]
          },
          "metadata": {},
          "execution_count": 22
        }
      ]
    },
    {
      "cell_type": "code",
      "source": [
        "# Visualize the data\n",
        "plt.scatter(X,y)"
      ],
      "metadata": {
        "colab": {
          "base_uri": "https://localhost:8080/",
          "height": 447
        },
        "id": "UKmr3uAqbo7h",
        "outputId": "90fb2281-1efd-4670-fef3-b66e2b0d2064"
      },
      "execution_count": 23,
      "outputs": [
        {
          "output_type": "execute_result",
          "data": {
            "text/plain": [
              "<matplotlib.collections.PathCollection at 0x7ad5d1b83e80>"
            ]
          },
          "metadata": {},
          "execution_count": 23
        },
        {
          "output_type": "display_data",
          "data": {
            "text/plain": [
              "<Figure size 640x480 with 1 Axes>"
            ],
            "image/png": "[encoded data removed]"
          },
          "metadata": {}
        }
      ]
    },
    {
      "cell_type": "markdown",
      "source": [
        "#### The three sets...\n",
        "\n",
        "* Training set - the models learns from this data, which is typlically 70-80% of the data available.\n",
        "* Validation set - the model gets tuned on this data, which is typpically 10-15% of the data.\n",
        "* Test set - the model gets evaluated on this data to test what is has learned, this set is typlically 10-15% of the total of the data.\n",
        "\n",
        "Generalization - The ability for a machine learning model to perform well on data it hasn't seen before."
      ],
      "metadata": {
        "id": "xDKRPzAAb0Gf"
      }
    },
    {
      "cell_type": "code",
      "source": [
        "# Check the length of the samples we have\n",
        "len(X)"
      ],
      "metadata": {
        "colab": {
          "base_uri": "https://localhost:8080/"
        },
        "id": "Ddgi-kZcc_6a",
        "outputId": "ccfda46c-f6d0-4309-89a5-584a36c6d07e"
      },
      "execution_count": 24,
      "outputs": [
        {
          "output_type": "execute_result",
          "data": {
            "text/plain": [
              "50"
            ]
          },
          "metadata": {},
          "execution_count": 24
        }
      ]
    },
    {
      "cell_type": "code",
      "source": [
        "# Split into training and test (this data is too small for validation)\n",
        "X_train = X[:40] # The first 40 are trainig samples (80% of the data)\n",
        "y_train = y[:40]\n",
        "\n",
        "X_test = X[40:] # the last 10 are testing samples (20% of the data)\n",
        "y_test = y[40:]\n",
        "\n",
        "len(X_train), len(X_test)"
      ],
      "metadata": {
        "colab": {
          "base_uri": "https://localhost:8080/"
        },
        "id": "Uf2meznbdrcw",
        "outputId": "176a2ae1-917d-4dac-eb32-52272dadbc08"
      },
      "execution_count": 25,
      "outputs": [
        {
          "output_type": "execute_result",
          "data": {
            "text/plain": [
              "(40, 10)"
            ]
          },
          "metadata": {},
          "execution_count": 25
        }
      ]
    },
    {
      "cell_type": "markdown",
      "source": [
        "#### Visualizing the data\n",
        "\n",
        "Now we've got our data in training and test sets... let's visualize it again"
      ],
      "metadata": {
        "id": "9ZZQO_voeo_H"
      }
    },
    {
      "cell_type": "code",
      "source": [
        "plt.figure(figsize=(10,7))\n",
        "# Plot training data in blue\n",
        "plt.scatter(X_train, y_train, c='#126b75', label='Training Data')\n",
        "# Plot test data in green\n",
        "plt.scatter(X_test, y_test, c='#EE7A01', label='Test data')\n",
        "# Show a legend\n",
        "plt.legend()"
      ],
      "metadata": {
        "colab": {
          "base_uri": "https://localhost:8080/",
          "height": 616
        },
        "id": "v943lMOHgGeu",
        "outputId": "88b42416-13e4-4533-807e-b6d3c1fb05d1"
      },
      "execution_count": 26,
      "outputs": [
        {
          "output_type": "execute_result",
          "data": {
            "text/plain": [
              "<matplotlib.legend.Legend at 0x7ad5c051ad40>"
            ]
          },
          "metadata": {},
          "execution_count": 26
        },
        {
          "output_type": "display_data",
          "data": {
            "text/plain": [
              "<Figure size 1000x700 with 1 Axes>"
            ],
            "image/png": "[encoded data removed]"
          },
          "metadata": {}
        }
      ]
    },
    {
      "cell_type": "code",
      "source": [
        "# Let´s have a look up at how to build a neural network for our data\n",
        "\n",
        "# 1. Create model\n",
        "model = tf.keras.Sequential([\n",
        "    tf.keras.layers.Dense(1)\n",
        "])\n",
        "\n",
        "# 2. Compile the model\n",
        "model.compile(loss=tf.keras.losses.mae,\n",
        "              optimizer=tf.keras.optimizers.SGD(),\n",
        "              metrics=['mae'])\n",
        "\n",
        "# # 3. Fit the model\n",
        "# model.fit(tf.expand_dims(X_train, axis=-1), y_train, epochs=100)"
      ],
      "metadata": {
        "id": "ihv4eEb2goRe"
      },
      "execution_count": 27,
      "outputs": []
    },
    {
      "cell_type": "markdown",
      "source": [
        "#### Visualizing the model"
      ],
      "metadata": {
        "id": "TMi_DqMfi_3d"
      }
    },
    {
      "cell_type": "code",
      "source": [
        "# Let's create a model which builds automatically by defining the imput_shape argument in the first layer\n",
        "tf.random.set_seed(42)\n",
        "\n",
        "# 1. Create a model\n",
        "model = tf.keras.Sequential([\n",
        "    tf.keras.layers.Dense(10, input_shape=[1], name='input_layer'),\n",
        "    tf.keras.layers.Dense(1, name='output_layer')\n",
        "], name=\"model_1\")\n",
        "\n",
        "# Compile the model\n",
        "model.compile(loss=tf.keras.losses.mae,\n",
        "              optimizer=tf.keras.optimizers.SGD(),\n",
        "              metrics=['mae'])"
      ],
      "metadata": {
        "id": "KXKcUeNmjJDL"
      },
      "execution_count": 28,
      "outputs": []
    },
    {
      "cell_type": "code",
      "source": [
        "model.summary()"
      ],
      "metadata": {
        "colab": {
          "base_uri": "https://localhost:8080/"
        },
        "id": "x4lb5SwGlG97",
        "outputId": "56e88ddf-ec9c-4152-a4a4-d266cd5b953c"
      },
      "execution_count": 29,
      "outputs": [
        {
          "output_type": "stream",
          "name": "stdout",
          "text": [
            "Model: \"model_1\"\n",
            "_________________________________________________________________\n",
            " Layer (type)                Output Shape              Param #   \n",
            "=================================================================\n",
            " input_layer (Dense)         (None, 10)                20        \n",
            "                                                                 \n",
            " output_layer (Dense)        (None, 1)                 11        \n",
            "                                                                 \n",
            "=================================================================\n",
            "Total params: 31\n",
            "Trainable params: 31\n",
            "Non-trainable params: 0\n",
            "_________________________________________________________________\n"
          ]
        }
      ]
    },
    {
      "cell_type": "markdown",
      "source": [
        "* Total params - total number of parameters in the model.\n",
        "* Trainable params - these are the patterns the model can update as it trains\n",
        "* Non-trainable - these parameters aren't updated during training (this is typical when you brought parameters from other models during **transfer learning**)\n",
        "\n",
        "👁️ **Resource:** Fore a more in-depth overview check:\n",
        "\n",
        "https://www.youtube.com/watch?v=QDX-1M5Nj7s&list=PLtBw6njQRU-rwp5__7C0oIVt26ZgjG9NI&index=2\n",
        "\n",
        "MIT - Introduction to Deep Learning\n",
        "http://introtodeeplearning.com/\n",
        "\n",
        "⚒️ **Exercise** Try playing around with the number of hidden units in the dense layer, see how that effects the number of parameters (total and trainable) by calling `model.summary()`."
      ],
      "metadata": {
        "id": "aHQ0TB17lJCi"
      }
    },
    {
      "cell_type": "code",
      "source": [
        "# Let`s fit our model to the training data\n",
        "model.fit(tf.expand_dims(X_train, axis=-1), y_train, epochs=100, verbose=0)"
      ],
      "metadata": {
        "colab": {
          "base_uri": "https://localhost:8080/"
        },
        "id": "SDiABT3QmweC",
        "outputId": "52ddac44-fa07-4c6e-a8b5-3b0ba5a4d9f2"
      },
      "execution_count": 30,
      "outputs": [
        {
          "output_type": "execute_result",
          "data": {
            "text/plain": [
              "<keras.callbacks.History at 0x7ad5c05bf520>"
            ]
          },
          "metadata": {},
          "execution_count": 30
        }
      ]
    },
    {
      "cell_type": "code",
      "source": [
        "from tensorflow.keras.utils import plot_model\n",
        "\n",
        "plot_model(model=model, show_shapes=True)"
      ],
      "metadata": {
        "colab": {
          "base_uri": "https://localhost:8080/",
          "height": 312
        },
        "id": "vMbPQISNDEfD",
        "outputId": "9dfbf7ec-d6e7-458d-a3eb-d16d40f4f283"
      },
      "execution_count": 31,
      "outputs": [
        {
          "output_type": "execute_result",
          "data": {
            "image/png": "[encoded data removed]",
            "text/plain": [
              "<IPython.core.display.Image object>"
            ]
          },
          "metadata": {},
          "execution_count": 31
        }
      ]
    },
    {
      "cell_type": "markdown",
      "source": [
        "#### Visualizing our model's predictions\n",
        "\n",
        "To visualize predictions, it's a good idea to plot them against the ground truth labels.\n",
        "\n",
        "Often you'll see this in the form of `y_test` or `y_true` versus `y_pred` (ground truth versus your model`s predictions)."
      ],
      "metadata": {
        "id": "33ca6ZI9ETvK"
      }
    },
    {
      "cell_type": "code",
      "source": [
        "# Make some predictions\n",
        "y_pred = model.predict(X_test)\n",
        "y_pred"
      ],
      "metadata": {
        "colab": {
          "base_uri": "https://localhost:8080/"
        },
        "id": "dmdfFGV7Jfo1",
        "outputId": "a27135ab-00e5-448d-88c4-5d28f7730f4d"
      },
      "execution_count": 32,
      "outputs": [
        {
          "output_type": "stream",
          "name": "stderr",
          "text": [
            "WARNING:tensorflow:5 out of the last 5 calls to <function Model.make_predict_function.<locals>.predict_function at 0x7ad5c0598820> triggered tf.function retracing. Tracing is expensive and the excessive number of tracings could be due to (1) creating @tf.function repeatedly in a loop, (2) passing tensors with different shapes, (3) passing Python objects instead of tensors. For (1), please define your @tf.function outside of the loop. For (2), @tf.function has reduce_retracing=True option that can avoid unnecessary retracing. For (3), please refer to https://www.tensorflow.org/guide/function#controlling_retracing and https://www.tensorflow.org/api_docs/python/tf/function for  more details.\n"
          ]
        },
        {
          "output_type": "stream",
          "name": "stdout",
          "text": [
            "1/1 [==============================] - 0s 53ms/step\n"
          ]
        },
        {
          "output_type": "execute_result",
          "data": {
            "text/plain": [
              "array([[34.945805],\n",
              "       [37.178364],\n",
              "       [39.41092 ],\n",
              "       [41.643482],\n",
              "       [43.87604 ],\n",
              "       [46.108597],\n",
              "       [48.341152],\n",
              "       [50.57371 ],\n",
              "       [52.806267],\n",
              "       [55.03883 ]], dtype=float32)"
            ]
          },
          "metadata": {},
          "execution_count": 32
        }
      ]
    },
    {
      "cell_type": "code",
      "source": [
        "# Remember X_test values\n",
        "y_test"
      ],
      "metadata": {
        "colab": {
          "base_uri": "https://localhost:8080/"
        },
        "id": "Cx71eoQ2KmKc",
        "outputId": "22fad1e6-4846-4a41-bb03-97a18c204d14"
      },
      "execution_count": 33,
      "outputs": [
        {
          "output_type": "execute_result",
          "data": {
            "text/plain": [
              "<tf.Tensor: shape=(10,), dtype=int32, numpy=array([ 70,  74,  78,  82,  86,  90,  94,  98, 102, 106], dtype=int32)>"
            ]
          },
          "metadata": {},
          "execution_count": 33
        }
      ]
    },
    {
      "cell_type": "markdown",
      "source": [
        "👁️ **Note:** If you feel like you`re going to reuse some kind of functionality in the future is a good idea to turn it into a function"
      ],
      "metadata": {
        "id": "lLNt2o7KNCia"
      }
    },
    {
      "cell_type": "code",
      "source": [
        "# Let's create a plotting function\n",
        "def plot_predictions(train_data=X_train,\n",
        "                     train_labels=y_train,\n",
        "                     test_data=X_test,\n",
        "                     test_labels=y_test,\n",
        "                     predictions=y_pred):\n",
        "  \"\"\"\n",
        "  Plots training data, test data and compares predictions to ground truth labels.\n",
        "  \"\"\"\n",
        "  plt.figure(figsize=(10,7))\n",
        "  # Plot training data in one color\n",
        "  plt.scatter(train_data, train_labels, c='#126b75', label='Training Data')\n",
        "  # Plot test data in another color\n",
        "  plt.scatter(test_data, test_labels, c='#EE7A01', label='Test data')\n",
        "  # Plot model's predictions in the other color\n",
        "  plt.scatter(test_data, predictions, c='#94192a', label='Predictions')\n",
        "  # Show a legend\n",
        "  plt.legend();\n",
        "\n",
        "\n"
      ],
      "metadata": {
        "id": "Yy_rM9RaPwwh"
      },
      "execution_count": 34,
      "outputs": []
    },
    {
      "cell_type": "code",
      "source": [
        "plot_predictions(train_data=X_train,\n",
        "                 train_labels=y_train,\n",
        "                 test_data=X_test,\n",
        "                test_labels=y_test,\n",
        "                predictions=y_pred)"
      ],
      "metadata": {
        "colab": {
          "base_uri": "https://localhost:8080/",
          "height": 599
        },
        "id": "GGMw2UTbRd1I",
        "outputId": "0511b096-1896-4400-d876-b24674e4da9d"
      },
      "execution_count": 35,
      "outputs": [
        {
          "output_type": "display_data",
          "data": {
            "text/plain": [
              "<Figure size 1000x700 with 1 Axes>"
            ],
            "image/png": "[encoded data removed]"
          },
          "metadata": {}
        }
      ]
    },
    {
      "cell_type": "markdown",
      "source": [
        "#### Evaluating our model's predictions with regression evaluation metrics\n",
        "\n",
        "Depending on the problem you are working on, there will be different evalutaion metrics to evaluate your model's performance.\n",
        "\n",
        "Working in a Regression, two of the main metrics are:\n",
        "* MAE - mean absolute error, \"on average, how worng is each of my model's predictions\".\n",
        "* MSE - mean square error, \"square the average errors\""
      ],
      "metadata": {
        "id": "3eAE8WlgRjS_"
      }
    },
    {
      "cell_type": "code",
      "source": [
        "# Evaluate the model on the test\n",
        "model.evaluate(X_test, y_test)"
      ],
      "metadata": {
        "id": "4h8p2YdGSi4P",
        "colab": {
          "base_uri": "https://localhost:8080/"
        },
        "outputId": "c256c139-8a91-44c4-ba0d-e4a98a2435af"
      },
      "execution_count": 36,
      "outputs": [
        {
          "output_type": "stream",
          "name": "stdout",
          "text": [
            "1/1 [==============================] - 0s 140ms/step - loss: 43.0077 - mae: 43.0077\n"
          ]
        },
        {
          "output_type": "execute_result",
          "data": {
            "text/plain": [
              "[43.00768280029297, 43.00768280029297]"
            ]
          },
          "metadata": {},
          "execution_count": 36
        }
      ]
    },
    {
      "cell_type": "code",
      "source": [
        "tf.constant(tf.squeeze(y_pred))\n"
      ],
      "metadata": {
        "colab": {
          "base_uri": "https://localhost:8080/"
        },
        "id": "H7D95I1IIz-6",
        "outputId": "23eba0f0-df9c-4dd2-9c4f-8545a2b22107"
      },
      "execution_count": 37,
      "outputs": [
        {
          "output_type": "execute_result",
          "data": {
            "text/plain": [
              "<tf.Tensor: shape=(10,), dtype=float32, numpy=\n",
              "array([34.945805, 37.178364, 39.41092 , 41.643482, 43.87604 , 46.108597,\n",
              "       48.341152, 50.57371 , 52.806267, 55.03883 ], dtype=float32)>"
            ]
          },
          "metadata": {},
          "execution_count": 37
        }
      ]
    },
    {
      "cell_type": "code",
      "source": [
        "y_test"
      ],
      "metadata": {
        "colab": {
          "base_uri": "https://localhost:8080/"
        },
        "id": "TmH6Y1RwK4tC",
        "outputId": "1eea1d0e-144b-4ee0-cc70-d4469973b71b"
      },
      "execution_count": 38,
      "outputs": [
        {
          "output_type": "execute_result",
          "data": {
            "text/plain": [
              "<tf.Tensor: shape=(10,), dtype=int32, numpy=array([ 70,  74,  78,  82,  86,  90,  94,  98, 102, 106], dtype=int32)>"
            ]
          },
          "metadata": {},
          "execution_count": 38
        }
      ]
    },
    {
      "cell_type": "code",
      "source": [
        "# Calculate the mean absolute error\n",
        "mae = tf.metrics.mean_absolute_error(y_true=y_test,\n",
        "                                     y_pred=tf.constant(tf.squeeze(y_pred)))\n",
        "mae\n"
      ],
      "metadata": {
        "colab": {
          "base_uri": "https://localhost:8080/"
        },
        "id": "XeaIjggmI9XK",
        "outputId": "cdae1d2b-16dd-4feb-fb5f-218021b0131a"
      },
      "execution_count": 39,
      "outputs": [
        {
          "output_type": "execute_result",
          "data": {
            "text/plain": [
              "<tf.Tensor: shape=(), dtype=float32, numpy=43.007683>"
            ]
          },
          "metadata": {},
          "execution_count": 39
        }
      ]
    },
    {
      "cell_type": "markdown",
      "source": [
        "👁️ If we are trying to compare Tensors we need to make shapes and dtypes equal to each other:\n",
        "\n",
        "That's why we use:\n",
        "`y_pred=tf.constant(tf.squeeze(y_pred))`"
      ],
      "metadata": {
        "id": "zTnv_UjeJbgp"
      }
    },
    {
      "cell_type": "code",
      "source": [
        "# Calculate the mean square error\n",
        "mse = tf.metrics.mean_squared_error(y_true=y_test,\n",
        "                                   y_pred=tf.constant(tf.squeeze(y_pred)))\n",
        "mse"
      ],
      "metadata": {
        "colab": {
          "base_uri": "https://localhost:8080/"
        },
        "id": "zgZf8bWWK23q",
        "outputId": "fa2cbcd2-c056-4d20-9e8f-daa0c8b78dd4"
      },
      "execution_count": 40,
      "outputs": [
        {
          "output_type": "execute_result",
          "data": {
            "text/plain": [
              "<tf.Tensor: shape=(), dtype=float32, numpy=1875.4326>"
            ]
          },
          "metadata": {},
          "execution_count": 40
        }
      ]
    },
    {
      "cell_type": "code",
      "source": [
        "# Make functions to reuse MAE and MSE\n",
        "def mae(y_true, y_pred):\n",
        "  return tf.metrics.mean_absolute_error(y_true=y_true,\n",
        "                                        y_pred=tf.squeeze(y_pred))\n",
        "\n",
        "def mse(y_true, y_pred):\n",
        "  return tf.metrics.mean_squared_error(y_true=y_true,\n",
        "                                       y_pred=tf.squeeze(y_pred))"
      ],
      "metadata": {
        "id": "3r519uq-MZjn"
      },
      "execution_count": 41,
      "outputs": []
    },
    {
      "cell_type": "code",
      "source": [
        "mse(y_test, y_pred)"
      ],
      "metadata": {
        "colab": {
          "base_uri": "https://localhost:8080/"
        },
        "id": "5hLBry7wNpSH",
        "outputId": "9018e6ae-e010-4d92-ef56-0f07eb9cff90"
      },
      "execution_count": 42,
      "outputs": [
        {
          "output_type": "execute_result",
          "data": {
            "text/plain": [
              "<tf.Tensor: shape=(), dtype=float32, numpy=1875.4326>"
            ]
          },
          "metadata": {},
          "execution_count": 42
        }
      ]
    },
    {
      "cell_type": "markdown",
      "source": [
        "### Runnning experiments to improve our model experiments\n",
        "\n",
        "\n",
        "```\n",
        "Build model -> fit it -> evaluate it -> tweak model -> fit it -> evaluate it -> tweak model -> fit it -> evaluate it...\n",
        "```\n",
        "\n",
        "1. Get more data - get more examples for your model to train on (more opportunities to learn patterns or relationships between features and labels).\n",
        "2. Make your model larger (using a more complex model) - this might come in the form of more layers or more hidden units in each layer.\n",
        "3. Train for longer -  give your model more of a chance to find patterns in the data\n",
        "\n",
        "Let's do three model experiments:\n",
        "\n",
        "1. `model_1` - same as the original model, 1 layer, trained por 100 epochs\n",
        "2. `model_2` - 2 layers, trained for 100 epochs.\n",
        "3. `model_3` - 2 layers, trained for 500 epochs.\n",
        "4.\n",
        "5.\n",
        "\n",
        "**Build** `model_1`\n"
      ],
      "metadata": {
        "id": "nwLUPBwcNuE1"
      }
    },
    {
      "cell_type": "code",
      "source": [
        "# Set random seed\n",
        "tf.random.set_seed(42)\n",
        "\n",
        "# 1. Create the model\n",
        "model_1 = tf.keras.Sequential([\n",
        "    tf.keras.layers.Dense(1)\n",
        "])\n",
        "\n",
        "# 2. Compile the model\n",
        "model_1.compile(loss=tf.keras.losses.mae,\n",
        "              optimizer=tf.keras.optimizers.SGD(),\n",
        "              metrics=['mae'])\n",
        "\n",
        "# 3. Fit the model\n",
        "model_1.fit(tf.expand_dims(X_train, axis=-1), y_train, epochs=100)"
      ],
      "metadata": {
        "colab": {
          "base_uri": "https://localhost:8080/"
        },
        "id": "sDyM609QOQH-",
        "outputId": "bb1e8453-6e92-4bd9-a800-e82a074fbeae"
      },
      "execution_count": 43,
      "outputs": [
        {
          "output_type": "stream",
          "name": "stdout",
          "text": [
            "Epoch 1/100\n",
            "2/2 [==============================] - 0s 12ms/step - loss: 28.6895 - mae: 28.6895\n",
            "Epoch 2/100\n",
            "2/2 [==============================] - 0s 6ms/step - loss: 8.7428 - mae: 8.7428\n",
            "Epoch 3/100\n",
            "2/2 [==============================] - 0s 8ms/step - loss: 11.1084 - mae: 11.1084\n",
            "Epoch 4/100\n",
            "2/2 [==============================] - 0s 6ms/step - loss: 9.5138 - mae: 9.5138\n",
            "Epoch 5/100\n",
            "2/2 [==============================] - 0s 7ms/step - loss: 10.4145 - mae: 10.4145\n",
            "Epoch 6/100\n",
            "2/2 [==============================] - 0s 7ms/step - loss: 9.6480 - mae: 9.6480\n",
            "Epoch 7/100\n",
            "2/2 [==============================] - 0s 7ms/step - loss: 8.7528 - mae: 8.7528\n",
            "Epoch 8/100\n",
            "2/2 [==============================] - 0s 7ms/step - loss: 9.0629 - mae: 9.0629\n",
            "Epoch 9/100\n",
            "2/2 [==============================] - 0s 7ms/step - loss: 19.2018 - mae: 19.2018\n",
            "Epoch 10/100\n",
            "2/2 [==============================] - 0s 11ms/step - loss: 10.3671 - mae: 10.3671\n",
            "Epoch 11/100\n",
            "2/2 [==============================] - 0s 7ms/step - loss: 8.4986 - mae: 8.4986\n",
            "Epoch 12/100\n",
            "2/2 [==============================] - 0s 7ms/step - loss: 10.8670 - mae: 10.8670\n",
            "Epoch 13/100\n",
            "2/2 [==============================] - 0s 7ms/step - loss: 9.9089 - mae: 9.9089\n",
            "Epoch 14/100\n",
            "2/2 [==============================] - 0s 7ms/step - loss: 9.4731 - mae: 9.4731\n",
            "Epoch 15/100\n",
            "2/2 [==============================] - 0s 7ms/step - loss: 13.6681 - mae: 13.6681\n",
            "Epoch 16/100\n",
            "2/2 [==============================] - 0s 7ms/step - loss: 8.9352 - mae: 8.9352\n",
            "Epoch 17/100\n",
            "2/2 [==============================] - 0s 9ms/step - loss: 12.8357 - mae: 12.8357\n",
            "Epoch 18/100\n",
            "2/2 [==============================] - 0s 7ms/step - loss: 10.4639 - mae: 10.4639\n",
            "Epoch 19/100\n",
            "2/2 [==============================] - 0s 7ms/step - loss: 19.2549 - mae: 19.2549\n",
            "Epoch 20/100\n",
            "2/2 [==============================] - 0s 15ms/step - loss: 15.9193 - mae: 15.9193\n",
            "Epoch 21/100\n",
            "2/2 [==============================] - 0s 8ms/step - loss: 11.7466 - mae: 11.7466\n",
            "Epoch 22/100\n",
            "2/2 [==============================] - 0s 7ms/step - loss: 8.9509 - mae: 8.9509\n",
            "Epoch 23/100\n",
            "2/2 [==============================] - 0s 6ms/step - loss: 10.0458 - mae: 10.0458\n",
            "Epoch 24/100\n",
            "2/2 [==============================] - 0s 7ms/step - loss: 15.6468 - mae: 15.6468\n",
            "Epoch 25/100\n",
            "2/2 [==============================] - 0s 6ms/step - loss: 12.1111 - mae: 12.1111\n",
            "Epoch 26/100\n",
            "2/2 [==============================] - 0s 7ms/step - loss: 13.2257 - mae: 13.2257\n",
            "Epoch 27/100\n",
            "2/2 [==============================] - 0s 7ms/step - loss: 10.6874 - mae: 10.6874\n",
            "Epoch 28/100\n",
            "2/2 [==============================] - 0s 7ms/step - loss: 12.9192 - mae: 12.9192\n",
            "Epoch 29/100\n",
            "2/2 [==============================] - 0s 6ms/step - loss: 9.5178 - mae: 9.5178\n",
            "Epoch 30/100\n",
            "2/2 [==============================] - 0s 7ms/step - loss: 16.4615 - mae: 16.4615\n",
            "Epoch 31/100\n",
            "2/2 [==============================] - 0s 7ms/step - loss: 23.5347 - mae: 23.5347\n",
            "Epoch 32/100\n",
            "2/2 [==============================] - 0s 8ms/step - loss: 7.6045 - mae: 7.6045\n",
            "Epoch 33/100\n",
            "2/2 [==============================] - 0s 6ms/step - loss: 9.2992 - mae: 9.2992\n",
            "Epoch 34/100\n",
            "2/2 [==============================] - 0s 7ms/step - loss: 13.6508 - mae: 13.6508\n",
            "Epoch 35/100\n",
            "2/2 [==============================] - 0s 7ms/step - loss: 11.1755 - mae: 11.1755\n",
            "Epoch 36/100\n",
            "2/2 [==============================] - 0s 12ms/step - loss: 13.4162 - mae: 13.4162\n",
            "Epoch 37/100\n",
            "2/2 [==============================] - 0s 7ms/step - loss: 9.4405 - mae: 9.4405\n",
            "Epoch 38/100\n",
            "2/2 [==============================] - 0s 7ms/step - loss: 10.0902 - mae: 10.0902\n",
            "Epoch 39/100\n",
            "2/2 [==============================] - 0s 7ms/step - loss: 8.9679 - mae: 8.9679\n",
            "Epoch 40/100\n",
            "2/2 [==============================] - 0s 7ms/step - loss: 9.5952 - mae: 9.5952\n",
            "Epoch 41/100\n",
            "2/2 [==============================] - 0s 7ms/step - loss: 10.5549 - mae: 10.5549\n",
            "Epoch 42/100\n",
            "2/2 [==============================] - 0s 7ms/step - loss: 10.6070 - mae: 10.6070\n",
            "Epoch 43/100\n",
            "2/2 [==============================] - 0s 7ms/step - loss: 7.2097 - mae: 7.2097\n",
            "Epoch 44/100\n",
            "2/2 [==============================] - 0s 9ms/step - loss: 8.0104 - mae: 8.0104\n",
            "Epoch 45/100\n",
            "2/2 [==============================] - 0s 7ms/step - loss: 9.8098 - mae: 9.8098\n",
            "Epoch 46/100\n",
            "2/2 [==============================] - 0s 7ms/step - loss: 8.8887 - mae: 8.8887\n",
            "Epoch 47/100\n",
            "2/2 [==============================] - 0s 7ms/step - loss: 7.5671 - mae: 7.5671\n",
            "Epoch 48/100\n",
            "2/2 [==============================] - 0s 8ms/step - loss: 8.5438 - mae: 8.5438\n",
            "Epoch 49/100\n",
            "2/2 [==============================] - 0s 7ms/step - loss: 10.0194 - mae: 10.0194\n",
            "Epoch 50/100\n",
            "2/2 [==============================] - 0s 8ms/step - loss: 8.9918 - mae: 8.9918\n",
            "Epoch 51/100\n",
            "2/2 [==============================] - 0s 7ms/step - loss: 10.6940 - mae: 10.6940\n",
            "Epoch 52/100\n",
            "2/2 [==============================] - 0s 7ms/step - loss: 15.2700 - mae: 15.2700\n",
            "Epoch 53/100\n",
            "2/2 [==============================] - 0s 9ms/step - loss: 14.2977 - mae: 14.2977\n",
            "Epoch 54/100\n",
            "2/2 [==============================] - 0s 7ms/step - loss: 21.5626 - mae: 21.5626\n",
            "Epoch 55/100\n",
            "2/2 [==============================] - 0s 7ms/step - loss: 16.0316 - mae: 16.0316\n",
            "Epoch 56/100\n",
            "2/2 [==============================] - 0s 6ms/step - loss: 10.2564 - mae: 10.2564\n",
            "Epoch 57/100\n",
            "2/2 [==============================] - 0s 7ms/step - loss: 9.7858 - mae: 9.7858\n",
            "Epoch 58/100\n",
            "2/2 [==============================] - 0s 7ms/step - loss: 9.0690 - mae: 9.0690\n",
            "Epoch 59/100\n",
            "2/2 [==============================] - 0s 6ms/step - loss: 8.2736 - mae: 8.2736\n",
            "Epoch 60/100\n",
            "2/2 [==============================] - 0s 7ms/step - loss: 9.3671 - mae: 9.3671\n",
            "Epoch 61/100\n",
            "2/2 [==============================] - 0s 7ms/step - loss: 11.1902 - mae: 11.1902\n",
            "Epoch 62/100\n",
            "2/2 [==============================] - 0s 7ms/step - loss: 12.0437 - mae: 12.0437\n",
            "Epoch 63/100\n",
            "2/2 [==============================] - 0s 7ms/step - loss: 7.2703 - mae: 7.2703\n",
            "Epoch 64/100\n",
            "2/2 [==============================] - 0s 8ms/step - loss: 12.4542 - mae: 12.4542\n",
            "Epoch 65/100\n",
            "2/2 [==============================] - 0s 7ms/step - loss: 10.5260 - mae: 10.5260\n",
            "Epoch 66/100\n",
            "2/2 [==============================] - 0s 9ms/step - loss: 15.5763 - mae: 15.5763\n",
            "Epoch 67/100\n",
            "2/2 [==============================] - 0s 6ms/step - loss: 9.9866 - mae: 9.9866\n",
            "Epoch 68/100\n",
            "2/2 [==============================] - 0s 7ms/step - loss: 8.7103 - mae: 8.7103\n",
            "Epoch 69/100\n",
            "2/2 [==============================] - 0s 6ms/step - loss: 13.4524 - mae: 13.4524\n",
            "Epoch 70/100\n",
            "2/2 [==============================] - 0s 7ms/step - loss: 7.4674 - mae: 7.4674\n",
            "Epoch 71/100\n",
            "2/2 [==============================] - 0s 7ms/step - loss: 12.2529 - mae: 12.2529\n",
            "Epoch 72/100\n",
            "2/2 [==============================] - 0s 8ms/step - loss: 8.5129 - mae: 8.5129\n",
            "Epoch 73/100\n",
            "2/2 [==============================] - 0s 6ms/step - loss: 7.0353 - mae: 7.0353\n",
            "Epoch 74/100\n",
            "2/2 [==============================] - 0s 8ms/step - loss: 9.8961 - mae: 9.8961\n",
            "Epoch 75/100\n",
            "2/2 [==============================] - 0s 8ms/step - loss: 9.9545 - mae: 9.9545\n",
            "Epoch 76/100\n",
            "2/2 [==============================] - 0s 7ms/step - loss: 10.1161 - mae: 10.1161\n",
            "Epoch 77/100\n",
            "2/2 [==============================] - 0s 7ms/step - loss: 12.9843 - mae: 12.9843\n",
            "Epoch 78/100\n",
            "2/2 [==============================] - 0s 7ms/step - loss: 10.8949 - mae: 10.8949\n",
            "Epoch 79/100\n",
            "2/2 [==============================] - 0s 6ms/step - loss: 15.3794 - mae: 15.3794\n",
            "Epoch 80/100\n",
            "2/2 [==============================] - 0s 7ms/step - loss: 11.7245 - mae: 11.7245\n",
            "Epoch 81/100\n",
            "2/2 [==============================] - 0s 7ms/step - loss: 9.2516 - mae: 9.2516\n",
            "Epoch 82/100\n",
            "2/2 [==============================] - 0s 12ms/step - loss: 12.7259 - mae: 12.7259\n",
            "Epoch 83/100\n",
            "2/2 [==============================] - 0s 7ms/step - loss: 8.2786 - mae: 8.2786\n",
            "Epoch 84/100\n",
            "2/2 [==============================] - 0s 7ms/step - loss: 7.3042 - mae: 7.3042\n",
            "Epoch 85/100\n",
            "2/2 [==============================] - 0s 8ms/step - loss: 10.4685 - mae: 10.4685\n",
            "Epoch 86/100\n",
            "2/2 [==============================] - 0s 8ms/step - loss: 9.1394 - mae: 9.1394\n",
            "Epoch 87/100\n",
            "2/2 [==============================] - 0s 7ms/step - loss: 11.8538 - mae: 11.8538\n",
            "Epoch 88/100\n",
            "2/2 [==============================] - 0s 8ms/step - loss: 10.4621 - mae: 10.4621\n",
            "Epoch 89/100\n",
            "2/2 [==============================] - 0s 7ms/step - loss: 6.9669 - mae: 6.9669\n",
            "Epoch 90/100\n",
            "2/2 [==============================] - 0s 7ms/step - loss: 13.7880 - mae: 13.7880\n",
            "Epoch 91/100\n",
            "2/2 [==============================] - 0s 7ms/step - loss: 7.8655 - mae: 7.8655\n",
            "Epoch 92/100\n",
            "2/2 [==============================] - 0s 7ms/step - loss: 7.9110 - mae: 7.9110\n",
            "Epoch 93/100\n",
            "2/2 [==============================] - 0s 8ms/step - loss: 9.4035 - mae: 9.4035\n",
            "Epoch 94/100\n",
            "2/2 [==============================] - 0s 7ms/step - loss: 8.7257 - mae: 8.7257\n",
            "Epoch 95/100\n",
            "2/2 [==============================] - 0s 7ms/step - loss: 9.8403 - mae: 9.8403\n",
            "Epoch 96/100\n",
            "2/2 [==============================] - 0s 8ms/step - loss: 7.3421 - mae: 7.3421\n",
            "Epoch 97/100\n",
            "2/2 [==============================] - 0s 8ms/step - loss: 6.8525 - mae: 6.8525\n",
            "Epoch 98/100\n",
            "2/2 [==============================] - 0s 8ms/step - loss: 7.2484 - mae: 7.2484\n",
            "Epoch 99/100\n",
            "2/2 [==============================] - 0s 7ms/step - loss: 7.3979 - mae: 7.3979\n",
            "Epoch 100/100\n",
            "2/2 [==============================] - 0s 7ms/step - loss: 11.1108 - mae: 11.1108\n"
          ]
        },
        {
          "output_type": "execute_result",
          "data": {
            "text/plain": [
              "<keras.callbacks.History at 0x7ad5c0334d60>"
            ]
          },
          "metadata": {},
          "execution_count": 43
        }
      ]
    },
    {
      "cell_type": "code",
      "source": [
        "# Make and plot predictions to model_1\n",
        "y_preds_1 = model_1.predict(X_test)\n",
        "plot_predictions(predictions=y_preds_1)"
      ],
      "metadata": {
        "colab": {
          "base_uri": "https://localhost:8080/",
          "height": 654
        },
        "id": "t9wU0dEldRn8",
        "outputId": "70714dc2-22a0-4aa6-8201-dfb651bc5598"
      },
      "execution_count": 44,
      "outputs": [
        {
          "output_type": "stream",
          "name": "stderr",
          "text": [
            "WARNING:tensorflow:6 out of the last 6 calls to <function Model.make_predict_function.<locals>.predict_function at 0x7ad5c0375e10> triggered tf.function retracing. Tracing is expensive and the excessive number of tracings could be due to (1) creating @tf.function repeatedly in a loop, (2) passing tensors with different shapes, (3) passing Python objects instead of tensors. For (1), please define your @tf.function outside of the loop. For (2), @tf.function has reduce_retracing=True option that can avoid unnecessary retracing. For (3), please refer to https://www.tensorflow.org/guide/function#controlling_retracing and https://www.tensorflow.org/api_docs/python/tf/function for  more details.\n"
          ]
        },
        {
          "output_type": "stream",
          "name": "stdout",
          "text": [
            "1/1 [==============================] - 0s 46ms/step\n"
          ]
        },
        {
          "output_type": "display_data",
          "data": {
            "text/plain": [
              "<Figure size 1000x700 with 1 Axes>"
            ],
            "image/png": "[encoded data removed]"
          },
          "metadata": {}
        }
      ]
    },
    {
      "cell_type": "code",
      "source": [
        "# Calculate model_1 evaluation metrics\n",
        "mae_1 = mae(y_test, y_preds_1)\n",
        "mse_1 = mse(y_test, y_preds_1)\n",
        "mae_1, mse_1"
      ],
      "metadata": {
        "colab": {
          "base_uri": "https://localhost:8080/"
        },
        "id": "CB4GlEQxhROX",
        "outputId": "97dae0be-4a36-4881-b953-2283c5be8240"
      },
      "execution_count": 45,
      "outputs": [
        {
          "output_type": "execute_result",
          "data": {
            "text/plain": [
              "(<tf.Tensor: shape=(), dtype=float32, numpy=21.28955>,\n",
              " <tf.Tensor: shape=(), dtype=float32, numpy=456.69327>)"
            ]
          },
          "metadata": {},
          "execution_count": 45
        }
      ]
    },
    {
      "cell_type": "markdown",
      "source": [
        "**Build** `model_2`"
      ],
      "metadata": {
        "id": "TreW3W3wkvsV"
      }
    },
    {
      "cell_type": "code",
      "source": [
        "# Set the random seed\n",
        "tf.random.set_seed(42)\n",
        "\n",
        "# 1. Create a model\n",
        "model_2 = tf.keras.Sequential([\n",
        "    tf.keras.layers.Dense(10),\n",
        "    tf.keras.layers.Dense(1)\n",
        "])\n",
        "\n",
        "# 2. Compile the model\n",
        "model_2.compile(loss=tf.keras.losses.mae,\n",
        "                optimizer=tf.keras.optimizers.SGD(),\n",
        "                metrics='mse')\n",
        "\n",
        "# 3. Fit the model\n",
        "model_2.fit(tf.expand_dims(X_train, axis=-1), y_train, epochs=100)"
      ],
      "metadata": {
        "colab": {
          "base_uri": "https://localhost:8080/"
        },
        "id": "wnle-n8PmBgN",
        "outputId": "44e39237-4025-434a-e61e-481334d60269"
      },
      "execution_count": 46,
      "outputs": [
        {
          "output_type": "stream",
          "name": "stdout",
          "text": [
            "Epoch 1/100\n",
            "2/2 [==============================] - 1s 13ms/step - loss: 52.7357 - mse: 4370.7827\n",
            "Epoch 2/100\n",
            "2/2 [==============================] - 0s 8ms/step - loss: 21.7941 - mse: 747.8348\n",
            "Epoch 3/100\n",
            "2/2 [==============================] - 0s 8ms/step - loss: 19.3994 - mse: 549.9279\n",
            "Epoch 4/100\n",
            "2/2 [==============================] - 0s 7ms/step - loss: 14.0456 - mse: 258.4109\n",
            "Epoch 5/100\n",
            "2/2 [==============================] - 0s 7ms/step - loss: 15.6382 - mse: 316.4864\n",
            "Epoch 6/100\n",
            "2/2 [==============================] - 0s 9ms/step - loss: 12.4080 - mse: 195.8100\n",
            "Epoch 7/100\n",
            "2/2 [==============================] - 0s 14ms/step - loss: 11.6913 - mse: 167.9496\n",
            "Epoch 8/100\n",
            "2/2 [==============================] - 0s 7ms/step - loss: 12.0937 - mse: 199.9453\n",
            "Epoch 9/100\n",
            "2/2 [==============================] - 0s 9ms/step - loss: 37.8918 - mse: 2214.9788\n",
            "Epoch 10/100\n",
            "2/2 [==============================] - 0s 7ms/step - loss: 25.4970 - mse: 912.5709\n",
            "Epoch 11/100\n",
            "2/2 [==============================] - 0s 7ms/step - loss: 10.2544 - mse: 147.8994\n",
            "Epoch 12/100\n",
            "2/2 [==============================] - 0s 7ms/step - loss: 25.3420 - mse: 894.7781\n",
            "Epoch 13/100\n",
            "2/2 [==============================] - 0s 10ms/step - loss: 16.9773 - mse: 399.1854\n",
            "Epoch 14/100\n",
            "2/2 [==============================] - 0s 10ms/step - loss: 25.8976 - mse: 1047.3385\n",
            "Epoch 15/100\n",
            "2/2 [==============================] - 0s 8ms/step - loss: 17.9748 - mse: 449.2704\n",
            "Epoch 16/100\n",
            "2/2 [==============================] - 0s 7ms/step - loss: 7.3499 - mse: 80.7386\n",
            "Epoch 17/100\n",
            "2/2 [==============================] - 0s 9ms/step - loss: 10.8700 - mse: 174.8876\n",
            "Epoch 18/100\n",
            "2/2 [==============================] - 0s 7ms/step - loss: 19.5401 - mse: 566.3992\n",
            "Epoch 19/100\n",
            "2/2 [==============================] - 0s 8ms/step - loss: 10.3510 - mse: 167.6729\n",
            "Epoch 20/100\n",
            "2/2 [==============================] - 0s 8ms/step - loss: 17.7069 - mse: 456.3129\n",
            "Epoch 21/100\n",
            "2/2 [==============================] - 0s 8ms/step - loss: 15.9080 - mse: 347.6529\n",
            "Epoch 22/100\n",
            "2/2 [==============================] - 0s 8ms/step - loss: 14.2132 - mse: 285.6365\n",
            "Epoch 23/100\n",
            "2/2 [==============================] - 0s 7ms/step - loss: 8.7639 - mse: 91.8857\n",
            "Epoch 24/100\n",
            "2/2 [==============================] - 0s 13ms/step - loss: 11.0478 - mse: 153.7732\n",
            "Epoch 25/100\n",
            "2/2 [==============================] - 0s 8ms/step - loss: 12.6706 - mse: 232.4028\n",
            "Epoch 26/100\n",
            "2/2 [==============================] - 0s 8ms/step - loss: 26.1464 - mse: 1020.9994\n",
            "Epoch 27/100\n",
            "2/2 [==============================] - 0s 8ms/step - loss: 11.7355 - mse: 194.0038\n",
            "Epoch 28/100\n",
            "2/2 [==============================] - 0s 9ms/step - loss: 30.7360 - mse: 1545.0262\n",
            "Epoch 29/100\n",
            "2/2 [==============================] - 0s 8ms/step - loss: 9.2826 - mse: 92.4215\n",
            "Epoch 30/100\n",
            "2/2 [==============================] - 0s 8ms/step - loss: 31.1378 - mse: 1793.4314\n",
            "Epoch 31/100\n",
            "2/2 [==============================] - 0s 7ms/step - loss: 42.6516 - mse: 3188.0679\n",
            "Epoch 32/100\n",
            "2/2 [==============================] - 0s 7ms/step - loss: 12.4478 - mse: 227.7433\n",
            "Epoch 33/100\n",
            "2/2 [==============================] - 0s 8ms/step - loss: 12.2325 - mse: 185.2373\n",
            "Epoch 34/100\n",
            "2/2 [==============================] - 0s 8ms/step - loss: 24.1276 - mse: 883.0101\n",
            "Epoch 35/100\n",
            "2/2 [==============================] - 0s 7ms/step - loss: 12.0006 - mse: 209.0800\n",
            "Epoch 36/100\n",
            "2/2 [==============================] - 0s 12ms/step - loss: 22.3280 - mse: 708.0341\n",
            "Epoch 37/100\n",
            "2/2 [==============================] - 0s 7ms/step - loss: 17.1894 - mse: 419.1039\n",
            "Epoch 38/100\n",
            "2/2 [==============================] - 0s 7ms/step - loss: 10.6004 - mse: 128.0848\n",
            "Epoch 39/100\n",
            "2/2 [==============================] - 0s 8ms/step - loss: 11.1163 - mse: 157.2079\n",
            "Epoch 40/100\n",
            "2/2 [==============================] - 0s 8ms/step - loss: 17.7521 - mse: 456.9208\n",
            "Epoch 41/100\n",
            "2/2 [==============================] - 0s 8ms/step - loss: 10.3045 - mse: 184.4738\n",
            "Epoch 42/100\n",
            "2/2 [==============================] - 0s 8ms/step - loss: 7.2903 - mse: 76.9546\n",
            "Epoch 43/100\n",
            "2/2 [==============================] - 0s 8ms/step - loss: 18.4245 - mse: 505.5369\n",
            "Epoch 44/100\n",
            "2/2 [==============================] - 0s 14ms/step - loss: 21.9554 - mse: 750.7659\n",
            "Epoch 45/100\n",
            "2/2 [==============================] - 0s 9ms/step - loss: 10.0953 - mse: 127.8664\n",
            "Epoch 46/100\n",
            "2/2 [==============================] - 0s 7ms/step - loss: 11.3378 - mse: 157.9918\n",
            "Epoch 47/100\n",
            "2/2 [==============================] - 0s 8ms/step - loss: 9.8457 - mse: 152.9637\n",
            "Epoch 48/100\n",
            "2/2 [==============================] - 0s 7ms/step - loss: 17.6622 - mse: 424.2415\n",
            "Epoch 49/100\n",
            "2/2 [==============================] - 0s 8ms/step - loss: 9.3064 - mse: 95.2700\n",
            "Epoch 50/100\n",
            "2/2 [==============================] - 0s 8ms/step - loss: 13.3266 - mse: 233.2961\n",
            "Epoch 51/100\n",
            "2/2 [==============================] - 0s 8ms/step - loss: 11.4189 - mse: 148.1255\n",
            "Epoch 52/100\n",
            "2/2 [==============================] - 0s 8ms/step - loss: 29.1061 - mse: 1460.9017\n",
            "Epoch 53/100\n",
            "2/2 [==============================] - 0s 7ms/step - loss: 14.3808 - mse: 303.7451\n",
            "Epoch 54/100\n",
            "2/2 [==============================] - 0s 7ms/step - loss: 24.0030 - mse: 862.1678\n",
            "Epoch 55/100\n",
            "2/2 [==============================] - 0s 7ms/step - loss: 23.2325 - mse: 808.4431\n",
            "Epoch 56/100\n",
            "2/2 [==============================] - 0s 7ms/step - loss: 10.9149 - mse: 171.4349\n",
            "Epoch 57/100\n",
            "2/2 [==============================] - 0s 9ms/step - loss: 12.7750 - mse: 199.5212\n",
            "Epoch 58/100\n",
            "2/2 [==============================] - 0s 7ms/step - loss: 9.6223 - mse: 103.0030\n",
            "Epoch 59/100\n",
            "2/2 [==============================] - 0s 6ms/step - loss: 12.5367 - mse: 216.7159\n",
            "Epoch 60/100\n",
            "2/2 [==============================] - 0s 12ms/step - loss: 12.3357 - mse: 208.8202\n",
            "Epoch 61/100\n",
            "2/2 [==============================] - 0s 8ms/step - loss: 12.7040 - mse: 211.7449\n",
            "Epoch 62/100\n",
            "2/2 [==============================] - 0s 7ms/step - loss: 21.1165 - mse: 679.9901\n",
            "Epoch 63/100\n",
            "2/2 [==============================] - 0s 10ms/step - loss: 8.9329 - mse: 88.7995\n",
            "Epoch 64/100\n",
            "2/2 [==============================] - 0s 8ms/step - loss: 17.1432 - mse: 425.0199\n",
            "Epoch 65/100\n",
            "2/2 [==============================] - 0s 9ms/step - loss: 10.3724 - mse: 125.0651\n",
            "Epoch 66/100\n",
            "2/2 [==============================] - 0s 8ms/step - loss: 20.4977 - mse: 615.1440\n",
            "Epoch 67/100\n",
            "2/2 [==============================] - 0s 8ms/step - loss: 10.3178 - mse: 122.4765\n",
            "Epoch 68/100\n",
            "2/2 [==============================] - 0s 7ms/step - loss: 13.5580 - mse: 273.1326\n",
            "Epoch 69/100\n",
            "2/2 [==============================] - 0s 8ms/step - loss: 11.4929 - mse: 166.0909\n",
            "Epoch 70/100\n",
            "2/2 [==============================] - 0s 8ms/step - loss: 14.1017 - mse: 270.6558\n",
            "Epoch 71/100\n",
            "2/2 [==============================] - 0s 8ms/step - loss: 15.6447 - mse: 347.6857\n",
            "Epoch 72/100\n",
            "2/2 [==============================] - 0s 7ms/step - loss: 11.8679 - mse: 168.8047\n",
            "Epoch 73/100\n",
            "2/2 [==============================] - 0s 7ms/step - loss: 16.6397 - mse: 372.9911\n",
            "Epoch 74/100\n",
            "2/2 [==============================] - 0s 10ms/step - loss: 24.1493 - mse: 917.8864\n",
            "Epoch 75/100\n",
            "2/2 [==============================] - 0s 8ms/step - loss: 9.6409 - mse: 149.4689\n",
            "Epoch 76/100\n",
            "2/2 [==============================] - 0s 7ms/step - loss: 12.4916 - mse: 189.9438\n",
            "Epoch 77/100\n",
            "2/2 [==============================] - 0s 7ms/step - loss: 16.7124 - mse: 432.8514\n",
            "Epoch 78/100\n",
            "2/2 [==============================] - 0s 7ms/step - loss: 9.0939 - mse: 96.4674\n",
            "Epoch 79/100\n",
            "2/2 [==============================] - 0s 9ms/step - loss: 24.0219 - mse: 868.7082\n",
            "Epoch 80/100\n",
            "2/2 [==============================] - 0s 9ms/step - loss: 26.8129 - mse: 1110.5028\n",
            "Epoch 81/100\n",
            "2/2 [==============================] - 0s 7ms/step - loss: 11.7240 - mse: 172.4074\n",
            "Epoch 82/100\n",
            "2/2 [==============================] - 0s 7ms/step - loss: 12.0182 - mse: 212.0265\n",
            "Epoch 83/100\n",
            "2/2 [==============================] - 0s 8ms/step - loss: 17.4174 - mse: 395.1925\n",
            "Epoch 84/100\n",
            "2/2 [==============================] - 0s 8ms/step - loss: 7.2832 - mse: 73.5136\n",
            "Epoch 85/100\n",
            "2/2 [==============================] - 0s 8ms/step - loss: 14.9702 - mse: 312.9691\n",
            "Epoch 86/100\n",
            "2/2 [==============================] - 0s 8ms/step - loss: 15.2937 - mse: 315.6960\n",
            "Epoch 87/100\n",
            "2/2 [==============================] - 0s 8ms/step - loss: 19.1149 - mse: 521.5009\n",
            "Epoch 88/100\n",
            "2/2 [==============================] - 0s 8ms/step - loss: 29.8152 - mse: 1286.4830\n",
            "Epoch 89/100\n",
            "2/2 [==============================] - 0s 8ms/step - loss: 10.1953 - mse: 124.5673\n",
            "Epoch 90/100\n",
            "2/2 [==============================] - 0s 8ms/step - loss: 21.5058 - mse: 662.7991\n",
            "Epoch 91/100\n",
            "2/2 [==============================] - 0s 8ms/step - loss: 10.5872 - mse: 162.3154\n",
            "Epoch 92/100\n",
            "2/2 [==============================] - 0s 7ms/step - loss: 18.3735 - mse: 462.7765\n",
            "Epoch 93/100\n",
            "2/2 [==============================] - 0s 7ms/step - loss: 7.4304 - mse: 82.6176\n",
            "Epoch 94/100\n",
            "2/2 [==============================] - 0s 7ms/step - loss: 17.7072 - mse: 444.0976\n",
            "Epoch 95/100\n",
            "2/2 [==============================] - 0s 8ms/step - loss: 11.1180 - mse: 163.4499\n",
            "Epoch 96/100\n",
            "2/2 [==============================] - 0s 7ms/step - loss: 19.3991 - mse: 508.6449\n",
            "Epoch 97/100\n",
            "2/2 [==============================] - 0s 8ms/step - loss: 12.1533 - mse: 208.7782\n",
            "Epoch 98/100\n",
            "2/2 [==============================] - 0s 7ms/step - loss: 11.5607 - mse: 168.7816\n",
            "Epoch 99/100\n",
            "2/2 [==============================] - 0s 8ms/step - loss: 13.8543 - mse: 263.8582\n",
            "Epoch 100/100\n",
            "2/2 [==============================] - 0s 7ms/step - loss: 20.1528 - mse: 604.0827\n"
          ]
        },
        {
          "output_type": "execute_result",
          "data": {
            "text/plain": [
              "<keras.callbacks.History at 0x7ad5c02d2050>"
            ]
          },
          "metadata": {},
          "execution_count": 46
        }
      ]
    },
    {
      "cell_type": "code",
      "source": [
        "# Make predictions and plotting into a scatter plot using previous function\n",
        "y_preds_2 = model_2.predict(X_test)\n",
        "plot_predictions(predictions=y_preds_2)"
      ],
      "metadata": {
        "colab": {
          "base_uri": "https://localhost:8080/",
          "height": 616
        },
        "id": "UkISZ0lMnSXj",
        "outputId": "734e1602-1fc4-4a26-b839-e49c0b3616e8"
      },
      "execution_count": 47,
      "outputs": [
        {
          "output_type": "stream",
          "name": "stdout",
          "text": [
            "1/1 [==============================] - 0s 44ms/step\n"
          ]
        },
        {
          "output_type": "display_data",
          "data": {
            "text/plain": [
              "<Figure size 1000x700 with 1 Axes>"
            ],
            "image/png": "[encoded data removed]"
          },
          "metadata": {}
        }
      ]
    },
    {
      "cell_type": "code",
      "source": [
        "mae_2 = mae(y_test, y_preds_2)\n",
        "mse_2 = mse(y_test, y_preds_2)\n",
        "mae_2, mse_2"
      ],
      "metadata": {
        "colab": {
          "base_uri": "https://localhost:8080/"
        },
        "id": "gVKwVsAan2Jz",
        "outputId": "aefbb46b-8872-4d91-8712-213a0de19f7a"
      },
      "execution_count": 48,
      "outputs": [
        {
          "output_type": "execute_result",
          "data": {
            "text/plain": [
              "(<tf.Tensor: shape=(), dtype=float32, numpy=2.9372802>,\n",
              " <tf.Tensor: shape=(), dtype=float32, numpy=11.365967>)"
            ]
          },
          "metadata": {},
          "execution_count": 48
        }
      ]
    },
    {
      "cell_type": "markdown",
      "source": [
        "**Build** `model_3`"
      ],
      "metadata": {
        "id": "HmCmJnYmoJly"
      }
    },
    {
      "cell_type": "code",
      "source": [
        "# Set the random seed\n",
        "tf.random.set_seed(42)\n",
        "\n",
        "# 1. Create the model\n",
        "model_3  = tf.keras.Sequential([\n",
        "    tf.keras.layers.Dense(100, activation='relu'),\n",
        "    tf.keras.layers.Dense(1)\n",
        "])\n",
        "\n",
        "# 2. Compile the model\n",
        "model_3.compile(loss=tf.keras.losses.mae,\n",
        "                optimizer=tf.keras.optimizers.Adam(learning_rate=0.01),\n",
        "                metrics='mse')\n",
        "\n",
        "# 3. Fit the model\n",
        "model_3.fit(tf.expand_dims(X_train, axis=-1), y_train, epochs=100)"
      ],
      "metadata": {
        "colab": {
          "base_uri": "https://localhost:8080/"
        },
        "id": "hI7AjukNp28j",
        "outputId": "06612171-788a-48bc-e363-2c9eba856e1b"
      },
      "execution_count": 49,
      "outputs": [
        {
          "output_type": "stream",
          "name": "stdout",
          "text": [
            "Epoch 1/100\n",
            "2/2 [==============================] - 1s 13ms/step - loss: 39.5024 - mse: 2173.4941\n",
            "Epoch 2/100\n",
            "2/2 [==============================] - 0s 7ms/step - loss: 27.9525 - mse: 1086.4563\n",
            "Epoch 3/100\n",
            "2/2 [==============================] - 0s 7ms/step - loss: 17.1607 - mse: 390.8661\n",
            "Epoch 4/100\n",
            "2/2 [==============================] - 0s 7ms/step - loss: 7.9363 - mse: 81.0623\n",
            "Epoch 5/100\n",
            "2/2 [==============================] - 0s 7ms/step - loss: 10.0443 - mse: 116.1958\n",
            "Epoch 6/100\n",
            "2/2 [==============================] - 0s 7ms/step - loss: 11.3195 - mse: 158.2129\n",
            "Epoch 7/100\n",
            "2/2 [==============================] - 0s 7ms/step - loss: 10.6309 - mse: 130.4688\n",
            "Epoch 8/100\n",
            "2/2 [==============================] - 0s 7ms/step - loss: 7.5313 - mse: 85.5453\n",
            "Epoch 9/100\n",
            "2/2 [==============================] - 0s 7ms/step - loss: 6.7345 - mse: 74.8486\n",
            "Epoch 10/100\n",
            "2/2 [==============================] - 0s 7ms/step - loss: 6.5312 - mse: 61.5452\n",
            "Epoch 11/100\n",
            "2/2 [==============================] - 0s 8ms/step - loss: 5.5338 - mse: 41.3151\n",
            "Epoch 12/100\n",
            "2/2 [==============================] - 0s 7ms/step - loss: 4.2263 - mse: 24.7178\n",
            "Epoch 13/100\n",
            "2/2 [==============================] - 0s 7ms/step - loss: 4.6644 - mse: 29.3890\n",
            "Epoch 14/100\n",
            "2/2 [==============================] - 0s 7ms/step - loss: 5.0346 - mse: 32.9794\n",
            "Epoch 15/100\n",
            "2/2 [==============================] - 0s 7ms/step - loss: 4.7058 - mse: 28.6926\n",
            "Epoch 16/100\n",
            "2/2 [==============================] - 0s 16ms/step - loss: 4.4693 - mse: 26.6934\n",
            "Epoch 17/100\n",
            "2/2 [==============================] - 0s 8ms/step - loss: 4.3561 - mse: 25.3855\n",
            "Epoch 18/100\n",
            "2/2 [==============================] - 0s 7ms/step - loss: 4.0327 - mse: 22.6944\n",
            "Epoch 19/100\n",
            "2/2 [==============================] - 0s 7ms/step - loss: 3.9283 - mse: 22.4108\n",
            "Epoch 20/100\n",
            "2/2 [==============================] - 0s 7ms/step - loss: 4.0257 - mse: 23.3437\n",
            "Epoch 21/100\n",
            "2/2 [==============================] - 0s 7ms/step - loss: 3.8003 - mse: 21.6448\n",
            "Epoch 22/100\n",
            "2/2 [==============================] - 0s 8ms/step - loss: 3.8209 - mse: 20.7385\n",
            "Epoch 23/100\n",
            "2/2 [==============================] - 0s 8ms/step - loss: 3.9589 - mse: 21.8509\n",
            "Epoch 24/100\n",
            "2/2 [==============================] - 0s 13ms/step - loss: 3.8395 - mse: 20.6835\n",
            "Epoch 25/100\n",
            "2/2 [==============================] - 0s 7ms/step - loss: 3.5908 - mse: 19.1598\n",
            "Epoch 26/100\n",
            "2/2 [==============================] - 0s 8ms/step - loss: 3.8714 - mse: 21.3804\n",
            "Epoch 27/100\n",
            "2/2 [==============================] - 0s 8ms/step - loss: 3.6074 - mse: 18.9963\n",
            "Epoch 28/100\n",
            "2/2 [==============================] - 0s 7ms/step - loss: 3.7005 - mse: 18.8205\n",
            "Epoch 29/100\n",
            "2/2 [==============================] - 0s 7ms/step - loss: 3.8790 - mse: 20.6226\n",
            "Epoch 30/100\n",
            "2/2 [==============================] - 0s 7ms/step - loss: 3.4047 - mse: 16.9376\n",
            "Epoch 31/100\n",
            "2/2 [==============================] - 0s 10ms/step - loss: 3.7552 - mse: 20.4070\n",
            "Epoch 32/100\n",
            "2/2 [==============================] - 0s 7ms/step - loss: 4.2880 - mse: 23.3805\n",
            "Epoch 33/100\n",
            "2/2 [==============================] - 0s 7ms/step - loss: 3.4651 - mse: 17.2307\n",
            "Epoch 34/100\n",
            "2/2 [==============================] - 0s 7ms/step - loss: 3.7976 - mse: 19.8889\n",
            "Epoch 35/100\n",
            "2/2 [==============================] - 0s 7ms/step - loss: 3.8836 - mse: 20.8081\n",
            "Epoch 36/100\n",
            "2/2 [==============================] - 0s 7ms/step - loss: 3.4791 - mse: 16.5599\n",
            "Epoch 37/100\n",
            "2/2 [==============================] - 0s 7ms/step - loss: 3.4073 - mse: 16.3688\n",
            "Epoch 38/100\n",
            "2/2 [==============================] - 0s 6ms/step - loss: 3.4581 - mse: 16.6059\n",
            "Epoch 39/100\n",
            "2/2 [==============================] - 0s 6ms/step - loss: 3.0708 - mse: 14.0275\n",
            "Epoch 40/100\n",
            "2/2 [==============================] - 0s 8ms/step - loss: 3.2295 - mse: 14.7810\n",
            "Epoch 41/100\n",
            "2/2 [==============================] - 0s 7ms/step - loss: 3.1831 - mse: 14.4105\n",
            "Epoch 42/100\n",
            "2/2 [==============================] - 0s 8ms/step - loss: 2.9733 - mse: 12.6124\n",
            "Epoch 43/100\n",
            "2/2 [==============================] - 0s 7ms/step - loss: 3.4050 - mse: 15.7311\n",
            "Epoch 44/100\n",
            "2/2 [==============================] - 0s 8ms/step - loss: 3.0861 - mse: 14.0101\n",
            "Epoch 45/100\n",
            "2/2 [==============================] - 0s 7ms/step - loss: 3.2842 - mse: 14.5398\n",
            "Epoch 46/100\n",
            "2/2 [==============================] - 0s 8ms/step - loss: 3.4287 - mse: 16.2584\n",
            "Epoch 47/100\n",
            "2/2 [==============================] - 0s 7ms/step - loss: 3.1757 - mse: 13.8822\n",
            "Epoch 48/100\n",
            "2/2 [==============================] - 0s 7ms/step - loss: 2.8950 - mse: 11.7473\n",
            "Epoch 49/100\n",
            "2/2 [==============================] - 0s 8ms/step - loss: 2.8515 - mse: 11.7711\n",
            "Epoch 50/100\n",
            "2/2 [==============================] - 0s 8ms/step - loss: 2.6844 - mse: 10.1902\n",
            "Epoch 51/100\n",
            "2/2 [==============================] - 0s 9ms/step - loss: 3.2226 - mse: 14.3036\n",
            "Epoch 52/100\n",
            "2/2 [==============================] - 0s 7ms/step - loss: 2.9121 - mse: 11.4683\n",
            "Epoch 53/100\n",
            "2/2 [==============================] - 0s 7ms/step - loss: 2.4934 - mse: 9.0725\n",
            "Epoch 54/100\n",
            "2/2 [==============================] - 0s 8ms/step - loss: 2.5236 - mse: 9.4528\n",
            "Epoch 55/100\n",
            "2/2 [==============================] - 0s 7ms/step - loss: 2.3857 - mse: 8.1301\n",
            "Epoch 56/100\n",
            "2/2 [==============================] - 0s 8ms/step - loss: 2.5075 - mse: 8.5307\n",
            "Epoch 57/100\n",
            "2/2 [==============================] - 0s 7ms/step - loss: 2.3179 - mse: 7.5614\n",
            "Epoch 58/100\n",
            "2/2 [==============================] - 0s 7ms/step - loss: 2.4583 - mse: 8.4446\n",
            "Epoch 59/100\n",
            "2/2 [==============================] - 0s 7ms/step - loss: 2.0896 - mse: 6.5705\n",
            "Epoch 60/100\n",
            "2/2 [==============================] - 0s 8ms/step - loss: 2.4474 - mse: 8.4103\n",
            "Epoch 61/100\n",
            "2/2 [==============================] - 0s 8ms/step - loss: 2.3926 - mse: 8.2052\n",
            "Epoch 62/100\n",
            "2/2 [==============================] - 0s 8ms/step - loss: 2.1549 - mse: 6.4850\n",
            "Epoch 63/100\n",
            "2/2 [==============================] - 0s 11ms/step - loss: 2.0441 - mse: 6.0433\n",
            "Epoch 64/100\n",
            "2/2 [==============================] - 0s 7ms/step - loss: 2.2523 - mse: 7.2667\n",
            "Epoch 65/100\n",
            "2/2 [==============================] - 0s 8ms/step - loss: 2.0522 - mse: 5.8497\n",
            "Epoch 66/100\n",
            "2/2 [==============================] - 0s 7ms/step - loss: 2.0085 - mse: 5.3928\n",
            "Epoch 67/100\n",
            "2/2 [==============================] - 0s 7ms/step - loss: 1.8352 - mse: 4.5532\n",
            "Epoch 68/100\n",
            "2/2 [==============================] - 0s 7ms/step - loss: 1.8982 - mse: 5.1078\n",
            "Epoch 69/100\n",
            "2/2 [==============================] - 0s 7ms/step - loss: 1.7314 - mse: 3.8386\n",
            "Epoch 70/100\n",
            "2/2 [==============================] - 0s 8ms/step - loss: 1.7460 - mse: 3.8175\n",
            "Epoch 71/100\n",
            "2/2 [==============================] - 0s 7ms/step - loss: 1.3678 - mse: 2.5947\n",
            "Epoch 72/100\n",
            "2/2 [==============================] - 0s 10ms/step - loss: 1.2529 - mse: 2.1138\n",
            "Epoch 73/100\n",
            "2/2 [==============================] - 0s 7ms/step - loss: 1.3650 - mse: 2.3623\n",
            "Epoch 74/100\n",
            "2/2 [==============================] - 0s 8ms/step - loss: 1.2384 - mse: 2.2031\n",
            "Epoch 75/100\n",
            "2/2 [==============================] - 0s 11ms/step - loss: 2.1658 - mse: 7.2203\n",
            "Epoch 76/100\n",
            "2/2 [==============================] - 0s 15ms/step - loss: 1.7029 - mse: 5.6900\n",
            "Epoch 77/100\n",
            "2/2 [==============================] - 0s 8ms/step - loss: 1.6888 - mse: 3.5754\n",
            "Epoch 78/100\n",
            "2/2 [==============================] - 0s 8ms/step - loss: 1.3606 - mse: 3.0637\n",
            "Epoch 79/100\n",
            "2/2 [==============================] - 0s 7ms/step - loss: 2.9108 - mse: 17.2049\n",
            "Epoch 80/100\n",
            "2/2 [==============================] - 0s 8ms/step - loss: 3.4592 - mse: 23.3567\n",
            "Epoch 81/100\n",
            "2/2 [==============================] - 0s 11ms/step - loss: 1.2669 - mse: 2.4083\n",
            "Epoch 82/100\n",
            "2/2 [==============================] - 0s 7ms/step - loss: 3.7268 - mse: 24.9309\n",
            "Epoch 83/100\n",
            "2/2 [==============================] - 0s 8ms/step - loss: 4.4724 - mse: 37.2461\n",
            "Epoch 84/100\n",
            "2/2 [==============================] - 0s 8ms/step - loss: 2.0263 - mse: 8.2056\n",
            "Epoch 85/100\n",
            "2/2 [==============================] - 0s 7ms/step - loss: 3.0187 - mse: 16.4396\n",
            "Epoch 86/100\n",
            "2/2 [==============================] - 0s 9ms/step - loss: 4.6251 - mse: 39.2427\n",
            "Epoch 87/100\n",
            "2/2 [==============================] - 0s 7ms/step - loss: 2.8763 - mse: 13.8078\n",
            "Epoch 88/100\n",
            "2/2 [==============================] - 0s 7ms/step - loss: 1.9273 - mse: 5.7572\n",
            "Epoch 89/100\n",
            "2/2 [==============================] - 0s 8ms/step - loss: 3.2821 - mse: 18.0168\n",
            "Epoch 90/100\n",
            "2/2 [==============================] - 0s 9ms/step - loss: 2.0807 - mse: 6.2417\n",
            "Epoch 91/100\n",
            "2/2 [==============================] - 0s 9ms/step - loss: 2.0215 - mse: 8.8455\n",
            "Epoch 92/100\n",
            "2/2 [==============================] - 0s 12ms/step - loss: 3.3474 - mse: 21.2007\n",
            "Epoch 93/100\n",
            "2/2 [==============================] - 0s 7ms/step - loss: 1.8710 - mse: 8.5844\n",
            "Epoch 94/100\n",
            "2/2 [==============================] - 0s 7ms/step - loss: 1.7176 - mse: 3.7199\n",
            "Epoch 95/100\n",
            "2/2 [==============================] - 0s 11ms/step - loss: 2.4567 - mse: 8.0599\n",
            "Epoch 96/100\n",
            "2/2 [==============================] - 0s 8ms/step - loss: 1.0248 - mse: 1.4683\n",
            "Epoch 97/100\n",
            "2/2 [==============================] - 0s 9ms/step - loss: 1.6334 - mse: 5.6121\n",
            "Epoch 98/100\n",
            "2/2 [==============================] - 0s 8ms/step - loss: 1.1445 - mse: 3.1860\n",
            "Epoch 99/100\n",
            "2/2 [==============================] - 0s 10ms/step - loss: 0.9390 - mse: 1.2367\n",
            "Epoch 100/100\n",
            "2/2 [==============================] - 0s 8ms/step - loss: 0.7522 - mse: 0.8172\n"
          ]
        },
        {
          "output_type": "execute_result",
          "data": {
            "text/plain": [
              "<keras.callbacks.History at 0x7ad5c02ba800>"
            ]
          },
          "metadata": {},
          "execution_count": 49
        }
      ]
    },
    {
      "cell_type": "code",
      "source": [
        "y_preds_3 = model_3.predict(X_test)\n",
        "plot_predictions(predictions=y_preds_3)"
      ],
      "metadata": {
        "colab": {
          "base_uri": "https://localhost:8080/",
          "height": 616
        },
        "id": "7Nm1Y7n3q4-o",
        "outputId": "26722d3b-ae69-423b-f532-2e054aca95f4"
      },
      "execution_count": 50,
      "outputs": [
        {
          "output_type": "stream",
          "name": "stdout",
          "text": [
            "1/1 [==============================] - 0s 71ms/step\n"
          ]
        },
        {
          "output_type": "display_data",
          "data": {
            "text/plain": [
              "<Figure size 1000x700 with 1 Axes>"
            ],
            "image/png": "[encoded data removed]"
          },
          "metadata": {}
        }
      ]
    },
    {
      "cell_type": "code",
      "source": [
        "mae_3 = mae(y_test, y_preds_3)\n",
        "mse_3 = mse(y_test, y_preds_3)\n",
        "mae_3, mse_3"
      ],
      "metadata": {
        "colab": {
          "base_uri": "https://localhost:8080/"
        },
        "id": "icDlccN2rNBY",
        "outputId": "ab0081f8-8815-4247-ea3c-a802bea98e71"
      },
      "execution_count": 51,
      "outputs": [
        {
          "output_type": "execute_result",
          "data": {
            "text/plain": [
              "(<tf.Tensor: shape=(), dtype=float32, numpy=0.6739197>,\n",
              " <tf.Tensor: shape=(), dtype=float32, numpy=0.4616229>)"
            ]
          },
          "metadata": {},
          "execution_count": 51
        }
      ]
    },
    {
      "cell_type": "markdown",
      "source": [
        "👁️ **NOTE:** You want to start with small experiments (small models) and make sure they work and then improve the model that works better"
      ],
      "metadata": {
        "id": "26BkYnBgtNo4"
      }
    },
    {
      "cell_type": "markdown",
      "source": [
        "### Comparing the results of our experiments\n",
        "\n",
        "We've run a few experiments, let´s comapre the results"
      ],
      "metadata": {
        "id": "MMRCeBuDrd3H"
      }
    },
    {
      "cell_type": "code",
      "source": [
        "# Let´s compare our model's result using a pandas DataFrame\n",
        "import pandas as pd\n",
        "\n",
        "model_results = [['model_1', mae_1.numpy(), mse_1.numpy()],\n",
        "                 ['model_2', mae_2.numpy(), mse_2.numpy()],\n",
        "                 ['model_3', mae_3.numpy(), mse_3.numpy()]]\n",
        "\n",
        "all_results = pd.DataFrame(model_results, columns=['model','mae','mse'])\n",
        "all_results"
      ],
      "metadata": {
        "colab": {
          "base_uri": "https://localhost:8080/",
          "height": 143
        },
        "id": "_H2jw1Wxs5R2",
        "outputId": "278a10b9-b7c1-4f71-89a1-2be37966369e"
      },
      "execution_count": 52,
      "outputs": [
        {
          "output_type": "execute_result",
          "data": {
            "text/plain": [
              "     model        mae         mse\n",
              "0  model_1  21.289551  456.693268\n",
              "1  model_2   2.937280   11.365967\n",
              "2  model_3   0.673920    0.461623"
            ],
            "text/html": [
              "\n",
              "\n",
              "  <div id=\"df-cc56659e-8c68-4bce-ac84-bcfb68f9dbb1\">\n",
              "    <div class=\"colab-df-container\">\n",
              "      <div>\n",
              "<style scoped>\n",
              "    .dataframe tbody tr th:only-of-type {\n",
              "        vertical-align: middle;\n",
              "    }\n",
              "\n",
              "    .dataframe tbody tr th {\n",
              "        vertical-align: top;\n",
              "    }\n",
              "\n",
              "    .dataframe thead th {\n",
              "        text-align: right;\n",
              "    }\n",
              "</style>\n",
              "<table border=\"1\" class=\"dataframe\">\n",
              "  <thead>\n",
              "    <tr style=\"text-align: right;\">\n",
              "      <th></th>\n",
              "      <th>model</th>\n",
              "      <th>mae</th>\n",
              "      <th>mse</th>\n",
              "    </tr>\n",
              "  </thead>\n",
              "  <tbody>\n",
              "    <tr>\n",
              "      <th>0</th>\n",
              "      <td>model_1</td>\n",
              "      <td>21.289551</td>\n",
              "      <td>456.693268</td>\n",
              "    </tr>\n",
              "    <tr>\n",
              "      <th>1</th>\n",
              "      <td>model_2</td>\n",
              "      <td>2.937280</td>\n",
              "      <td>11.365967</td>\n",
              "    </tr>\n",
              "    <tr>\n",
              "      <th>2</th>\n",
              "      <td>model_3</td>\n",
              "      <td>0.673920</td>\n",
              "      <td>0.461623</td>\n",
              "    </tr>\n",
              "  </tbody>\n",
              "</table>\n",
              "</div>\n",
              "      <button class=\"colab-df-convert\" onclick=\"convertToInteractive('df-cc56659e-8c68-4bce-ac84-bcfb68f9dbb1')\"\n",
              "              title=\"Convert this dataframe to an interactive table.\"\n",
              "              style=\"display:none;\">\n",
              "\n",
              "  <svg xmlns=\"http://www.w3.org/2000/svg\" height=\"24px\"viewBox=\"0 0 24 24\"\n",
              "       width=\"24px\">\n",
              "    <path d=\"M0 0h24v24H0V0z\" fill=\"none\"/>\n",
              "    <path d=\"M18.56 5.44l.94 2.06.94-2.06 2.06-.94-2.06-.94-.94-2.06-.94 2.06-2.06.94zm-11 1L8.5 8.5l.94-2.06 2.06-.94-2.06-.94L8.5 2.5l-.94 2.06-2.06.94zm10 10l.94 2.06.94-2.06 2.06-.94-2.06-.94-.94-2.06-.94 2.06-2.06.94z\"/><path d=\"M17.41 7.96l-1.37-1.37c-.4-.4-.92-.59-1.43-.59-.52 0-1.04.2-1.43.59L10.3 9.45l-7.72 7.72c-.78.78-.78 2.05 0 2.83L4 21.41c.39.39.9.59 1.41.59.51 0 1.02-.2 1.41-.59l7.78-7.78 2.81-2.81c.8-.78.8-2.07 0-2.86zM5.41 20L4 18.59l7.72-7.72 1.47 1.35L5.41 20z\"/>\n",
              "  </svg>\n",
              "      </button>\n",
              "\n",
              "\n",
              "\n",
              "    <div id=\"df-303aaa00-44b5-46c5-99b0-f73e4bb5657d\">\n",
              "      <button class=\"colab-df-quickchart\" onclick=\"quickchart('df-303aaa00-44b5-46c5-99b0-f73e4bb5657d')\"\n",
              "              title=\"Suggest charts.\"\n",
              "              style=\"display:none;\">\n",
              "\n",
              "<svg xmlns=\"http://www.w3.org/2000/svg\" height=\"24px\"viewBox=\"0 0 24 24\"\n",
              "     width=\"24px\">\n",
              "    <g>\n",
              "        <path d=\"M19 3H5c-1.1 0-2 .9-2 2v14c0 1.1.9 2 2 2h14c1.1 0 2-.9 2-2V5c0-1.1-.9-2-2-2zM9 17H7v-7h2v7zm4 0h-2V7h2v10zm4 0h-2v-4h2v4z\"/>\n",
              "    </g>\n",
              "</svg>\n",
              "      </button>\n",
              "    </div>\n",
              "\n",
              "<style>\n",
              "  .colab-df-quickchart {\n",
              "    background-color: #E8F0FE;\n",
              "    border: none;\n",
              "    border-radius: 50%;\n",
              "    cursor: pointer;\n",
              "    display: none;\n",
              "    fill: #1967D2;\n",
              "    height: 32px;\n",
              "    padding: 0 0 0 0;\n",
              "    width: 32px;\n",
              "  }\n",
              "\n",
              "  .colab-df-quickchart:hover {\n",
              "    background-color: #E2EBFA;\n",
              "    box-shadow: 0px 1px 2px rgba(60, 64, 67, 0.3), 0px 1px 3px 1px rgba(60, 64, 67, 0.15);\n",
              "    fill: #174EA6;\n",
              "  }\n",
              "\n",
              "  [theme=dark] .colab-df-quickchart {\n",
              "    background-color: #3B4455;\n",
              "    fill: #D2E3FC;\n",
              "  }\n",
              "\n",
              "  [theme=dark] .colab-df-quickchart:hover {\n",
              "    background-color: #434B5C;\n",
              "    box-shadow: 0px 1px 3px 1px rgba(0, 0, 0, 0.15);\n",
              "    filter: drop-shadow(0px 1px 2px rgba(0, 0, 0, 0.3));\n",
              "    fill: #FFFFFF;\n",
              "  }\n",
              "</style>\n",
              "\n",
              "    <script>\n",
              "      async function quickchart(key) {\n",
              "        const containerElement = document.querySelector('#' + key);\n",
              "        const charts = await google.colab.kernel.invokeFunction(\n",
              "            'suggestCharts', [key], {});\n",
              "      }\n",
              "    </script>\n",
              "\n",
              "      <script>\n",
              "\n",
              "function displayQuickchartButton(domScope) {\n",
              "  let quickchartButtonEl =\n",
              "    domScope.querySelector('#df-303aaa00-44b5-46c5-99b0-f73e4bb5657d button.colab-df-quickchart');\n",
              "  quickchartButtonEl.style.display =\n",
              "    google.colab.kernel.accessAllowed ? 'block' : 'none';\n",
              "}\n",
              "\n",
              "        displayQuickchartButton(document);\n",
              "      </script>\n",
              "      <style>\n",
              "    .colab-df-container {\n",
              "      display:flex;\n",
              "      flex-wrap:wrap;\n",
              "      gap: 12px;\n",
              "    }\n",
              "\n",
              "    .colab-df-convert {\n",
              "      background-color: #E8F0FE;\n",
              "      border: none;\n",
              "      border-radius: 50%;\n",
              "      cursor: pointer;\n",
              "      display: none;\n",
              "      fill: #1967D2;\n",
              "      height: 32px;\n",
              "      padding: 0 0 0 0;\n",
              "      width: 32px;\n",
              "    }\n",
              "\n",
              "    .colab-df-convert:hover {\n",
              "      background-color: #E2EBFA;\n",
              "      box-shadow: 0px 1px 2px rgba(60, 64, 67, 0.3), 0px 1px 3px 1px rgba(60, 64, 67, 0.15);\n",
              "      fill: #174EA6;\n",
              "    }\n",
              "\n",
              "    [theme=dark] .colab-df-convert {\n",
              "      background-color: #3B4455;\n",
              "      fill: #D2E3FC;\n",
              "    }\n",
              "\n",
              "    [theme=dark] .colab-df-convert:hover {\n",
              "      background-color: #434B5C;\n",
              "      box-shadow: 0px 1px 3px 1px rgba(0, 0, 0, 0.15);\n",
              "      filter: drop-shadow(0px 1px 2px rgba(0, 0, 0, 0.3));\n",
              "      fill: #FFFFFF;\n",
              "    }\n",
              "  </style>\n",
              "\n",
              "      <script>\n",
              "        const buttonEl =\n",
              "          document.querySelector('#df-cc56659e-8c68-4bce-ac84-bcfb68f9dbb1 button.colab-df-convert');\n",
              "        buttonEl.style.display =\n",
              "          google.colab.kernel.accessAllowed ? 'block' : 'none';\n",
              "\n",
              "        async function convertToInteractive(key) {\n",
              "          const element = document.querySelector('#df-cc56659e-8c68-4bce-ac84-bcfb68f9dbb1');\n",
              "          const dataTable =\n",
              "            await google.colab.kernel.invokeFunction('convertToInteractive',\n",
              "                                                     [key], {});\n",
              "          if (!dataTable) return;\n",
              "\n",
              "          const docLinkHtml = 'Like what you see? Visit the ' +\n",
              "            '<a target=\"_blank\" href=https://colab.research.google.com/notebooks/data_table.ipynb>data table notebook</a>'\n",
              "            + ' to learn more about interactive tables.';\n",
              "          element.innerHTML = '';\n",
              "          dataTable['output_type'] = 'display_data';\n",
              "          await google.colab.output.renderOutput(dataTable, element);\n",
              "          const docLink = document.createElement('div');\n",
              "          docLink.innerHTML = docLinkHtml;\n",
              "          element.appendChild(docLink);\n",
              "        }\n",
              "      </script>\n",
              "    </div>\n",
              "  </div>\n"
            ]
          },
          "metadata": {},
          "execution_count": 52
        }
      ]
    },
    {
      "cell_type": "code",
      "source": [
        "model_2.summary(), model_3.summary()"
      ],
      "metadata": {
        "colab": {
          "base_uri": "https://localhost:8080/"
        },
        "id": "gRZAkdulu2AF",
        "outputId": "32df5154-ba68-4a5a-ac3e-d84d5ed15652"
      },
      "execution_count": 53,
      "outputs": [
        {
          "output_type": "stream",
          "name": "stdout",
          "text": [
            "Model: \"sequential_6\"\n",
            "_________________________________________________________________\n",
            " Layer (type)                Output Shape              Param #   \n",
            "=================================================================\n",
            " dense_10 (Dense)            (None, 10)                20        \n",
            "                                                                 \n",
            " dense_11 (Dense)            (None, 1)                 11        \n",
            "                                                                 \n",
            "=================================================================\n",
            "Total params: 31\n",
            "Trainable params: 31\n",
            "Non-trainable params: 0\n",
            "_________________________________________________________________\n",
            "Model: \"sequential_7\"\n",
            "_________________________________________________________________\n",
            " Layer (type)                Output Shape              Param #   \n",
            "=================================================================\n",
            " dense_12 (Dense)            (None, 100)               200       \n",
            "                                                                 \n",
            " dense_13 (Dense)            (None, 1)                 101       \n",
            "                                                                 \n",
            "=================================================================\n",
            "Total params: 301\n",
            "Trainable params: 301\n",
            "Non-trainable params: 0\n",
            "_________________________________________________________________\n"
          ]
        },
        {
          "output_type": "execute_result",
          "data": {
            "text/plain": [
              "(None, None)"
            ]
          },
          "metadata": {},
          "execution_count": 53
        }
      ]
    },
    {
      "cell_type": "markdown",
      "source": [
        "👁️ **NOTE:** One of your main goals should be to minimize the time between your experiments. The more experiments you do, the more things you'll figure out which don´t work and in turn, get closer to figuring out what does work. Remember the machine learning practioner's motto: \"experiment, experiment, experiment\""
      ],
      "metadata": {
        "id": "8RRN5PLCvROV"
      }
    },
    {
      "cell_type": "markdown",
      "source": [
        "### Tracking your experiments\n",
        "\n",
        "One really good habit in machine learning modelling is to track the results of your experiments.\n",
        "\n",
        "And doing so, it can be tedius if you're running lots of experiments.\n",
        "\n",
        "Luckily, there are tools to help us!\n",
        "\n",
        "💊 **Resource** As you builkd more models you look into using:\n",
        "* [TensorBoard](https://www.tensorflow.org/tensorboard) - a component of the TensorFlow library to help track modelling experiments\n",
        "* [Weight and Biases](https://wandb.ai/site) - a tool for tracking all kinds of machine learning experiments (plugs straight to TensorBoard)"
      ],
      "metadata": {
        "id": "St6SMvASvyD7"
      }
    },
    {
      "cell_type": "markdown",
      "source": [
        "### Saving our models\n",
        "\n",
        "Saving our models allows us to use them outside of Google Colab (or whereever they were trained) such in a web application or a mobile app.\n",
        "\n",
        "There are tow main formats\n",
        "\n",
        "1. The SavedModel format\n",
        "2. The HDF5 format"
      ],
      "metadata": {
        "id": "yltljc_0yu9L"
      }
    },
    {
      "cell_type": "code",
      "source": [
        "# Save using SavedModel\n",
        "model_3.save('best_model_SavedModel_format')"
      ],
      "metadata": {
        "colab": {
          "base_uri": "https://localhost:8080/"
        },
        "id": "deEr7K8RyypT",
        "outputId": "d1f3aeb4-7cca-42ce-f001-d4730320d4c6"
      },
      "execution_count": 54,
      "outputs": [
        {
          "output_type": "stream",
          "name": "stderr",
          "text": [
            "WARNING:absl:Found untraced functions such as _update_step_xla while saving (showing 1 of 1). These functions will not be directly callable after loading.\n"
          ]
        }
      ]
    },
    {
      "cell_type": "code",
      "source": [
        " # Save using HDF5\n",
        " model_3.save('best_model_HDF5_format.h5')"
      ],
      "metadata": {
        "id": "35ucmMnRCwAW"
      },
      "execution_count": 55,
      "outputs": []
    },
    {
      "cell_type": "markdown",
      "source": [
        "### Loading and using saved models"
      ],
      "metadata": {
        "id": "HxYhEOvsDSLl"
      }
    },
    {
      "cell_type": "code",
      "source": [
        "# Loading a SavedModel format model\n",
        "loaded_SavedModel_format = tf.keras.models.load_model('/content/best_model_SavedModel_format')"
      ],
      "metadata": {
        "id": "EKOspIFMDrT9"
      },
      "execution_count": 56,
      "outputs": []
    },
    {
      "cell_type": "code",
      "source": [
        "y_preds_4 = loaded_SavedModel_format.predict(X_test)\n",
        "plot_predictions(predictions=y_preds_4)"
      ],
      "metadata": {
        "colab": {
          "base_uri": "https://localhost:8080/",
          "height": 616
        },
        "id": "9Z8KVGQPEJWl",
        "outputId": "0bd70175-b37c-4e7c-96e3-f4c9d1cbbd6c"
      },
      "execution_count": 57,
      "outputs": [
        {
          "output_type": "stream",
          "name": "stdout",
          "text": [
            "1/1 [==============================] - 0s 69ms/step\n"
          ]
        },
        {
          "output_type": "display_data",
          "data": {
            "text/plain": [
              "<Figure size 1000x700 with 1 Axes>"
            ],
            "image/png": "[encoded data removed]"
          },
          "metadata": {}
        }
      ]
    },
    {
      "cell_type": "code",
      "source": [
        "y_preds_4"
      ],
      "metadata": {
        "colab": {
          "base_uri": "https://localhost:8080/"
        },
        "id": "cuV8pUrtEbnj",
        "outputId": "7e36a889-f53e-469d-a3e1-e4488fd4a534"
      },
      "execution_count": 58,
      "outputs": [
        {
          "output_type": "execute_result",
          "data": {
            "text/plain": [
              "array([[ 69.46135 ],\n",
              "       [ 73.4313  ],\n",
              "       [ 77.40124 ],\n",
              "       [ 81.37117 ],\n",
              "       [ 85.3411  ],\n",
              "       [ 89.31106 ],\n",
              "       [ 93.281   ],\n",
              "       [ 97.250916],\n",
              "       [101.22086 ],\n",
              "       [105.19081 ]], dtype=float32)"
            ]
          },
          "metadata": {},
          "execution_count": 58
        }
      ]
    },
    {
      "cell_type": "code",
      "source": [
        "loaded_SavedModel_format.summary()\n",
        "model_3.summary()"
      ],
      "metadata": {
        "colab": {
          "base_uri": "https://localhost:8080/"
        },
        "id": "whA4SVvMElPd",
        "outputId": "acfab8e4-ba95-4f12-8619-f42bd0b3d24f"
      },
      "execution_count": 59,
      "outputs": [
        {
          "output_type": "stream",
          "name": "stdout",
          "text": [
            "Model: \"sequential_7\"\n",
            "_________________________________________________________________\n",
            " Layer (type)                Output Shape              Param #   \n",
            "=================================================================\n",
            " dense_12 (Dense)            (None, 100)               200       \n",
            "                                                                 \n",
            " dense_13 (Dense)            (None, 1)                 101       \n",
            "                                                                 \n",
            "=================================================================\n",
            "Total params: 301\n",
            "Trainable params: 301\n",
            "Non-trainable params: 0\n",
            "_________________________________________________________________\n",
            "Model: \"sequential_7\"\n",
            "_________________________________________________________________\n",
            " Layer (type)                Output Shape              Param #   \n",
            "=================================================================\n",
            " dense_12 (Dense)            (None, 100)               200       \n",
            "                                                                 \n",
            " dense_13 (Dense)            (None, 1)                 101       \n",
            "                                                                 \n",
            "=================================================================\n",
            "Total params: 301\n",
            "Trainable params: 301\n",
            "Non-trainable params: 0\n",
            "_________________________________________________________________\n"
          ]
        }
      ]
    },
    {
      "cell_type": "code",
      "source": [
        "y_preds_3 == y_preds_4"
      ],
      "metadata": {
        "colab": {
          "base_uri": "https://localhost:8080/"
        },
        "id": "Uun1XNReE67U",
        "outputId": "70f7e93e-62e1-4401-bef9-828d58b7b6bf"
      },
      "execution_count": 60,
      "outputs": [
        {
          "output_type": "execute_result",
          "data": {
            "text/plain": [
              "array([[ True],\n",
              "       [ True],\n",
              "       [ True],\n",
              "       [ True],\n",
              "       [ True],\n",
              "       [ True],\n",
              "       [ True],\n",
              "       [ True],\n",
              "       [ True],\n",
              "       [ True]])"
            ]
          },
          "metadata": {},
          "execution_count": 60
        }
      ]
    },
    {
      "cell_type": "code",
      "source": [
        "# Loading a model using the HDF5 model\n",
        "loaded_h5_model = tf.keras.models.load_model('/content/best_model_HDF5_format.h5')"
      ],
      "metadata": {
        "id": "ivc4hGGqFZzj"
      },
      "execution_count": 61,
      "outputs": []
    },
    {
      "cell_type": "code",
      "source": [
        "y_preds_5 = loaded_h5_model.predict(X_test)\n",
        "plot_predictions(predictions=y_preds_5)"
      ],
      "metadata": {
        "colab": {
          "base_uri": "https://localhost:8080/",
          "height": 616
        },
        "id": "UiNptJwXGHoT",
        "outputId": "89d73f65-8d61-4620-ad98-ea6e5daa237a"
      },
      "execution_count": 62,
      "outputs": [
        {
          "output_type": "stream",
          "name": "stdout",
          "text": [
            "1/1 [==============================] - 0s 69ms/step\n"
          ]
        },
        {
          "output_type": "display_data",
          "data": {
            "text/plain": [
              "<Figure size 1000x700 with 1 Axes>"
            ],
            "image/png": "[encoded data removed]"
          },
          "metadata": {}
        }
      ]
    },
    {
      "cell_type": "code",
      "source": [
        "y_preds_3 == y_preds_5"
      ],
      "metadata": {
        "colab": {
          "base_uri": "https://localhost:8080/"
        },
        "id": "js6ZGzcyGTLL",
        "outputId": "e79392c7-2505-4a01-a038-2c05e942a6f3"
      },
      "execution_count": 63,
      "outputs": [
        {
          "output_type": "execute_result",
          "data": {
            "text/plain": [
              "array([[ True],\n",
              "       [ True],\n",
              "       [ True],\n",
              "       [ True],\n",
              "       [ True],\n",
              "       [ True],\n",
              "       [ True],\n",
              "       [ True],\n",
              "       [ True],\n",
              "       [ True]])"
            ]
          },
          "metadata": {},
          "execution_count": 63
        }
      ]
    },
    {
      "cell_type": "markdown",
      "source": [
        "### Download a model (or any other file) from Google Colab\n",
        "\n",
        "If you want to download from Colab:\n",
        "\n",
        "1. You can go to the files tab and right click on the file\n",
        "2. Use code (see the cell below)\n",
        "3. Saving to GoogleDrive"
      ],
      "metadata": {
        "id": "SyDdcNvjGXzL"
      }
    },
    {
      "cell_type": "code",
      "source": [
        "# Download a file from Google Colab\n",
        "from google.colab import files\n",
        "files.download('/content/best_model_HDF5_format.h5')\n"
      ],
      "metadata": {
        "colab": {
          "base_uri": "https://localhost:8080/",
          "height": 17
        },
        "id": "YoSVdQdyHaKC",
        "outputId": "1d7c4c01-32f5-4878-c304-0b815e70787b"
      },
      "execution_count": 64,
      "outputs": [
        {
          "output_type": "display_data",
          "data": {
            "text/plain": [
              "<IPython.core.display.Javascript object>"
            ],
            "application/javascript": [
              "\n",
              "    async function download(id, filename, size) {\n",
              "      if (!google.colab.kernel.accessAllowed) {\n",
              "        return;\n",
              "      }\n",
              "      const div = document.createElement('div');\n",
              "      const label = document.createElement('label');\n",
              "      label.textContent = `Downloading \"${filename}\": `;\n",
              "      div.appendChild(label);\n",
              "      const progress = document.createElement('progress');\n",
              "      progress.max = size;\n",
              "      div.appendChild(progress);\n",
              "      document.body.appendChild(div);\n",
              "\n",
              "      const buffers = [];\n",
              "      let downloaded = 0;\n",
              "\n",
              "      const channel = await google.colab.kernel.comms.open(id);\n",
              "      // Send a message to notify the kernel that we're ready.\n",
              "      channel.send({})\n",
              "\n",
              "      for await (const message of channel.messages) {\n",
              "        // Send a message to notify the kernel that we're ready.\n",
              "        channel.send({})\n",
              "        if (message.buffers) {\n",
              "          for (const buffer of message.buffers) {\n",
              "            buffers.push(buffer);\n",
              "            downloaded += buffer.byteLength;\n",
              "            progress.value = downloaded;\n",
              "          }\n",
              "        }\n",
              "      }\n",
              "      const blob = new Blob(buffers, {type: 'application/binary'});\n",
              "      const a = document.createElement('a');\n",
              "      a.href = window.URL.createObjectURL(blob);\n",
              "      a.download = filename;\n",
              "      div.appendChild(a);\n",
              "      a.click();\n",
              "      div.remove();\n",
              "    }\n",
              "  "
            ]
          },
          "metadata": {}
        },
        {
          "output_type": "display_data",
          "data": {
            "text/plain": [
              "<IPython.core.display.Javascript object>"
            ],
            "application/javascript": [
              "download(\"download_82507ac5-dfe2-4676-88b9-9cf4d43aa484\", \"best_model_HDF5_format.h5\", 28248)"
            ]
          },
          "metadata": {}
        }
      ]
    },
    {
      "cell_type": "code",
      "source": [
        "# Save to Drive (first It needs to mount Drive in Colab; each session)\n",
        "!cp /content/best_model_HDF5_format.h5 \"/content/drive/MyDrive/Colab Notebooks/03_TF/ZTM_UDEMY\"\n",
        "# When the route has blank spaces we need to quote it"
      ],
      "metadata": {
        "id": "hjKR-v-OHu-S"
      },
      "execution_count": 65,
      "outputs": []
    },
    {
      "cell_type": "code",
      "source": [
        "!ls '/content/drive/MyDrive/Colab Notebooks/03_TF/ZTM_UDEMY'"
      ],
      "metadata": {
        "colab": {
          "base_uri": "https://localhost:8080/"
        },
        "id": "-kGFVkAHIwi5",
        "outputId": "186a70fe-48da-4f8a-80f3-ddafc2ac5216"
      },
      "execution_count": 66,
      "outputs": [
        {
          "output_type": "stream",
          "name": "stdout",
          "text": [
            "00_tensorflow_fundamentals.ipynb  01_neural_network_regression.ipynb\n",
            "00_TF_Fund_EXERCISES.ipynb\t  best_model_HDF5_format.h5\n"
          ]
        }
      ]
    },
    {
      "cell_type": "markdown",
      "source": [
        "### A larger example\n",
        "\n",
        "Using kaggle's \"Medical Cost Personal Dataset\", try to predict costs based in the other six columns of features.\n",
        "\n",
        "👉👉 [dataset](https://www.kaggle.com/datasets/mirichoi0218/insurance)"
      ],
      "metadata": {
        "id": "u-DpiG4eJIhp"
      }
    },
    {
      "cell_type": "code",
      "source": [
        "# Import required libraries\n",
        "import tensorflow as tf\n",
        "import pandas as pd\n",
        "import matplotlib.pyplot as plt"
      ],
      "metadata": {
        "id": "KjFzKTF8GT_N"
      },
      "execution_count": 67,
      "outputs": []
    },
    {
      "cell_type": "code",
      "source": [
        "# Read in the insurance dataset\n",
        "insurance = pd.read_csv('https://raw.githubusercontent.com/stedy/Machine-Learning-with-R-datasets/master/insurance.csv')\n",
        "insurance"
      ],
      "metadata": {
        "colab": {
          "base_uri": "https://localhost:8080/",
          "height": 423
        },
        "id": "QqPYPD4vGXy9",
        "outputId": "daebc162-600d-4174-baf6-93b559ed8e06"
      },
      "execution_count": 68,
      "outputs": [
        {
          "output_type": "execute_result",
          "data": {
            "text/plain": [
              "      age     sex     bmi  children smoker     region      charges\n",
              "0      19  female  27.900         0    yes  southwest  16884.92400\n",
              "1      18    male  33.770         1     no  southeast   1725.55230\n",
              "2      28    male  33.000         3     no  southeast   4449.46200\n",
              "3      33    male  22.705         0     no  northwest  21984.47061\n",
              "4      32    male  28.880         0     no  northwest   3866.85520\n",
              "...   ...     ...     ...       ...    ...        ...          ...\n",
              "1333   50    male  30.970         3     no  northwest  10600.54830\n",
              "1334   18  female  31.920         0     no  northeast   2205.98080\n",
              "1335   18  female  36.850         0     no  southeast   1629.83350\n",
              "1336   21  female  25.800         0     no  southwest   2007.94500\n",
              "1337   61  female  29.070         0    yes  northwest  29141.36030\n",
              "\n",
              "[1338 rows x 7 columns]"
            ],
            "text/html": [
              "\n",
              "\n",
              "  <div id=\"df-55dbfdd8-88e1-43a6-86b8-33ec8c8e01f2\">\n",
              "    <div class=\"colab-df-container\">\n",
              "      <div>\n",
              "<style scoped>\n",
              "    .dataframe tbody tr th:only-of-type {\n",
              "        vertical-align: middle;\n",
              "    }\n",
              "\n",
              "    .dataframe tbody tr th {\n",
              "        vertical-align: top;\n",
              "    }\n",
              "\n",
              "    .dataframe thead th {\n",
              "        text-align: right;\n",
              "    }\n",
              "</style>\n",
              "<table border=\"1\" class=\"dataframe\">\n",
              "  <thead>\n",
              "    <tr style=\"text-align: right;\">\n",
              "      <th></th>\n",
              "      <th>age</th>\n",
              "      <th>sex</th>\n",
              "      <th>bmi</th>\n",
              "      <th>children</th>\n",
              "      <th>smoker</th>\n",
              "      <th>region</th>\n",
              "      <th>charges</th>\n",
              "    </tr>\n",
              "  </thead>\n",
              "  <tbody>\n",
              "    <tr>\n",
              "      <th>0</th>\n",
              "      <td>19</td>\n",
              "      <td>female</td>\n",
              "      <td>27.900</td>\n",
              "      <td>0</td>\n",
              "      <td>yes</td>\n",
              "      <td>southwest</td>\n",
              "      <td>16884.92400</td>\n",
              "    </tr>\n",
              "    <tr>\n",
              "      <th>1</th>\n",
              "      <td>18</td>\n",
              "      <td>male</td>\n",
              "      <td>33.770</td>\n",
              "      <td>1</td>\n",
              "      <td>no</td>\n",
              "      <td>southeast</td>\n",
              "      <td>1725.55230</td>\n",
              "    </tr>\n",
              "    <tr>\n",
              "      <th>2</th>\n",
              "      <td>28</td>\n",
              "      <td>male</td>\n",
              "      <td>33.000</td>\n",
              "      <td>3</td>\n",
              "      <td>no</td>\n",
              "      <td>southeast</td>\n",
              "      <td>4449.46200</td>\n",
              "    </tr>\n",
              "    <tr>\n",
              "      <th>3</th>\n",
              "      <td>33</td>\n",
              "      <td>male</td>\n",
              "      <td>22.705</td>\n",
              "      <td>0</td>\n",
              "      <td>no</td>\n",
              "      <td>northwest</td>\n",
              "      <td>21984.47061</td>\n",
              "    </tr>\n",
              "    <tr>\n",
              "      <th>4</th>\n",
              "      <td>32</td>\n",
              "      <td>male</td>\n",
              "      <td>28.880</td>\n",
              "      <td>0</td>\n",
              "      <td>no</td>\n",
              "      <td>northwest</td>\n",
              "      <td>3866.85520</td>\n",
              "    </tr>\n",
              "    <tr>\n",
              "      <th>...</th>\n",
              "      <td>...</td>\n",
              "      <td>...</td>\n",
              "      <td>...</td>\n",
              "      <td>...</td>\n",
              "      <td>...</td>\n",
              "      <td>...</td>\n",
              "      <td>...</td>\n",
              "    </tr>\n",
              "    <tr>\n",
              "      <th>1333</th>\n",
              "      <td>50</td>\n",
              "      <td>male</td>\n",
              "      <td>30.970</td>\n",
              "      <td>3</td>\n",
              "      <td>no</td>\n",
              "      <td>northwest</td>\n",
              "      <td>10600.54830</td>\n",
              "    </tr>\n",
              "    <tr>\n",
              "      <th>1334</th>\n",
              "      <td>18</td>\n",
              "      <td>female</td>\n",
              "      <td>31.920</td>\n",
              "      <td>0</td>\n",
              "      <td>no</td>\n",
              "      <td>northeast</td>\n",
              "      <td>2205.98080</td>\n",
              "    </tr>\n",
              "    <tr>\n",
              "      <th>1335</th>\n",
              "      <td>18</td>\n",
              "      <td>female</td>\n",
              "      <td>36.850</td>\n",
              "      <td>0</td>\n",
              "      <td>no</td>\n",
              "      <td>southeast</td>\n",
              "      <td>1629.83350</td>\n",
              "    </tr>\n",
              "    <tr>\n",
              "      <th>1336</th>\n",
              "      <td>21</td>\n",
              "      <td>female</td>\n",
              "      <td>25.800</td>\n",
              "      <td>0</td>\n",
              "      <td>no</td>\n",
              "      <td>southwest</td>\n",
              "      <td>2007.94500</td>\n",
              "    </tr>\n",
              "    <tr>\n",
              "      <th>1337</th>\n",
              "      <td>61</td>\n",
              "      <td>female</td>\n",
              "      <td>29.070</td>\n",
              "      <td>0</td>\n",
              "      <td>yes</td>\n",
              "      <td>northwest</td>\n",
              "      <td>29141.36030</td>\n",
              "    </tr>\n",
              "  </tbody>\n",
              "</table>\n",
              "<p>1338 rows × 7 columns</p>\n",
              "</div>\n",
              "      <button class=\"colab-df-convert\" onclick=\"convertToInteractive('df-55dbfdd8-88e1-43a6-86b8-33ec8c8e01f2')\"\n",
              "              title=\"Convert this dataframe to an interactive table.\"\n",
              "              style=\"display:none;\">\n",
              "\n",
              "  <svg xmlns=\"http://www.w3.org/2000/svg\" height=\"24px\"viewBox=\"0 0 24 24\"\n",
              "       width=\"24px\">\n",
              "    <path d=\"M0 0h24v24H0V0z\" fill=\"none\"/>\n",
              "    <path d=\"M18.56 5.44l.94 2.06.94-2.06 2.06-.94-2.06-.94-.94-2.06-.94 2.06-2.06.94zm-11 1L8.5 8.5l.94-2.06 2.06-.94-2.06-.94L8.5 2.5l-.94 2.06-2.06.94zm10 10l.94 2.06.94-2.06 2.06-.94-2.06-.94-.94-2.06-.94 2.06-2.06.94z\"/><path d=\"M17.41 7.96l-1.37-1.37c-.4-.4-.92-.59-1.43-.59-.52 0-1.04.2-1.43.59L10.3 9.45l-7.72 7.72c-.78.78-.78 2.05 0 2.83L4 21.41c.39.39.9.59 1.41.59.51 0 1.02-.2 1.41-.59l7.78-7.78 2.81-2.81c.8-.78.8-2.07 0-2.86zM5.41 20L4 18.59l7.72-7.72 1.47 1.35L5.41 20z\"/>\n",
              "  </svg>\n",
              "      </button>\n",
              "\n",
              "\n",
              "\n",
              "    <div id=\"df-ad7a6c6e-50b7-4c7c-ae2f-83973c4ec65d\">\n",
              "      <button class=\"colab-df-quickchart\" onclick=\"quickchart('df-ad7a6c6e-50b7-4c7c-ae2f-83973c4ec65d')\"\n",
              "              title=\"Suggest charts.\"\n",
              "              style=\"display:none;\">\n",
              "\n",
              "<svg xmlns=\"http://www.w3.org/2000/svg\" height=\"24px\"viewBox=\"0 0 24 24\"\n",
              "     width=\"24px\">\n",
              "    <g>\n",
              "        <path d=\"M19 3H5c-1.1 0-2 .9-2 2v14c0 1.1.9 2 2 2h14c1.1 0 2-.9 2-2V5c0-1.1-.9-2-2-2zM9 17H7v-7h2v7zm4 0h-2V7h2v10zm4 0h-2v-4h2v4z\"/>\n",
              "    </g>\n",
              "</svg>\n",
              "      </button>\n",
              "    </div>\n",
              "\n",
              "<style>\n",
              "  .colab-df-quickchart {\n",
              "    background-color: #E8F0FE;\n",
              "    border: none;\n",
              "    border-radius: 50%;\n",
              "    cursor: pointer;\n",
              "    display: none;\n",
              "    fill: #1967D2;\n",
              "    height: 32px;\n",
              "    padding: 0 0 0 0;\n",
              "    width: 32px;\n",
              "  }\n",
              "\n",
              "  .colab-df-quickchart:hover {\n",
              "    background-color: #E2EBFA;\n",
              "    box-shadow: 0px 1px 2px rgba(60, 64, 67, 0.3), 0px 1px 3px 1px rgba(60, 64, 67, 0.15);\n",
              "    fill: #174EA6;\n",
              "  }\n",
              "\n",
              "  [theme=dark] .colab-df-quickchart {\n",
              "    background-color: #3B4455;\n",
              "    fill: #D2E3FC;\n",
              "  }\n",
              "\n",
              "  [theme=dark] .colab-df-quickchart:hover {\n",
              "    background-color: #434B5C;\n",
              "    box-shadow: 0px 1px 3px 1px rgba(0, 0, 0, 0.15);\n",
              "    filter: drop-shadow(0px 1px 2px rgba(0, 0, 0, 0.3));\n",
              "    fill: #FFFFFF;\n",
              "  }\n",
              "</style>\n",
              "\n",
              "    <script>\n",
              "      async function quickchart(key) {\n",
              "        const containerElement = document.querySelector('#' + key);\n",
              "        const charts = await google.colab.kernel.invokeFunction(\n",
              "            'suggestCharts', [key], {});\n",
              "      }\n",
              "    </script>\n",
              "\n",
              "      <script>\n",
              "\n",
              "function displayQuickchartButton(domScope) {\n",
              "  let quickchartButtonEl =\n",
              "    domScope.querySelector('#df-ad7a6c6e-50b7-4c7c-ae2f-83973c4ec65d button.colab-df-quickchart');\n",
              "  quickchartButtonEl.style.display =\n",
              "    google.colab.kernel.accessAllowed ? 'block' : 'none';\n",
              "}\n",
              "\n",
              "        displayQuickchartButton(document);\n",
              "      </script>\n",
              "      <style>\n",
              "    .colab-df-container {\n",
              "      display:flex;\n",
              "      flex-wrap:wrap;\n",
              "      gap: 12px;\n",
              "    }\n",
              "\n",
              "    .colab-df-convert {\n",
              "      background-color: #E8F0FE;\n",
              "      border: none;\n",
              "      border-radius: 50%;\n",
              "      cursor: pointer;\n",
              "      display: none;\n",
              "      fill: #1967D2;\n",
              "      height: 32px;\n",
              "      padding: 0 0 0 0;\n",
              "      width: 32px;\n",
              "    }\n",
              "\n",
              "    .colab-df-convert:hover {\n",
              "      background-color: #E2EBFA;\n",
              "      box-shadow: 0px 1px 2px rgba(60, 64, 67, 0.3), 0px 1px 3px 1px rgba(60, 64, 67, 0.15);\n",
              "      fill: #174EA6;\n",
              "    }\n",
              "\n",
              "    [theme=dark] .colab-df-convert {\n",
              "      background-color: #3B4455;\n",
              "      fill: #D2E3FC;\n",
              "    }\n",
              "\n",
              "    [theme=dark] .colab-df-convert:hover {\n",
              "      background-color: #434B5C;\n",
              "      box-shadow: 0px 1px 3px 1px rgba(0, 0, 0, 0.15);\n",
              "      filter: drop-shadow(0px 1px 2px rgba(0, 0, 0, 0.3));\n",
              "      fill: #FFFFFF;\n",
              "    }\n",
              "  </style>\n",
              "\n",
              "      <script>\n",
              "        const buttonEl =\n",
              "          document.querySelector('#df-55dbfdd8-88e1-43a6-86b8-33ec8c8e01f2 button.colab-df-convert');\n",
              "        buttonEl.style.display =\n",
              "          google.colab.kernel.accessAllowed ? 'block' : 'none';\n",
              "\n",
              "        async function convertToInteractive(key) {\n",
              "          const element = document.querySelector('#df-55dbfdd8-88e1-43a6-86b8-33ec8c8e01f2');\n",
              "          const dataTable =\n",
              "            await google.colab.kernel.invokeFunction('convertToInteractive',\n",
              "                                                     [key], {});\n",
              "          if (!dataTable) return;\n",
              "\n",
              "          const docLinkHtml = 'Like what you see? Visit the ' +\n",
              "            '<a target=\"_blank\" href=https://colab.research.google.com/notebooks/data_table.ipynb>data table notebook</a>'\n",
              "            + ' to learn more about interactive tables.';\n",
              "          element.innerHTML = '';\n",
              "          dataTable['output_type'] = 'display_data';\n",
              "          await google.colab.output.renderOutput(dataTable, element);\n",
              "          const docLink = document.createElement('div');\n",
              "          docLink.innerHTML = docLinkHtml;\n",
              "          element.appendChild(docLink);\n",
              "        }\n",
              "      </script>\n",
              "    </div>\n",
              "  </div>\n"
            ]
          },
          "metadata": {},
          "execution_count": 68
        }
      ]
    },
    {
      "cell_type": "code",
      "source": [
        "# Let's try to convert objets to numbers using one hot encoding technique\n",
        "# get_dummies in pandas\n",
        "\n",
        "insurance_one_hot = pd.get_dummies(insurance)\n",
        "insurance_one_hot.head()"
      ],
      "metadata": {
        "colab": {
          "base_uri": "https://localhost:8080/",
          "height": 270
        },
        "id": "WBAJlv36Hpqz",
        "outputId": "064bd8e8-6696-4995-bd2a-9d632013ad9f"
      },
      "execution_count": 69,
      "outputs": [
        {
          "output_type": "execute_result",
          "data": {
            "text/plain": [
              "   age     bmi  children      charges  sex_female  sex_male  smoker_no  \\\n",
              "0   19  27.900         0  16884.92400           1         0          0   \n",
              "1   18  33.770         1   1725.55230           0         1          1   \n",
              "2   28  33.000         3   4449.46200           0         1          1   \n",
              "3   33  22.705         0  21984.47061           0         1          1   \n",
              "4   32  28.880         0   3866.85520           0         1          1   \n",
              "\n",
              "   smoker_yes  region_northeast  region_northwest  region_southeast  \\\n",
              "0           1                 0                 0                 0   \n",
              "1           0                 0                 0                 1   \n",
              "2           0                 0                 0                 1   \n",
              "3           0                 0                 1                 0   \n",
              "4           0                 0                 1                 0   \n",
              "\n",
              "   region_southwest  \n",
              "0                 1  \n",
              "1                 0  \n",
              "2                 0  \n",
              "3                 0  \n",
              "4                 0  "
            ],
            "text/html": [
              "\n",
              "\n",
              "  <div id=\"df-45d20bf5-8a69-4ee8-bc2d-e454b5dfa4da\">\n",
              "    <div class=\"colab-df-container\">\n",
              "      <div>\n",
              "<style scoped>\n",
              "    .dataframe tbody tr th:only-of-type {\n",
              "        vertical-align: middle;\n",
              "    }\n",
              "\n",
              "    .dataframe tbody tr th {\n",
              "        vertical-align: top;\n",
              "    }\n",
              "\n",
              "    .dataframe thead th {\n",
              "        text-align: right;\n",
              "    }\n",
              "</style>\n",
              "<table border=\"1\" class=\"dataframe\">\n",
              "  <thead>\n",
              "    <tr style=\"text-align: right;\">\n",
              "      <th></th>\n",
              "      <th>age</th>\n",
              "      <th>bmi</th>\n",
              "      <th>children</th>\n",
              "      <th>charges</th>\n",
              "      <th>sex_female</th>\n",
              "      <th>sex_male</th>\n",
              "      <th>smoker_no</th>\n",
              "      <th>smoker_yes</th>\n",
              "      <th>region_northeast</th>\n",
              "      <th>region_northwest</th>\n",
              "      <th>region_southeast</th>\n",
              "      <th>region_southwest</th>\n",
              "    </tr>\n",
              "  </thead>\n",
              "  <tbody>\n",
              "    <tr>\n",
              "      <th>0</th>\n",
              "      <td>19</td>\n",
              "      <td>27.900</td>\n",
              "      <td>0</td>\n",
              "      <td>16884.92400</td>\n",
              "      <td>1</td>\n",
              "      <td>0</td>\n",
              "      <td>0</td>\n",
              "      <td>1</td>\n",
              "      <td>0</td>\n",
              "      <td>0</td>\n",
              "      <td>0</td>\n",
              "      <td>1</td>\n",
              "    </tr>\n",
              "    <tr>\n",
              "      <th>1</th>\n",
              "      <td>18</td>\n",
              "      <td>33.770</td>\n",
              "      <td>1</td>\n",
              "      <td>1725.55230</td>\n",
              "      <td>0</td>\n",
              "      <td>1</td>\n",
              "      <td>1</td>\n",
              "      <td>0</td>\n",
              "      <td>0</td>\n",
              "      <td>0</td>\n",
              "      <td>1</td>\n",
              "      <td>0</td>\n",
              "    </tr>\n",
              "    <tr>\n",
              "      <th>2</th>\n",
              "      <td>28</td>\n",
              "      <td>33.000</td>\n",
              "      <td>3</td>\n",
              "      <td>4449.46200</td>\n",
              "      <td>0</td>\n",
              "      <td>1</td>\n",
              "      <td>1</td>\n",
              "      <td>0</td>\n",
              "      <td>0</td>\n",
              "      <td>0</td>\n",
              "      <td>1</td>\n",
              "      <td>0</td>\n",
              "    </tr>\n",
              "    <tr>\n",
              "      <th>3</th>\n",
              "      <td>33</td>\n",
              "      <td>22.705</td>\n",
              "      <td>0</td>\n",
              "      <td>21984.47061</td>\n",
              "      <td>0</td>\n",
              "      <td>1</td>\n",
              "      <td>1</td>\n",
              "      <td>0</td>\n",
              "      <td>0</td>\n",
              "      <td>1</td>\n",
              "      <td>0</td>\n",
              "      <td>0</td>\n",
              "    </tr>\n",
              "    <tr>\n",
              "      <th>4</th>\n",
              "      <td>32</td>\n",
              "      <td>28.880</td>\n",
              "      <td>0</td>\n",
              "      <td>3866.85520</td>\n",
              "      <td>0</td>\n",
              "      <td>1</td>\n",
              "      <td>1</td>\n",
              "      <td>0</td>\n",
              "      <td>0</td>\n",
              "      <td>1</td>\n",
              "      <td>0</td>\n",
              "      <td>0</td>\n",
              "    </tr>\n",
              "  </tbody>\n",
              "</table>\n",
              "</div>\n",
              "      <button class=\"colab-df-convert\" onclick=\"convertToInteractive('df-45d20bf5-8a69-4ee8-bc2d-e454b5dfa4da')\"\n",
              "              title=\"Convert this dataframe to an interactive table.\"\n",
              "              style=\"display:none;\">\n",
              "\n",
              "  <svg xmlns=\"http://www.w3.org/2000/svg\" height=\"24px\"viewBox=\"0 0 24 24\"\n",
              "       width=\"24px\">\n",
              "    <path d=\"M0 0h24v24H0V0z\" fill=\"none\"/>\n",
              "    <path d=\"M18.56 5.44l.94 2.06.94-2.06 2.06-.94-2.06-.94-.94-2.06-.94 2.06-2.06.94zm-11 1L8.5 8.5l.94-2.06 2.06-.94-2.06-.94L8.5 2.5l-.94 2.06-2.06.94zm10 10l.94 2.06.94-2.06 2.06-.94-2.06-.94-.94-2.06-.94 2.06-2.06.94z\"/><path d=\"M17.41 7.96l-1.37-1.37c-.4-.4-.92-.59-1.43-.59-.52 0-1.04.2-1.43.59L10.3 9.45l-7.72 7.72c-.78.78-.78 2.05 0 2.83L4 21.41c.39.39.9.59 1.41.59.51 0 1.02-.2 1.41-.59l7.78-7.78 2.81-2.81c.8-.78.8-2.07 0-2.86zM5.41 20L4 18.59l7.72-7.72 1.47 1.35L5.41 20z\"/>\n",
              "  </svg>\n",
              "      </button>\n",
              "\n",
              "\n",
              "\n",
              "    <div id=\"df-3860137a-4fd5-4d77-864d-7ae3bb45c038\">\n",
              "      <button class=\"colab-df-quickchart\" onclick=\"quickchart('df-3860137a-4fd5-4d77-864d-7ae3bb45c038')\"\n",
              "              title=\"Suggest charts.\"\n",
              "              style=\"display:none;\">\n",
              "\n",
              "<svg xmlns=\"http://www.w3.org/2000/svg\" height=\"24px\"viewBox=\"0 0 24 24\"\n",
              "     width=\"24px\">\n",
              "    <g>\n",
              "        <path d=\"M19 3H5c-1.1 0-2 .9-2 2v14c0 1.1.9 2 2 2h14c1.1 0 2-.9 2-2V5c0-1.1-.9-2-2-2zM9 17H7v-7h2v7zm4 0h-2V7h2v10zm4 0h-2v-4h2v4z\"/>\n",
              "    </g>\n",
              "</svg>\n",
              "      </button>\n",
              "    </div>\n",
              "\n",
              "<style>\n",
              "  .colab-df-quickchart {\n",
              "    background-color: #E8F0FE;\n",
              "    border: none;\n",
              "    border-radius: 50%;\n",
              "    cursor: pointer;\n",
              "    display: none;\n",
              "    fill: #1967D2;\n",
              "    height: 32px;\n",
              "    padding: 0 0 0 0;\n",
              "    width: 32px;\n",
              "  }\n",
              "\n",
              "  .colab-df-quickchart:hover {\n",
              "    background-color: #E2EBFA;\n",
              "    box-shadow: 0px 1px 2px rgba(60, 64, 67, 0.3), 0px 1px 3px 1px rgba(60, 64, 67, 0.15);\n",
              "    fill: #174EA6;\n",
              "  }\n",
              "\n",
              "  [theme=dark] .colab-df-quickchart {\n",
              "    background-color: #3B4455;\n",
              "    fill: #D2E3FC;\n",
              "  }\n",
              "\n",
              "  [theme=dark] .colab-df-quickchart:hover {\n",
              "    background-color: #434B5C;\n",
              "    box-shadow: 0px 1px 3px 1px rgba(0, 0, 0, 0.15);\n",
              "    filter: drop-shadow(0px 1px 2px rgba(0, 0, 0, 0.3));\n",
              "    fill: #FFFFFF;\n",
              "  }\n",
              "</style>\n",
              "\n",
              "    <script>\n",
              "      async function quickchart(key) {\n",
              "        const containerElement = document.querySelector('#' + key);\n",
              "        const charts = await google.colab.kernel.invokeFunction(\n",
              "            'suggestCharts', [key], {});\n",
              "      }\n",
              "    </script>\n",
              "\n",
              "      <script>\n",
              "\n",
              "function displayQuickchartButton(domScope) {\n",
              "  let quickchartButtonEl =\n",
              "    domScope.querySelector('#df-3860137a-4fd5-4d77-864d-7ae3bb45c038 button.colab-df-quickchart');\n",
              "  quickchartButtonEl.style.display =\n",
              "    google.colab.kernel.accessAllowed ? 'block' : 'none';\n",
              "}\n",
              "\n",
              "        displayQuickchartButton(document);\n",
              "      </script>\n",
              "      <style>\n",
              "    .colab-df-container {\n",
              "      display:flex;\n",
              "      flex-wrap:wrap;\n",
              "      gap: 12px;\n",
              "    }\n",
              "\n",
              "    .colab-df-convert {\n",
              "      background-color: #E8F0FE;\n",
              "      border: none;\n",
              "      border-radius: 50%;\n",
              "      cursor: pointer;\n",
              "      display: none;\n",
              "      fill: #1967D2;\n",
              "      height: 32px;\n",
              "      padding: 0 0 0 0;\n",
              "      width: 32px;\n",
              "    }\n",
              "\n",
              "    .colab-df-convert:hover {\n",
              "      background-color: #E2EBFA;\n",
              "      box-shadow: 0px 1px 2px rgba(60, 64, 67, 0.3), 0px 1px 3px 1px rgba(60, 64, 67, 0.15);\n",
              "      fill: #174EA6;\n",
              "    }\n",
              "\n",
              "    [theme=dark] .colab-df-convert {\n",
              "      background-color: #3B4455;\n",
              "      fill: #D2E3FC;\n",
              "    }\n",
              "\n",
              "    [theme=dark] .colab-df-convert:hover {\n",
              "      background-color: #434B5C;\n",
              "      box-shadow: 0px 1px 3px 1px rgba(0, 0, 0, 0.15);\n",
              "      filter: drop-shadow(0px 1px 2px rgba(0, 0, 0, 0.3));\n",
              "      fill: #FFFFFF;\n",
              "    }\n",
              "  </style>\n",
              "\n",
              "      <script>\n",
              "        const buttonEl =\n",
              "          document.querySelector('#df-45d20bf5-8a69-4ee8-bc2d-e454b5dfa4da button.colab-df-convert');\n",
              "        buttonEl.style.display =\n",
              "          google.colab.kernel.accessAllowed ? 'block' : 'none';\n",
              "\n",
              "        async function convertToInteractive(key) {\n",
              "          const element = document.querySelector('#df-45d20bf5-8a69-4ee8-bc2d-e454b5dfa4da');\n",
              "          const dataTable =\n",
              "            await google.colab.kernel.invokeFunction('convertToInteractive',\n",
              "                                                     [key], {});\n",
              "          if (!dataTable) return;\n",
              "\n",
              "          const docLinkHtml = 'Like what you see? Visit the ' +\n",
              "            '<a target=\"_blank\" href=https://colab.research.google.com/notebooks/data_table.ipynb>data table notebook</a>'\n",
              "            + ' to learn more about interactive tables.';\n",
              "          element.innerHTML = '';\n",
              "          dataTable['output_type'] = 'display_data';\n",
              "          await google.colab.output.renderOutput(dataTable, element);\n",
              "          const docLink = document.createElement('div');\n",
              "          docLink.innerHTML = docLinkHtml;\n",
              "          element.appendChild(docLink);\n",
              "        }\n",
              "      </script>\n",
              "    </div>\n",
              "  </div>\n"
            ]
          },
          "metadata": {},
          "execution_count": 69
        }
      ]
    },
    {
      "cell_type": "code",
      "source": [
        "# Create X and y values (features and labels)\n",
        "X = insurance_one_hot.drop('charges', axis=1)\n",
        "y = insurance_one_hot['charges']\n"
      ],
      "metadata": {
        "id": "rUcQaX8WMDMx"
      },
      "execution_count": 70,
      "outputs": []
    },
    {
      "cell_type": "code",
      "source": [
        "# View X\n",
        "X.head()"
      ],
      "metadata": {
        "colab": {
          "base_uri": "https://localhost:8080/",
          "height": 270
        },
        "id": "Vstan5cCNx_y",
        "outputId": "a704c115-74a8-4c90-8af8-dc0084a26802"
      },
      "execution_count": 71,
      "outputs": [
        {
          "output_type": "execute_result",
          "data": {
            "text/plain": [
              "   age     bmi  children  sex_female  sex_male  smoker_no  smoker_yes  \\\n",
              "0   19  27.900         0           1         0          0           1   \n",
              "1   18  33.770         1           0         1          1           0   \n",
              "2   28  33.000         3           0         1          1           0   \n",
              "3   33  22.705         0           0         1          1           0   \n",
              "4   32  28.880         0           0         1          1           0   \n",
              "\n",
              "   region_northeast  region_northwest  region_southeast  region_southwest  \n",
              "0                 0                 0                 0                 1  \n",
              "1                 0                 0                 1                 0  \n",
              "2                 0                 0                 1                 0  \n",
              "3                 0                 1                 0                 0  \n",
              "4                 0                 1                 0                 0  "
            ],
            "text/html": [
              "\n",
              "\n",
              "  <div id=\"df-e610ba21-d123-4b52-9e85-d404d057a245\">\n",
              "    <div class=\"colab-df-container\">\n",
              "      <div>\n",
              "<style scoped>\n",
              "    .dataframe tbody tr th:only-of-type {\n",
              "        vertical-align: middle;\n",
              "    }\n",
              "\n",
              "    .dataframe tbody tr th {\n",
              "        vertical-align: top;\n",
              "    }\n",
              "\n",
              "    .dataframe thead th {\n",
              "        text-align: right;\n",
              "    }\n",
              "</style>\n",
              "<table border=\"1\" class=\"dataframe\">\n",
              "  <thead>\n",
              "    <tr style=\"text-align: right;\">\n",
              "      <th></th>\n",
              "      <th>age</th>\n",
              "      <th>bmi</th>\n",
              "      <th>children</th>\n",
              "      <th>sex_female</th>\n",
              "      <th>sex_male</th>\n",
              "      <th>smoker_no</th>\n",
              "      <th>smoker_yes</th>\n",
              "      <th>region_northeast</th>\n",
              "      <th>region_northwest</th>\n",
              "      <th>region_southeast</th>\n",
              "      <th>region_southwest</th>\n",
              "    </tr>\n",
              "  </thead>\n",
              "  <tbody>\n",
              "    <tr>\n",
              "      <th>0</th>\n",
              "      <td>19</td>\n",
              "      <td>27.900</td>\n",
              "      <td>0</td>\n",
              "      <td>1</td>\n",
              "      <td>0</td>\n",
              "      <td>0</td>\n",
              "      <td>1</td>\n",
              "      <td>0</td>\n",
              "      <td>0</td>\n",
              "      <td>0</td>\n",
              "      <td>1</td>\n",
              "    </tr>\n",
              "    <tr>\n",
              "      <th>1</th>\n",
              "      <td>18</td>\n",
              "      <td>33.770</td>\n",
              "      <td>1</td>\n",
              "      <td>0</td>\n",
              "      <td>1</td>\n",
              "      <td>1</td>\n",
              "      <td>0</td>\n",
              "      <td>0</td>\n",
              "      <td>0</td>\n",
              "      <td>1</td>\n",
              "      <td>0</td>\n",
              "    </tr>\n",
              "    <tr>\n",
              "      <th>2</th>\n",
              "      <td>28</td>\n",
              "      <td>33.000</td>\n",
              "      <td>3</td>\n",
              "      <td>0</td>\n",
              "      <td>1</td>\n",
              "      <td>1</td>\n",
              "      <td>0</td>\n",
              "      <td>0</td>\n",
              "      <td>0</td>\n",
              "      <td>1</td>\n",
              "      <td>0</td>\n",
              "    </tr>\n",
              "    <tr>\n",
              "      <th>3</th>\n",
              "      <td>33</td>\n",
              "      <td>22.705</td>\n",
              "      <td>0</td>\n",
              "      <td>0</td>\n",
              "      <td>1</td>\n",
              "      <td>1</td>\n",
              "      <td>0</td>\n",
              "      <td>0</td>\n",
              "      <td>1</td>\n",
              "      <td>0</td>\n",
              "      <td>0</td>\n",
              "    </tr>\n",
              "    <tr>\n",
              "      <th>4</th>\n",
              "      <td>32</td>\n",
              "      <td>28.880</td>\n",
              "      <td>0</td>\n",
              "      <td>0</td>\n",
              "      <td>1</td>\n",
              "      <td>1</td>\n",
              "      <td>0</td>\n",
              "      <td>0</td>\n",
              "      <td>1</td>\n",
              "      <td>0</td>\n",
              "      <td>0</td>\n",
              "    </tr>\n",
              "  </tbody>\n",
              "</table>\n",
              "</div>\n",
              "      <button class=\"colab-df-convert\" onclick=\"convertToInteractive('df-e610ba21-d123-4b52-9e85-d404d057a245')\"\n",
              "              title=\"Convert this dataframe to an interactive table.\"\n",
              "              style=\"display:none;\">\n",
              "\n",
              "  <svg xmlns=\"http://www.w3.org/2000/svg\" height=\"24px\"viewBox=\"0 0 24 24\"\n",
              "       width=\"24px\">\n",
              "    <path d=\"M0 0h24v24H0V0z\" fill=\"none\"/>\n",
              "    <path d=\"M18.56 5.44l.94 2.06.94-2.06 2.06-.94-2.06-.94-.94-2.06-.94 2.06-2.06.94zm-11 1L8.5 8.5l.94-2.06 2.06-.94-2.06-.94L8.5 2.5l-.94 2.06-2.06.94zm10 10l.94 2.06.94-2.06 2.06-.94-2.06-.94-.94-2.06-.94 2.06-2.06.94z\"/><path d=\"M17.41 7.96l-1.37-1.37c-.4-.4-.92-.59-1.43-.59-.52 0-1.04.2-1.43.59L10.3 9.45l-7.72 7.72c-.78.78-.78 2.05 0 2.83L4 21.41c.39.39.9.59 1.41.59.51 0 1.02-.2 1.41-.59l7.78-7.78 2.81-2.81c.8-.78.8-2.07 0-2.86zM5.41 20L4 18.59l7.72-7.72 1.47 1.35L5.41 20z\"/>\n",
              "  </svg>\n",
              "      </button>\n",
              "\n",
              "\n",
              "\n",
              "    <div id=\"df-99dd2a95-7ca5-42d8-af2d-417c215a4830\">\n",
              "      <button class=\"colab-df-quickchart\" onclick=\"quickchart('df-99dd2a95-7ca5-42d8-af2d-417c215a4830')\"\n",
              "              title=\"Suggest charts.\"\n",
              "              style=\"display:none;\">\n",
              "\n",
              "<svg xmlns=\"http://www.w3.org/2000/svg\" height=\"24px\"viewBox=\"0 0 24 24\"\n",
              "     width=\"24px\">\n",
              "    <g>\n",
              "        <path d=\"M19 3H5c-1.1 0-2 .9-2 2v14c0 1.1.9 2 2 2h14c1.1 0 2-.9 2-2V5c0-1.1-.9-2-2-2zM9 17H7v-7h2v7zm4 0h-2V7h2v10zm4 0h-2v-4h2v4z\"/>\n",
              "    </g>\n",
              "</svg>\n",
              "      </button>\n",
              "    </div>\n",
              "\n",
              "<style>\n",
              "  .colab-df-quickchart {\n",
              "    background-color: #E8F0FE;\n",
              "    border: none;\n",
              "    border-radius: 50%;\n",
              "    cursor: pointer;\n",
              "    display: none;\n",
              "    fill: #1967D2;\n",
              "    height: 32px;\n",
              "    padding: 0 0 0 0;\n",
              "    width: 32px;\n",
              "  }\n",
              "\n",
              "  .colab-df-quickchart:hover {\n",
              "    background-color: #E2EBFA;\n",
              "    box-shadow: 0px 1px 2px rgba(60, 64, 67, 0.3), 0px 1px 3px 1px rgba(60, 64, 67, 0.15);\n",
              "    fill: #174EA6;\n",
              "  }\n",
              "\n",
              "  [theme=dark] .colab-df-quickchart {\n",
              "    background-color: #3B4455;\n",
              "    fill: #D2E3FC;\n",
              "  }\n",
              "\n",
              "  [theme=dark] .colab-df-quickchart:hover {\n",
              "    background-color: #434B5C;\n",
              "    box-shadow: 0px 1px 3px 1px rgba(0, 0, 0, 0.15);\n",
              "    filter: drop-shadow(0px 1px 2px rgba(0, 0, 0, 0.3));\n",
              "    fill: #FFFFFF;\n",
              "  }\n",
              "</style>\n",
              "\n",
              "    <script>\n",
              "      async function quickchart(key) {\n",
              "        const containerElement = document.querySelector('#' + key);\n",
              "        const charts = await google.colab.kernel.invokeFunction(\n",
              "            'suggestCharts', [key], {});\n",
              "      }\n",
              "    </script>\n",
              "\n",
              "      <script>\n",
              "\n",
              "function displayQuickchartButton(domScope) {\n",
              "  let quickchartButtonEl =\n",
              "    domScope.querySelector('#df-99dd2a95-7ca5-42d8-af2d-417c215a4830 button.colab-df-quickchart');\n",
              "  quickchartButtonEl.style.display =\n",
              "    google.colab.kernel.accessAllowed ? 'block' : 'none';\n",
              "}\n",
              "\n",
              "        displayQuickchartButton(document);\n",
              "      </script>\n",
              "      <style>\n",
              "    .colab-df-container {\n",
              "      display:flex;\n",
              "      flex-wrap:wrap;\n",
              "      gap: 12px;\n",
              "    }\n",
              "\n",
              "    .colab-df-convert {\n",
              "      background-color: #E8F0FE;\n",
              "      border: none;\n",
              "      border-radius: 50%;\n",
              "      cursor: pointer;\n",
              "      display: none;\n",
              "      fill: #1967D2;\n",
              "      height: 32px;\n",
              "      padding: 0 0 0 0;\n",
              "      width: 32px;\n",
              "    }\n",
              "\n",
              "    .colab-df-convert:hover {\n",
              "      background-color: #E2EBFA;\n",
              "      box-shadow: 0px 1px 2px rgba(60, 64, 67, 0.3), 0px 1px 3px 1px rgba(60, 64, 67, 0.15);\n",
              "      fill: #174EA6;\n",
              "    }\n",
              "\n",
              "    [theme=dark] .colab-df-convert {\n",
              "      background-color: #3B4455;\n",
              "      fill: #D2E3FC;\n",
              "    }\n",
              "\n",
              "    [theme=dark] .colab-df-convert:hover {\n",
              "      background-color: #434B5C;\n",
              "      box-shadow: 0px 1px 3px 1px rgba(0, 0, 0, 0.15);\n",
              "      filter: drop-shadow(0px 1px 2px rgba(0, 0, 0, 0.3));\n",
              "      fill: #FFFFFF;\n",
              "    }\n",
              "  </style>\n",
              "\n",
              "      <script>\n",
              "        const buttonEl =\n",
              "          document.querySelector('#df-e610ba21-d123-4b52-9e85-d404d057a245 button.colab-df-convert');\n",
              "        buttonEl.style.display =\n",
              "          google.colab.kernel.accessAllowed ? 'block' : 'none';\n",
              "\n",
              "        async function convertToInteractive(key) {\n",
              "          const element = document.querySelector('#df-e610ba21-d123-4b52-9e85-d404d057a245');\n",
              "          const dataTable =\n",
              "            await google.colab.kernel.invokeFunction('convertToInteractive',\n",
              "                                                     [key], {});\n",
              "          if (!dataTable) return;\n",
              "\n",
              "          const docLinkHtml = 'Like what you see? Visit the ' +\n",
              "            '<a target=\"_blank\" href=https://colab.research.google.com/notebooks/data_table.ipynb>data table notebook</a>'\n",
              "            + ' to learn more about interactive tables.';\n",
              "          element.innerHTML = '';\n",
              "          dataTable['output_type'] = 'display_data';\n",
              "          await google.colab.output.renderOutput(dataTable, element);\n",
              "          const docLink = document.createElement('div');\n",
              "          docLink.innerHTML = docLinkHtml;\n",
              "          element.appendChild(docLink);\n",
              "        }\n",
              "      </script>\n",
              "    </div>\n",
              "  </div>\n"
            ]
          },
          "metadata": {},
          "execution_count": 71
        }
      ]
    },
    {
      "cell_type": "code",
      "source": [
        "# View y\n",
        "y.head()"
      ],
      "metadata": {
        "colab": {
          "base_uri": "https://localhost:8080/"
        },
        "id": "_ZLnDAxKOI8L",
        "outputId": "2cff4b91-124b-4775-a502-ff2138230583"
      },
      "execution_count": 72,
      "outputs": [
        {
          "output_type": "execute_result",
          "data": {
            "text/plain": [
              "0    16884.92400\n",
              "1     1725.55230\n",
              "2     4449.46200\n",
              "3    21984.47061\n",
              "4     3866.85520\n",
              "Name: charges, dtype: float64"
            ]
          },
          "metadata": {},
          "execution_count": 72
        }
      ]
    },
    {
      "cell_type": "code",
      "source": [
        "# Create training and test sets\n",
        "# Using scikitlearn train test split\n",
        "\n",
        "from sklearn.model_selection import train_test_split\n",
        "X_train, X_test, y_train, y_test = train_test_split(X, y, test_size=0.2, random_state=42)\n",
        "len(X), len(X_train), len(X_test)"
      ],
      "metadata": {
        "colab": {
          "base_uri": "https://localhost:8080/"
        },
        "id": "6d4rqH9SNY79",
        "outputId": "540a21cb-22fd-4085-c64d-7e239bc9e9e8"
      },
      "execution_count": 73,
      "outputs": [
        {
          "output_type": "execute_result",
          "data": {
            "text/plain": [
              "(1338, 1070, 268)"
            ]
          },
          "metadata": {},
          "execution_count": 73
        }
      ]
    },
    {
      "cell_type": "code",
      "source": [
        "len(X) == len(X_train) + len(X_test)"
      ],
      "metadata": {
        "colab": {
          "base_uri": "https://localhost:8080/"
        },
        "id": "79CLTlZTPkUq",
        "outputId": "7c0351b6-b677-4646-8ac3-33433ad1fbd9"
      },
      "execution_count": 74,
      "outputs": [
        {
          "output_type": "execute_result",
          "data": {
            "text/plain": [
              "True"
            ]
          },
          "metadata": {},
          "execution_count": 74
        }
      ]
    },
    {
      "cell_type": "code",
      "source": [
        "# Build a neural network (sort of like model 2 above)\n",
        "# Set the random set_seed\n",
        "tf.random.set_seed(42)\n",
        "\n",
        "# 1. Create a model\n",
        "model_in = tf.keras.models.Sequential([\n",
        "    tf.keras.layers.Dense(10),\n",
        "    tf.keras.layers.Dense(1)\n",
        "])\n",
        "\n",
        "# 2. Compile the model\n",
        "model_in.compile(loss=tf.keras.losses.mae,\n",
        "                 optimizer=tf.keras.optimizers.SGD(),\n",
        "                 metrics='mae')\n",
        "\n",
        "# 3. Fit the model\n",
        "model_in.fit(tf.expand_dims(X_train, axis=-1), y_train, epochs=100)\n"
      ],
      "metadata": {
        "colab": {
          "base_uri": "https://localhost:8080/"
        },
        "id": "zCpe5UICNYn0",
        "outputId": "9fb956b6-ac9d-4211-e2c2-85aa93659f4a"
      },
      "execution_count": 86,
      "outputs": [
        {
          "output_type": "stream",
          "name": "stdout",
          "text": [
            "Epoch 1/100\n",
            "34/34 [==============================] - 1s 4ms/step - loss: 13237.4238 - mae: 13237.4238\n",
            "Epoch 2/100\n",
            "34/34 [==============================] - 0s 4ms/step - loss: 12312.4463 - mae: 12312.4463\n",
            "Epoch 3/100\n",
            "34/34 [==============================] - 0s 4ms/step - loss: 12173.3027 - mae: 12173.3027\n",
            "Epoch 4/100\n",
            "34/34 [==============================] - 0s 4ms/step - loss: 12098.4990 - mae: 12098.4990\n",
            "Epoch 5/100\n",
            "34/34 [==============================] - 0s 3ms/step - loss: 11984.3613 - mae: 11984.3613\n",
            "Epoch 6/100\n",
            "34/34 [==============================] - 0s 3ms/step - loss: 11797.8398 - mae: 11797.8398\n",
            "Epoch 7/100\n",
            "34/34 [==============================] - 0s 4ms/step - loss: 11473.3076 - mae: 11473.3076\n",
            "Epoch 8/100\n",
            "34/34 [==============================] - 0s 4ms/step - loss: 10962.6172 - mae: 10962.6172\n",
            "Epoch 9/100\n",
            "34/34 [==============================] - 0s 4ms/step - loss: 10346.7744 - mae: 10346.7744\n",
            "Epoch 10/100\n",
            "34/34 [==============================] - 0s 5ms/step - loss: 9699.4727 - mae: 9699.4727\n",
            "Epoch 11/100\n",
            "34/34 [==============================] - 0s 4ms/step - loss: 9188.5439 - mae: 9188.5439\n",
            "Epoch 12/100\n",
            "34/34 [==============================] - 0s 4ms/step - loss: 8809.9268 - mae: 8809.9268\n",
            "Epoch 13/100\n",
            "34/34 [==============================] - 0s 3ms/step - loss: 8642.6709 - mae: 8642.6709\n",
            "Epoch 14/100\n",
            "34/34 [==============================] - 0s 4ms/step - loss: 8522.0879 - mae: 8522.0879\n",
            "Epoch 15/100\n",
            "34/34 [==============================] - 0s 4ms/step - loss: 8505.7500 - mae: 8505.7500\n",
            "Epoch 16/100\n",
            "34/34 [==============================] - 0s 4ms/step - loss: 8588.4473 - mae: 8588.4473\n",
            "Epoch 17/100\n",
            "34/34 [==============================] - 0s 4ms/step - loss: 8560.6992 - mae: 8560.6992\n",
            "Epoch 18/100\n",
            "34/34 [==============================] - 0s 3ms/step - loss: 8529.0049 - mae: 8529.0049\n",
            "Epoch 19/100\n",
            "34/34 [==============================] - 0s 3ms/step - loss: 8465.6846 - mae: 8465.6846\n",
            "Epoch 20/100\n",
            "34/34 [==============================] - 0s 4ms/step - loss: 8560.5537 - mae: 8560.5537\n",
            "Epoch 21/100\n",
            "34/34 [==============================] - 0s 3ms/step - loss: 8460.3184 - mae: 8460.3184\n",
            "Epoch 22/100\n",
            "34/34 [==============================] - 0s 3ms/step - loss: 8529.9355 - mae: 8529.9355\n",
            "Epoch 23/100\n",
            "34/34 [==============================] - 0s 4ms/step - loss: 8547.4795 - mae: 8547.4795\n",
            "Epoch 24/100\n",
            "34/34 [==============================] - 0s 3ms/step - loss: 8474.4863 - mae: 8474.4863\n",
            "Epoch 25/100\n",
            "34/34 [==============================] - 0s 4ms/step - loss: 8506.3975 - mae: 8506.3975\n",
            "Epoch 26/100\n",
            "34/34 [==============================] - 0s 3ms/step - loss: 8435.8223 - mae: 8435.8223\n",
            "Epoch 27/100\n",
            "34/34 [==============================] - 0s 3ms/step - loss: 8533.5254 - mae: 8533.5254\n",
            "Epoch 28/100\n",
            "34/34 [==============================] - 0s 3ms/step - loss: 8431.5518 - mae: 8431.5518\n",
            "Epoch 29/100\n",
            "34/34 [==============================] - 0s 4ms/step - loss: 8432.3105 - mae: 8432.3105\n",
            "Epoch 30/100\n",
            "34/34 [==============================] - 0s 4ms/step - loss: 8485.8604 - mae: 8485.8604\n",
            "Epoch 31/100\n",
            "34/34 [==============================] - 0s 4ms/step - loss: 8463.4512 - mae: 8463.4512\n",
            "Epoch 32/100\n",
            "34/34 [==============================] - 0s 4ms/step - loss: 8467.2480 - mae: 8467.2480\n",
            "Epoch 33/100\n",
            "34/34 [==============================] - 0s 4ms/step - loss: 8404.3994 - mae: 8404.3994\n",
            "Epoch 34/100\n",
            "34/34 [==============================] - 0s 4ms/step - loss: 8416.5801 - mae: 8416.5801\n",
            "Epoch 35/100\n",
            "34/34 [==============================] - 0s 3ms/step - loss: 8424.8154 - mae: 8424.8154\n",
            "Epoch 36/100\n",
            "34/34 [==============================] - 0s 4ms/step - loss: 8420.7559 - mae: 8420.7559\n",
            "Epoch 37/100\n",
            "34/34 [==============================] - 0s 3ms/step - loss: 8465.0332 - mae: 8465.0332\n",
            "Epoch 38/100\n",
            "34/34 [==============================] - 0s 4ms/step - loss: 8395.3076 - mae: 8395.3076\n",
            "Epoch 39/100\n",
            "34/34 [==============================] - 0s 3ms/step - loss: 8424.1758 - mae: 8424.1758\n",
            "Epoch 40/100\n",
            "34/34 [==============================] - 0s 4ms/step - loss: 8343.7998 - mae: 8343.7998\n",
            "Epoch 41/100\n",
            "34/34 [==============================] - 0s 4ms/step - loss: 8418.7129 - mae: 8418.7129\n",
            "Epoch 42/100\n",
            "34/34 [==============================] - 0s 4ms/step - loss: 8399.5088 - mae: 8399.5088\n",
            "Epoch 43/100\n",
            "34/34 [==============================] - 0s 4ms/step - loss: 8464.5186 - mae: 8464.5186\n",
            "Epoch 44/100\n",
            "34/34 [==============================] - 0s 3ms/step - loss: 8383.7012 - mae: 8383.7012\n",
            "Epoch 45/100\n",
            "34/34 [==============================] - 0s 3ms/step - loss: 8430.5215 - mae: 8430.5215\n",
            "Epoch 46/100\n",
            "34/34 [==============================] - 0s 4ms/step - loss: 8400.4434 - mae: 8400.4434\n",
            "Epoch 47/100\n",
            "34/34 [==============================] - 0s 3ms/step - loss: 8396.6367 - mae: 8396.6367\n",
            "Epoch 48/100\n",
            "34/34 [==============================] - 0s 4ms/step - loss: 8368.2998 - mae: 8368.2998\n",
            "Epoch 49/100\n",
            "34/34 [==============================] - 0s 4ms/step - loss: 8414.6328 - mae: 8414.6328\n",
            "Epoch 50/100\n",
            "34/34 [==============================] - 0s 3ms/step - loss: 8390.9854 - mae: 8390.9854\n",
            "Epoch 51/100\n",
            "34/34 [==============================] - 0s 4ms/step - loss: 8356.7100 - mae: 8356.7100\n",
            "Epoch 52/100\n",
            "34/34 [==============================] - 0s 3ms/step - loss: 8371.9834 - mae: 8371.9834\n",
            "Epoch 53/100\n",
            "34/34 [==============================] - 0s 3ms/step - loss: 8440.0381 - mae: 8440.0381\n",
            "Epoch 54/100\n",
            "34/34 [==============================] - 0s 4ms/step - loss: 8395.6816 - mae: 8395.6816\n",
            "Epoch 55/100\n",
            "34/34 [==============================] - 0s 4ms/step - loss: 8358.0254 - mae: 8358.0254\n",
            "Epoch 56/100\n",
            "34/34 [==============================] - 0s 4ms/step - loss: 8372.1963 - mae: 8372.1963\n",
            "Epoch 57/100\n",
            "34/34 [==============================] - 0s 4ms/step - loss: 8392.8701 - mae: 8392.8701\n",
            "Epoch 58/100\n",
            "34/34 [==============================] - 0s 4ms/step - loss: 8345.5107 - mae: 8345.5107\n",
            "Epoch 59/100\n",
            "34/34 [==============================] - 0s 4ms/step - loss: 8420.1475 - mae: 8420.1475\n",
            "Epoch 60/100\n",
            "34/34 [==============================] - 0s 3ms/step - loss: 8435.8008 - mae: 8435.8008\n",
            "Epoch 61/100\n",
            "34/34 [==============================] - 0s 4ms/step - loss: 8412.1211 - mae: 8412.1211\n",
            "Epoch 62/100\n",
            "34/34 [==============================] - 0s 4ms/step - loss: 8347.8125 - mae: 8347.8125\n",
            "Epoch 63/100\n",
            "34/34 [==============================] - 0s 4ms/step - loss: 8379.3408 - mae: 8379.3408\n",
            "Epoch 64/100\n",
            "34/34 [==============================] - 0s 4ms/step - loss: 8391.6865 - mae: 8391.6865\n",
            "Epoch 65/100\n",
            "34/34 [==============================] - 0s 4ms/step - loss: 8402.0869 - mae: 8402.0869\n",
            "Epoch 66/100\n",
            "34/34 [==============================] - 0s 3ms/step - loss: 8379.9639 - mae: 8379.9639\n",
            "Epoch 67/100\n",
            "34/34 [==============================] - 0s 4ms/step - loss: 8327.8311 - mae: 8327.8311\n",
            "Epoch 68/100\n",
            "34/34 [==============================] - 0s 3ms/step - loss: 8339.4453 - mae: 8339.4453\n",
            "Epoch 69/100\n",
            "34/34 [==============================] - 0s 4ms/step - loss: 8352.8369 - mae: 8352.8369\n",
            "Epoch 70/100\n",
            "34/34 [==============================] - 0s 5ms/step - loss: 8408.4072 - mae: 8408.4072\n",
            "Epoch 71/100\n",
            "34/34 [==============================] - 0s 5ms/step - loss: 8355.2383 - mae: 8355.2383\n",
            "Epoch 72/100\n",
            "34/34 [==============================] - 0s 5ms/step - loss: 8366.7559 - mae: 8366.7559\n",
            "Epoch 73/100\n",
            "34/34 [==============================] - 0s 5ms/step - loss: 8355.2451 - mae: 8355.2451\n",
            "Epoch 74/100\n",
            "34/34 [==============================] - 0s 5ms/step - loss: 8365.6191 - mae: 8365.6191\n",
            "Epoch 75/100\n",
            "34/34 [==============================] - 0s 5ms/step - loss: 8331.6240 - mae: 8331.6240\n",
            "Epoch 76/100\n",
            "34/34 [==============================] - 0s 5ms/step - loss: 8336.6748 - mae: 8336.6748\n",
            "Epoch 77/100\n",
            "34/34 [==============================] - 0s 6ms/step - loss: 8369.0273 - mae: 8369.0273\n",
            "Epoch 78/100\n",
            "34/34 [==============================] - 0s 6ms/step - loss: 8365.9414 - mae: 8365.9414\n",
            "Epoch 79/100\n",
            "34/34 [==============================] - 0s 6ms/step - loss: 8401.0547 - mae: 8401.0547\n",
            "Epoch 80/100\n",
            "34/34 [==============================] - 0s 6ms/step - loss: 8321.9424 - mae: 8321.9424\n",
            "Epoch 81/100\n",
            "34/34 [==============================] - 0s 5ms/step - loss: 8364.4229 - mae: 8364.4229\n",
            "Epoch 82/100\n",
            "34/34 [==============================] - 0s 5ms/step - loss: 8335.3809 - mae: 8335.3809\n",
            "Epoch 83/100\n",
            "34/34 [==============================] - 0s 6ms/step - loss: 8411.9678 - mae: 8411.9678\n",
            "Epoch 84/100\n",
            "34/34 [==============================] - 0s 6ms/step - loss: 8344.8623 - mae: 8344.8623\n",
            "Epoch 85/100\n",
            "34/34 [==============================] - 0s 5ms/step - loss: 8371.6172 - mae: 8371.6172\n",
            "Epoch 86/100\n",
            "34/34 [==============================] - 0s 6ms/step - loss: 8366.4248 - mae: 8366.4248\n",
            "Epoch 87/100\n",
            "34/34 [==============================] - 0s 6ms/step - loss: 8352.3730 - mae: 8352.3730\n",
            "Epoch 88/100\n",
            "34/34 [==============================] - 0s 6ms/step - loss: 8349.7109 - mae: 8349.7109\n",
            "Epoch 89/100\n",
            "34/34 [==============================] - 0s 4ms/step - loss: 8385.8916 - mae: 8385.8916\n",
            "Epoch 90/100\n",
            "34/34 [==============================] - 0s 4ms/step - loss: 8324.2490 - mae: 8324.2490\n",
            "Epoch 91/100\n",
            "34/34 [==============================] - 0s 4ms/step - loss: 8355.5078 - mae: 8355.5078\n",
            "Epoch 92/100\n",
            "34/34 [==============================] - 0s 4ms/step - loss: 8378.9072 - mae: 8378.9072\n",
            "Epoch 93/100\n",
            "34/34 [==============================] - 0s 4ms/step - loss: 8343.8584 - mae: 8343.8584\n",
            "Epoch 94/100\n",
            "34/34 [==============================] - 0s 3ms/step - loss: 8317.1631 - mae: 8317.1631\n",
            "Epoch 95/100\n",
            "34/34 [==============================] - 0s 4ms/step - loss: 8334.3232 - mae: 8334.3232\n",
            "Epoch 96/100\n",
            "34/34 [==============================] - 0s 3ms/step - loss: 8348.0059 - mae: 8348.0059\n",
            "Epoch 97/100\n",
            "34/34 [==============================] - 0s 4ms/step - loss: 8348.1807 - mae: 8348.1807\n",
            "Epoch 98/100\n",
            "34/34 [==============================] - 0s 4ms/step - loss: 8347.8154 - mae: 8347.8154\n",
            "Epoch 99/100\n",
            "34/34 [==============================] - 0s 4ms/step - loss: 8328.2666 - mae: 8328.2666\n",
            "Epoch 100/100\n",
            "34/34 [==============================] - 0s 4ms/step - loss: 8334.6504 - mae: 8334.6504\n"
          ]
        },
        {
          "output_type": "execute_result",
          "data": {
            "text/plain": [
              "<keras.callbacks.History at 0x7ad5846cc910>"
            ]
          },
          "metadata": {},
          "execution_count": 86
        }
      ]
    },
    {
      "cell_type": "code",
      "source": [
        "# Check the results of the insurance model on the test data\n",
        "model_in.evaluate(X_test, y_test)"
      ],
      "metadata": {
        "colab": {
          "base_uri": "https://localhost:8080/"
        },
        "id": "yUCUCPITQ-32",
        "outputId": "f196d34c-0ce8-471c-c7a2-63fba5024d3d"
      },
      "execution_count": 87,
      "outputs": [
        {
          "output_type": "stream",
          "name": "stdout",
          "text": [
            "9/9 [==============================] - 0s 4ms/step - loss: 8961.6387 - mae: 8961.6387\n"
          ]
        },
        {
          "output_type": "execute_result",
          "data": {
            "text/plain": [
              "[8961.638671875, 8961.638671875]"
            ]
          },
          "metadata": {},
          "execution_count": 87
        }
      ]
    },
    {
      "cell_type": "code",
      "source": [
        "y_train.median(), y_train.mean()"
      ],
      "metadata": {
        "colab": {
          "base_uri": "https://localhost:8080/"
        },
        "id": "quRiwUMISBFE",
        "outputId": "b8fa4c9c-8cea-46cb-a397-4fce6fcfd7b3"
      },
      "execution_count": 88,
      "outputs": [
        {
          "output_type": "execute_result",
          "data": {
            "text/plain": [
              "(9575.4421, 13346.089736364485)"
            ]
          },
          "metadata": {},
          "execution_count": 88
        }
      ]
    },
    {
      "cell_type": "markdown",
      "source": [
        "It looks like the model is not performing too well...\n",
        "Let's improve it!"
      ],
      "metadata": {
        "id": "wPMEfXmrSk4q"
      }
    },
    {
      "cell_type": "code",
      "source": [
        "tf.random.set_seed(42)\n",
        "\n",
        "model_in2 = tf.keras.models.Sequential([\n",
        "    tf.keras.layers.Dense(100),\n",
        "    tf.keras.layers.Dense(10),\n",
        "    tf.keras.layers.Dense(1)\n",
        "])\n",
        "\n",
        "model_in2.compile(loss=tf.keras.losses.mae,\n",
        "                  optimizer=tf.keras.optimizers.Adam(),\n",
        "                  metrics='mae')\n",
        "\n",
        "model_in2.fit(tf.expand_dims(X_train, axis=-1), y_train, epochs=100, verbose=0)"
      ],
      "metadata": {
        "colab": {
          "base_uri": "https://localhost:8080/"
        },
        "id": "1wY5d4RQTAzy",
        "outputId": "d68daeb1-2e3a-4d26-a800-242852a5618f"
      },
      "execution_count": 89,
      "outputs": [
        {
          "output_type": "execute_result",
          "data": {
            "text/plain": [
              "<keras.callbacks.History at 0x7ad5b9a63190>"
            ]
          },
          "metadata": {},
          "execution_count": 89
        }
      ]
    },
    {
      "cell_type": "code",
      "source": [
        "model_in2.evaluate(X_test, y_test)"
      ],
      "metadata": {
        "colab": {
          "base_uri": "https://localhost:8080/"
        },
        "id": "mi0SO3d7UNdx",
        "outputId": "baa7749a-9326-445d-e70b-f39b072e8d37"
      },
      "execution_count": 90,
      "outputs": [
        {
          "output_type": "stream",
          "name": "stdout",
          "text": [
            "9/9 [==============================] - 0s 3ms/step - loss: 8627.9600 - mae: 8627.9600\n"
          ]
        },
        {
          "output_type": "execute_result",
          "data": {
            "text/plain": [
              "[8627.9599609375, 8627.9599609375]"
            ]
          },
          "metadata": {},
          "execution_count": 90
        }
      ]
    },
    {
      "cell_type": "code",
      "source": [
        "tf.random.set_seed(42)\n",
        "\n",
        "model_in3 = tf.keras.models.Sequential([\n",
        "    tf.keras.layers.Dense(100),\n",
        "    tf.keras.layers.Dense(10),\n",
        "    tf.keras.layers.Dense(1)\n",
        "])\n",
        "\n",
        "model_in3.compile(loss=tf.keras.losses.mae,\n",
        "                  optimizer=tf.keras.optimizers.Adam(),\n",
        "                  metrics='mae')\n",
        "\n",
        "history = model_in3.fit(tf.expand_dims(X_train, axis=-1), y_train, epochs=200, verbose=0)"
      ],
      "metadata": {
        "id": "5O0BYmxZWfy3"
      },
      "execution_count": 91,
      "outputs": []
    },
    {
      "cell_type": "code",
      "source": [
        "model_in3.evaluate(X_test, y_test)"
      ],
      "metadata": {
        "colab": {
          "base_uri": "https://localhost:8080/"
        },
        "id": "tAGgsWpOYI9X",
        "outputId": "dc164079-f676-41a0-9205-6130c56ed524"
      },
      "execution_count": 92,
      "outputs": [
        {
          "output_type": "stream",
          "name": "stdout",
          "text": [
            "9/9 [==============================] - 0s 3ms/step - loss: 8632.8721 - mae: 8632.8721\n"
          ]
        },
        {
          "output_type": "execute_result",
          "data": {
            "text/plain": [
              "[8632.8720703125, 8632.8720703125]"
            ]
          },
          "metadata": {},
          "execution_count": 92
        }
      ]
    },
    {
      "cell_type": "code",
      "source": [
        "# Plot history (also known as a loss curve or a training curve)\n",
        "pd.DataFrame(history.history).plot()\n",
        "plt.ylabel('loss')\n",
        "plt.xlabel('epochs')"
      ],
      "metadata": {
        "colab": {
          "base_uri": "https://localhost:8080/",
          "height": 466
        },
        "id": "Pue8I5qtYR-e",
        "outputId": "428c5135-39bc-4311-d421-77bf225ac81e"
      },
      "execution_count": 93,
      "outputs": [
        {
          "output_type": "execute_result",
          "data": {
            "text/plain": [
              "Text(0.5, 0, 'epochs')"
            ]
          },
          "metadata": {},
          "execution_count": 93
        },
        {
          "output_type": "display_data",
          "data": {
            "text/plain": [
              "<Figure size 640x480 with 1 Axes>"
            ],
            "image/png": "[encoded data removed]"
          },
          "metadata": {}
        }
      ]
    },
    {
      "cell_type": "markdown",
      "source": [
        "🤔 **Question:** How long should you train for?\n",
        "\n",
        "It depends. really... it depends on the problem you're working on. however, many people have asked this question before... son tensorFlow has a solution. It's called the [EarlyStopping Callback]('https://www.tensorflow.org/api_docs/python/tf/keras/callbacks/EarlyStopping'), which is a component you can add to your model to stop training once it stops improving a certain metrics."
      ],
      "metadata": {
        "id": "HqlqSAacZVFl"
      }
    },
    {
      "cell_type": "code",
      "source": [],
      "metadata": {
        "id": "lGXtfpFIbAPz"
      },
      "execution_count": null,
      "outputs": []
    }
  ]
}